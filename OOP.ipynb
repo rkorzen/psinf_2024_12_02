{
 "cells": [
  {
   "cell_type": "code",
   "execution_count": 12,
   "id": "96c8d795-3256-4799-8ebd-035fae14f24d",
   "metadata": {},
   "outputs": [
    {
     "name": "stdout",
     "output_type": "stream",
     "text": [
      "\n",
      "Here is a list of the Python keywords.  Enter any keyword to get more help.\n",
      "\n",
      "False               class               from                or\n",
      "None                continue            global              pass\n",
      "True                def                 if                  raise\n",
      "and                 del                 import              return\n",
      "as                  elif                in                  try\n",
      "assert              else                is                  while\n",
      "async               except              lambda              with\n",
      "await               finally             nonlocal            yield\n",
      "break               for                 not                 \n",
      "\n"
     ]
    }
   ],
   "source": [
    "help(\"keywords\")"
   ]
  },
  {
   "cell_type": "code",
   "execution_count": 20,
   "id": "7e0525b3-9efa-4153-a680-4b5d1ba71ead",
   "metadata": {},
   "outputs": [],
   "source": [
    "class Vehicle:\n",
    "    description: str = \"Vehicle model\"\n",
    "\n",
    "# Vehicle.description = \"hacked\"\n",
    "\n",
    "v = Vehicle()\n",
    "v.description = \"xxxx\"\n",
    "v2 = Vehicle()"
   ]
  },
  {
   "cell_type": "code",
   "execution_count": 21,
   "id": "8e1134bd-1934-4e6c-a8ee-0baefd9ec958",
   "metadata": {},
   "outputs": [
    {
     "data": {
      "text/plain": [
       "('xxxx', 'Vehicle model')"
      ]
     },
     "execution_count": 21,
     "metadata": {},
     "output_type": "execute_result"
    }
   ],
   "source": [
    "v.description, v2.description\n"
   ]
  },
  {
   "cell_type": "code",
   "execution_count": 115,
   "id": "59a51417-a6be-4ca3-aed6-091df6d72cd0",
   "metadata": {},
   "outputs": [],
   "source": [
    "class MojaKlasa:\n",
    "    count = 0\n",
    "\n",
    "    def __init__(self, name):\n",
    "        self.name = name\n",
    "        self.x = 10\n",
    "        self.__class__.count += 1\n",
    "        self.ustaw_y()\n",
    "\n",
    "    def __del__(self):\n",
    "        self.__class__.count -= 1\n",
    "\n",
    "    def __str__(self):\n",
    "        return f\"Jestem wesoły obiekt o name {self.name}\"\n",
    "\n",
    "    def __repr__(self):\n",
    "        return f\"<ccc, name {self.name}>\"\n",
    "\n",
    "    def ustaw_y(self, y=1):\n",
    "        self.y = y\n",
    "\n",
    "    def opisz_sie(self):\n",
    "        print(f\"W self.x jest wartosc: {self.x}\")\n",
    "\n",
    "    def get_y(self):\n",
    "        return self.y\n",
    "        \n",
    "    "
   ]
  },
  {
   "cell_type": "code",
   "execution_count": 116,
   "id": "065d6b7a-2312-41d1-9c25-d7a9f9c7cb90",
   "metadata": {},
   "outputs": [
    {
     "data": {
      "text/plain": [
       "'Jestem wesoły obiekt o name a'"
      ]
     },
     "execution_count": 116,
     "metadata": {},
     "output_type": "execute_result"
    }
   ],
   "source": [
    "f = MojaKlasa(name=\"a\")\n",
    "\n",
    "f2 = MojaKlasa(name=\"b\")\n",
    "\n",
    "str(f)"
   ]
  },
  {
   "cell_type": "code",
   "execution_count": 117,
   "id": "92d0498d-8a06-4865-9484-0f6eba04858e",
   "metadata": {},
   "outputs": [
    {
     "data": {
      "text/plain": [
       "1"
      ]
     },
     "execution_count": 117,
     "metadata": {},
     "output_type": "execute_result"
    }
   ],
   "source": [
    "f.get_y()"
   ]
  },
  {
   "cell_type": "code",
   "execution_count": 111,
   "id": "c5b005d4-6e19-442f-bc92-3470ea8e22f5",
   "metadata": {},
   "outputs": [
    {
     "data": {
      "text/plain": [
       "'<ccc, name a>'"
      ]
     },
     "execution_count": 111,
     "metadata": {},
     "output_type": "execute_result"
    }
   ],
   "source": [
    "repr(f)"
   ]
  },
  {
   "cell_type": "code",
   "execution_count": null,
   "id": "3f10cbb1-087e-4f3e-ad5f-1c42811f626e",
   "metadata": {},
   "outputs": [],
   "source": []
  },
  {
   "cell_type": "code",
   "execution_count": 108,
   "id": "d90ed17f-4b60-4d2f-8586-775e46e09733",
   "metadata": {},
   "outputs": [
    {
     "name": "stdout",
     "output_type": "stream",
     "text": [
      "[<ccc, name a>, <ccc, name b>]\n"
     ]
    }
   ],
   "source": [
    "print([f, f2])"
   ]
  },
  {
   "cell_type": "code",
   "execution_count": 91,
   "id": "473a0be0-f79f-4888-90c8-e52c493b2daf",
   "metadata": {},
   "outputs": [
    {
     "name": "stdout",
     "output_type": "stream",
     "text": [
      "W self.x jest wartosc: 10\n"
     ]
    }
   ],
   "source": [
    "f.opisz_sie()"
   ]
  },
  {
   "cell_type": "code",
   "execution_count": 94,
   "id": "0dd45e1e-55ec-46f9-a2da-d9cab2ee4bd5",
   "metadata": {},
   "outputs": [
    {
     "name": "stdout",
     "output_type": "stream",
     "text": [
      "W self.x jest wartosc: 10\n"
     ]
    }
   ],
   "source": [
    "MojaKlasa.opisz_sie(f)"
   ]
  },
  {
   "cell_type": "code",
   "execution_count": 69,
   "id": "bfc0851b-f9a1-4da1-b657-5abfa9e3a5fb",
   "metadata": {},
   "outputs": [
    {
     "name": "stdout",
     "output_type": "stream",
     "text": [
      "[ccc, ccc]\n"
     ]
    }
   ],
   "source": [
    "print([f, f2])"
   ]
  },
  {
   "cell_type": "code",
   "execution_count": 70,
   "id": "a9cf3c98-f208-40b9-8a87-df85e0621c8a",
   "metadata": {},
   "outputs": [
    {
     "data": {
      "text/plain": [
       "'ccc'"
      ]
     },
     "execution_count": 70,
     "metadata": {},
     "output_type": "execute_result"
    }
   ],
   "source": [
    "repr(f)"
   ]
  },
  {
   "cell_type": "code",
   "execution_count": 59,
   "id": "335e966e-2c33-4b04-bafa-7acbc0437a8c",
   "metadata": {},
   "outputs": [],
   "source": [
    "del f"
   ]
  },
  {
   "cell_type": "code",
   "execution_count": 44,
   "id": "b88426de-4ed9-470e-95c1-3c81044b0ea4",
   "metadata": {},
   "outputs": [
    {
     "data": {
      "text/plain": [
       "<__main__.Foo at 0x103c8b390>"
      ]
     },
     "execution_count": 44,
     "metadata": {},
     "output_type": "execute_result"
    }
   ],
   "source": [
    "f3"
   ]
  },
  {
   "cell_type": "code",
   "execution_count": 40,
   "id": "69b16e1c-b7bd-4fdc-a1a8-18508f871104",
   "metadata": {},
   "outputs": [
    {
     "data": {
      "text/plain": [
       "1"
      ]
     },
     "execution_count": 40,
     "metadata": {},
     "output_type": "execute_result"
    }
   ],
   "source": [
    "Foo.count"
   ]
  },
  {
   "cell_type": "code",
   "execution_count": 41,
   "id": "24c43a6f-82e5-4ce4-9758-d2e68ebae8da",
   "metadata": {},
   "outputs": [
    {
     "ename": "NameError",
     "evalue": "name 'f' is not defined",
     "output_type": "error",
     "traceback": [
      "\u001b[0;31m---------------------------------------------------------------------------\u001b[0m",
      "\u001b[0;31mNameError\u001b[0m                                 Traceback (most recent call last)",
      "Cell \u001b[0;32mIn[41], line 1\u001b[0m\n\u001b[0;32m----> 1\u001b[0m \u001b[43mf\u001b[49m\n",
      "\u001b[0;31mNameError\u001b[0m: name 'f' is not defined"
     ]
    }
   ],
   "source": [
    "f"
   ]
  },
  {
   "cell_type": "markdown",
   "id": "201bf7f5-0583-41c6-a103-db593ec54ed8",
   "metadata": {},
   "source": [
    "# przeciazanie operatorow"
   ]
  },
  {
   "cell_type": "code",
   "execution_count": 151,
   "id": "4b2b47b7-2562-4eba-9db6-142478b26e3e",
   "metadata": {},
   "outputs": [],
   "source": [
    "class Square:\n",
    "\n",
    "    def __init__(self, side=1):\n",
    "\n",
    "        self.side = side\n",
    "\n",
    "    @property\n",
    "    def side(self):\n",
    "        return self._side\n",
    "\n",
    "    @side.setter\n",
    "    def side(self, value):\n",
    "        if type(value) != int:\n",
    "            raise ValueError(\"Pracujemy tylko na intach\")\n",
    "        if value <= 0:\n",
    "            raise ValueError(\"Bok powinien mieć wartosc dodatnia\")\n",
    "        self._side = value\n",
    "    \n",
    "    @property # zamienia metodę w atrybut dynamiczny\n",
    "    def area(self):\n",
    "        return self.side ** 2\n",
    "\n",
    "    @area.setter\n",
    "    def area(self, value):\n",
    "        self.side = value ** 0.5\n",
    "        \n",
    "\n",
    "    def __add__(self, other):\n",
    "        return self.__class__(self.side + other.side)\n",
    "\n",
    "    def __repr__(self):\n",
    "        return f\"<{self.__class__.__name__} ({self.side})>\"\n",
    "\n"
   ]
  },
  {
   "cell_type": "code",
   "execution_count": 147,
   "id": "7e8d8060-82b8-48fc-8cfb-459e57a5cd41",
   "metadata": {},
   "outputs": [],
   "source": [
    "s1 = Square()\n",
    "s2 = Square(5)"
   ]
  },
  {
   "cell_type": "code",
   "execution_count": 148,
   "id": "37a6c60a-26a5-4ee6-829b-fe44c6798441",
   "metadata": {},
   "outputs": [
    {
     "data": {
      "text/plain": [
       "100"
      ]
     },
     "execution_count": 148,
     "metadata": {},
     "output_type": "execute_result"
    }
   ],
   "source": [
    "s = Square(10.2)\n",
    "s.side\n",
    "s.area"
   ]
  },
  {
   "cell_type": "code",
   "execution_count": 155,
   "id": "23647a03-26ff-4d09-b4d6-04359b05c433",
   "metadata": {},
   "outputs": [
    {
     "name": "stdout",
     "output_type": "stream",
     "text": [
      "Overwriting annotation_example.py\n"
     ]
    }
   ],
   "source": [
    "%%writefile annotation_example.py\n",
    "\n",
    "\n",
    "def add(a: int, b: int) -> int:\n",
    "    return a + b \n",
    "x: str = 1\n",
    "\n",
    "add(1, 2)\n",
    "add(\"a\", \"2\")"
   ]
  },
  {
   "cell_type": "code",
   "execution_count": 156,
   "id": "95129eb1-c197-4945-acd8-517f640a01e0",
   "metadata": {},
   "outputs": [
    {
     "name": "stdout",
     "output_type": "stream",
     "text": [
      "annotation_example.py:3: \u001b[1m\u001b[31merror:\u001b[m Incompatible types in assignment (expression has type \u001b[m\u001b[1m\"int\"\u001b[m, variable has type \u001b[m\u001b[1m\"str\"\u001b[m)  \u001b[m\u001b[33m[assignment]\u001b[m\n",
      "annotation_example.py:6: \u001b[1m\u001b[31merror:\u001b[m Argument 1 to \u001b[m\u001b[1m\"add\"\u001b[m has incompatible type \u001b[m\u001b[1m\"str\"\u001b[m; expected \u001b[m\u001b[1m\"int\"\u001b[m  \u001b[m\u001b[33m[arg-type]\u001b[m\n",
      "annotation_example.py:6: \u001b[1m\u001b[31merror:\u001b[m Argument 2 to \u001b[m\u001b[1m\"add\"\u001b[m has incompatible type \u001b[m\u001b[1m\"str\"\u001b[m; expected \u001b[m\u001b[1m\"int\"\u001b[m  \u001b[m\u001b[33m[arg-type]\u001b[m\n",
      "\u001b[1m\u001b[31mFound 3 errors in 1 file (checked 1 source file)\u001b[m\n"
     ]
    }
   ],
   "source": [
    "!mypy annotation_example.py"
   ]
  },
  {
   "cell_type": "code",
   "execution_count": 162,
   "id": "f79c1284-f9ed-46a0-b5dd-c1f231a0571d",
   "metadata": {},
   "outputs": [
    {
     "name": "stdout",
     "output_type": "stream",
     "text": [
      "Overwriting annotation_example_2.py\n"
     ]
    }
   ],
   "source": [
    "%%writefile annotation_example_2.py\n",
    "from typing import TypeVar\n",
    "\n",
    "T = TypeVar(\"T\", int, str, float)\n",
    "\n",
    "def add(a: T, b: T) -> T:\n",
    "    return a + b\n",
    "\n",
    "add(1, 2)\n",
    "add(\"a\", \"b\")\n",
    "add(2.1, 2.3)"
   ]
  },
  {
   "cell_type": "code",
   "execution_count": 161,
   "id": "f494dd6c-7d5e-4d4d-a0a7-073fc27dfb27",
   "metadata": {},
   "outputs": [
    {
     "name": "stdout",
     "output_type": "stream",
     "text": [
      "annotation_example_2.py:6: \u001b[1m\u001b[31merror:\u001b[m Incompatible return value type (got \u001b[m\u001b[1m\"int\"\u001b[m, expected \u001b[m\u001b[1m\"str\"\u001b[m)  \u001b[m\u001b[33m[return-value]\u001b[m\n",
      "\u001b[1m\u001b[31mFound 1 error in 1 file (checked 1 source file)\u001b[m\n"
     ]
    }
   ],
   "source": [
    "!mypy annotation_example_2.py"
   ]
  },
  {
   "cell_type": "code",
   "execution_count": null,
   "id": "89532663-32ec-4e31-9e26-06e679c1c93b",
   "metadata": {},
   "outputs": [],
   "source": []
  },
  {
   "cell_type": "code",
   "execution_count": 149,
   "id": "319874b1-b7bc-4a9c-9bb3-f8df050df109",
   "metadata": {},
   "outputs": [
    {
     "data": {
      "text/plain": [
       "5.0"
      ]
     },
     "execution_count": 149,
     "metadata": {},
     "output_type": "execute_result"
    }
   ],
   "source": [
    "s.area = 25\n",
    "s.side # 5"
   ]
  },
  {
   "cell_type": "code",
   "execution_count": 150,
   "id": "0ce7789a-32c0-4845-a3d3-a29a89ac67a3",
   "metadata": {},
   "outputs": [
    {
     "ename": "ValueError",
     "evalue": "Bok powinien mieć wartosc dodatnia",
     "output_type": "error",
     "traceback": [
      "\u001b[0;31m---------------------------------------------------------------------------\u001b[0m",
      "\u001b[0;31mValueError\u001b[0m                                Traceback (most recent call last)",
      "Cell \u001b[0;32mIn[150], line 1\u001b[0m\n\u001b[0;32m----> 1\u001b[0m \u001b[43ms\u001b[49m\u001b[38;5;241;43m.\u001b[39;49m\u001b[43mside\u001b[49m \u001b[38;5;241m=\u001b[39m \u001b[38;5;241m-\u001b[39m\u001b[38;5;241m10\u001b[39m\n",
      "Cell \u001b[0;32mIn[146], line 14\u001b[0m, in \u001b[0;36mSquare.side\u001b[0;34m(self, value)\u001b[0m\n\u001b[1;32m     11\u001b[0m \u001b[38;5;129m@side\u001b[39m\u001b[38;5;241m.\u001b[39msetter\n\u001b[1;32m     12\u001b[0m \u001b[38;5;28;01mdef\u001b[39;00m \u001b[38;5;21mside\u001b[39m(\u001b[38;5;28mself\u001b[39m, value):\n\u001b[1;32m     13\u001b[0m     \u001b[38;5;28;01mif\u001b[39;00m value \u001b[38;5;241m<\u001b[39m\u001b[38;5;241m=\u001b[39m \u001b[38;5;241m0\u001b[39m:\n\u001b[0;32m---> 14\u001b[0m         \u001b[38;5;28;01mraise\u001b[39;00m \u001b[38;5;167;01mValueError\u001b[39;00m(\u001b[38;5;124m\"\u001b[39m\u001b[38;5;124mBok powinien mieć wartosc dodatnia\u001b[39m\u001b[38;5;124m\"\u001b[39m)\n\u001b[1;32m     15\u001b[0m     \u001b[38;5;28mself\u001b[39m\u001b[38;5;241m.\u001b[39m_side \u001b[38;5;241m=\u001b[39m value\n",
      "\u001b[0;31mValueError\u001b[0m: Bok powinien mieć wartosc dodatnia"
     ]
    }
   ],
   "source": [
    "s.side = -10"
   ]
  },
  {
   "cell_type": "code",
   "execution_count": 142,
   "id": "dcd0c8fd-2e54-4408-9e3a-cf76e0f9be7c",
   "metadata": {},
   "outputs": [],
   "source": [
    "s.area = -25"
   ]
  },
  {
   "cell_type": "code",
   "execution_count": 143,
   "id": "33b56f55-9b33-4f73-80af-3c4d084a6207",
   "metadata": {},
   "outputs": [
    {
     "data": {
      "text/plain": [
       "(3.061616997868383e-16+5j)"
      ]
     },
     "execution_count": 143,
     "metadata": {},
     "output_type": "execute_result"
    }
   ],
   "source": [
    "s.side"
   ]
  },
  {
   "cell_type": "code",
   "execution_count": null,
   "id": "85777fc8-127a-49e9-9483-dfc07bf3d4b1",
   "metadata": {},
   "outputs": [],
   "source": []
  },
  {
   "cell_type": "code",
   "execution_count": 124,
   "id": "a82f1679-2490-4490-a87f-af8a2d58b26c",
   "metadata": {},
   "outputs": [
    {
     "data": {
      "text/plain": [
       "<Square (6)>"
      ]
     },
     "execution_count": 124,
     "metadata": {},
     "output_type": "execute_result"
    }
   ],
   "source": [
    "s1 + s2"
   ]
  },
  {
   "cell_type": "code",
   "execution_count": 121,
   "id": "934cddc6-9272-4d08-b34e-59765ffba769",
   "metadata": {},
   "outputs": [
    {
     "ename": "TypeError",
     "evalue": "unsupported operand type(s) for +: 'int' and 'str'",
     "output_type": "error",
     "traceback": [
      "\u001b[0;31m---------------------------------------------------------------------------\u001b[0m",
      "\u001b[0;31mTypeError\u001b[0m                                 Traceback (most recent call last)",
      "Cell \u001b[0;32mIn[121], line 1\u001b[0m\n\u001b[0;32m----> 1\u001b[0m \u001b[38;5;241;43m1\u001b[39;49m\u001b[43m \u001b[49m\u001b[38;5;241;43m+\u001b[39;49m\u001b[43m \u001b[49m\u001b[38;5;124;43m\"\u001b[39;49m\u001b[38;5;124;43m1\u001b[39;49m\u001b[38;5;124;43m\"\u001b[39;49m\n",
      "\u001b[0;31mTypeError\u001b[0m: unsupported operand type(s) for +: 'int' and 'str'"
     ]
    }
   ],
   "source": [
    "1 + \"1\""
   ]
  },
  {
   "cell_type": "markdown",
   "id": "7387706f-42fa-4f7f-84b1-2643cb1d8e02",
   "metadata": {},
   "source": [
    "## Ćwiczenie:\n",
    "\n",
    "\n",
    "Stwórz klasę Vector, która umożliwi tworzenie wektorów na płaszczyznie\n",
    "\n",
    "    \n",
    "    v = Vector(1, 2)\n",
    "    v2 = Vector(1, 1)\n",
    "    v + v2 => Vector(2, 3) __add__\n",
    "\n",
    "    v * 3 => Vector(3, 6) __mul__\n",
    "\n",
    "\n",
    "    # porównujemy wektor po długości \n",
    "    v > v2 => True __gt__\n",
    "    v > v2 => True __ge__\n",
    "    v == v2 => False __eq__\n",
    "\n",
    "\n",
    "    v.length() -> 5 ** 0.5\n",
    "\n",
    "    len(v) -> 5 ** 0.5 __len__"
   ]
  },
  {
   "cell_type": "code",
   "execution_count": null,
   "id": "74ba2e10-70bf-4741-b4dc-07411fb72967",
   "metadata": {},
   "outputs": [],
   "source": []
  },
  {
   "cell_type": "code",
   "execution_count": null,
   "id": "7c484073-d1c4-4b7e-9ca8-80ab1c86ca93",
   "metadata": {},
   "outputs": [],
   "source": []
  }
 ],
 "metadata": {
  "kernelspec": {
   "display_name": "Python 3 (ipykernel)",
   "language": "python",
   "name": "python3"
  },
  "language_info": {
   "codemirror_mode": {
    "name": "ipython",
    "version": 3
   },
   "file_extension": ".py",
   "mimetype": "text/x-python",
   "name": "python",
   "nbconvert_exporter": "python",
   "pygments_lexer": "ipython3",
   "version": "3.13.0"
  }
 },
 "nbformat": 4,
 "nbformat_minor": 5
}
