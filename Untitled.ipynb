{
 "cells": [
  {
   "cell_type": "code",
   "execution_count": 2,
   "id": "066c0ca5-e299-44a9-b5e3-111a7c68e94e",
   "metadata": {},
   "outputs": [],
   "source": [
    "class Product:\n",
    "    def __init__(self, price):\n",
    "        self.price = price\n",
    "\n",
    "    @property\n",
    "    def price(self):\n",
    "        return self._price\n",
    "\n",
    "    @price.setter\n",
    "    def price(self, value):\n",
    "        if value < 0:\n",
    "            raise ValueError(\"cena nie moze byc ujemna\")\n",
    "\n",
    "        self._price = value\n",
    "\n",
    "\n",
    "p  = Product(1)"
   ]
  },
  {
   "cell_type": "code",
   "execution_count": null,
   "id": "2e724788-4fd0-4f83-8a68-838717731919",
   "metadata": {},
   "outputs": [],
   "source": [
    "# Deskryptor"
   ]
  },
  {
   "cell_type": "code",
   "execution_count": 6,
   "id": "985cb447-f7f1-43a6-af68-94aa511c8fbc",
   "metadata": {},
   "outputs": [
    {
     "data": {
      "text/plain": [
       "1"
      ]
     },
     "execution_count": 6,
     "metadata": {},
     "output_type": "execute_result"
    }
   ],
   "source": [
    "class PositiveNumber:\n",
    "\n",
    "    def __get__(self, instance, owner):\n",
    "        return instance.__dict__.get(self.name, None)\n",
    "\n",
    "\n",
    "    def __set__(self, instance, value):\n",
    "        if value < 0:\n",
    "            raise ValueError(\"cena nie moze byc ujemna\")\n",
    "        instance.__dict__[self.name] = value\n",
    "\n",
    "    def __set_name__(self, owner, name):\n",
    "        self.name = name\n",
    "\n",
    "\n",
    "\n",
    "class Product:\n",
    "    price = PositiveNumber()\n",
    "    \n",
    "    def __init__(self, price):\n",
    "        self.price = price\n",
    "\n",
    "\n",
    "\n",
    "p = Product(1)\n",
    "p.price\n",
    "\n"
   ]
  },
  {
   "cell_type": "code",
   "execution_count": null,
   "id": "9ebbb045-5d65-4001-ab85-9ee5c4931230",
   "metadata": {},
   "outputs": [],
   "source": [
    "# utworz deksryptor, który automaycznie skonwertuje tekst na wielkie litery\n",
    "\n",
    "class UpperCaseString\n",
    "\n",
    "class User:\n",
    "    name = UpperCaseString()\n",
    "\n",
    "    def __init__(self, name):\n",
    "        self.name = name"
   ]
  }
 ],
 "metadata": {
  "kernelspec": {
   "display_name": "Python 3 (ipykernel)",
   "language": "python",
   "name": "python3"
  },
  "language_info": {
   "codemirror_mode": {
    "name": "ipython",
    "version": 3
   },
   "file_extension": ".py",
   "mimetype": "text/x-python",
   "name": "python",
   "nbconvert_exporter": "python",
   "pygments_lexer": "ipython3",
   "version": "3.13.0"
  }
 },
 "nbformat": 4,
 "nbformat_minor": 5
}
