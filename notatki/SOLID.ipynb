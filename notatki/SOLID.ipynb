{
 "cells": [
  {
   "cell_type": "markdown",
   "id": "c1218576-63e7-4e73-ae6c-3b47f78cb2cb",
   "metadata": {},
   "source": [
    "# SOLID\n",
    "\n",
    "## Single Responsibility\n",
    "\n"
   ]
  },
  {
   "cell_type": "code",
   "execution_count": 1,
   "id": "94d4c681-25fe-4847-9935-c766672cd535",
   "metadata": {},
   "outputs": [],
   "source": [
    "class Report:\n",
    "    def __init__(self, data):\n",
    "        self.data = data\n",
    "\n",
    "    def generate(self):\n",
    "        return f\"Report: {self.data}\"\n",
    "\n",
    "    def save_to_file(self, filename):\n",
    "        with open(filename, \"w\") as file:\n",
    "            file.write(self.generate())"
   ]
  },
  {
   "cell_type": "code",
   "execution_count": 2,
   "id": "141d9596-747a-4b7b-b982-b19decc3f437",
   "metadata": {},
   "outputs": [
    {
     "data": {
      "text/plain": [
       "'Report: dddd'"
      ]
     },
     "execution_count": 2,
     "metadata": {},
     "output_type": "execute_result"
    }
   ],
   "source": [
    "r = Report(\"dddd\")\n",
    "r.generate()"
   ]
  },
  {
   "cell_type": "code",
   "execution_count": 5,
   "id": "26d13be5-de77-4386-98bb-717a18aa7aa6",
   "metadata": {},
   "outputs": [],
   "source": [
    "# poprawione podejście;\n",
    "\n",
    "class Report:\n",
    "    def __init__(self, data):\n",
    "        self.data = data\n",
    "\n",
    "    def generate(self):\n",
    "        return f\"Report: {self.data}\"\n",
    "\n",
    "\n",
    "class FileSaver:\n",
    "    def save_to_file(self, content, filename):\n",
    "        with open(filename, \"w\") as file:\n",
    "            file.write(content)\n",
    "\n",
    "r = Report(\"dddd\")\n",
    "saver = FileSaver()\n",
    "saver.save_to_file(r.generate(), \"report.txt\")\n"
   ]
  },
  {
   "cell_type": "code",
   "execution_count": 7,
   "id": "c206952e-494d-452c-969b-24bac27b78f9",
   "metadata": {},
   "outputs": [
    {
     "name": "stdout",
     "output_type": "stream",
     "text": [
      "Report: dddd"
     ]
    }
   ],
   "source": [
    "!cat report.txt"
   ]
  },
  {
   "cell_type": "code",
   "execution_count": 8,
   "id": "c332be4a-db8c-4a90-8396-53290cb993e7",
   "metadata": {},
   "outputs": [],
   "source": [
    "## O - Open/Closed Principle\n",
    "\n",
    "class Discount:\n",
    "    def apply_discount(self, price, customer_type):\n",
    "        if customer_type == \"regular\":\n",
    "            return price * 0.9\n",
    "        elif customer_type == \"vip\":\n",
    "            return price * 0.8\n",
    "\n"
   ]
  },
  {
   "cell_type": "code",
   "execution_count": 17,
   "id": "d8fb873a-d2e1-449b-977d-e86312b62e83",
   "metadata": {},
   "outputs": [
    {
     "name": "stdout",
     "output_type": "stream",
     "text": [
      "80.0\n"
     ]
    }
   ],
   "source": [
    "from abc import ABC, abstractmethod\n",
    "\n",
    "class Discount(ABC):\n",
    "    @abstractmethod\n",
    "    def apply_discount(self, price):\n",
    "        pass\n",
    "\n",
    "class RegularCustomerDiscount(Discount):\n",
    "    def apply_discount(self, price):\n",
    "        return price * 0.9\n",
    "\n",
    "class VipCustomerDiscount(Discount):\n",
    "    def apply_discount(self, price):\n",
    "        return price * 0.8\n",
    "\n",
    "discount = VipCustomerDiscount()\n",
    "print(discount.apply_discount(100))\n",
    "\n"
   ]
  },
  {
   "cell_type": "code",
   "execution_count": 18,
   "id": "612a0ab6-dd4f-4a05-a654-26385c25498c",
   "metadata": {},
   "outputs": [],
   "source": [
    "## L = Liskov Substitution Principle\n",
    "\n",
    "class Bird:\n",
    "    def fly(self):\n",
    "        pass\n",
    "\n",
    "class Pinguin(Bird):\n",
    "    def fly(self):\n",
    "        raise NotImplementedError(\"Pingwin nie lata\")"
   ]
  },
  {
   "cell_type": "code",
   "execution_count": 19,
   "id": "877a69eb-5997-407d-b987-04ba59bad6d6",
   "metadata": {},
   "outputs": [
    {
     "name": "stdout",
     "output_type": "stream",
     "text": [
      "I can fly\n",
      "I waddle\n"
     ]
    }
   ],
   "source": [
    "from abc import ABC, abstractmethod\n",
    "\n",
    "class Bird(ABC):\n",
    "    @abstractmethod\n",
    "    def move(self):\n",
    "        pass\n",
    "\n",
    "class FlyingBird(Bird):\n",
    "    def move(self):\n",
    "        print(\"I can fly\")\n",
    "\n",
    "class Pinguin(Bird):\n",
    "    def move(self):\n",
    "        print(\"I waddle\")\n",
    "\n",
    "\n",
    "for bird in [FlyingBird(), Pinguin()]:\n",
    "    bird.move()\n",
    "        "
   ]
  },
  {
   "cell_type": "code",
   "execution_count": null,
   "id": "6497d5ad-91f3-4811-ac1a-03981b94b791",
   "metadata": {},
   "outputs": [],
   "source": [
    "## I - Interface Segregation Principle\n",
    "\n",
    "class Worker:\n",
    "    def work(self): pass\n",
    "\n",
    "    def eat(self): pass\n",
    "\n",
    "class Robot(Worker):\n",
    "    def wrok(self):\n",
    "        print(\"robot pracuje\")\n",
    "\n",
    "    def eat(self):\n",
    "        raise NotImplementedError(\"Robot nie je\")\n",
    "\n"
   ]
  },
  {
   "cell_type": "code",
   "execution_count": null,
   "id": "2d4f7e40-8bb4-4238-a7f6-79acd4997e0a",
   "metadata": {},
   "outputs": [],
   "source": [
    "class Worker:\n",
    "    def work(self): print(\"pracuje\")\n",
    "\n",
    "class Eater:\n",
    "    def eat(self): print(\"je\")\n",
    "\n",
    "class Human(Worker, Eater):\n",
    "    ...\n",
    "\n",
    "class Robot(Worker):\n",
    "    ...\n",
    "\n",
    "14:52\n",
    "    "
   ]
  },
  {
   "cell_type": "code",
   "execution_count": 21,
   "id": "85a3889c-f632-40f1-ab63-63255ccd5ae6",
   "metadata": {},
   "outputs": [],
   "source": [
    "## - Dependency Inversion\n",
    "\n",
    "class MySQLDatabase:\n",
    "    def connect(self):\n",
    "        print(\"Connecting to MySQL\")\n",
    "\n",
    "class Application:\n",
    "    def __init__(self):\n",
    "        self.db = MySQLDatabase()\n",
    "\n",
    "    def run(self):\n",
    "        self.db.connect()\n",
    "\n"
   ]
  },
  {
   "cell_type": "code",
   "execution_count": 25,
   "id": "4b042b7e-a175-40a5-9fac-e4d379d618e4",
   "metadata": {},
   "outputs": [],
   "source": [
    "from abc import ABC, abstractmethod\n",
    "class Database(ABC):\n",
    "\n",
    "    @abstractmethod\n",
    "    def connect(self):\n",
    "        raise NotImplementedError()\n",
    "\n",
    "class MySQLDatabase(Database):\n",
    "    def connect(self):\n",
    "        print(\"Connecting to MySQL\")\n",
    "\n",
    "class MongoDatabase(Database):\n",
    "    def connect(self):\n",
    "        print(\"Connecting to Mongo\")\n",
    "\n",
    "class Application:\n",
    "    def __init__(self, db: Database):\n",
    "        self.db = db\n",
    "\n",
    "    def run(self):\n",
    "        self.db.connect()\n",
    "\n"
   ]
  },
  {
   "cell_type": "markdown",
   "id": "f977c3af-6453-4555-bbf6-766da2e112b5",
   "metadata": {},
   "source": [
    "# zadanie\n",
    "\n",
    "### **Zadanie: Refaktoryzacja kodu pod kątem SOLID**\n",
    "\n",
    "Masz kod, który działa, ale łamie kilka zasad SOLID. Twoim zadaniem jest poprawienie go tak, aby przestrzegał tych zasad. Kod jest prosty, ale pełen potencjalnych problemów związanych z rozszerzalnością i utrzymaniem.\n",
    "\n",
    "---\n",
    "\n",
    "#### **Zastany kod:**\n",
    "```python\n",
    "class Order:\n",
    "    def __init__(self, items, total_price):\n",
    "        self.items = items\n",
    "        self.total_price = total_price\n",
    "\n",
    "    def calculate_discount(self, customer_type):\n",
    "        if customer_type == \"regular\":\n",
    "            return self.total_price * 0.9\n",
    "        elif customer_type == \"vip\":\n",
    "            return self.total_price * 0.8\n",
    "        else:\n",
    "            return self.total_price\n",
    "\n",
    "    def generate_invoice(self):\n",
    "        invoice = f\"Invoice:\\nItems: {self.items}\\nTotal: {self.total_price}\"\n",
    "        with open(\"invoice.txt\", \"w\") as file:\n",
    "            file.write(invoice)\n",
    "        return invoice\n",
    "\n",
    "    def send_email(self, email):\n",
    "        invoice = self.generate_invoice()\n",
    "        print(f\"Sending email to {email} with the following invoice:\\n{invoice}\")\n",
    "```\n",
    "\n",
    "---\n",
    "\n",
    "#### **Twoje zadanie:**\n",
    "\n",
    "1. **Zidentyfikuj problemy:**\n",
    "   - Które zasady SOLID są łamane?\n",
    "   - Dlaczego kod jest trudny do rozszerzenia i utrzymania?\n",
    "\n",
    "2. **Zrefaktoryzuj kod:**\n",
    "   - Zastosuj odpowiednie zasady SOLID.\n",
    "   - Upewnij się, że kod jest elastyczny, łatwy w testowaniu i zgodny z dobrymi praktykami.\n",
    "\n",
    "---\n",
    "\n",
    "#### **Wynik oczekiwany:**\n",
    "\n",
    "1. Kod powinien być podzielony na mniejsze, bardziej odpowiedzialne klasy.\n",
    "2. Logika rabatów, generowania faktur i wysyłania e-maili powinna być oddzielona.\n",
    "3. Nowe typy rabatów (np. „student”) powinny być łatwe do dodania bez modyfikowania istniejącego kodu.\n",
    "\n"
   ]
  },
  {
   "cell_type": "code",
   "execution_count": null,
   "id": "5e7de921-2050-4601-a57f-b24b38172f08",
   "metadata": {},
   "outputs": [],
   "source": [
    "class Order:\n",
    "    def __init__(self, items, total_price):\n",
    "        self.items = items\n",
    "        self.total_price = total_price\n",
    "\n",
    "    def calculate_discount(self, customer_type):\n",
    "        if customer_type == \"regular\":\n",
    "            return self.total_price * 0.9\n",
    "        elif customer_type == \"vip\":\n",
    "            return self.total_price * 0.8\n",
    "        else:\n",
    "            return self.total_price\n",
    "\n",
    "    def generate_invoice(self):\n",
    "        invoice = f\"Invoice:\\nItems: {self.items}\\nTotal: {self.total_price}\"\n",
    "        with open(\"invoice.txt\", \"w\") as file:\n",
    "            file.write(invoice)\n",
    "        return invoice\n",
    "\n",
    "    def send_email(self, email):\n",
    "        invoice = self.generate_invoice()\n",
    "        print(f\"Sending email to {email} with the following invoice:\\n{invoice}\")\n"
   ]
  },
  {
   "cell_type": "code",
   "execution_count": null,
   "id": "ff1f3b9a-5bc6-4d92-a801-1f38b183e9a3",
   "metadata": {},
   "outputs": [],
   "source": []
  },
  {
   "cell_type": "code",
   "execution_count": 28,
   "id": "c959ba1b-75f4-4fa9-9725-e9fe269f5c20",
   "metadata": {},
   "outputs": [
    {
     "name": "stdout",
     "output_type": "stream",
     "text": [
      "Sending email to xxx@wp.pl with the following invoice:\n",
      "Invoice:\n",
      "Items: ['Item1', 'Item2']\n",
      "Total: 80.0\n"
     ]
    }
   ],
   "source": [
    "from abc import ABC, abstractmethod\n",
    "\n",
    "class Order:\n",
    "    def __init__(self, items, total_price):\n",
    "        self.items = items\n",
    "        self.total_price = total_price\n",
    "\n",
    "\n",
    "class Discount(ABC):\n",
    "    @abstractmethod\n",
    "    def apply_discount(self, price):\n",
    "        pass\n",
    "\n",
    "class RegularCustomerDiscount(Discount):\n",
    "    def apply_discount(self, price):\n",
    "        return price * 0.9\n",
    "\n",
    "class VipCustomerDiscount(Discount):\n",
    "    def apply_discount(self, price):\n",
    "        return price * 0.8\n",
    "\n",
    "\n",
    "class InvoiceGenerator:\n",
    "    def generate_invoice(self, order):\n",
    "        return f\"Invoice:\\nItems: {order.items}\\nTotal: {order.total_price}\"\n",
    "\n",
    "class Exporter:\n",
    "    def export(self, invoice, filename=\"invoice.txt\"):\n",
    "        with open(filename, \"w\") as file:\n",
    "            file.write(invoice)\n",
    "\n",
    "class Notifier:\n",
    "    def notify(self, email, invoice):\n",
    "        print(f\"Sending email to {email} with the following invoice:\\n{invoice}\")\n",
    "\n",
    "\n",
    "class OrderProcessor:\n",
    "    def __init__(self, discount: Discount, invoice_generator: InvoiceGenerator, notifier: Notifier, exporter: Exporter):\n",
    "        self.discount = discount\n",
    "        self.invoice_generator = invoice_generator\n",
    "        self.notifier = notifier\n",
    "        self.exporter = exporter\n",
    "\n",
    "    def process_order(self, order: Order, email: str):\n",
    "        # rabat\n",
    "        order.total_price = self.discount.apply_discount(order.total_price)\n",
    "\n",
    "        # invoice\n",
    "        invoice = self.invoice_generator.generate_invoice(order)\n",
    "\n",
    "        # export\n",
    "        self.exporter.export(invoice)\n",
    "\n",
    "        # notifications\n",
    "        self.notifier.notify(email, invoice)\n",
    "\n",
    "order = Order([\"Item1\", \"Item2\"], 100)\n",
    "discount = VipCustomerDiscount()\n",
    "generator = InvoiceGenerator()\n",
    "notifier = Notifier()\n",
    "exporter = Exporter()\n",
    "\n",
    "\n",
    "processor = OrderProcessor(discount=discount, invoice_generator=generator, notifier=notifier, exporter=exporter)\n",
    "processor.process_order(order, email=\"xxx@wp.pl\")\n",
    "\n",
    "        "
   ]
  },
  {
   "cell_type": "code",
   "execution_count": null,
   "id": "744e50c3-cca6-498c-b5f6-67db2f6986f4",
   "metadata": {},
   "outputs": [],
   "source": []
  },
  {
   "cell_type": "code",
   "execution_count": null,
   "id": "2adbdc7c-65bc-4e1c-9c57-224f752f66bf",
   "metadata": {},
   "outputs": [],
   "source": []
  },
  {
   "cell_type": "code",
   "execution_count": null,
   "id": "9c598f13-6750-4c1e-ba66-6cfd580ea0a9",
   "metadata": {},
   "outputs": [],
   "source": []
  },
  {
   "cell_type": "code",
   "execution_count": null,
   "id": "fcf337d4-865f-4420-962f-15a7bbc18f88",
   "metadata": {},
   "outputs": [],
   "source": []
  }
 ],
 "metadata": {
  "kernelspec": {
   "display_name": "Python 3 (ipykernel)",
   "language": "python",
   "name": "python3"
  },
  "language_info": {
   "codemirror_mode": {
    "name": "ipython",
    "version": 3
   },
   "file_extension": ".py",
   "mimetype": "text/x-python",
   "name": "python",
   "nbconvert_exporter": "python",
   "pygments_lexer": "ipython3",
   "version": "3.13.0"
  }
 },
 "nbformat": 4,
 "nbformat_minor": 5
}
