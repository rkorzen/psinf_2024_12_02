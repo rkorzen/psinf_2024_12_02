{
 "cells": [
  {
   "cell_type": "code",
   "execution_count": null,
   "id": "00e4d6b9-aac6-469b-a277-c06af0c93bac",
   "metadata": {},
   "outputs": [],
   "source": [
    "# I/0 Bound"
   ]
  },
  {
   "cell_type": "code",
   "execution_count": null,
   "id": "e24bf6fe-64b9-4800-bcb9-07850f750f32",
   "metadata": {},
   "outputs": [],
   "source": []
  },
  {
   "cell_type": "code",
   "execution_count": null,
   "id": "77e83f56-7ec2-4df4-b854-452ffe9e9755",
   "metadata": {},
   "outputs": [],
   "source": []
  },
  {
   "cell_type": "code",
   "execution_count": null,
   "id": "9e7ad5af-e74c-4795-ba4d-36ecad36dec9",
   "metadata": {},
   "outputs": [],
   "source": []
  },
  {
   "cell_type": "code",
   "execution_count": 3,
   "id": "d48dc0f7-89f4-498d-aaee-6c46b5a46654",
   "metadata": {},
   "outputs": [
    {
     "name": "stdout",
     "output_type": "stream",
     "text": [
      "Watek worker_0 rozpoczł działanie\n",
      "Watek worker_0 zakończył działanie\n",
      "Watek worker_1 rozpoczł działanie\n",
      "Watek worker_1 zakończył działanie\n",
      "Watek worker_2 rozpoczł działanie\n",
      "Watek worker_2 zakończył działanie\n",
      "Watek worker_3 rozpoczł działanie\n",
      "Watek worker_3 zakończył działanie\n",
      "Watek worker_4 rozpoczł działanie\n",
      "Watek worker_4 zakończył działanie\n",
      "czas: -5.02\n"
     ]
    }
   ],
   "source": [
    "import threading\n",
    "import time\n",
    "\n",
    "def worker(name, delay):\n",
    "    print(f\"Watek {name} rozpoczł działanie\")\n",
    "    time.sleep(delay)\n",
    "    print(f\"Watek {name} zakończył działanie\")\n",
    "\n",
    "\n",
    "t0 = time.time()\n",
    "for i in range(5):\n",
    "    worker(f\"worker_{i}\", 1)\n",
    "\n",
    "print(f\"czas: {time.time() - t0:.2f}\")"
   ]
  },
  {
   "cell_type": "code",
   "execution_count": null,
   "id": "d40470b8-5c28-4c57-b614-15fb5b76a395",
   "metadata": {},
   "outputs": [],
   "source": []
  },
  {
   "cell_type": "code",
   "execution_count": 7,
   "id": "6fda7894-1410-47a9-b959-84ef8899567f",
   "metadata": {},
   "outputs": [
    {
     "name": "stdout",
     "output_type": "stream",
     "text": [
      "Watek worker_0 rozpoczł działanie\n",
      "Watek worker_1 rozpoczł działanie\n",
      "Watek worker_2 rozpoczł działanie\n",
      "Watek worker_3 rozpoczł działanie\n",
      "Watek worker_4 rozpoczł działanie\n",
      "Watek worker_0 zakończył działanieWatek worker_2 zakończył działanie\n",
      "Watek worker_3 zakończył działanie\n",
      "\n",
      "Watek worker_1 zakończył działanie\n",
      "Watek worker_4 zakończył działanie\n",
      "czas: 2.01\n"
     ]
    }
   ],
   "source": [
    "import threading\n",
    "import time\n",
    "\n",
    "def worker(name, delay):\n",
    "    print(f\"Watek {name} rozpoczł działanie\")\n",
    "    time.sleep(delay)\n",
    "    print(f\"Watek {name} zakończył działanie\")\n",
    "\n",
    "\n",
    "\n",
    "t0 = time.time()\n",
    "threads = []\n",
    "for i in range(5):\n",
    "    t = threading.Thread(target=worker, args=(f\"worker_{i}\", 2))\n",
    "    threads.append(t)\n",
    "    t.start()\n",
    "\n",
    "for t in threads:\n",
    "    t.join()\n",
    "    \n",
    "\n",
    "print(f\"czas: {time.time() - t0:.2f}\")"
   ]
  },
  {
   "cell_type": "code",
   "execution_count": 10,
   "id": "6c3b7d53-6a3f-47b5-bf7c-2e671474e8d8",
   "metadata": {},
   "outputs": [],
   "source": [
    "import requests"
   ]
  },
  {
   "cell_type": "code",
   "execution_count": 11,
   "id": "299b79fb-acfe-4b52-8bff-345aefa63d93",
   "metadata": {},
   "outputs": [],
   "source": [
    "urls = [\n",
    "        \"https://www.python.org\",\n",
    "        \"https://www.wikipedia.org\",\n",
    "        \"https://www.github.com\",\n",
    "        \"https://www.stackoverflow.com\",\n",
    "        \"https://www.google.com\"\n",
    "    ]"
   ]
  },
  {
   "cell_type": "code",
   "execution_count": 12,
   "id": "9d62bda1-cce3-4d4f-ba1f-5fdff1e8a813",
   "metadata": {},
   "outputs": [
    {
     "name": "stdout",
     "output_type": "stream",
     "text": [
      "Rozpoczęto pobieranie: https://www.python.org\n",
      "Pobrano dane z https://www.python.org (51066) b\n",
      "Rozpoczęto pobieranie: https://www.wikipedia.org\n",
      "Pobrano dane z https://www.wikipedia.org (100591) b\n",
      "Rozpoczęto pobieranie: https://www.github.com\n",
      "Pobrano dane z https://www.github.com (263493) b\n",
      "Rozpoczęto pobieranie: https://www.stackoverflow.com\n",
      "Pobrano dane z https://www.stackoverflow.com (132767) b\n",
      "Rozpoczęto pobieranie: https://www.google.com\n",
      "Pobrano dane z https://www.google.com (19395) b\n",
      "Done. 2.2855381965637207 s\n"
     ]
    }
   ],
   "source": [
    "def fetch_url(url):\n",
    "    print(f\"Rozpoczęto pobieranie: {url}\")\n",
    "    response = requests.get(url)\n",
    "    print(f\"Pobrano dane z {url} ({len(response.content)}) b\")\n",
    "\n",
    "start_time = time.time()\n",
    "for url in urls:\n",
    "    fetch_url(url)\n",
    "print(f\"Done. {time.time() - start_time} s\")"
   ]
  },
  {
   "cell_type": "code",
   "execution_count": 13,
   "id": "42d9e7b5-c262-47f7-a190-c537bce8fc36",
   "metadata": {},
   "outputs": [
    {
     "name": "stdout",
     "output_type": "stream",
     "text": [
      "Rozpoczęto pobieranie: https://www.python.orgRozpoczęto pobieranie: https://www.wikipedia.org\n",
      "\n",
      "Rozpoczęto pobieranie: https://www.github.com\n",
      "Rozpoczęto pobieranie: https://www.stackoverflow.com\n",
      "Rozpoczęto pobieranie: https://www.google.com\n",
      "Pobrano dane z https://www.wikipedia.org (100591) b\n",
      "Pobrano dane z https://www.python.org (51066) b\n",
      "Pobrano dane z https://www.google.com (19297) b\n",
      "Pobrano dane z https://www.stackoverflow.com (132767) b\n",
      "Pobrano dane z https://www.github.com (263519) b\n",
      "Done. 0.89375901222229 s\n"
     ]
    }
   ],
   "source": [
    "\n",
    "start_time = time.time()\n",
    "\n",
    "threads = [threading.Thread(target=fetch_url, args=(url,)) for url in urls]\n",
    "\n",
    "for t in threads:\n",
    "    t.start()\n",
    "\n",
    "for t in threads:\n",
    "    t.join()\n",
    "\n",
    "print(f\"Done. {time.time() - start_time} s\")"
   ]
  },
  {
   "cell_type": "code",
   "execution_count": null,
   "id": "eb0ab9c3-a2bd-4da2-ab2d-397c5d8ff3e1",
   "metadata": {},
   "outputs": [],
   "source": []
  },
  {
   "cell_type": "code",
   "execution_count": null,
   "id": "a3fb688b-b666-490b-9bd9-e90b38f2462d",
   "metadata": {},
   "outputs": [],
   "source": []
  },
  {
   "cell_type": "code",
   "execution_count": null,
   "id": "7758e0da-358a-49b9-88b7-b1b851bdc93f",
   "metadata": {},
   "outputs": [],
   "source": []
  }
 ],
 "metadata": {
  "kernelspec": {
   "display_name": "Python 3 (ipykernel)",
   "language": "python",
   "name": "python3"
  },
  "language_info": {
   "codemirror_mode": {
    "name": "ipython",
    "version": 3
   },
   "file_extension": ".py",
   "mimetype": "text/x-python",
   "name": "python",
   "nbconvert_exporter": "python",
   "pygments_lexer": "ipython3",
   "version": "3.13.0"
  }
 },
 "nbformat": 4,
 "nbformat_minor": 5
}
