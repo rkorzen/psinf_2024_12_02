{
 "cells": [
  {
   "cell_type": "markdown",
   "id": "45f78830-d674-4950-8cd7-48d1220cd43b",
   "metadata": {},
   "source": [
    "Coroutines - async def\n",
    "\n",
    "Event loop \n",
    "\n",
    "await \n",
    "\n",
    "tasks\n",
    "\n",
    "futures\n",
    "\n",
    "\n"
   ]
  },
  {
   "cell_type": "code",
   "execution_count": 2,
   "id": "f3b1ce40-c956-4d52-b61d-33edb0b477cd",
   "metadata": {},
   "outputs": [
    {
     "name": "stdout",
     "output_type": "stream",
     "text": [
      "Writing asyncio_example_1.py\n"
     ]
    }
   ],
   "source": [
    "%%writefile asyncio_example_1.py\n",
    "import asyncio\n",
    "\n",
    "async def async_task(name, delay):\n",
    "    print(f\"Watek {name} rozpoczł działanie\")\n",
    "    await asyncio.sleep(delay)  \n",
    "    print(f\"Watek {name} zakończył działanie\")\n",
    "\n",
    "\n",
    "async def main():\n",
    "\n",
    "    tasks = [\n",
    "        async_task(\"A\", 2),\n",
    "        async_task(\"B\", 2),\n",
    "        async_task(\"C\", 2),\n",
    "        \n",
    "    ]\n",
    "\n",
    "    await asyncio.gather(*tasks)\n",
    "\n",
    "\n",
    "if __name__ == \"__main__\":\n",
    "    import time\n",
    "    t1 = time.time()\n",
    "    asyncio.run(main())\n",
    "    print(f\"Czas: {time.time() - t1}\")\n",
    "    "
   ]
  },
  {
   "cell_type": "code",
   "execution_count": 3,
   "id": "1acccf06-390e-46ff-8007-f0a789748938",
   "metadata": {},
   "outputs": [
    {
     "name": "stdout",
     "output_type": "stream",
     "text": [
      "Watek A rozpoczł działanie\n",
      "Watek B rozpoczł działanie\n",
      "Watek C rozpoczł działanie\n",
      "Watek A zakończył działanie\n",
      "Watek B zakończył działanie\n",
      "Watek C zakończył działanie\n",
      "Czas: 2.0012598037719727\n"
     ]
    }
   ],
   "source": [
    "!python asyncio_example_1.py"
   ]
  },
  {
   "cell_type": "code",
   "execution_count": 4,
   "id": "2fe2d697-d2a1-4a9e-a52b-4633e843da9d",
   "metadata": {},
   "outputs": [
    {
     "name": "stdout",
     "output_type": "stream",
     "text": [
      "Collecting aiohttp\n",
      "  Using cached aiohttp-3.11.9-cp313-cp313-macosx_10_13_x86_64.whl.metadata (7.7 kB)\n",
      "Collecting aiohappyeyeballs>=2.3.0 (from aiohttp)\n",
      "  Using cached aiohappyeyeballs-2.4.4-py3-none-any.whl.metadata (6.1 kB)\n",
      "Collecting aiosignal>=1.1.2 (from aiohttp)\n",
      "  Using cached aiosignal-1.3.1-py3-none-any.whl.metadata (4.0 kB)\n",
      "Requirement already satisfied: attrs>=17.3.0 in ./.venv/lib/python3.13/site-packages (from aiohttp) (24.2.0)\n",
      "Collecting frozenlist>=1.1.1 (from aiohttp)\n",
      "  Using cached frozenlist-1.5.0-cp313-cp313-macosx_10_13_x86_64.whl.metadata (13 kB)\n",
      "Collecting multidict<7.0,>=4.5 (from aiohttp)\n",
      "  Using cached multidict-6.1.0-cp313-cp313-macosx_10_13_x86_64.whl.metadata (5.0 kB)\n",
      "Collecting propcache>=0.2.0 (from aiohttp)\n",
      "  Using cached propcache-0.2.1-cp313-cp313-macosx_10_13_x86_64.whl.metadata (9.2 kB)\n",
      "Collecting yarl<2.0,>=1.17.0 (from aiohttp)\n",
      "  Using cached yarl-1.18.3-cp313-cp313-macosx_10_13_x86_64.whl.metadata (69 kB)\n",
      "Requirement already satisfied: idna>=2.0 in ./.venv/lib/python3.13/site-packages (from yarl<2.0,>=1.17.0->aiohttp) (3.10)\n",
      "Using cached aiohttp-3.11.9-cp313-cp313-macosx_10_13_x86_64.whl (459 kB)\n",
      "Using cached aiohappyeyeballs-2.4.4-py3-none-any.whl (14 kB)\n",
      "Using cached aiosignal-1.3.1-py3-none-any.whl (7.6 kB)\n",
      "Using cached frozenlist-1.5.0-cp313-cp313-macosx_10_13_x86_64.whl (52 kB)\n",
      "Using cached multidict-6.1.0-cp313-cp313-macosx_10_13_x86_64.whl (29 kB)\n",
      "Using cached propcache-0.2.1-cp313-cp313-macosx_10_13_x86_64.whl (44 kB)\n",
      "Using cached yarl-1.18.3-cp313-cp313-macosx_10_13_x86_64.whl (94 kB)\n",
      "Installing collected packages: propcache, multidict, frozenlist, aiohappyeyeballs, yarl, aiosignal, aiohttp\n",
      "Successfully installed aiohappyeyeballs-2.4.4 aiohttp-3.11.9 aiosignal-1.3.1 frozenlist-1.5.0 multidict-6.1.0 propcache-0.2.1 yarl-1.18.3\n",
      "\n",
      "\u001b[1m[\u001b[0m\u001b[34;49mnotice\u001b[0m\u001b[1;39;49m]\u001b[0m\u001b[39;49m A new release of pip is available: \u001b[0m\u001b[31;49m24.2\u001b[0m\u001b[39;49m -> \u001b[0m\u001b[32;49m24.3.1\u001b[0m\n",
      "\u001b[1m[\u001b[0m\u001b[34;49mnotice\u001b[0m\u001b[1;39;49m]\u001b[0m\u001b[39;49m To update, run: \u001b[0m\u001b[32;49mpip install --upgrade pip\u001b[0m\n"
     ]
    }
   ],
   "source": [
    "!pip install aiohttp"
   ]
  },
  {
   "cell_type": "code",
   "execution_count": 9,
   "id": "0fcfe56d-4a2d-4ac8-90b4-80bc5696d27c",
   "metadata": {},
   "outputs": [
    {
     "name": "stdout",
     "output_type": "stream",
     "text": [
      "Overwriting asyncio_example_2.py\n"
     ]
    }
   ],
   "source": [
    "%%writefile asyncio_example_2.py\n",
    "import asyncio\n",
    "import aiohttp\n",
    "\n",
    "urls = [\n",
    "        \"https://www.python.org\",\n",
    "        \"https://www.wikipedia.org\",\n",
    "        \"https://www.github.com\",\n",
    "        \"https://www.stackoverflow.com\",\n",
    "        \"https://www.google.com\"\n",
    "    ]\n",
    "\n",
    "async def fetch_url(session, url):\n",
    "    print(f\"Rozpoczęto pobieranie: {url}\")\n",
    "    \n",
    "    async with session.get(url) as response:\n",
    "        content = await response.text()\n",
    "        print(f\"pobrano dane z {url} ({len(content)} b)\")\n",
    "        return content\n",
    "    \n",
    "    \n",
    "async def main():\n",
    "    async with aiohttp.ClientSession() as session:\n",
    "        tasks = [fetch_url(session, url) for url in urls]\n",
    "        await asyncio.gather(*tasks)\n",
    "\n",
    "\n",
    "if __name__ == \"__main__\":\n",
    "    import time\n",
    "    t1 = time.time()\n",
    "    asyncio.run(main())\n",
    "    print(f\"Czas {time.time()-t1}\")"
   ]
  },
  {
   "cell_type": "code",
   "execution_count": 10,
   "id": "bec88e7c-e00f-404c-a666-f95c55261bc1",
   "metadata": {},
   "outputs": [
    {
     "name": "stdout",
     "output_type": "stream",
     "text": [
      "Rozpoczęto pobieranie: https://www.python.org\n",
      "Rozpoczęto pobieranie: https://www.wikipedia.org\n",
      "Rozpoczęto pobieranie: https://www.github.com\n",
      "Rozpoczęto pobieranie: https://www.stackoverflow.com\n",
      "Rozpoczęto pobieranie: https://www.google.com\n",
      "pobrano dane z https://www.python.org (51058 b)\n",
      "pobrano dane z https://www.wikipedia.org (98473 b)\n",
      "pobrano dane z https://www.google.com (19377 b)\n",
      "pobrano dane z https://www.stackoverflow.com (132758 b)\n",
      "pobrano dane z https://www.github.com (263436 b)\n",
      "Czas 0.923753023147583\n"
     ]
    }
   ],
   "source": [
    "!python asyncio_example_2.py"
   ]
  },
  {
   "cell_type": "code",
   "execution_count": null,
   "id": "81a378fa-c093-407d-8bb8-db9f93d8cf17",
   "metadata": {},
   "outputs": [],
   "source": []
  }
 ],
 "metadata": {
  "kernelspec": {
   "display_name": "Python 3 (ipykernel)",
   "language": "python",
   "name": "python3"
  },
  "language_info": {
   "codemirror_mode": {
    "name": "ipython",
    "version": 3
   },
   "file_extension": ".py",
   "mimetype": "text/x-python",
   "name": "python",
   "nbconvert_exporter": "python",
   "pygments_lexer": "ipython3",
   "version": "3.13.0"
  }
 },
 "nbformat": 4,
 "nbformat_minor": 5
}
