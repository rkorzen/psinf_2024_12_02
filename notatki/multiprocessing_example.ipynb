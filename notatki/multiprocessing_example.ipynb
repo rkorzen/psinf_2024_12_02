{
 "cells": [
  {
   "cell_type": "markdown",
   "id": "462edf71-76ec-4730-9fd2-9c7fd6353029",
   "metadata": {},
   "source": [
    "I/O Bound - operacje wejścia wyjścia - słabo obciżaja procesor\n",
    "    threads, asyncio\n",
    "\n",
    "\n",
    "CPU Bound - np. skomplikowane obliczenia - mocno obciazaja procesor\n",
    "    multiprocessing\n",
    "\n",
    "\n",
    "Proces - osobna alokacja pamiec\n",
    "\n",
    "watek - wspoldziela pamiec (uwaga na GIL)"
   ]
  },
  {
   "cell_type": "markdown",
   "id": "37ace0bf-4b12-42c7-87d9-725cdee21001",
   "metadata": {},
   "source": [
    "process\n",
    "\n",
    "Pool\n",
    "\n",
    "Queue\n",
    "\n",
    "Pipe\n",
    "Lock"
   ]
  },
  {
   "cell_type": "code",
   "execution_count": null,
   "id": "88b87d46-30ae-4e54-8480-f2590c532d18",
   "metadata": {},
   "outputs": [],
   "source": []
  },
  {
   "cell_type": "code",
   "execution_count": 17,
   "id": "8c29eba2-a664-4560-a05f-bfb1e77928c8",
   "metadata": {},
   "outputs": [
    {
     "name": "stdout",
     "output_type": "stream",
     "text": [
      "Sequential: Found 1229 primes in 0.01 s\n"
     ]
    }
   ],
   "source": [
    "import time\n",
    "\n",
    "def is_prime(n):\n",
    "    if n < 2: return False\n",
    "\n",
    "    for i in range(2, int(n**0.5) + 1):\n",
    "        if n % i == 0:\n",
    "            return False\n",
    "\n",
    "    return True\n",
    "\n",
    "def count_primes_in_range(start, end):\n",
    "    return sum([1 for i in range(start, end) if is_prime(i)])\n",
    "\n",
    "\n",
    "start_time = time.time()\n",
    "result = count_primes_in_range(2, 10000)\n",
    "end_time = time.time()\n",
    "print(f\"Sequential: Found {result} primes in {end_time - start_time:.2f} s\")\n",
    "               "
   ]
  },
  {
   "cell_type": "code",
   "execution_count": 18,
   "id": "00a61355-668a-455d-9552-7026444aa327",
   "metadata": {},
   "outputs": [
    {
     "name": "stdout",
     "output_type": "stream",
     "text": [
      "Overwriting parallel_primes.py\n"
     ]
    }
   ],
   "source": [
    "%%writefile parallel_primes.py\n",
    "from multiprocessing import Pool\n",
    "import time\n",
    "\n",
    "def is_prime(n):\n",
    "    if n < 2: return False\n",
    "\n",
    "    for i in range(2, int(n**0.5) + 1):\n",
    "        if n % i == 0:\n",
    "            return False\n",
    "\n",
    "    return True\n",
    "\n",
    "def count_primes_in_range(chunk):\n",
    "    start, end = chunk\n",
    "    return sum([1 for i in range(start, end) if is_prime(i)])\n",
    "\n",
    "\n",
    "if __name__ == \"__main__\":\n",
    "    start_time = time.time()\n",
    "    \n",
    "    RANGE = (2, 10000)\n",
    "    NUM_PROCESSES = 8\n",
    "    \n",
    "    chunk_size = (RANGE[1] - RANGE[0]) // NUM_PROCESSES\n",
    "    \n",
    "    chunks = [(RANGE[0] + i * chunk_size, RANGE[0] + (i+1) * chunk_size) for i in range(NUM_PROCESSES)]\n",
    "    chunks\n",
    "\n",
    "    with Pool(NUM_PROCESSES) as pool:\n",
    "        results = pool.map(count_primes_in_range, chunks)\n",
    "\n",
    "    total_primes = sum(results)\n",
    "    end_time = time.time()\n",
    "    print(f\"Parallel: Found {results} primes in {end_time - start_time:.2f} s\")\n",
    "    "
   ]
  },
  {
   "cell_type": "code",
   "execution_count": 19,
   "id": "3e84f83c-9526-45e4-8343-27e46113d1e1",
   "metadata": {},
   "outputs": [
    {
     "name": "stdout",
     "output_type": "stream",
     "text": [
      "Parallel: Found [204, 163, 155, 146, 143, 138, 141, 139] primes in 0.22 s\n"
     ]
    }
   ],
   "source": [
    "!python parallel_primes.py"
   ]
  },
  {
   "cell_type": "code",
   "execution_count": null,
   "id": "c6552481-241b-463a-802e-70cbf8692525",
   "metadata": {},
   "outputs": [],
   "source": []
  }
 ],
 "metadata": {
  "kernelspec": {
   "display_name": "Python 3 (ipykernel)",
   "language": "python",
   "name": "python3"
  },
  "language_info": {
   "codemirror_mode": {
    "name": "ipython",
    "version": 3
   },
   "file_extension": ".py",
   "mimetype": "text/x-python",
   "name": "python",
   "nbconvert_exporter": "python",
   "pygments_lexer": "ipython3",
   "version": "3.13.0"
  }
 },
 "nbformat": 4,
 "nbformat_minor": 5
}
