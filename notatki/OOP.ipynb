{
 "cells": [
  {
   "cell_type": "code",
   "execution_count": 12,
   "id": "96c8d795-3256-4799-8ebd-035fae14f24d",
   "metadata": {},
   "outputs": [
    {
     "name": "stdout",
     "output_type": "stream",
     "text": [
      "\n",
      "Here is a list of the Python keywords.  Enter any keyword to get more help.\n",
      "\n",
      "False               class               from                or\n",
      "None                continue            global              pass\n",
      "True                def                 if                  raise\n",
      "and                 del                 import              return\n",
      "as                  elif                in                  try\n",
      "assert              else                is                  while\n",
      "async               except              lambda              with\n",
      "await               finally             nonlocal            yield\n",
      "break               for                 not                 \n",
      "\n"
     ]
    }
   ],
   "source": [
    "help(\"keywords\")"
   ]
  },
  {
   "cell_type": "code",
   "execution_count": 20,
   "id": "7e0525b3-9efa-4153-a680-4b5d1ba71ead",
   "metadata": {},
   "outputs": [],
   "source": [
    "class Vehicle:\n",
    "    description: str = \"Vehicle model\"\n",
    "\n",
    "# Vehicle.description = \"hacked\"\n",
    "\n",
    "v = Vehicle()\n",
    "v.description = \"xxxx\"\n",
    "v2 = Vehicle()"
   ]
  },
  {
   "cell_type": "code",
   "execution_count": 21,
   "id": "8e1134bd-1934-4e6c-a8ee-0baefd9ec958",
   "metadata": {},
   "outputs": [
    {
     "data": {
      "text/plain": [
       "('xxxx', 'Vehicle model')"
      ]
     },
     "execution_count": 21,
     "metadata": {},
     "output_type": "execute_result"
    }
   ],
   "source": [
    "v.description, v2.description\n"
   ]
  },
  {
   "cell_type": "code",
   "execution_count": 115,
   "id": "59a51417-a6be-4ca3-aed6-091df6d72cd0",
   "metadata": {},
   "outputs": [],
   "source": [
    "class MojaKlasa:\n",
    "    count = 0\n",
    "\n",
    "    def __init__(self, name):\n",
    "        self.name = name\n",
    "        self.x = 10\n",
    "        self.__class__.count += 1\n",
    "        self.ustaw_y()\n",
    "\n",
    "    def __del__(self):\n",
    "        self.__class__.count -= 1\n",
    "\n",
    "    def __str__(self):\n",
    "        return f\"Jestem wesoły obiekt o name {self.name}\"\n",
    "\n",
    "    def __repr__(self):\n",
    "        return f\"<ccc, name {self.name}>\"\n",
    "\n",
    "    def ustaw_y(self, y=1):\n",
    "        self.y = y\n",
    "\n",
    "    def opisz_sie(self):\n",
    "        print(f\"W self.x jest wartosc: {self.x}\")\n",
    "\n",
    "    def get_y(self):\n",
    "        return self.y\n",
    "        \n",
    "    "
   ]
  },
  {
   "cell_type": "code",
   "execution_count": 116,
   "id": "065d6b7a-2312-41d1-9c25-d7a9f9c7cb90",
   "metadata": {},
   "outputs": [
    {
     "data": {
      "text/plain": [
       "'Jestem wesoły obiekt o name a'"
      ]
     },
     "execution_count": 116,
     "metadata": {},
     "output_type": "execute_result"
    }
   ],
   "source": [
    "f = MojaKlasa(name=\"a\")\n",
    "\n",
    "f2 = MojaKlasa(name=\"b\")\n",
    "\n",
    "str(f)"
   ]
  },
  {
   "cell_type": "code",
   "execution_count": 117,
   "id": "92d0498d-8a06-4865-9484-0f6eba04858e",
   "metadata": {},
   "outputs": [
    {
     "data": {
      "text/plain": [
       "1"
      ]
     },
     "execution_count": 117,
     "metadata": {},
     "output_type": "execute_result"
    }
   ],
   "source": [
    "f.get_y()"
   ]
  },
  {
   "cell_type": "code",
   "execution_count": 111,
   "id": "c5b005d4-6e19-442f-bc92-3470ea8e22f5",
   "metadata": {},
   "outputs": [
    {
     "data": {
      "text/plain": [
       "'<ccc, name a>'"
      ]
     },
     "execution_count": 111,
     "metadata": {},
     "output_type": "execute_result"
    }
   ],
   "source": [
    "repr(f)"
   ]
  },
  {
   "cell_type": "code",
   "execution_count": null,
   "id": "3f10cbb1-087e-4f3e-ad5f-1c42811f626e",
   "metadata": {},
   "outputs": [],
   "source": []
  },
  {
   "cell_type": "code",
   "execution_count": 108,
   "id": "d90ed17f-4b60-4d2f-8586-775e46e09733",
   "metadata": {},
   "outputs": [
    {
     "name": "stdout",
     "output_type": "stream",
     "text": [
      "[<ccc, name a>, <ccc, name b>]\n"
     ]
    }
   ],
   "source": [
    "print([f, f2])"
   ]
  },
  {
   "cell_type": "code",
   "execution_count": 91,
   "id": "473a0be0-f79f-4888-90c8-e52c493b2daf",
   "metadata": {},
   "outputs": [
    {
     "name": "stdout",
     "output_type": "stream",
     "text": [
      "W self.x jest wartosc: 10\n"
     ]
    }
   ],
   "source": [
    "f.opisz_sie()"
   ]
  },
  {
   "cell_type": "code",
   "execution_count": 94,
   "id": "0dd45e1e-55ec-46f9-a2da-d9cab2ee4bd5",
   "metadata": {},
   "outputs": [
    {
     "name": "stdout",
     "output_type": "stream",
     "text": [
      "W self.x jest wartosc: 10\n"
     ]
    }
   ],
   "source": [
    "MojaKlasa.opisz_sie(f)"
   ]
  },
  {
   "cell_type": "code",
   "execution_count": 69,
   "id": "bfc0851b-f9a1-4da1-b657-5abfa9e3a5fb",
   "metadata": {},
   "outputs": [
    {
     "name": "stdout",
     "output_type": "stream",
     "text": [
      "[ccc, ccc]\n"
     ]
    }
   ],
   "source": [
    "print([f, f2])"
   ]
  },
  {
   "cell_type": "code",
   "execution_count": 70,
   "id": "a9cf3c98-f208-40b9-8a87-df85e0621c8a",
   "metadata": {},
   "outputs": [
    {
     "data": {
      "text/plain": [
       "'ccc'"
      ]
     },
     "execution_count": 70,
     "metadata": {},
     "output_type": "execute_result"
    }
   ],
   "source": [
    "repr(f)"
   ]
  },
  {
   "cell_type": "code",
   "execution_count": 59,
   "id": "335e966e-2c33-4b04-bafa-7acbc0437a8c",
   "metadata": {},
   "outputs": [],
   "source": [
    "del f"
   ]
  },
  {
   "cell_type": "code",
   "execution_count": 44,
   "id": "b88426de-4ed9-470e-95c1-3c81044b0ea4",
   "metadata": {},
   "outputs": [
    {
     "data": {
      "text/plain": [
       "<__main__.Foo at 0x103c8b390>"
      ]
     },
     "execution_count": 44,
     "metadata": {},
     "output_type": "execute_result"
    }
   ],
   "source": [
    "f3"
   ]
  },
  {
   "cell_type": "code",
   "execution_count": 40,
   "id": "69b16e1c-b7bd-4fdc-a1a8-18508f871104",
   "metadata": {},
   "outputs": [
    {
     "data": {
      "text/plain": [
       "1"
      ]
     },
     "execution_count": 40,
     "metadata": {},
     "output_type": "execute_result"
    }
   ],
   "source": [
    "Foo.count"
   ]
  },
  {
   "cell_type": "code",
   "execution_count": 41,
   "id": "24c43a6f-82e5-4ce4-9758-d2e68ebae8da",
   "metadata": {},
   "outputs": [
    {
     "ename": "NameError",
     "evalue": "name 'f' is not defined",
     "output_type": "error",
     "traceback": [
      "\u001b[0;31m---------------------------------------------------------------------------\u001b[0m",
      "\u001b[0;31mNameError\u001b[0m                                 Traceback (most recent call last)",
      "Cell \u001b[0;32mIn[41], line 1\u001b[0m\n\u001b[0;32m----> 1\u001b[0m \u001b[43mf\u001b[49m\n",
      "\u001b[0;31mNameError\u001b[0m: name 'f' is not defined"
     ]
    }
   ],
   "source": [
    "f"
   ]
  },
  {
   "cell_type": "markdown",
   "id": "201bf7f5-0583-41c6-a103-db593ec54ed8",
   "metadata": {},
   "source": [
    "# przeciazanie operatorow"
   ]
  },
  {
   "cell_type": "code",
   "execution_count": 151,
   "id": "4b2b47b7-2562-4eba-9db6-142478b26e3e",
   "metadata": {},
   "outputs": [],
   "source": [
    "class Square:\n",
    "\n",
    "    def __init__(self, side=1):\n",
    "\n",
    "        self.side = side\n",
    "\n",
    "    @property\n",
    "    def side(self):\n",
    "        return self._side\n",
    "\n",
    "    @side.setter\n",
    "    def side(self, value):\n",
    "        if type(value) != int:\n",
    "            raise ValueError(\"Pracujemy tylko na intach\")\n",
    "        if value <= 0:\n",
    "            raise ValueError(\"Bok powinien mieć wartosc dodatnia\")\n",
    "        self._side = value\n",
    "    \n",
    "    @property # zamienia metodę w atrybut dynamiczny\n",
    "    def area(self):\n",
    "        return self.side ** 2\n",
    "\n",
    "    @area.setter\n",
    "    def area(self, value):\n",
    "        self.side = value ** 0.5\n",
    "        \n",
    "\n",
    "    def __add__(self, other):\n",
    "        return self.__class__(self.side + other.side)\n",
    "\n",
    "    def __repr__(self):\n",
    "        return f\"<{self.__class__.__name__} ({self.side})>\"\n",
    "\n"
   ]
  },
  {
   "cell_type": "code",
   "execution_count": 147,
   "id": "7e8d8060-82b8-48fc-8cfb-459e57a5cd41",
   "metadata": {},
   "outputs": [],
   "source": [
    "s1 = Square()\n",
    "s2 = Square(5)"
   ]
  },
  {
   "cell_type": "code",
   "execution_count": 148,
   "id": "37a6c60a-26a5-4ee6-829b-fe44c6798441",
   "metadata": {},
   "outputs": [
    {
     "data": {
      "text/plain": [
       "100"
      ]
     },
     "execution_count": 148,
     "metadata": {},
     "output_type": "execute_result"
    }
   ],
   "source": [
    "s = Square(10.2)\n",
    "s.side\n",
    "s.area"
   ]
  },
  {
   "cell_type": "code",
   "execution_count": 155,
   "id": "23647a03-26ff-4d09-b4d6-04359b05c433",
   "metadata": {},
   "outputs": [
    {
     "name": "stdout",
     "output_type": "stream",
     "text": [
      "Overwriting annotation_example.py\n"
     ]
    }
   ],
   "source": [
    "%%writefile annotation_example.py\n",
    "\n",
    "\n",
    "def add(a: int, b: int) -> int:\n",
    "    return a + b \n",
    "x: str = 1\n",
    "\n",
    "add(1, 2)\n",
    "add(\"a\", \"2\")"
   ]
  },
  {
   "cell_type": "code",
   "execution_count": 156,
   "id": "95129eb1-c197-4945-acd8-517f640a01e0",
   "metadata": {},
   "outputs": [
    {
     "name": "stdout",
     "output_type": "stream",
     "text": [
      "annotation_example.py:3: \u001b[1m\u001b[31merror:\u001b[m Incompatible types in assignment (expression has type \u001b[m\u001b[1m\"int\"\u001b[m, variable has type \u001b[m\u001b[1m\"str\"\u001b[m)  \u001b[m\u001b[33m[assignment]\u001b[m\n",
      "annotation_example.py:6: \u001b[1m\u001b[31merror:\u001b[m Argument 1 to \u001b[m\u001b[1m\"add\"\u001b[m has incompatible type \u001b[m\u001b[1m\"str\"\u001b[m; expected \u001b[m\u001b[1m\"int\"\u001b[m  \u001b[m\u001b[33m[arg-type]\u001b[m\n",
      "annotation_example.py:6: \u001b[1m\u001b[31merror:\u001b[m Argument 2 to \u001b[m\u001b[1m\"add\"\u001b[m has incompatible type \u001b[m\u001b[1m\"str\"\u001b[m; expected \u001b[m\u001b[1m\"int\"\u001b[m  \u001b[m\u001b[33m[arg-type]\u001b[m\n",
      "\u001b[1m\u001b[31mFound 3 errors in 1 file (checked 1 source file)\u001b[m\n"
     ]
    }
   ],
   "source": [
    "!mypy annotation_example.py"
   ]
  },
  {
   "cell_type": "code",
   "execution_count": 162,
   "id": "f79c1284-f9ed-46a0-b5dd-c1f231a0571d",
   "metadata": {},
   "outputs": [
    {
     "name": "stdout",
     "output_type": "stream",
     "text": [
      "Overwriting annotation_example_2.py\n"
     ]
    }
   ],
   "source": [
    "%%writefile annotation_example_2.py\n",
    "from typing import TypeVar\n",
    "\n",
    "T = TypeVar(\"T\", int, str, float)\n",
    "\n",
    "def add(a: T, b: T) -> T:\n",
    "    return a + b\n",
    "\n",
    "add(1, 2)\n",
    "add(\"a\", \"b\")\n",
    "add(2.1, 2.3)"
   ]
  },
  {
   "cell_type": "code",
   "execution_count": 161,
   "id": "f494dd6c-7d5e-4d4d-a0a7-073fc27dfb27",
   "metadata": {},
   "outputs": [
    {
     "name": "stdout",
     "output_type": "stream",
     "text": [
      "annotation_example_2.py:6: \u001b[1m\u001b[31merror:\u001b[m Incompatible return value type (got \u001b[m\u001b[1m\"int\"\u001b[m, expected \u001b[m\u001b[1m\"str\"\u001b[m)  \u001b[m\u001b[33m[return-value]\u001b[m\n",
      "\u001b[1m\u001b[31mFound 1 error in 1 file (checked 1 source file)\u001b[m\n"
     ]
    }
   ],
   "source": [
    "!mypy annotation_example_2.py"
   ]
  },
  {
   "cell_type": "code",
   "execution_count": null,
   "id": "89532663-32ec-4e31-9e26-06e679c1c93b",
   "metadata": {},
   "outputs": [],
   "source": []
  },
  {
   "cell_type": "code",
   "execution_count": 149,
   "id": "319874b1-b7bc-4a9c-9bb3-f8df050df109",
   "metadata": {},
   "outputs": [
    {
     "data": {
      "text/plain": [
       "5.0"
      ]
     },
     "execution_count": 149,
     "metadata": {},
     "output_type": "execute_result"
    }
   ],
   "source": [
    "s.area = 25\n",
    "s.side # 5"
   ]
  },
  {
   "cell_type": "code",
   "execution_count": 150,
   "id": "0ce7789a-32c0-4845-a3d3-a29a89ac67a3",
   "metadata": {},
   "outputs": [
    {
     "ename": "ValueError",
     "evalue": "Bok powinien mieć wartosc dodatnia",
     "output_type": "error",
     "traceback": [
      "\u001b[0;31m---------------------------------------------------------------------------\u001b[0m",
      "\u001b[0;31mValueError\u001b[0m                                Traceback (most recent call last)",
      "Cell \u001b[0;32mIn[150], line 1\u001b[0m\n\u001b[0;32m----> 1\u001b[0m \u001b[43ms\u001b[49m\u001b[38;5;241;43m.\u001b[39;49m\u001b[43mside\u001b[49m \u001b[38;5;241m=\u001b[39m \u001b[38;5;241m-\u001b[39m\u001b[38;5;241m10\u001b[39m\n",
      "Cell \u001b[0;32mIn[146], line 14\u001b[0m, in \u001b[0;36mSquare.side\u001b[0;34m(self, value)\u001b[0m\n\u001b[1;32m     11\u001b[0m \u001b[38;5;129m@side\u001b[39m\u001b[38;5;241m.\u001b[39msetter\n\u001b[1;32m     12\u001b[0m \u001b[38;5;28;01mdef\u001b[39;00m \u001b[38;5;21mside\u001b[39m(\u001b[38;5;28mself\u001b[39m, value):\n\u001b[1;32m     13\u001b[0m     \u001b[38;5;28;01mif\u001b[39;00m value \u001b[38;5;241m<\u001b[39m\u001b[38;5;241m=\u001b[39m \u001b[38;5;241m0\u001b[39m:\n\u001b[0;32m---> 14\u001b[0m         \u001b[38;5;28;01mraise\u001b[39;00m \u001b[38;5;167;01mValueError\u001b[39;00m(\u001b[38;5;124m\"\u001b[39m\u001b[38;5;124mBok powinien mieć wartosc dodatnia\u001b[39m\u001b[38;5;124m\"\u001b[39m)\n\u001b[1;32m     15\u001b[0m     \u001b[38;5;28mself\u001b[39m\u001b[38;5;241m.\u001b[39m_side \u001b[38;5;241m=\u001b[39m value\n",
      "\u001b[0;31mValueError\u001b[0m: Bok powinien mieć wartosc dodatnia"
     ]
    }
   ],
   "source": [
    "s.side = -10"
   ]
  },
  {
   "cell_type": "code",
   "execution_count": 142,
   "id": "dcd0c8fd-2e54-4408-9e3a-cf76e0f9be7c",
   "metadata": {},
   "outputs": [],
   "source": [
    "s.area = -25"
   ]
  },
  {
   "cell_type": "code",
   "execution_count": 143,
   "id": "33b56f55-9b33-4f73-80af-3c4d084a6207",
   "metadata": {},
   "outputs": [
    {
     "data": {
      "text/plain": [
       "(3.061616997868383e-16+5j)"
      ]
     },
     "execution_count": 143,
     "metadata": {},
     "output_type": "execute_result"
    }
   ],
   "source": [
    "s.side"
   ]
  },
  {
   "cell_type": "code",
   "execution_count": null,
   "id": "85777fc8-127a-49e9-9483-dfc07bf3d4b1",
   "metadata": {},
   "outputs": [],
   "source": []
  },
  {
   "cell_type": "code",
   "execution_count": 124,
   "id": "a82f1679-2490-4490-a87f-af8a2d58b26c",
   "metadata": {},
   "outputs": [
    {
     "data": {
      "text/plain": [
       "<Square (6)>"
      ]
     },
     "execution_count": 124,
     "metadata": {},
     "output_type": "execute_result"
    }
   ],
   "source": [
    "s1 + s2"
   ]
  },
  {
   "cell_type": "code",
   "execution_count": 121,
   "id": "934cddc6-9272-4d08-b34e-59765ffba769",
   "metadata": {},
   "outputs": [
    {
     "ename": "TypeError",
     "evalue": "unsupported operand type(s) for +: 'int' and 'str'",
     "output_type": "error",
     "traceback": [
      "\u001b[0;31m---------------------------------------------------------------------------\u001b[0m",
      "\u001b[0;31mTypeError\u001b[0m                                 Traceback (most recent call last)",
      "Cell \u001b[0;32mIn[121], line 1\u001b[0m\n\u001b[0;32m----> 1\u001b[0m \u001b[38;5;241;43m1\u001b[39;49m\u001b[43m \u001b[49m\u001b[38;5;241;43m+\u001b[39;49m\u001b[43m \u001b[49m\u001b[38;5;124;43m\"\u001b[39;49m\u001b[38;5;124;43m1\u001b[39;49m\u001b[38;5;124;43m\"\u001b[39;49m\n",
      "\u001b[0;31mTypeError\u001b[0m: unsupported operand type(s) for +: 'int' and 'str'"
     ]
    }
   ],
   "source": [
    "1 + \"1\""
   ]
  },
  {
   "cell_type": "markdown",
   "id": "7387706f-42fa-4f7f-84b1-2643cb1d8e02",
   "metadata": {},
   "source": [
    "## Ćwiczenie:\n",
    "\n",
    "\n",
    "Stwórz klasę Vector, która umożliwi tworzenie wektorów na płaszczyznie\n",
    "\n",
    "    \n",
    "    v = Vector(1, 2)\n",
    "    v2 = Vector(1, 1)\n",
    "    v + v2 => Vector(2, 3) __add__\n",
    "\n",
    "    v * 3 => Vector(3, 6) __mul__\n",
    "\n",
    "\n",
    "    # porównujemy wektor po długości \n",
    "    v > v2 => True __gt__\n",
    "    v > v2 => True __ge__\n",
    "    v == v2 => False __eq__\n",
    "\n",
    "\n",
    "    v.length() -> 5 ** 0.5\n",
    "\n",
    "    len(v) -> 5 ** 0.5 __len__"
   ]
  },
  {
   "cell_type": "code",
   "execution_count": 172,
   "id": "74ba2e10-70bf-4741-b4dc-07411fb72967",
   "metadata": {},
   "outputs": [
    {
     "data": {
      "text/plain": [
       "<Vector (3, 6)>"
      ]
     },
     "execution_count": 172,
     "metadata": {},
     "output_type": "execute_result"
    }
   ],
   "source": [
    "class Vector:\n",
    "\n",
    "    def __init__(self, x, y):\n",
    "        self.x = x\n",
    "        self.y = y\n",
    "\n",
    "    def __mul__(self, other):\n",
    "        return self.__class__(self.x * other, self.y * other)\n",
    "\n",
    "    def __rmul__(self, other):\n",
    "        return self.__mul__(other)\n",
    "    \n",
    "    def __repr__(self):\n",
    "        return f\"<Vector ({self.x}, {self.y})>\"\n",
    "\n",
    "v = Vector(1, 2)\n",
    "\n",
    "3 * v\n",
    "        "
   ]
  },
  {
   "cell_type": "code",
   "execution_count": 176,
   "id": "7c484073-d1c4-4b7e-9ca8-80ab1c86ca93",
   "metadata": {},
   "outputs": [
    {
     "data": {
      "text/plain": [
       "1"
      ]
     },
     "execution_count": 176,
     "metadata": {},
     "output_type": "execute_result"
    }
   ],
   "source": [
    "3 % 2"
   ]
  },
  {
   "cell_type": "markdown",
   "id": "30192faf-76de-4546-8f00-953dfbace932",
   "metadata": {},
   "source": [
    "## dziedziczenie"
   ]
  },
  {
   "cell_type": "code",
   "execution_count": 187,
   "id": "524b005b-23e7-4ba2-b607-a01ca1232f73",
   "metadata": {},
   "outputs": [
    {
     "name": "stdout",
     "output_type": "stream",
     "text": [
      "<<class '__main__.Animal'> xx> \n",
      "Reksio makes a sound\n",
      "How how\n"
     ]
    }
   ],
   "source": [
    "class Animal:\n",
    "    def __init__(self, name):\n",
    "        self.name = name\n",
    "\n",
    "    def voice(self):\n",
    "        print(f\"{self.name} makes a sound\")\n",
    "\n",
    "    def __repr__(self):\n",
    "        return f\"<{self.__class__} {self.name}> \"\n",
    "\n",
    "class Dog(Animal):\n",
    "\n",
    "    def __init__(self, name, rasa):\n",
    "        super().__init__(name)\n",
    "        self.rasa = rasa\n",
    "    \n",
    "    def voice(self):\n",
    "        super().voice()\n",
    "        print(\"How how\")\n",
    "\n",
    "\n",
    "a = Animal(\"xx\")\n",
    "print(a)\n",
    "d = Dog(\"Reksio\", \"Dog\")\n",
    "d.voice()"
   ]
  },
  {
   "cell_type": "code",
   "execution_count": 192,
   "id": "43ad7ed2-c47c-43ca-b6ee-45f755612928",
   "metadata": {},
   "outputs": [],
   "source": [
    "class Flyable:\n",
    "\n",
    "    def fly(self):\n",
    "        print(f\"{self} is flying\")\n",
    "\n",
    "\n",
    "class Swimmable:\n",
    "\n",
    "    def swimm(self):\n",
    "        print(f\"{self} is swimming\")\n",
    "\n",
    "\n",
    "\n",
    "class Monster(Flyable, Swimmable):\n",
    "\n",
    "    def __repr__(self):\n",
    "        return \"Monster\"\n",
    "\n",
    "    \n",
    "m = Monster()"
   ]
  },
  {
   "cell_type": "code",
   "execution_count": 193,
   "id": "3f3693d0-ad89-45d3-9a34-1fb19e65621b",
   "metadata": {},
   "outputs": [
    {
     "name": "stdout",
     "output_type": "stream",
     "text": [
      "Monster is swimming\n"
     ]
    }
   ],
   "source": [
    "m.swimm()"
   ]
  },
  {
   "cell_type": "code",
   "execution_count": 194,
   "id": "de0aeb59-c42f-4a1b-bddc-29410e518dc4",
   "metadata": {},
   "outputs": [
    {
     "name": "stdout",
     "output_type": "stream",
     "text": [
      "Monster is flying\n"
     ]
    }
   ],
   "source": [
    "m.fly()"
   ]
  },
  {
   "cell_type": "code",
   "execution_count": 197,
   "id": "8bee1a60-1dfd-45d2-b26d-1127821e8358",
   "metadata": {},
   "outputs": [
    {
     "ename": "TypeError",
     "evalue": "Cannot create a consistent method resolution order (MRO) for bases A, B",
     "output_type": "error",
     "traceback": [
      "\u001b[0;31m---------------------------------------------------------------------------\u001b[0m",
      "\u001b[0;31mTypeError\u001b[0m                                 Traceback (most recent call last)",
      "Cell \u001b[0;32mIn[197], line 8\u001b[0m\n\u001b[1;32m      4\u001b[0m \u001b[38;5;28;01mclass\u001b[39;00m \u001b[38;5;21;01mB\u001b[39;00m(A):\n\u001b[1;32m      5\u001b[0m     \u001b[38;5;28;01mdef\u001b[39;00m \u001b[38;5;21mprocess\u001b[39m(\u001b[38;5;28mself\u001b[39m): \u001b[38;5;28mprint\u001b[39m(\u001b[38;5;124m\"\u001b[39m\u001b[38;5;124mprocess B\u001b[39m\u001b[38;5;124m\"\u001b[39m)\n\u001b[0;32m----> 8\u001b[0m \u001b[38;5;28;43;01mclass\u001b[39;49;00m\u001b[43m \u001b[49m\u001b[38;5;21;43;01mC\u001b[39;49;00m\u001b[43m(\u001b[49m\u001b[43mA\u001b[49m\u001b[43m,\u001b[49m\u001b[43m \u001b[49m\u001b[43mB\u001b[49m\u001b[43m)\u001b[49m\u001b[43m:\u001b[49m\n\u001b[1;32m      9\u001b[0m \u001b[43m    \u001b[49m\u001b[38;5;28;43;01mpass\u001b[39;49;00m\n\u001b[1;32m     12\u001b[0m c \u001b[38;5;241m=\u001b[39m C()\n",
      "\u001b[0;31mTypeError\u001b[0m: Cannot create a consistent method resolution order (MRO) for bases A, B"
     ]
    }
   ],
   "source": [
    "class A:\n",
    "    def process(self): print(\"process A\")\n",
    "\n",
    "class B:\n",
    "    def process(self): print(\"process B\")\n",
    "\n",
    "\n",
    "class C(A, B):\n",
    "    pass\n",
    "\n",
    "\n",
    "c = C()\n",
    "\n",
    "c.process()\n",
    "\n",
    "C.mro()"
   ]
  },
  {
   "cell_type": "markdown",
   "id": "c03d7879-4c01-4fe7-809d-abc55e5f2d83",
   "metadata": {},
   "source": [
    "## Kompozycja"
   ]
  },
  {
   "cell_type": "code",
   "execution_count": 209,
   "id": "0552381a-b8ea-4abd-9245-2177c90def89",
   "metadata": {},
   "outputs": [],
   "source": [
    "from abc import ABC, abstractmethod\n",
    "\n",
    "class IEngine(ABC):\n",
    "\n",
    "    status = False\n",
    "    \n",
    "    @abstractmethod\n",
    "    def start(self):\n",
    "        raise NotImplementedError()\n",
    "\n",
    "    @abstractmethod\n",
    "    def stop(self):\n",
    "        raise NotImplentedError()\n",
    "\n"
   ]
  },
  {
   "cell_type": "code",
   "execution_count": 205,
   "id": "8b018637-9959-4320-b803-96f7fcf99cda",
   "metadata": {},
   "outputs": [
    {
     "ename": "TypeError",
     "evalue": "Can't instantiate abstract class Engine without an implementation for abstract methods 'start', 'stop'",
     "output_type": "error",
     "traceback": [
      "\u001b[0;31m---------------------------------------------------------------------------\u001b[0m",
      "\u001b[0;31mTypeError\u001b[0m                                 Traceback (most recent call last)",
      "Cell \u001b[0;32mIn[205], line 1\u001b[0m\n\u001b[0;32m----> 1\u001b[0m e \u001b[38;5;241m=\u001b[39m \u001b[43mEngine\u001b[49m\u001b[43m(\u001b[49m\u001b[43m)\u001b[49m\n",
      "\u001b[0;31mTypeError\u001b[0m: Can't instantiate abstract class Engine without an implementation for abstract methods 'start', 'stop'"
     ]
    }
   ],
   "source": [
    "e = Engine()"
   ]
  },
  {
   "cell_type": "code",
   "execution_count": null,
   "id": "49cb1a31-fb5a-42b4-a277-09348d7bcfaa",
   "metadata": {},
   "outputs": [],
   "source": []
  },
  {
   "cell_type": "code",
   "execution_count": 207,
   "id": "367f66af-5d7d-4476-b481-ed93901d4243",
   "metadata": {},
   "outputs": [],
   "source": [
    "class DieselEngine(IEngine):\n",
    "\n",
    "    def start(self):\n",
    "        self.status = True\n",
    "        print(\"Silnik uruchomiony\")\n",
    "\n",
    "    def stop(self):\n",
    "        self.status = False\n",
    "        print(\"Silnik zatrzymany\")\n",
    "\n",
    "engine = DieselEngine()"
   ]
  },
  {
   "cell_type": "code",
   "execution_count": 208,
   "id": "ecdb410d-e212-4b16-a80a-bed7e646ff72",
   "metadata": {},
   "outputs": [
    {
     "name": "stdout",
     "output_type": "stream",
     "text": [
      "Silnik uruchomiony\n",
      "Samochod jedzie\n"
     ]
    }
   ],
   "source": [
    "class ElectricEngine(IEngine):\n",
    "\n",
    "    def start(self):\n",
    "        print(\"Elektryczny silnik uruchomiony\")\n",
    "\n",
    "    def stop(self):\n",
    "        print(\"Elektryczny silnik zatrzymany\")\n",
    "\n",
    "\n",
    "class Samochod:\n",
    "\n",
    "    def __init__(self, engine: IEngine):\n",
    "        self.engine = engine # samochod ma silnik\n",
    "\n",
    "    def drive(self):\n",
    "        self.engine.start()\n",
    "        print(\"Samochod jedzie\")\n",
    "\n",
    "    def stop(self):\n",
    "        self.engine.stop()\n",
    "        print(\"samochod sie zatrzymuje\")\n",
    "\n",
    "\n",
    "engine = DieselEngine()\n",
    "electric_engine = ElectricEngine()\n",
    "auto = Samochod(engine)\n",
    "eauto = Samochod(electric_engine)\n",
    "auto.drive()"
   ]
  },
  {
   "cell_type": "markdown",
   "id": "ee77a4de-ca11-4728-9ca2-19b260c89fa1",
   "metadata": {},
   "source": [
    "### **Zadanie: Refaktoryzacja kodu opartego na dziedziczeniu na kompozycję**\n",
    "\n",
    "---\n",
    "\n",
    "#### **Cel zadania**\n",
    "Przekształcenie kodu bazującego na dziedziczeniu w bardziej modularny i elastyczny, oparty na kompozycji. Celem jest poprawa możliwości wielokrotnego użycia kodu oraz obniżenie zależności między klasami.\n",
    "\n",
    "---\n",
    "\n",
    "#### **Opis zadania**\n",
    "\n",
    "Masz kod zarządzający różnymi rodzajami urządzeń multimedialnych w kinie. Obecnie system wykorzystuje dziedziczenie do reprezentowania różnych urządzeń (np. projektorów, systemów audio). Jednak dziedziczenie powoduje zbyt duże sprzężenie między klasami i ogranicza elastyczność.\n",
    "\n",
    "Twoim zadaniem jest zrefaktoryzowanie kodu tak, aby używał kompozycji zamiast dziedziczenia.\n",
    "\n",
    "---\n",
    "\n",
    "#### **Zastany kod**"
   ]
  },
  {
   "cell_type": "code",
   "execution_count": 214,
   "id": "9de92963-dca2-46c8-b50d-19f2b1a31f04",
   "metadata": {},
   "outputs": [
    {
     "name": "stdout",
     "output_type": "stream",
     "text": [
      "Starting the movie...\n"
     ]
    },
    {
     "ename": "AttributeError",
     "evalue": "type object 'Projector' has no attribute 'trun_on'",
     "output_type": "error",
     "traceback": [
      "\u001b[0;31m---------------------------------------------------------------------------\u001b[0m",
      "\u001b[0;31mAttributeError\u001b[0m                            Traceback (most recent call last)",
      "Cell \u001b[0;32mIn[214], line 36\u001b[0m\n\u001b[1;32m     32\u001b[0m         \u001b[38;5;28mprint\u001b[39m(\u001b[38;5;124m\"\u001b[39m\u001b[38;5;124mMovie stopped.\u001b[39m\u001b[38;5;124m\"\u001b[39m)\n\u001b[1;32m     35\u001b[0m home_theater \u001b[38;5;241m=\u001b[39m HomeTheater()\n\u001b[0;32m---> 36\u001b[0m \u001b[43mhome_theater\u001b[49m\u001b[38;5;241;43m.\u001b[39;49m\u001b[43mstart_movie\u001b[49m\u001b[43m(\u001b[49m\u001b[43m)\u001b[49m\n\u001b[1;32m     37\u001b[0m home_theater\u001b[38;5;241m.\u001b[39mstop_movie()\n",
      "Cell \u001b[0;32mIn[214], line 24\u001b[0m, in \u001b[0;36mHomeTheater.start_movie\u001b[0;34m(self)\u001b[0m\n\u001b[1;32m     22\u001b[0m \u001b[38;5;28;01mdef\u001b[39;00m \u001b[38;5;21mstart_movie\u001b[39m(\u001b[38;5;28mself\u001b[39m):\n\u001b[1;32m     23\u001b[0m     \u001b[38;5;28mprint\u001b[39m(\u001b[38;5;124m\"\u001b[39m\u001b[38;5;124mStarting the movie...\u001b[39m\u001b[38;5;124m\"\u001b[39m)\n\u001b[0;32m---> 24\u001b[0m     \u001b[38;5;28;43mself\u001b[39;49m\u001b[38;5;241;43m.\u001b[39;49m\u001b[43mturn_on\u001b[49m\u001b[43m(\u001b[49m\u001b[43m)\u001b[49m\n\u001b[1;32m     25\u001b[0m     \u001b[38;5;28mself\u001b[39m\u001b[38;5;241m.\u001b[39mplay_video()\n\u001b[1;32m     26\u001b[0m     \u001b[38;5;28mself\u001b[39m\u001b[38;5;241m.\u001b[39mplay_audio()\n",
      "Cell \u001b[0;32mIn[214], line 19\u001b[0m, in \u001b[0;36mHomeTheater.turn_on\u001b[0;34m(self)\u001b[0m\n\u001b[1;32m     18\u001b[0m \u001b[38;5;28;01mdef\u001b[39;00m \u001b[38;5;21mturn_on\u001b[39m(\u001b[38;5;28mself\u001b[39m):\n\u001b[0;32m---> 19\u001b[0m     \u001b[43mProjector\u001b[49m\u001b[38;5;241;43m.\u001b[39;49m\u001b[43mtrun_on\u001b[49m(\u001b[38;5;28mself\u001b[39m)\n\u001b[1;32m     20\u001b[0m     Projector\u001b[38;5;241m.\u001b[39mtrun_on(\u001b[38;5;28mself\u001b[39m)\n",
      "\u001b[0;31mAttributeError\u001b[0m: type object 'Projector' has no attribute 'trun_on'"
     ]
    }
   ],
   "source": [
    "class MultimediaDevice:\n",
    "    def turn_on(self):\n",
    "        print(f\"{self.__class__.__name__} is turned on.\")\n",
    "\n",
    "    def turn_off(self):\n",
    "        print(\"Device is turned off.\")\n",
    "\n",
    "class Projector(MultimediaDevice):\n",
    "    def play_video(self):\n",
    "        print(\"Playing video on the projector.\")\n",
    "\n",
    "class AudioSystem(MultimediaDevice):\n",
    "    def play_audio(self):\n",
    "        print(\"Playing audio on the audio system.\")\n",
    "\n",
    "class HomeTheater(Projector, AudioSystem):\n",
    "\n",
    "    def turn_on(self):\n",
    "        Projector.trun_on(self)\n",
    "        Projector.trun_on(self)\n",
    "    \n",
    "    def start_movie(self):\n",
    "        print(\"Starting the movie...\")\n",
    "        self.turn_on()\n",
    "        self.play_video()\n",
    "        self.play_audio()\n",
    "        print(\"Movie is now playing.\")\n",
    "\n",
    "    def stop_movie(self):\n",
    "        print(\"Stopping the movie...\")\n",
    "        self.turn_off()\n",
    "        print(\"Movie stopped.\")\n",
    "\n",
    "\n",
    "home_theater = HomeTheater()\n",
    "home_theater.start_movie()\n",
    "home_theater.stop_movie()"
   ]
  },
  {
   "cell_type": "markdown",
   "id": "6b59acc5-fcc2-4d8f-aed9-d497af1b0ff3",
   "metadata": {},
   "source": [
    "**Przykład użycia:**\n",
    "\n",
    "```python\n",
    "home_theater = HomeTheater()\n",
    "home_theater.start_movie()\n",
    "home_theater.stop_movie()\n",
    "```\n",
    "\n",
    "**Wynik działania:**\n",
    "\n",
    "```\n",
    "Starting the movie...\n",
    "Device is turned on.\n",
    "Playing video on the projector.\n",
    "Playing audio on the audio system.\n",
    "Movie is now playing.\n",
    "Stopping the movie...\n",
    "Device is turned off.\n",
    "Movie stopped.\n",
    "```\n",
    "\n",
    "---\n",
    "\n",
    "### **Twoje zadanie**\n",
    "\n",
    "1. **Zrefaktoruj kod**, aby używał kompozycji zamiast dziedziczenia.\n",
    "2. Utrzymaj ten sam interfejs użycia (`home_theater.start_movie()` i `home_theater.stop_movie()`).\n",
    "3. Upewnij się, że kod jest bardziej modularny – np. różne komponenty (projektor, system audio) mogą być używane niezależnie i współdzielone między różnymi konfiguracjami kina domowego.\n",
    "\n",
    "---\n",
    "\n",
    "#### **Kroki refaktoryzacji**\n",
    "\n",
    "1. Usuń dziedziczenie między klasami.\n",
    "2. Wydziel osobne klasy reprezentujące zachowania (np. `Projector`, `AudioSystem`).\n",
    "3. Połącz klasy w `HomeTheater` za pomocą kompozycji.\n",
    "4. Zachowaj czytelność i modularność kodu.\n",
    "\n",
    "---\n",
    "\n",
    "**Wynik refaktoryzacji powinien pozwalać na takie samo użycie kodu, ale opierać się na kompozycji.**\n",
    "\n",
    "### **Dodatkowe punkty za:**\n",
    "- Możliwość dynamicznego przypisywania komponentów do `HomeTheater`.\n",
    "- Zachowanie logiki działania z możliwością łatwej rozbudowy o nowe urządzenia."
   ]
  },
  {
   "cell_type": "markdown",
   "id": "84de6e6e-ff32-4d51-8336-3ad783bf5a6e",
   "metadata": {},
   "source": [
    "## Slots"
   ]
  },
  {
   "cell_type": "code",
   "execution_count": 218,
   "id": "b07341de-d91e-4f09-b7c5-318f98a2b492",
   "metadata": {},
   "outputs": [
    {
     "data": {
      "text/plain": [
       "{'x': 1, 'y': 1, 'z': 10}"
      ]
     },
     "execution_count": 218,
     "metadata": {},
     "output_type": "execute_result"
    }
   ],
   "source": [
    "class NormalClass:\n",
    "    classvar = \"foo\"\n",
    "\n",
    "    def __init__(self):\n",
    "        self.x = 1\n",
    "        self.y = 1\n",
    "\n",
    "n = NormalClass()\n",
    "n.__dict__\n",
    "n.z = 10\n",
    "vars(n)"
   ]
  },
  {
   "cell_type": "code",
   "execution_count": 222,
   "id": "205c9271-74fe-47ae-ba9f-af8507eadc9b",
   "metadata": {},
   "outputs": [],
   "source": [
    "class SlotClass:\n",
    "    __slots__ = (\"x\", \"y\")\n",
    "    classvar = \"foo\"\n",
    "\n",
    "    def __init__(self):\n",
    "        self.x = 1\n",
    "        self.y = 1\n",
    "\n",
    "n = SlotClass()\n",
    "# n.__dict__\n",
    "n.x = 10\n",
    "# vars(n)\n"
   ]
  },
  {
   "cell_type": "code",
   "execution_count": null,
   "id": "27dd79a0-a060-47dc-89db-b49869bb221d",
   "metadata": {},
   "outputs": [],
   "source": [
    "## DTO\n",
    "\n",
    "osoba = [\"Rafał\", 30]\n",
    "\n",
    "osoba2 = {\"name\": \"Rafał\", \"age\": 30}\n",
    "\n",
    "class Person:\n",
    "    def __init__(self, name, age):\n",
    "        self.name = name\n",
    "        self.age = age\n",
    "\n",
    "osoba3 = Person(\"Rafał\", 30)\n",
    "\n",
    "osoba[0]\n",
    "osoba2[\"name\"]\n",
    "osoba3.name\n",
    "\n"
   ]
  },
  {
   "cell_type": "code",
   "execution_count": 225,
   "id": "8c353139-5450-49bd-bdc1-b71c683129e2",
   "metadata": {},
   "outputs": [],
   "source": [
    "from collections import namedtuple"
   ]
  },
  {
   "cell_type": "code",
   "execution_count": 226,
   "id": "1e4f928a-913b-4da3-9be0-6c650ffe38fd",
   "metadata": {},
   "outputs": [],
   "source": [
    "Person = namedtuple(\"Person\", \"name age\")"
   ]
  },
  {
   "cell_type": "code",
   "execution_count": 227,
   "id": "b6d8d7e2-40de-4267-a48f-9a64f327ebb4",
   "metadata": {},
   "outputs": [],
   "source": [
    "p = Person(\"Rafał\", 30)"
   ]
  },
  {
   "cell_type": "code",
   "execution_count": 231,
   "id": "2c647350-72ab-43d1-830f-dd688a3adca6",
   "metadata": {},
   "outputs": [
    {
     "ename": "AttributeError",
     "evalue": "can't set attribute",
     "output_type": "error",
     "traceback": [
      "\u001b[0;31m---------------------------------------------------------------------------\u001b[0m",
      "\u001b[0;31mAttributeError\u001b[0m                            Traceback (most recent call last)",
      "Cell \u001b[0;32mIn[231], line 1\u001b[0m\n\u001b[0;32m----> 1\u001b[0m \u001b[43mp\u001b[49m\u001b[38;5;241;43m.\u001b[39;49m\u001b[43mage\u001b[49m \u001b[38;5;241m=\u001b[39m \u001b[38;5;241m40\u001b[39m\n",
      "\u001b[0;31mAttributeError\u001b[0m: can't set attribute"
     ]
    }
   ],
   "source": [
    "p.age"
   ]
  },
  {
   "cell_type": "code",
   "execution_count": 232,
   "id": "feb3f8ff-addc-4a9e-b96b-ffe5489c6736",
   "metadata": {},
   "outputs": [],
   "source": [
    "from dataclasses import dataclass"
   ]
  },
  {
   "cell_type": "code",
   "execution_count": 233,
   "id": "c801a56f-b577-42b0-b09d-a16833f3c8d0",
   "metadata": {},
   "outputs": [],
   "source": [
    "@dataclass\n",
    "class Person:\n",
    "    name: str\n",
    "    age: int"
   ]
  },
  {
   "cell_type": "code",
   "execution_count": 234,
   "id": "b4e6053d-9b2c-49f7-9e65-df8a70f10e45",
   "metadata": {},
   "outputs": [],
   "source": [
    "p = Person(\"Rafał\", 30)"
   ]
  },
  {
   "cell_type": "code",
   "execution_count": 235,
   "id": "a14cfe03-2fe1-4b5d-8b13-cb2f270d9fbc",
   "metadata": {},
   "outputs": [
    {
     "data": {
      "text/plain": [
       "30"
      ]
     },
     "execution_count": 235,
     "metadata": {},
     "output_type": "execute_result"
    }
   ],
   "source": [
    "p.age"
   ]
  },
  {
   "cell_type": "code",
   "execution_count": 237,
   "id": "d76b0180-7c40-4dd7-a94e-0743ab9aecc6",
   "metadata": {},
   "outputs": [],
   "source": [
    "p.x = 10"
   ]
  },
  {
   "cell_type": "code",
   "execution_count": 239,
   "id": "a2484433-f756-4479-9b6a-2f9374c5ccc5",
   "metadata": {},
   "outputs": [
    {
     "data": {
      "text/plain": [
       "{'name': 'Rafał', 'age': 30, 'x': 10}"
      ]
     },
     "execution_count": 239,
     "metadata": {},
     "output_type": "execute_result"
    }
   ],
   "source": [
    "vars(p)"
   ]
  },
  {
   "cell_type": "code",
   "execution_count": 245,
   "id": "57c2a08a-995c-423f-84fc-8d1f822576cf",
   "metadata": {},
   "outputs": [
    {
     "data": {
      "text/plain": [
       "1994"
      ]
     },
     "execution_count": 245,
     "metadata": {},
     "output_type": "execute_result"
    }
   ],
   "source": [
    "@dataclass(slots=True)\n",
    "class Person:\n",
    "    name: str\n",
    "    age: int\n",
    "\n",
    "    def b_year(self):\n",
    "        return 2024-self.age\n",
    "\n",
    "    def __post_init__(self):\n",
    "        self.name = self.name.upper()\n",
    "\n",
    "p = Person(\"Rafał\", 30)\n",
    "p.b_year()"
   ]
  },
  {
   "cell_type": "code",
   "execution_count": 246,
   "id": "79e4cfd2-0f3e-4932-b4f2-3edef8d72cc6",
   "metadata": {},
   "outputs": [
    {
     "data": {
      "text/plain": [
       "Person(name='RAFAŁ', age=30)"
      ]
     },
     "execution_count": 246,
     "metadata": {},
     "output_type": "execute_result"
    }
   ],
   "source": [
    "p"
   ]
  },
  {
   "cell_type": "code",
   "execution_count": 247,
   "id": "2c93a920-4937-4b5e-bea3-595c8592e10f",
   "metadata": {},
   "outputs": [
    {
     "name": "stdout",
     "output_type": "stream",
     "text": [
      "Requirement already satisfied: requests in ./.venv/lib/python3.13/site-packages (2.32.3)\n",
      "Requirement already satisfied: charset-normalizer<4,>=2 in ./.venv/lib/python3.13/site-packages (from requests) (3.4.0)\n",
      "Requirement already satisfied: idna<4,>=2.5 in ./.venv/lib/python3.13/site-packages (from requests) (3.10)\n",
      "Requirement already satisfied: urllib3<3,>=1.21.1 in ./.venv/lib/python3.13/site-packages (from requests) (2.2.3)\n",
      "Requirement already satisfied: certifi>=2017.4.17 in ./.venv/lib/python3.13/site-packages (from requests) (2024.8.30)\n",
      "\n",
      "\u001b[1m[\u001b[0m\u001b[34;49mnotice\u001b[0m\u001b[1;39;49m]\u001b[0m\u001b[39;49m A new release of pip is available: \u001b[0m\u001b[31;49m24.2\u001b[0m\u001b[39;49m -> \u001b[0m\u001b[32;49m24.3.1\u001b[0m\n",
      "\u001b[1m[\u001b[0m\u001b[34;49mnotice\u001b[0m\u001b[1;39;49m]\u001b[0m\u001b[39;49m To update, run: \u001b[0m\u001b[32;49mpip install --upgrade pip\u001b[0m\n"
     ]
    }
   ],
   "source": [
    "!pip install requests"
   ]
  },
  {
   "cell_type": "code",
   "execution_count": 248,
   "id": "d802266e-94cd-4b30-8c37-d317c1b01be6",
   "metadata": {},
   "outputs": [],
   "source": [
    "import requests"
   ]
  },
  {
   "cell_type": "code",
   "execution_count": 249,
   "id": "39ca8238-f34a-4bb9-b073-60f5ce5f7145",
   "metadata": {},
   "outputs": [],
   "source": [
    "resp = requests.get(\"https://api.nbp.pl/api/exchangerates/tables/A?format=json\")\n"
   ]
  },
  {
   "cell_type": "code",
   "execution_count": 252,
   "id": "46cfd151-66fe-4aec-97d5-9a0f52a4fbd5",
   "metadata": {},
   "outputs": [
    {
     "data": {
      "text/plain": [
       "[{'table': 'A',\n",
       "  'no': '235/A/NBP/2024',\n",
       "  'effectiveDate': '2024-12-04',\n",
       "  'rates': [{'currency': 'bat (Tajlandia)', 'code': 'THB', 'mid': 0.1189},\n",
       "   {'currency': 'dolar amerykański', 'code': 'USD', 'mid': 4.0845},\n",
       "   {'currency': 'dolar australijski', 'code': 'AUD', 'mid': 2.6218},\n",
       "   {'currency': 'dolar Hongkongu', 'code': 'HKD', 'mid': 0.5248},\n",
       "   {'currency': 'dolar kanadyjski', 'code': 'CAD', 'mid': 2.9033},\n",
       "   {'currency': 'dolar nowozelandzki', 'code': 'NZD', 'mid': 2.3864},\n",
       "   {'currency': 'dolar singapurski', 'code': 'SGD', 'mid': 3.0339},\n",
       "   {'currency': 'euro', 'code': 'EUR', 'mid': 4.2899},\n",
       "   {'currency': 'forint (Węgry)', 'code': 'HUF', 'mid': 0.010362},\n",
       "   {'currency': 'frank szwajcarski', 'code': 'CHF', 'mid': 4.6041},\n",
       "   {'currency': 'funt szterling', 'code': 'GBP', 'mid': 5.1776},\n",
       "   {'currency': 'hrywna (Ukraina)', 'code': 'UAH', 'mid': 0.098},\n",
       "   {'currency': 'jen (Japonia)', 'code': 'JPY', 'mid': 0.027116},\n",
       "   {'currency': 'korona czeska', 'code': 'CZK', 'mid': 0.1707},\n",
       "   {'currency': 'korona duńska', 'code': 'DKK', 'mid': 0.5752},\n",
       "   {'currency': 'korona islandzka', 'code': 'ISK', 'mid': 0.029443},\n",
       "   {'currency': 'korona norweska', 'code': 'NOK', 'mid': 0.3694},\n",
       "   {'currency': 'korona szwedzka', 'code': 'SEK', 'mid': 0.3708},\n",
       "   {'currency': 'lej rumuński', 'code': 'RON', 'mid': 0.8618},\n",
       "   {'currency': 'lew (Bułgaria)', 'code': 'BGN', 'mid': 2.1934},\n",
       "   {'currency': 'lira turecka', 'code': 'TRY', 'mid': 0.1174},\n",
       "   {'currency': 'nowy izraelski szekel', 'code': 'ILS', 'mid': 1.1301},\n",
       "   {'currency': 'peso chilijskie', 'code': 'CLP', 'mid': 0.004198},\n",
       "   {'currency': 'peso filipińskie', 'code': 'PHP', 'mid': 0.07},\n",
       "   {'currency': 'peso meksykańskie', 'code': 'MXN', 'mid': 0.2007},\n",
       "   {'currency': 'rand (Republika Południowej Afryki)',\n",
       "    'code': 'ZAR',\n",
       "    'mid': 0.2251},\n",
       "   {'currency': 'real (Brazylia)', 'code': 'BRL', 'mid': 0.6761},\n",
       "   {'currency': 'ringgit (Malezja)', 'code': 'MYR', 'mid': 0.9173},\n",
       "   {'currency': 'rupia indonezyjska', 'code': 'IDR', 'mid': 0.0002564},\n",
       "   {'currency': 'rupia indyjska', 'code': 'INR', 'mid': 0.048214},\n",
       "   {'currency': 'won południowokoreański', 'code': 'KRW', 'mid': 0.002888},\n",
       "   {'currency': 'yuan renminbi (Chiny)', 'code': 'CNY', 'mid': 0.5616},\n",
       "   {'currency': 'SDR (MFW)', 'code': 'XDR', 'mid': 5.3641}]}]"
      ]
     },
     "execution_count": 252,
     "metadata": {},
     "output_type": "execute_result"
    }
   ],
   "source": [
    "resp.json()"
   ]
  },
  {
   "cell_type": "code",
   "execution_count": null,
   "id": "8f34f3d4-5770-4d35-978d-b0eb3e4ef1e9",
   "metadata": {},
   "outputs": [],
   "source": []
  }
 ],
 "metadata": {
  "kernelspec": {
   "display_name": "Python 3 (ipykernel)",
   "language": "python",
   "name": "python3"
  },
  "language_info": {
   "codemirror_mode": {
    "name": "ipython",
    "version": 3
   },
   "file_extension": ".py",
   "mimetype": "text/x-python",
   "name": "python",
   "nbconvert_exporter": "python",
   "pygments_lexer": "ipython3",
   "version": "3.13.0"
  }
 },
 "nbformat": 4,
 "nbformat_minor": 5
}
