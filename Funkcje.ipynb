{
 "cells": [
  {
   "cell_type": "code",
   "execution_count": null,
   "id": "d123cb5c",
   "metadata": {},
   "outputs": [],
   "source": []
  },
  {
   "cell_type": "markdown",
   "id": "02a26d55",
   "metadata": {},
   "source": [
    "# funkcje w Pythonie\n",
    "\n",
    "## Funkcje wbudowane\n",
    "\n",
    "Znajduja sie one w `__builtin__`"
   ]
  },
  {
   "cell_type": "code",
   "execution_count": null,
   "id": "796757db",
   "metadata": {},
   "outputs": [],
   "source": [
    "dir()"
   ]
  },
  {
   "cell_type": "code",
   "execution_count": null,
   "id": "f8c364eb",
   "metadata": {},
   "outputs": [],
   "source": [
    "dir?"
   ]
  },
  {
   "cell_type": "code",
   "execution_count": null,
   "id": "b13b1319",
   "metadata": {},
   "outputs": [],
   "source": [
    "%%writefile zawartosc_lokalnej_przestrzeni.py\n",
    "\n",
    "print(dir())"
   ]
  },
  {
   "cell_type": "code",
   "execution_count": null,
   "id": "1e1da6e3",
   "metadata": {},
   "outputs": [],
   "source": [
    "!python zawartosc_lokalnej_przestrzeni.py"
   ]
  },
  {
   "cell_type": "code",
   "execution_count": null,
   "id": "d8ea6b60",
   "metadata": {},
   "outputs": [],
   "source": [
    "dir(__builtin__)"
   ]
  },
  {
   "cell_type": "code",
   "execution_count": null,
   "id": "3209e11c",
   "metadata": {},
   "outputs": [],
   "source": [
    "# operacje na typach danych\n",
    "\n",
    "int()"
   ]
  },
  {
   "cell_type": "code",
   "execution_count": null,
   "id": "5b114f1c",
   "metadata": {},
   "outputs": [],
   "source": [
    "int(\"c0ffee\", 16)"
   ]
  },
  {
   "cell_type": "code",
   "execution_count": null,
   "id": "ae4cf699",
   "metadata": {},
   "outputs": [],
   "source": [
    "# help(int)"
   ]
  },
  {
   "cell_type": "code",
   "execution_count": null,
   "id": "d4a28b6a",
   "metadata": {},
   "outputs": [],
   "source": [
    "float, str, bool, complex, list, tuple, set, dict, frozenset, bytes, bytearray\n",
    "\n"
   ]
  },
  {
   "cell_type": "code",
   "execution_count": null,
   "id": "d14a8a50",
   "metadata": {},
   "outputs": [],
   "source": [
    "bin(123), oct(123), hex(123)"
   ]
  },
  {
   "cell_type": "code",
   "execution_count": null,
   "id": "e3fd69b9",
   "metadata": {},
   "outputs": [],
   "source": [
    "123, 0b1111011, 0o173, 0x7b"
   ]
  },
  {
   "cell_type": "code",
   "execution_count": null,
   "id": "d70cb862",
   "metadata": {},
   "outputs": [],
   "source": [
    "\"a\"\n",
    "\n",
    "ord(\"a\")"
   ]
  },
  {
   "cell_type": "code",
   "execution_count": null,
   "id": "ebc91b70",
   "metadata": {},
   "outputs": [],
   "source": [
    "ord(\"A\")"
   ]
  },
  {
   "cell_type": "code",
   "execution_count": null,
   "id": "6cbaef53",
   "metadata": {},
   "outputs": [],
   "source": [
    "chr(65)"
   ]
  },
  {
   "cell_type": "code",
   "execution_count": null,
   "id": "f2aefe8c",
   "metadata": {},
   "outputs": [],
   "source": [
    "# typowanie, tworzenie, sprawdzanie\n",
    "\n",
    "type, isinstance\n",
    "\n",
    "type(1)"
   ]
  },
  {
   "cell_type": "code",
   "execution_count": null,
   "id": "d0c65767",
   "metadata": {},
   "outputs": [],
   "source": [
    "isinstance(1, bool)"
   ]
  },
  {
   "cell_type": "code",
   "execution_count": null,
   "id": "1351ee4f",
   "metadata": {},
   "outputs": [],
   "source": [
    "isinstance(False, int)"
   ]
  },
  {
   "cell_type": "code",
   "execution_count": null,
   "id": "4e5adcdc",
   "metadata": {},
   "outputs": [],
   "source": [
    "1 + True"
   ]
  },
  {
   "cell_type": "code",
   "execution_count": null,
   "id": "537b13d8",
   "metadata": {},
   "outputs": [],
   "source": [
    "if type(1) is int:\n",
    "    print(\"to jest liczba\")\n",
    "    "
   ]
  },
  {
   "cell_type": "code",
   "execution_count": null,
   "id": "bc410480",
   "metadata": {},
   "outputs": [],
   "source": [
    "class Movie:\n",
    "    ...\n",
    "    \n",
    "    \n",
    "class Series(Movie):\n",
    "    ...\n",
    "    \n",
    "\n",
    "s = Series()\n",
    "m = Movie()\n",
    "type(s)\n",
    "    "
   ]
  },
  {
   "cell_type": "code",
   "execution_count": null,
   "id": "8a083db8",
   "metadata": {},
   "outputs": [],
   "source": [
    "isinstance(s, Series)"
   ]
  },
  {
   "cell_type": "code",
   "execution_count": null,
   "id": "76ccad2a",
   "metadata": {},
   "outputs": [],
   "source": [
    "isinstance(s, Movie)"
   ]
  },
  {
   "cell_type": "code",
   "execution_count": null,
   "id": "cfe8f82f",
   "metadata": {},
   "outputs": [],
   "source": [
    "library = [m, s]"
   ]
  },
  {
   "cell_type": "code",
   "execution_count": null,
   "id": "1e884705",
   "metadata": {},
   "outputs": [],
   "source": [
    "def get_movies(library):\n",
    "    output = []\n",
    "    \n",
    "    for el in library:\n",
    "        if type(el) is Movie:\n",
    "            output.append(el)\n",
    "        \n",
    "    return output\n",
    "\n",
    "\n",
    "get_movies(library)"
   ]
  },
  {
   "cell_type": "code",
   "execution_count": null,
   "id": "07062648",
   "metadata": {},
   "outputs": [],
   "source": [
    "Point = type(\"Point\", (), {\"x\": 0, \"y\": 0})\n",
    "\n",
    "p = Point()\n",
    "p.x"
   ]
  },
  {
   "cell_type": "code",
   "execution_count": null,
   "id": "f34ec9ed",
   "metadata": {},
   "outputs": [],
   "source": [
    "# funkcje matematyczne, numeryczne\n",
    "\n",
    "abs(-10), pow(10, 10), round(1/3, 2), divmod(5, 2)"
   ]
  },
  {
   "cell_type": "code",
   "execution_count": null,
   "id": "2f81032f",
   "metadata": {},
   "outputs": [],
   "source": [
    "sum([1, 2, 3]), min([1, 2, 3]), max([1, 2, 3])"
   ]
  },
  {
   "cell_type": "code",
   "execution_count": null,
   "id": "395dfb9d",
   "metadata": {},
   "outputs": [],
   "source": [
    "min([\"a\", \"c\"])"
   ]
  },
  {
   "cell_type": "code",
   "execution_count": null,
   "id": "b7203b55",
   "metadata": {},
   "outputs": [],
   "source": [
    "# funkcje iteracyjne, funkconalne\n",
    "\n",
    "len([1, 2, 3])"
   ]
  },
  {
   "cell_type": "code",
   "execution_count": null,
   "id": "69a09b9b",
   "metadata": {},
   "outputs": [],
   "source": [
    "list(enumerate(\"ala ma kota\", 10))"
   ]
  },
  {
   "cell_type": "code",
   "execution_count": null,
   "id": "207f02a6",
   "metadata": {},
   "outputs": [],
   "source": [
    "zip(\"123\", \"abc\")"
   ]
  },
  {
   "cell_type": "code",
   "execution_count": null,
   "id": "aca90206",
   "metadata": {},
   "outputs": [],
   "source": [
    "list(zip(\"123\", \"abc\", \"kl\"))"
   ]
  },
  {
   "cell_type": "code",
   "execution_count": null,
   "id": "54b010a5",
   "metadata": {},
   "outputs": [],
   "source": [
    "a, *b, c = 1, 2, 3, 4, 5\n",
    "print(b)\n",
    "print(*b) # print(2, 3, 4)"
   ]
  },
  {
   "cell_type": "code",
   "execution_count": null,
   "id": "40a656aa",
   "metadata": {},
   "outputs": [],
   "source": [
    "list(reversed([1,2 , 3]))"
   ]
  },
  {
   "cell_type": "code",
   "execution_count": null,
   "id": "6ea43bc3",
   "metadata": {},
   "outputs": [],
   "source": [
    "list(reversed(\"kot ma ale\"))"
   ]
  },
  {
   "cell_type": "code",
   "execution_count": null,
   "id": "24cc3074",
   "metadata": {},
   "outputs": [],
   "source": [
    "x = [1, 2, 3]\n"
   ]
  },
  {
   "cell_type": "code",
   "execution_count": null,
   "id": "ba5dfbcd",
   "metadata": {},
   "outputs": [],
   "source": [
    "x.reverse()\n",
    "x"
   ]
  },
  {
   "cell_type": "code",
   "execution_count": null,
   "id": "213f1b71",
   "metadata": {},
   "outputs": [],
   "source": [
    "sorted({\"a\": 1, \"b\": 0}.items(), reverse=True, key=lambda x: x[1])"
   ]
  },
  {
   "cell_type": "code",
   "execution_count": null,
   "id": "17598ce7",
   "metadata": {},
   "outputs": [],
   "source": [
    "liczby = [1, 2, 3]\n",
    "\n",
    "\"-\".join(liczby)"
   ]
  },
  {
   "cell_type": "code",
   "execution_count": null,
   "id": "8a8c4a3f",
   "metadata": {},
   "outputs": [],
   "source": [
    "\"-\".join(map(str, liczby))"
   ]
  },
  {
   "cell_type": "code",
   "execution_count": null,
   "id": "2872af3d",
   "metadata": {},
   "outputs": [],
   "source": [
    "list(map(lambda x: x**3, liczby))"
   ]
  },
  {
   "cell_type": "code",
   "execution_count": null,
   "id": "55b26497",
   "metadata": {},
   "outputs": [],
   "source": [
    "[x**3 for x in liczby]"
   ]
  },
  {
   "cell_type": "code",
   "execution_count": null,
   "id": "75c96ea4",
   "metadata": {},
   "outputs": [],
   "source": [
    "list(filter(lambda x: x>=2, liczby))"
   ]
  },
  {
   "cell_type": "code",
   "execution_count": null,
   "id": "af28bd61",
   "metadata": {},
   "outputs": [],
   "source": [
    "from functools import reduce"
   ]
  },
  {
   "cell_type": "code",
   "execution_count": null,
   "id": "f4c5992f",
   "metadata": {},
   "outputs": [],
   "source": [
    "print(reduce(lambda x, y: x + y, liczby))"
   ]
  },
  {
   "cell_type": "code",
   "execution_count": null,
   "id": "10c93249",
   "metadata": {},
   "outputs": [],
   "source": [
    "# funkcje logiczne, porownawcze\n",
    "\n",
    "all([1, 2, 0])  # 1 and 2 and 0"
   ]
  },
  {
   "cell_type": "code",
   "execution_count": null,
   "id": "c46a79fe",
   "metadata": {},
   "outputs": [],
   "source": [
    "any([False, 0, 1]) # Fals"
   ]
  },
  {
   "cell_type": "code",
   "execution_count": null,
   "id": "78e7c5a7",
   "metadata": {},
   "outputs": [],
   "source": [
    "id()"
   ]
  },
  {
   "cell_type": "code",
   "execution_count": null,
   "id": "28d9db1c",
   "metadata": {},
   "outputs": [],
   "source": [
    "x = 1"
   ]
  },
  {
   "cell_type": "code",
   "execution_count": null,
   "id": "8202ab1a",
   "metadata": {},
   "outputs": [],
   "source": [
    "if x == 1 or x == 1/0 or x == 2:\n",
    "    print(\"x\")"
   ]
  },
  {
   "cell_type": "code",
   "execution_count": null,
   "id": "b8742b58",
   "metadata": {},
   "outputs": [],
   "source": [
    "len(liczby)"
   ]
  },
  {
   "cell_type": "code",
   "execution_count": null,
   "id": "55557775",
   "metadata": {},
   "outputs": [],
   "source": [
    "liczby"
   ]
  },
  {
   "cell_type": "code",
   "execution_count": null,
   "id": "8a5a96a1",
   "metadata": {},
   "outputs": [],
   "source": [
    "liczby.remove(2)"
   ]
  },
  {
   "cell_type": "code",
   "execution_count": null,
   "id": "7279f1c2",
   "metadata": {},
   "outputs": [],
   "source": [
    "liczby"
   ]
  },
  {
   "cell_type": "code",
   "execution_count": null,
   "id": "f0cfffd6",
   "metadata": {},
   "outputs": [],
   "source": [
    "# operacje we/wy"
   ]
  },
  {
   "cell_type": "code",
   "execution_count": null,
   "id": "50e9150b",
   "metadata": {},
   "outputs": [],
   "source": [
    "print, input, open"
   ]
  },
  {
   "cell_type": "code",
   "execution_count": null,
   "id": "962c4a1e",
   "metadata": {},
   "outputs": [],
   "source": [
    "# funkcje pomocnicze\n",
    "\n",
    "help, dir, locals, globals, vars, callable, "
   ]
  },
  {
   "cell_type": "code",
   "execution_count": null,
   "id": "46c67f89",
   "metadata": {},
   "outputs": [],
   "source": [
    "class Foo:\n",
    "    def __init__(self):\n",
    "        self.x = 1\n",
    "        self.y = 2\n",
    "    \n",
    "f = Foo()\n",
    "vars(f)"
   ]
  },
  {
   "cell_type": "code",
   "execution_count": null,
   "id": "8aaf3844",
   "metadata": {},
   "outputs": [],
   "source": [
    "callable([1, 2])\n"
   ]
  },
  {
   "cell_type": "code",
   "execution_count": null,
   "id": "b6eaa744",
   "metadata": {},
   "outputs": [],
   "source": [
    "exec, eval"
   ]
  },
  {
   "cell_type": "code",
   "execution_count": null,
   "id": "2b69a0a1",
   "metadata": {},
   "outputs": [],
   "source": [
    "exec(\"x=1;print(x)\")"
   ]
  },
  {
   "cell_type": "code",
   "execution_count": null,
   "id": "6facd1f2",
   "metadata": {},
   "outputs": [],
   "source": [
    "x=1;print(x)"
   ]
  },
  {
   "cell_type": "code",
   "execution_count": null,
   "id": "36d25246",
   "metadata": {},
   "outputs": [],
   "source": [
    "eval(\"1+2\")\n",
    "\n"
   ]
  },
  {
   "cell_type": "code",
   "execution_count": null,
   "id": "837ccdb3",
   "metadata": {},
   "outputs": [],
   "source": [
    "# first-class citizens\n",
    "\n",
    "x = print\n",
    "\n",
    "x(\"ala ma kota\")"
   ]
  },
  {
   "cell_type": "code",
   "execution_count": null,
   "id": "4d164458",
   "metadata": {},
   "outputs": [],
   "source": [
    "print = 1\n",
    "\n"
   ]
  },
  {
   "cell_type": "code",
   "execution_count": null,
   "id": "bb58de71",
   "metadata": {},
   "outputs": [],
   "source": [
    "print = x"
   ]
  },
  {
   "cell_type": "code",
   "execution_count": null,
   "id": "7ed5fa37",
   "metadata": {},
   "outputs": [],
   "source": [
    "# funkcja jako argument innej funkcji\n",
    "\n",
    "def caller(func):\n",
    "    print(f\"Wywołuję funkcję {func.__name__}\")\n",
    "    func()\n",
    "    \n",
    "\n",
    "def foo():\n",
    "    print(\"xxx\")\n",
    "    \n",
    "caller(foo)"
   ]
  },
  {
   "cell_type": "code",
   "execution_count": null,
   "id": "4d2b77a7",
   "metadata": {},
   "outputs": [],
   "source": [
    "apply_function_twice(square, 5) == (5 ** 2) ** 2"
   ]
  },
  {
   "cell_type": "code",
   "execution_count": 7,
   "id": "a67e0dfa",
   "metadata": {},
   "outputs": [
    {
     "data": {
      "text/plain": [
       "[6]"
      ]
     },
     "execution_count": 7,
     "metadata": {},
     "output_type": "execute_result"
    }
   ],
   "source": [
    "lista = [1, 2, 3, 4, 5, 6, 7, 8]\n",
    "\n",
    "\n",
    "def parzyste(el): return el % 2 == 0\n",
    "\n",
    "def apply_filter(collection, filter_function):\n",
    "    return [el for el in collection if filter_function(el)]\n",
    "\n",
    "\n",
    "assert apply_filter(lista, parzyste) == [2, 4, 6, 8]\n",
    "\n",
    "assert apply_filter(lista, lambda x: x > 5) == [6, 7, 8]\n",
    "\n",
    "assert apply_filter(lista, lambda x: x % 3 == 0) == [3, 6]\n",
    "\n",
    "\n",
    "\n",
    "def apply_filters(collection, filter_functions):\n",
    "    \n",
    "    result = []\n",
    "    \n",
    "    for el in collection:\n",
    "        if all([filter_func(el) for filter_func in filter_functions]):\n",
    "            result.append(el)\n",
    "    return result\n",
    "\n",
    "\n",
    "apply_filters(lista, [lambda x: x % 2 == 0, lambda x: x % 3 == 0])"
   ]
  },
  {
   "cell_type": "code",
   "execution_count": 3,
   "id": "e75891d9",
   "metadata": {},
   "outputs": [
    {
     "data": {
      "text/plain": [
       "(100, 27)"
      ]
     },
     "execution_count": 3,
     "metadata": {},
     "output_type": "execute_result"
    }
   ],
   "source": [
    "# funkcja może zwracac inna funkcję\n",
    "\n",
    "def power_factory(exponent):\n",
    "    \n",
    "    def power(base):\n",
    "        return base ** exponent\n",
    "    \n",
    "    return power\n",
    "\n",
    "\n",
    "square = power_factory(2)\n",
    "cube = power_factory(3)\n",
    "square(10), cube(3)\n",
    "        "
   ]
  },
  {
   "cell_type": "code",
   "execution_count": 11,
   "id": "68e2d171",
   "metadata": {},
   "outputs": [
    {
     "name": "stdout",
     "output_type": "stream",
     "text": [
      "a przed foo 1\n",
      "2\n",
      "a po foo 2\n"
     ]
    }
   ],
   "source": [
    "a = 1\n",
    "\n",
    "def foo():\n",
    "    global a\n",
    "    a = 2\n",
    "    print(a)\n",
    "\n",
    "print(\"a przed foo\", a)\n",
    "foo()\n",
    "print(\"a po foo\", a)"
   ]
  },
  {
   "cell_type": "code",
   "execution_count": 14,
   "id": "20a2df94",
   "metadata": {},
   "outputs": [
    {
     "data": {
      "text/plain": [
       "2"
      ]
     },
     "execution_count": 14,
     "metadata": {},
     "output_type": "execute_result"
    }
   ],
   "source": [
    "def bar():\n",
    "    global x\n",
    "    x = 2\n",
    "\n",
    "bar()\n",
    "x"
   ]
  },
  {
   "cell_type": "code",
   "execution_count": 19,
   "id": "c16bbe0a",
   "metadata": {},
   "outputs": [
    {
     "name": "stdout",
     "output_type": "stream",
     "text": [
      "w bar 6\n",
      "w baz 10\n",
      "global 10\n"
     ]
    }
   ],
   "source": [
    "x = 10\n",
    "def bar():\n",
    "    x = 6\n",
    "    def baz():\n",
    "        global x\n",
    "        print(\"w baz\", x)\n",
    "    print(\"w bar\", x)\n",
    "    baz()\n",
    "\n",
    "bar()\n",
    "print(\"global\", x)"
   ]
  },
  {
   "cell_type": "code",
   "execution_count": 24,
   "id": "07e8f769",
   "metadata": {},
   "outputs": [
    {
     "name": "stdout",
     "output_type": "stream",
     "text": [
      "w bar 6\n",
      "w baz 11 16\n",
      "global 11\n"
     ]
    }
   ],
   "source": [
    "x = 10\n",
    "def bar():\n",
    "    x = 6\n",
    "    y = 16\n",
    "    def baz():\n",
    "        global x\n",
    "        nonlocal y\n",
    "        x = 11\n",
    "        print(\"w baz\", x, y)\n",
    "        \n",
    "    print(\"w bar\", x)\n",
    "    baz()\n",
    "\n",
    "bar()\n",
    "print(\"global\", x)"
   ]
  },
  {
   "cell_type": "code",
   "execution_count": 30,
   "id": "4ca12eeb",
   "metadata": {},
   "outputs": [
    {
     "name": "stdout",
     "output_type": "stream",
     "text": [
      "[]\n",
      "[10, 12]\n",
      "[]\n"
     ]
    }
   ],
   "source": [
    "def funkcja_domykajaca():\n",
    "    dane = []\n",
    "    \n",
    "    def funkcja_domykana(x):\n",
    "        if x not in dane:\n",
    "            dane.append(x)\n",
    "            \n",
    "    def print_dane():\n",
    "        print(dane)\n",
    "        \n",
    "        \n",
    "    return funkcja_domykana, print_dane\n",
    "\n",
    "\n",
    "func, pfunc = funkcja_domykajaca()\n",
    "func1, pfunc1 = funkcja_domykajaca()\n",
    "\n",
    "pfunc()\n",
    "func(10)\n",
    "func(10)\n",
    "func(12)\n",
    "pfunc()\n",
    "\n",
    "pfunc1()"
   ]
  },
  {
   "cell_type": "markdown",
   "id": "7a1402f7",
   "metadata": {},
   "source": [
    "### Zadanie 01 -  **Dynamiczny System Przetwarzania Zamówień**\n",
    "\n",
    "Stwórz aplikację, która realizuje system przetwarzania zamówień. System wykorzystuje funkcje jako obywateli pierwszej kategorii, aby dynamicznie dobierać logikę przetwarzania dla różnych typów zamówień i produktów.\n",
    "\n",
    "#### **Opis problemu**\n",
    "\n",
    "Masz listę zamówień, gdzie każde zamówienie to słownik zawierający informacje o:\n",
    "- Produkcie (`product`),\n",
    "- Typie zamówienia (`type`),\n",
    "- Kwocie (`amount`).\n",
    "\n",
    "Chcesz napisać system, który:\n",
    "1. Dynamicznie wybiera odpowiednią logikę przetwarzania w zależności od **typu zamówienia** (np. `online`, `store`, `vip`).\n",
    "2. Dla każdego produktu, w zależności od **kategorii produktu** (np. `electronics`, `books`, `furniture`), stosuje odpowiednie reguły podatkowe.\n",
    "3. Zwraca podsumowanie przetworzonych zamówień, w tym:\n",
    "   - Całkowitą wartość zamówień (po podatkach),\n",
    "   - Liczbę zamówień przetworzonych dla każdego typu.\n",
    "\n",
    "\n",
    "#### **Przykład danych wejściowych**\n",
    "```python\n",
    "orders = [\n",
    "    {\"product\": \"Laptop\", \"type\": \"online\", \"category\": \"electronics\", \"amount\": 1200},\n",
    "    {\"product\": \"Chair\", \"type\": \"store\", \"category\": \"furniture\", \"amount\": 300},\n",
    "    {\"product\": \"Book\", \"type\": \"vip\", \"category\": \"books\", \"amount\": 50},\n",
    "    {\"product\": \"Phone\", \"type\": \"online\", \"category\": \"electronics\", \"amount\": 800},\n",
    "    {\"product\": \"Table\", \"type\": \"store\", \"category\": \"furniture\", \"amount\": 500},\n",
    "]\n",
    "```\n",
    "\n",
    "\n",
    "#### **Wymagania**\n",
    "\n",
    "1. **Funkcje jako obiekty**: \n",
    "   - Zaimplementuj funkcje przetwarzające zamówienia dla różnych typów (`online`, `store`, `vip`) i przechowuj je w słowniku.\n",
    "\n",
    "2. **Funkcje jako argumenty**: \n",
    "   - Stwórz funkcję `process_order`, która przyjmuje zamówienie i logikę przetwarzania jako argument.\n",
    "   - stwórz funkcję `process_orders`, która przyjmie listę zamówień i zwróci podsumowanie. \n",
    "     Wynik działania podsumowania powinien wyglądać następująco\n",
    "      ```shell\n",
    "      Podsumowanie zamówień:\n",
    "      {'total_value': 2880.0, 'total_tax': 384.0, 'order_count_by_type': {'online': 2, 'store': 2, 'vip': 1}}\n",
    "      ```   \n",
    "\n",
    "3. **Funkcje jako zwracane wartości**: \n",
    "   - Stwórz fabrykę funkcji podatkowych. Dla każdej kategorii produktów powinna być zwrócona funkcja obliczająca podatek (np. `electronics: 15%`, `books: 5%`, `furniture: 10%`).\n",
    "\n",
    "4. **Funkcje w strukturach danych**:\n",
    "   - Wykorzystaj słownik do przechowywania reguł podatkowych.\n",
    "\n",
    "\n",
    "5. **Wyświetl podsumowanie szczegółowe**: \n",
    "   - Wyświetl podsumowanie szczegółówe w formie tabeli.\n",
    "\n",
    "   **Przykładowy wynik**\n",
    "   ```\n",
    "   +-----------+--------+-------------+----------+--------------+----------------+\n",
    "   | Product   | Type   | Category    |   Amount |   Tax Amount |   Tax Rate (%) |\n",
    "   +===========+========+=============+==========+==============+================+\n",
    "   | Laptop    | online | electronics |     1210 |        181.5 |             15 |\n",
    "   +-----------+--------+-------------+----------+--------------+----------------+\n",
    "   | Chair     | store  | furniture   |      285 |         28.5 |             10 |\n",
    "   +-----------+--------+-------------+----------+--------------+----------------+\n",
    "   | Book      | vip    | books       |       50 |          2.5 |              5 |\n",
    "   +-----------+--------+-------------+----------+--------------+----------------+\n",
    "   | Phone     | online | electronics |      810 |        121.5 |             15 |\n",
    "   +-----------+--------+-------------+----------+--------------+----------------+\n",
    "   | Table     | store  | furniture   |      475 |         47.5 |             10 |\n",
    "   +-----------+--------+-------------+----------+--------------+----------------+\n",
    "   ```\n",
    "\n",
    "\n",
    "---"
   ]
  },
  {
   "cell_type": "code",
   "execution_count": null,
   "id": "2fa7fb11",
   "metadata": {},
   "outputs": [],
   "source": []
  }
 ],
 "metadata": {
  "kernelspec": {
   "display_name": "Python 3 (ipykernel)",
   "language": "python",
   "name": "python3"
  },
  "language_info": {
   "codemirror_mode": {
    "name": "ipython",
    "version": 3
   },
   "file_extension": ".py",
   "mimetype": "text/x-python",
   "name": "python",
   "nbconvert_exporter": "python",
   "pygments_lexer": "ipython3",
   "version": "3.10.7"
  },
  "toc": {
   "base_numbering": 1,
   "nav_menu": {},
   "number_sections": true,
   "sideBar": true,
   "skip_h1_title": false,
   "title_cell": "Table of Contents",
   "title_sidebar": "Contents",
   "toc_cell": false,
   "toc_position": {},
   "toc_section_display": true,
   "toc_window_display": false
  }
 },
 "nbformat": 4,
 "nbformat_minor": 5
}
