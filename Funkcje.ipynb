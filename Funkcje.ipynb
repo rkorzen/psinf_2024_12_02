{
 "cells": [
  {
   "cell_type": "code",
   "execution_count": null,
   "id": "80bb6eaf",
   "metadata": {},
   "outputs": [],
   "source": []
  },
  {
   "cell_type": "markdown",
   "id": "52c04a80",
   "metadata": {},
   "source": [
    "# funkcje w Pythonie\n",
    "\n",
    "## Funkcje wbudowane\n",
    "\n",
    "Znajduja sie one w `__builtin__`"
   ]
  },
  {
   "cell_type": "code",
   "execution_count": null,
   "id": "2d5d3785",
   "metadata": {},
   "outputs": [],
   "source": [
    "dir()"
   ]
  },
  {
   "cell_type": "code",
   "execution_count": null,
   "id": "4acdf8ff",
   "metadata": {},
   "outputs": [],
   "source": [
    "dir?"
   ]
  },
  {
   "cell_type": "code",
   "execution_count": null,
   "id": "7af5da8c",
   "metadata": {},
   "outputs": [],
   "source": [
    "%%writefile zawartosc_lokalnej_przestrzeni.py\n",
    "\n",
    "print(dir())"
   ]
  },
  {
   "cell_type": "code",
   "execution_count": null,
   "id": "a3c7497e",
   "metadata": {},
   "outputs": [],
   "source": [
    "!python zawartosc_lokalnej_przestrzeni.py"
   ]
  },
  {
   "cell_type": "code",
   "execution_count": null,
   "id": "e3a7ff49",
   "metadata": {},
   "outputs": [],
   "source": [
    "dir(__builtin__)"
   ]
  },
  {
   "cell_type": "code",
   "execution_count": null,
   "id": "ef5d4a24",
   "metadata": {},
   "outputs": [],
   "source": [
    "# operacje na typach danych\n",
    "\n",
    "int()"
   ]
  },
  {
   "cell_type": "code",
   "execution_count": null,
   "id": "81572349",
   "metadata": {},
   "outputs": [],
   "source": [
    "int(\"c0ffee\", 16)"
   ]
  },
  {
   "cell_type": "code",
   "execution_count": null,
   "id": "fa55df8a",
   "metadata": {},
   "outputs": [],
   "source": [
    "# help(int)"
   ]
  },
  {
   "cell_type": "code",
   "execution_count": null,
   "id": "ba5f1d6d",
   "metadata": {},
   "outputs": [],
   "source": [
    "float, str, bool, complex, list, tuple, set, dict, frozenset, bytes, bytearray\n",
    "\n"
   ]
  },
  {
   "cell_type": "code",
   "execution_count": null,
   "id": "3dd3b5ab",
   "metadata": {},
   "outputs": [],
   "source": [
    "bin(123), oct(123), hex(123)"
   ]
  },
  {
   "cell_type": "code",
   "execution_count": null,
   "id": "8ea709b0",
   "metadata": {},
   "outputs": [],
   "source": [
    "123, 0b1111011, 0o173, 0x7b"
   ]
  },
  {
   "cell_type": "code",
   "execution_count": null,
   "id": "efa73298",
   "metadata": {},
   "outputs": [],
   "source": [
    "\"a\"\n",
    "\n",
    "ord(\"a\")"
   ]
  },
  {
   "cell_type": "code",
   "execution_count": null,
   "id": "e72fe70c",
   "metadata": {},
   "outputs": [],
   "source": [
    "ord(\"A\")"
   ]
  },
  {
   "cell_type": "code",
   "execution_count": null,
   "id": "67406b5d",
   "metadata": {},
   "outputs": [],
   "source": [
    "chr(65)"
   ]
  },
  {
   "cell_type": "code",
   "execution_count": null,
   "id": "f8a7fac2",
   "metadata": {},
   "outputs": [],
   "source": [
    "# typowanie, tworzenie, sprawdzanie\n",
    "\n",
    "type, isinstance\n",
    "\n",
    "type(1)"
   ]
  },
  {
   "cell_type": "code",
   "execution_count": null,
   "id": "618da142",
   "metadata": {},
   "outputs": [],
   "source": [
    "isinstance(1, bool)"
   ]
  },
  {
   "cell_type": "code",
   "execution_count": null,
   "id": "c80f7ec9",
   "metadata": {},
   "outputs": [],
   "source": [
    "isinstance(False, int)"
   ]
  },
  {
   "cell_type": "code",
   "execution_count": null,
   "id": "36230d17",
   "metadata": {},
   "outputs": [],
   "source": [
    "1 + True"
   ]
  },
  {
   "cell_type": "code",
   "execution_count": null,
   "id": "a0fee0e7",
   "metadata": {},
   "outputs": [],
   "source": [
    "if type(1) is int:\n",
    "    print(\"to jest liczba\")\n",
    "    "
   ]
  },
  {
   "cell_type": "code",
   "execution_count": null,
   "id": "f704a60b",
   "metadata": {},
   "outputs": [],
   "source": [
    "class Movie:\n",
    "    ...\n",
    "    \n",
    "    \n",
    "class Series(Movie):\n",
    "    ...\n",
    "    \n",
    "\n",
    "s = Series()\n",
    "m = Movie()\n",
    "type(s)\n",
    "    "
   ]
  },
  {
   "cell_type": "code",
   "execution_count": null,
   "id": "ef081d08",
   "metadata": {},
   "outputs": [],
   "source": [
    "isinstance(s, Series)"
   ]
  },
  {
   "cell_type": "code",
   "execution_count": null,
   "id": "18915201",
   "metadata": {},
   "outputs": [],
   "source": [
    "isinstance(s, Movie)"
   ]
  },
  {
   "cell_type": "code",
   "execution_count": null,
   "id": "39c77dc4",
   "metadata": {},
   "outputs": [],
   "source": [
    "library = [m, s]"
   ]
  },
  {
   "cell_type": "code",
   "execution_count": null,
   "id": "5d8049c6",
   "metadata": {},
   "outputs": [],
   "source": [
    "def get_movies(library):\n",
    "    output = []\n",
    "    \n",
    "    for el in library:\n",
    "        if type(el) is Movie:\n",
    "            output.append(el)\n",
    "        \n",
    "    return output\n",
    "\n",
    "\n",
    "get_movies(library)"
   ]
  },
  {
   "cell_type": "code",
   "execution_count": null,
   "id": "925ad7a2",
   "metadata": {},
   "outputs": [],
   "source": [
    "Point = type(\"Point\", (), {\"x\": 0, \"y\": 0})\n",
    "\n",
    "p = Point()\n",
    "p.x"
   ]
  },
  {
   "cell_type": "code",
   "execution_count": null,
   "id": "08b5af51",
   "metadata": {},
   "outputs": [],
   "source": [
    "# funkcje matematyczne, numeryczne\n",
    "\n",
    "abs(-10), pow(10, 10), round(1/3, 2), divmod(5, 2)"
   ]
  },
  {
   "cell_type": "code",
   "execution_count": null,
   "id": "9e534005",
   "metadata": {},
   "outputs": [],
   "source": [
    "sum([1, 2, 3]), min([1, 2, 3]), max([1, 2, 3])"
   ]
  },
  {
   "cell_type": "code",
   "execution_count": null,
   "id": "fe95a957",
   "metadata": {},
   "outputs": [],
   "source": [
    "min([\"a\", \"c\"])"
   ]
  },
  {
   "cell_type": "code",
   "execution_count": null,
   "id": "c44ed350",
   "metadata": {},
   "outputs": [],
   "source": [
    "# funkcje iteracyjne, funkconalne\n",
    "\n",
    "len([1, 2, 3])"
   ]
  },
  {
   "cell_type": "code",
   "execution_count": null,
   "id": "81069d14",
   "metadata": {},
   "outputs": [],
   "source": [
    "list(enumerate(\"ala ma kota\", 10))"
   ]
  },
  {
   "cell_type": "code",
   "execution_count": null,
   "id": "a692fc9c",
   "metadata": {},
   "outputs": [],
   "source": [
    "zip(\"123\", \"abc\")"
   ]
  },
  {
   "cell_type": "code",
   "execution_count": null,
   "id": "e310a05a",
   "metadata": {},
   "outputs": [],
   "source": [
    "list(zip(\"123\", \"abc\", \"kl\"))"
   ]
  },
  {
   "cell_type": "code",
   "execution_count": null,
   "id": "b62710fb",
   "metadata": {},
   "outputs": [],
   "source": [
    "a, *b, c = 1, 2, 3, 4, 5\n",
    "print(b)\n",
    "print(*b) # print(2, 3, 4)"
   ]
  },
  {
   "cell_type": "code",
   "execution_count": null,
   "id": "de58788e",
   "metadata": {},
   "outputs": [],
   "source": [
    "list(reversed([1,2 , 3]))"
   ]
  },
  {
   "cell_type": "code",
   "execution_count": null,
   "id": "9f7d171b",
   "metadata": {},
   "outputs": [],
   "source": [
    "list(reversed(\"kot ma ale\"))"
   ]
  },
  {
   "cell_type": "code",
   "execution_count": null,
   "id": "d2f0f232",
   "metadata": {},
   "outputs": [],
   "source": [
    "x = [1, 2, 3]\n"
   ]
  },
  {
   "cell_type": "code",
   "execution_count": null,
   "id": "0ed2ae89",
   "metadata": {},
   "outputs": [],
   "source": [
    "x.reverse()\n",
    "x"
   ]
  },
  {
   "cell_type": "code",
   "execution_count": null,
   "id": "ef206e45",
   "metadata": {},
   "outputs": [],
   "source": [
    "sorted({\"a\": 1, \"b\": 0}.items(), reverse=True, key=lambda x: x[1])"
   ]
  },
  {
   "cell_type": "code",
   "execution_count": null,
   "id": "66fd6db1",
   "metadata": {},
   "outputs": [],
   "source": [
    "liczby = [1, 2, 3]\n",
    "\n",
    "\"-\".join(liczby)"
   ]
  },
  {
   "cell_type": "code",
   "execution_count": null,
   "id": "08965eb6",
   "metadata": {},
   "outputs": [],
   "source": [
    "\"-\".join(map(str, liczby))"
   ]
  },
  {
   "cell_type": "code",
   "execution_count": null,
   "id": "47155070",
   "metadata": {},
   "outputs": [],
   "source": [
    "list(map(lambda x: x**3, liczby))"
   ]
  },
  {
   "cell_type": "code",
   "execution_count": null,
   "id": "3e56d6cf",
   "metadata": {},
   "outputs": [],
   "source": [
    "[x**3 for x in liczby]"
   ]
  },
  {
   "cell_type": "code",
   "execution_count": null,
   "id": "fe8499ba",
   "metadata": {},
   "outputs": [],
   "source": [
    "list(filter(lambda x: x>=2, liczby))"
   ]
  },
  {
   "cell_type": "code",
   "execution_count": null,
   "id": "e7c08ad1",
   "metadata": {},
   "outputs": [],
   "source": [
    "from functools import reduce"
   ]
  },
  {
   "cell_type": "code",
   "execution_count": null,
   "id": "87abdbe6",
   "metadata": {},
   "outputs": [],
   "source": [
    "print(reduce(lambda x, y: x + y, liczby))"
   ]
  },
  {
   "cell_type": "code",
   "execution_count": null,
   "id": "ac093202",
   "metadata": {},
   "outputs": [],
   "source": [
    "# funkcje logiczne, porownawcze\n",
    "\n",
    "all([1, 2, 0])  # 1 and 2 and 0"
   ]
  },
  {
   "cell_type": "code",
   "execution_count": null,
   "id": "fb06c1a4",
   "metadata": {},
   "outputs": [],
   "source": [
    "any([False, 0, 1]) # Fals"
   ]
  },
  {
   "cell_type": "code",
   "execution_count": null,
   "id": "1e48d6e7",
   "metadata": {},
   "outputs": [],
   "source": [
    "id()"
   ]
  },
  {
   "cell_type": "code",
   "execution_count": null,
   "id": "2f07cf42",
   "metadata": {},
   "outputs": [],
   "source": [
    "x = 1"
   ]
  },
  {
   "cell_type": "code",
   "execution_count": null,
   "id": "7f2e0b67",
   "metadata": {},
   "outputs": [],
   "source": [
    "if x == 1 or x == 1/0 or x == 2:\n",
    "    print(\"x\")"
   ]
  },
  {
   "cell_type": "code",
   "execution_count": null,
   "id": "9e8b49e7",
   "metadata": {},
   "outputs": [],
   "source": [
    "len(liczby)"
   ]
  },
  {
   "cell_type": "code",
   "execution_count": null,
   "id": "d2cb21a0",
   "metadata": {},
   "outputs": [],
   "source": [
    "liczby"
   ]
  },
  {
   "cell_type": "code",
   "execution_count": null,
   "id": "757710c4",
   "metadata": {},
   "outputs": [],
   "source": [
    "liczby.remove(2)"
   ]
  },
  {
   "cell_type": "code",
   "execution_count": null,
   "id": "b1ff9d59",
   "metadata": {},
   "outputs": [],
   "source": [
    "liczby"
   ]
  },
  {
   "cell_type": "code",
   "execution_count": null,
   "id": "f39247d3",
   "metadata": {},
   "outputs": [],
   "source": [
    "# operacje we/wy"
   ]
  },
  {
   "cell_type": "code",
   "execution_count": null,
   "id": "810c5246",
   "metadata": {},
   "outputs": [],
   "source": [
    "print, input, open"
   ]
  },
  {
   "cell_type": "code",
   "execution_count": null,
   "id": "0c6cc297",
   "metadata": {},
   "outputs": [],
   "source": [
    "# funkcje pomocnicze\n",
    "\n",
    "help, dir, locals, globals, vars, callable, "
   ]
  },
  {
   "cell_type": "code",
   "execution_count": null,
   "id": "a1d6157d",
   "metadata": {},
   "outputs": [],
   "source": [
    "class Foo:\n",
    "    def __init__(self):\n",
    "        self.x = 1\n",
    "        self.y = 2\n",
    "    \n",
    "f = Foo()\n",
    "vars(f)"
   ]
  },
  {
   "cell_type": "code",
   "execution_count": null,
   "id": "72dcf73a",
   "metadata": {},
   "outputs": [],
   "source": [
    "callable([1, 2])\n"
   ]
  },
  {
   "cell_type": "code",
   "execution_count": null,
   "id": "afd913e7",
   "metadata": {},
   "outputs": [],
   "source": [
    "exec, eval"
   ]
  },
  {
   "cell_type": "code",
   "execution_count": null,
   "id": "8b804b09",
   "metadata": {},
   "outputs": [],
   "source": [
    "exec(\"x=1;print(x)\")"
   ]
  },
  {
   "cell_type": "code",
   "execution_count": null,
   "id": "caaeff22",
   "metadata": {},
   "outputs": [],
   "source": [
    "x=1;print(x)"
   ]
  },
  {
   "cell_type": "code",
   "execution_count": null,
   "id": "f21c15da",
   "metadata": {},
   "outputs": [],
   "source": [
    "eval(\"1+2\")\n",
    "\n"
   ]
  },
  {
   "cell_type": "code",
   "execution_count": null,
   "id": "4fd82ead",
   "metadata": {},
   "outputs": [],
   "source": [
    "# first-class citizens\n",
    "\n",
    "x = print\n",
    "\n",
    "x(\"ala ma kota\")"
   ]
  },
  {
   "cell_type": "code",
   "execution_count": null,
   "id": "f9d5d565",
   "metadata": {},
   "outputs": [],
   "source": [
    "print = 1\n",
    "\n"
   ]
  },
  {
   "cell_type": "code",
   "execution_count": null,
   "id": "4a01c30a",
   "metadata": {},
   "outputs": [],
   "source": [
    "print = x"
   ]
  },
  {
   "cell_type": "code",
   "execution_count": null,
   "id": "d5d5a98a",
   "metadata": {},
   "outputs": [],
   "source": [
    "# funkcja jako argument innej funkcji\n",
    "\n",
    "def caller(func):\n",
    "    print(f\"Wywołuję funkcję {func.__name__}\")\n",
    "    func()\n",
    "    \n",
    "\n",
    "def foo():\n",
    "    print(\"xxx\")\n",
    "    \n",
    "caller(foo)"
   ]
  },
  {
   "cell_type": "code",
   "execution_count": null,
   "id": "964dc215",
   "metadata": {},
   "outputs": [],
   "source": [
    "apply_function_twice(square, 5) == (5 ** 2) ** 2"
   ]
  },
  {
   "cell_type": "code",
   "execution_count": 7,
   "id": "d863f078",
   "metadata": {},
   "outputs": [
    {
     "data": {
      "text/plain": [
       "[6]"
      ]
     },
     "execution_count": 7,
     "metadata": {},
     "output_type": "execute_result"
    }
   ],
   "source": [
    "lista = [1, 2, 3, 4, 5, 6, 7, 8]\n",
    "\n",
    "\n",
    "def parzyste(el): return el % 2 == 0\n",
    "\n",
    "def apply_filter(collection, filter_function):\n",
    "    return [el for el in collection if filter_function(el)]\n",
    "\n",
    "\n",
    "assert apply_filter(lista, parzyste) == [2, 4, 6, 8]\n",
    "\n",
    "assert apply_filter(lista, lambda x: x > 5) == [6, 7, 8]\n",
    "\n",
    "assert apply_filter(lista, lambda x: x % 3 == 0) == [3, 6]\n",
    "\n",
    "\n",
    "\n",
    "def apply_filters(collection, filter_functions):\n",
    "    \n",
    "    result = []\n",
    "    \n",
    "    for el in collection:\n",
    "        if all([filter_func(el) for filter_func in filter_functions]):\n",
    "            result.append(el)\n",
    "    return result\n",
    "\n",
    "\n",
    "apply_filters(lista, [lambda x: x % 2 == 0, lambda x: x % 3 == 0])"
   ]
  },
  {
   "cell_type": "code",
   "execution_count": 3,
   "id": "74a6f81f",
   "metadata": {},
   "outputs": [
    {
     "data": {
      "text/plain": [
       "(100, 27)"
      ]
     },
     "execution_count": 3,
     "metadata": {},
     "output_type": "execute_result"
    }
   ],
   "source": [
    "# funkcja może zwracac inna funkcję\n",
    "\n",
    "def power_factory(exponent):\n",
    "    \n",
    "    def power(base):\n",
    "        return base ** exponent\n",
    "    \n",
    "    return power\n",
    "\n",
    "\n",
    "square = power_factory(2)\n",
    "cube = power_factory(3)\n",
    "square(10), cube(3)\n",
    "        "
   ]
  },
  {
   "cell_type": "code",
   "execution_count": 11,
   "id": "17396e68",
   "metadata": {},
   "outputs": [
    {
     "name": "stdout",
     "output_type": "stream",
     "text": [
      "a przed foo 1\n",
      "2\n",
      "a po foo 2\n"
     ]
    }
   ],
   "source": [
    "a = 1\n",
    "\n",
    "def foo():\n",
    "    global a\n",
    "    a = 2\n",
    "    print(a)\n",
    "\n",
    "print(\"a przed foo\", a)\n",
    "foo()\n",
    "print(\"a po foo\", a)"
   ]
  },
  {
   "cell_type": "code",
   "execution_count": 14,
   "id": "656414f8",
   "metadata": {},
   "outputs": [
    {
     "data": {
      "text/plain": [
       "2"
      ]
     },
     "execution_count": 14,
     "metadata": {},
     "output_type": "execute_result"
    }
   ],
   "source": [
    "def bar():\n",
    "    global x\n",
    "    x = 2\n",
    "\n",
    "bar()\n",
    "x"
   ]
  },
  {
   "cell_type": "code",
   "execution_count": 19,
   "id": "8e0b3f4f",
   "metadata": {},
   "outputs": [
    {
     "name": "stdout",
     "output_type": "stream",
     "text": [
      "w bar 6\n",
      "w baz 10\n",
      "global 10\n"
     ]
    }
   ],
   "source": [
    "x = 10\n",
    "def bar():\n",
    "    x = 6\n",
    "    def baz():\n",
    "        global x\n",
    "        print(\"w baz\", x)\n",
    "    print(\"w bar\", x)\n",
    "    baz()\n",
    "\n",
    "bar()\n",
    "print(\"global\", x)"
   ]
  },
  {
   "cell_type": "code",
   "execution_count": 24,
   "id": "8907e40a",
   "metadata": {},
   "outputs": [
    {
     "name": "stdout",
     "output_type": "stream",
     "text": [
      "w bar 6\n",
      "w baz 11 16\n",
      "global 11\n"
     ]
    }
   ],
   "source": [
    "x = 10\n",
    "def bar():\n",
    "    x = 6\n",
    "    y = 16\n",
    "    def baz():\n",
    "        global x\n",
    "        nonlocal y\n",
    "        x = 11\n",
    "        print(\"w baz\", x, y)\n",
    "        \n",
    "    print(\"w bar\", x)\n",
    "    baz()\n",
    "\n",
    "bar()\n",
    "print(\"global\", x)"
   ]
  },
  {
   "cell_type": "code",
   "execution_count": 30,
   "id": "0773f297",
   "metadata": {},
   "outputs": [
    {
     "name": "stdout",
     "output_type": "stream",
     "text": [
      "[]\n",
      "[10, 12]\n",
      "[]\n"
     ]
    }
   ],
   "source": [
    "def funkcja_domykajaca():\n",
    "    dane = []\n",
    "    \n",
    "    def funkcja_domykana(x):\n",
    "        if x not in dane:\n",
    "            dane.append(x)\n",
    "            \n",
    "    def print_dane():\n",
    "        print(dane)\n",
    "        \n",
    "        \n",
    "    return funkcja_domykana, print_dane\n",
    "\n",
    "\n",
    "func, pfunc = funkcja_domykajaca()\n",
    "func1, pfunc1 = funkcja_domykajaca()\n",
    "\n",
    "pfunc()\n",
    "func(10)\n",
    "func(10)\n",
    "func(12)\n",
    "pfunc()\n",
    "\n",
    "pfunc1()"
   ]
  },
  {
   "cell_type": "markdown",
   "id": "47759801",
   "metadata": {},
   "source": [
    "### Zadanie 01 -  **Dynamiczny System Przetwarzania Zamówień**\n",
    "\n",
    "Stwórz aplikację, która realizuje system przetwarzania zamówień. System wykorzystuje funkcje jako obywateli pierwszej kategorii, aby dynamicznie dobierać logikę przetwarzania dla różnych typów zamówień i produktów.\n",
    "\n",
    "#### **Opis problemu**\n",
    "\n",
    "Masz listę zamówień, gdzie każde zamówienie to słownik zawierający informacje o:\n",
    "- Produkcie (`product`),\n",
    "- Typie zamówienia (`type`),\n",
    "- Kwocie (`amount`).\n",
    "\n",
    "Chcesz napisać system, który:\n",
    "1. Dynamicznie wybiera odpowiednią logikę przetwarzania w zależności od **typu zamówienia** (np. `online`, `store`, `vip`). \n",
    "   Dla zamówienia typu `online` należy dodać opłatę za przesyłkę (10 PLN), dla `store` dodać 5% rabatu, a dla `vip` dodać 10% rabatu, ale o ile wartość zamówienia to 100 PLN lub więcej.\n",
    "\n",
    "2. Dla każdego produktu, w zależności od **kategorii produktu** (np. `electronics`, `books`, `furniture`), stosuje odpowiednie reguły podatkowe.\n",
    "3. Zwraca podsumowanie przetworzonych zamówień, w tym:\n",
    "   - Całkowitą wartość zamówień (po podatkach),\n",
    "   - Liczbę zamówień przetworzonych dla każdego typu.\n",
    "\n",
    "\n",
    "#### **Przykład danych wejściowych**\n",
    "```python\n",
    "orders = [\n",
    "    {\"product\": \"Laptop\", \"type\": \"online\", \"category\": \"electronics\", \"amount\": 1200},\n",
    "    {\"product\": \"Chair\", \"type\": \"store\", \"category\": \"furniture\", \"amount\": 300},\n",
    "    {\"product\": \"Book\", \"type\": \"vip\", \"category\": \"books\", \"amount\": 50},\n",
    "    {\"product\": \"Phone\", \"type\": \"online\", \"category\": \"electronics\", \"amount\": 800},\n",
    "    {\"product\": \"Table\", \"type\": \"store\", \"category\": \"furniture\", \"amount\": 500},\n",
    "]\n",
    "```\n",
    "\n",
    "\n",
    "#### **Wymagania**\n",
    "\n",
    "1. **Funkcje jako obiekty**: \n",
    "   - Zaimplementuj funkcje przetwarzające zamówienia dla różnych typów (`online`, `store`, `vip`) i przechowuj je w słowniku.\n",
    "\n",
    "2. **Funkcje jako argumenty**: \n",
    "   - Stwórz funkcję `process_order`, która przyjmuje zamówienie i logikę przetwarzania jako argument.\n",
    "   - stwórz funkcję `process_orders`, która przyjmie listę zamówień i zwróci podsumowanie. \n",
    "     Wynik działania podsumowania powinien wyglądać następująco\n",
    "      ```shell\n",
    "      Podsumowanie zamówień:\n",
    "      {'total_value': 2880.0, 'total_tax': 384.0, 'order_count_by_type': {'online': 2, 'store': 2, 'vip': 1}}\n",
    "      ```   \n",
    "\n",
    "3. **Funkcje jako zwracane wartości**: \n",
    "   - Stwórz fabrykę funkcji podatkowych. Dla każdej kategorii produktów powinna być zwrócona funkcja obliczająca podatek (np. `electronics: 15%`, `books: 5%`, `furniture: 10%`).\n",
    "\n",
    "4. **Funkcje w strukturach danych**:\n",
    "   - Wykorzystaj słownik do przechowywania reguł podatkowych.\n",
    "\n",
    "\n",
    "5. **Wyświetl podsumowanie szczegółowe**: \n",
    "   - Wyświetl podsumowanie szczegółówe w formie tabeli.\n",
    "\n",
    "   **Przykładowy wynik**\n",
    "   ```\n",
    "   +-----------+--------+-------------+----------+--------------+----------------+\n",
    "   | Product   | Type   | Category    |   Amount |   Tax Amount |   Tax Rate (%) |\n",
    "   +===========+========+=============+==========+==============+================+\n",
    "   | Laptop    | online | electronics |     1210 |        181.5 |             15 |\n",
    "   +-----------+--------+-------------+----------+--------------+----------------+\n",
    "   | Chair     | store  | furniture   |      285 |         28.5 |             10 |\n",
    "   +-----------+--------+-------------+----------+--------------+----------------+\n",
    "   | Book      | vip    | books       |       50 |          2.5 |              5 |\n",
    "   +-----------+--------+-------------+----------+--------------+----------------+\n",
    "   | Phone     | online | electronics |      810 |        121.5 |             15 |\n",
    "   +-----------+--------+-------------+----------+--------------+----------------+\n",
    "   | Table     | store  | furniture   |      475 |         47.5 |             10 |\n",
    "   +-----------+--------+-------------+----------+--------------+----------------+\n",
    "   ```\n",
    "\n",
    "\n",
    "---"
   ]
  },
  {
   "cell_type": "code",
   "execution_count": null,
   "id": "a4a53862",
   "metadata": {},
   "outputs": [],
   "source": []
  }
 ],
 "metadata": {
  "kernelspec": {
   "display_name": "Python 3 (ipykernel)",
   "language": "python",
   "name": "python3"
  },
  "language_info": {
   "codemirror_mode": {
    "name": "ipython",
    "version": 3
   },
   "file_extension": ".py",
   "mimetype": "text/x-python",
   "name": "python",
   "nbconvert_exporter": "python",
   "pygments_lexer": "ipython3",
   "version": "3.10.7"
  },
  "toc": {
   "base_numbering": 1,
   "nav_menu": {},
   "number_sections": true,
   "sideBar": true,
   "skip_h1_title": false,
   "title_cell": "Table of Contents",
   "title_sidebar": "Contents",
   "toc_cell": false,
   "toc_position": {},
   "toc_section_display": true,
   "toc_window_display": false
  }
 },
 "nbformat": 4,
 "nbformat_minor": 5
}
