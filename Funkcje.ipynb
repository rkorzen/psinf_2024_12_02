{
 "cells": [
  {
   "cell_type": "code",
   "execution_count": null,
   "id": "e15c5b17",
   "metadata": {},
   "outputs": [],
   "source": []
  },
  {
   "cell_type": "markdown",
   "id": "baf90d52",
   "metadata": {},
   "source": [
    "# funkcje w Pythonie\n",
    "\n",
    "## Funkcje wbudowane\n",
    "\n",
    "Znajduja sie one w `__builtin__`"
   ]
  },
  {
   "cell_type": "code",
   "execution_count": null,
   "id": "5cb22496",
   "metadata": {},
   "outputs": [],
   "source": [
    "dir()"
   ]
  },
  {
   "cell_type": "code",
   "execution_count": null,
   "id": "0b2d0a31",
   "metadata": {},
   "outputs": [],
   "source": [
    "dir?"
   ]
  },
  {
   "cell_type": "code",
   "execution_count": null,
   "id": "a5771f38",
   "metadata": {},
   "outputs": [],
   "source": [
    "%%writefile zawartosc_lokalnej_przestrzeni.py\n",
    "\n",
    "print(dir())"
   ]
  },
  {
   "cell_type": "code",
   "execution_count": null,
   "id": "eeb57eca",
   "metadata": {},
   "outputs": [],
   "source": [
    "!python zawartosc_lokalnej_przestrzeni.py"
   ]
  },
  {
   "cell_type": "code",
   "execution_count": null,
   "id": "53c7cf07",
   "metadata": {},
   "outputs": [],
   "source": [
    "dir(__builtin__)"
   ]
  },
  {
   "cell_type": "code",
   "execution_count": null,
   "id": "a3e5997d",
   "metadata": {},
   "outputs": [],
   "source": [
    "# operacje na typach danych\n",
    "\n",
    "int()"
   ]
  },
  {
   "cell_type": "code",
   "execution_count": null,
   "id": "5f7d6f76",
   "metadata": {},
   "outputs": [],
   "source": [
    "int(\"c0ffee\", 16)"
   ]
  },
  {
   "cell_type": "code",
   "execution_count": null,
   "id": "a9bd71b1",
   "metadata": {},
   "outputs": [],
   "source": [
    "# help(int)"
   ]
  },
  {
   "cell_type": "code",
   "execution_count": null,
   "id": "458c6ecc",
   "metadata": {},
   "outputs": [],
   "source": [
    "float, str, bool, complex, list, tuple, set, dict, frozenset, bytes, bytearray\n",
    "\n"
   ]
  },
  {
   "cell_type": "code",
   "execution_count": null,
   "id": "82736ac5",
   "metadata": {},
   "outputs": [],
   "source": [
    "bin(123), oct(123), hex(123)"
   ]
  },
  {
   "cell_type": "code",
   "execution_count": null,
   "id": "a1d421bc",
   "metadata": {},
   "outputs": [],
   "source": [
    "123, 0b1111011, 0o173, 0x7b"
   ]
  },
  {
   "cell_type": "code",
   "execution_count": null,
   "id": "f215d210",
   "metadata": {},
   "outputs": [],
   "source": [
    "\"a\"\n",
    "\n",
    "ord(\"a\")"
   ]
  },
  {
   "cell_type": "code",
   "execution_count": null,
   "id": "8864b6d4",
   "metadata": {},
   "outputs": [],
   "source": [
    "ord(\"A\")"
   ]
  },
  {
   "cell_type": "code",
   "execution_count": null,
   "id": "954b4236",
   "metadata": {},
   "outputs": [],
   "source": [
    "chr(65)"
   ]
  },
  {
   "cell_type": "code",
   "execution_count": null,
   "id": "e51f38e9",
   "metadata": {},
   "outputs": [],
   "source": [
    "# typowanie, tworzenie, sprawdzanie\n",
    "\n",
    "type, isinstance\n",
    "\n",
    "type(1)"
   ]
  },
  {
   "cell_type": "code",
   "execution_count": null,
   "id": "f5acfbe0",
   "metadata": {},
   "outputs": [],
   "source": [
    "isinstance(1, bool)"
   ]
  },
  {
   "cell_type": "code",
   "execution_count": null,
   "id": "82562cf1",
   "metadata": {},
   "outputs": [],
   "source": [
    "isinstance(False, int)"
   ]
  },
  {
   "cell_type": "code",
   "execution_count": null,
   "id": "34d806fc",
   "metadata": {},
   "outputs": [],
   "source": [
    "1 + True"
   ]
  },
  {
   "cell_type": "code",
   "execution_count": null,
   "id": "77e237bd",
   "metadata": {},
   "outputs": [],
   "source": [
    "if type(1) is int:\n",
    "    print(\"to jest liczba\")\n",
    "    "
   ]
  },
  {
   "cell_type": "code",
   "execution_count": null,
   "id": "6e1ecdc0",
   "metadata": {},
   "outputs": [],
   "source": [
    "class Movie:\n",
    "    ...\n",
    "    \n",
    "    \n",
    "class Series(Movie):\n",
    "    ...\n",
    "    \n",
    "\n",
    "s = Series()\n",
    "m = Movie()\n",
    "type(s)\n",
    "    "
   ]
  },
  {
   "cell_type": "code",
   "execution_count": null,
   "id": "3171021a",
   "metadata": {},
   "outputs": [],
   "source": [
    "isinstance(s, Series)"
   ]
  },
  {
   "cell_type": "code",
   "execution_count": null,
   "id": "f8b6a6fc",
   "metadata": {},
   "outputs": [],
   "source": [
    "isinstance(s, Movie)"
   ]
  },
  {
   "cell_type": "code",
   "execution_count": null,
   "id": "fc1a64a2",
   "metadata": {},
   "outputs": [],
   "source": [
    "library = [m, s]"
   ]
  },
  {
   "cell_type": "code",
   "execution_count": null,
   "id": "ab9ba6ef",
   "metadata": {},
   "outputs": [],
   "source": [
    "def get_movies(library):\n",
    "    output = []\n",
    "    \n",
    "    for el in library:\n",
    "        if type(el) is Movie:\n",
    "            output.append(el)\n",
    "        \n",
    "    return output\n",
    "\n",
    "\n",
    "get_movies(library)"
   ]
  },
  {
   "cell_type": "code",
   "execution_count": null,
   "id": "e20d7562",
   "metadata": {},
   "outputs": [],
   "source": [
    "Point = type(\"Point\", (), {\"x\": 0, \"y\": 0})\n",
    "\n",
    "p = Point()\n",
    "p.x"
   ]
  },
  {
   "cell_type": "code",
   "execution_count": null,
   "id": "96789e97",
   "metadata": {},
   "outputs": [],
   "source": [
    "# funkcje matematyczne, numeryczne\n",
    "\n",
    "abs(-10), pow(10, 10), round(1/3, 2), divmod(5, 2)"
   ]
  },
  {
   "cell_type": "code",
   "execution_count": null,
   "id": "96798103",
   "metadata": {},
   "outputs": [],
   "source": [
    "sum([1, 2, 3]), min([1, 2, 3]), max([1, 2, 3])"
   ]
  },
  {
   "cell_type": "code",
   "execution_count": null,
   "id": "cbb675cf",
   "metadata": {},
   "outputs": [],
   "source": [
    "min([\"a\", \"c\"])"
   ]
  },
  {
   "cell_type": "code",
   "execution_count": null,
   "id": "8521aec3",
   "metadata": {},
   "outputs": [],
   "source": [
    "# funkcje iteracyjne, funkconalne\n",
    "\n",
    "len([1, 2, 3])"
   ]
  },
  {
   "cell_type": "code",
   "execution_count": null,
   "id": "a75b6085",
   "metadata": {},
   "outputs": [],
   "source": [
    "list(enumerate(\"ala ma kota\", 10))"
   ]
  },
  {
   "cell_type": "code",
   "execution_count": null,
   "id": "8aa3d255",
   "metadata": {},
   "outputs": [],
   "source": [
    "zip(\"123\", \"abc\")"
   ]
  },
  {
   "cell_type": "code",
   "execution_count": null,
   "id": "7155d120",
   "metadata": {},
   "outputs": [],
   "source": [
    "list(zip(\"123\", \"abc\", \"kl\"))"
   ]
  },
  {
   "cell_type": "code",
   "execution_count": null,
   "id": "fb5d464f",
   "metadata": {},
   "outputs": [],
   "source": [
    "a, *b, c = 1, 2, 3, 4, 5\n",
    "print(b)\n",
    "print(*b) # print(2, 3, 4)"
   ]
  },
  {
   "cell_type": "code",
   "execution_count": null,
   "id": "bb88a8c2",
   "metadata": {},
   "outputs": [],
   "source": [
    "list(reversed([1,2 , 3]))"
   ]
  },
  {
   "cell_type": "code",
   "execution_count": null,
   "id": "b964198b",
   "metadata": {},
   "outputs": [],
   "source": [
    "list(reversed(\"kot ma ale\"))"
   ]
  },
  {
   "cell_type": "code",
   "execution_count": null,
   "id": "ce967540",
   "metadata": {},
   "outputs": [],
   "source": [
    "x = [1, 2, 3]\n"
   ]
  },
  {
   "cell_type": "code",
   "execution_count": null,
   "id": "287fb2ea",
   "metadata": {},
   "outputs": [],
   "source": [
    "x.reverse()\n",
    "x"
   ]
  },
  {
   "cell_type": "code",
   "execution_count": null,
   "id": "13f00123",
   "metadata": {},
   "outputs": [],
   "source": [
    "sorted({\"a\": 1, \"b\": 0}.items(), reverse=True, key=lambda x: x[1])"
   ]
  },
  {
   "cell_type": "code",
   "execution_count": null,
   "id": "5792bb28",
   "metadata": {},
   "outputs": [],
   "source": [
    "liczby = [1, 2, 3]\n",
    "\n",
    "\"-\".join(liczby)"
   ]
  },
  {
   "cell_type": "code",
   "execution_count": null,
   "id": "07262502",
   "metadata": {},
   "outputs": [],
   "source": [
    "\"-\".join(map(str, liczby))"
   ]
  },
  {
   "cell_type": "code",
   "execution_count": null,
   "id": "2a57bfa4",
   "metadata": {},
   "outputs": [],
   "source": [
    "list(map(lambda x: x**3, liczby))"
   ]
  },
  {
   "cell_type": "code",
   "execution_count": null,
   "id": "434b733d",
   "metadata": {},
   "outputs": [],
   "source": [
    "[x**3 for x in liczby]"
   ]
  },
  {
   "cell_type": "code",
   "execution_count": null,
   "id": "61d21fa6",
   "metadata": {},
   "outputs": [],
   "source": [
    "list(filter(lambda x: x>=2, liczby))"
   ]
  },
  {
   "cell_type": "code",
   "execution_count": null,
   "id": "00becda5",
   "metadata": {},
   "outputs": [],
   "source": [
    "from functools import reduce"
   ]
  },
  {
   "cell_type": "code",
   "execution_count": null,
   "id": "e8b12166",
   "metadata": {},
   "outputs": [],
   "source": [
    "print(reduce(lambda x, y: x + y, liczby))"
   ]
  },
  {
   "cell_type": "code",
   "execution_count": null,
   "id": "9dec4d67",
   "metadata": {},
   "outputs": [],
   "source": [
    "# funkcje logiczne, porownawcze\n",
    "\n",
    "all([1, 2, 0])  # 1 and 2 and 0"
   ]
  },
  {
   "cell_type": "code",
   "execution_count": null,
   "id": "483cda50",
   "metadata": {},
   "outputs": [],
   "source": [
    "any([False, 0, 1]) # Fals"
   ]
  },
  {
   "cell_type": "code",
   "execution_count": null,
   "id": "6147548b",
   "metadata": {},
   "outputs": [],
   "source": [
    "id()"
   ]
  },
  {
   "cell_type": "code",
   "execution_count": null,
   "id": "10534a4c",
   "metadata": {},
   "outputs": [],
   "source": [
    "x = 1"
   ]
  },
  {
   "cell_type": "code",
   "execution_count": null,
   "id": "f1e2ad4f",
   "metadata": {},
   "outputs": [],
   "source": [
    "if x == 1 or x == 1/0 or x == 2:\n",
    "    print(\"x\")"
   ]
  },
  {
   "cell_type": "code",
   "execution_count": null,
   "id": "050da25b",
   "metadata": {},
   "outputs": [],
   "source": [
    "len(liczby)"
   ]
  },
  {
   "cell_type": "code",
   "execution_count": null,
   "id": "6bc389b9",
   "metadata": {},
   "outputs": [],
   "source": [
    "liczby"
   ]
  },
  {
   "cell_type": "code",
   "execution_count": null,
   "id": "12a26f7c",
   "metadata": {},
   "outputs": [],
   "source": [
    "liczby.remove(2)"
   ]
  },
  {
   "cell_type": "code",
   "execution_count": null,
   "id": "1790308b",
   "metadata": {},
   "outputs": [],
   "source": [
    "liczby"
   ]
  },
  {
   "cell_type": "code",
   "execution_count": null,
   "id": "5f83dc64",
   "metadata": {},
   "outputs": [],
   "source": [
    "# operacje we/wy"
   ]
  },
  {
   "cell_type": "code",
   "execution_count": null,
   "id": "753ae406",
   "metadata": {},
   "outputs": [],
   "source": [
    "print, input, open"
   ]
  },
  {
   "cell_type": "code",
   "execution_count": null,
   "id": "43b3244b",
   "metadata": {},
   "outputs": [],
   "source": [
    "# funkcje pomocnicze\n",
    "\n",
    "help, dir, locals, globals, vars, callable, "
   ]
  },
  {
   "cell_type": "code",
   "execution_count": null,
   "id": "b452cfe8",
   "metadata": {},
   "outputs": [],
   "source": [
    "class Foo:\n",
    "    def __init__(self):\n",
    "        self.x = 1\n",
    "        self.y = 2\n",
    "    \n",
    "f = Foo()\n",
    "vars(f)"
   ]
  },
  {
   "cell_type": "code",
   "execution_count": null,
   "id": "e528331d",
   "metadata": {},
   "outputs": [],
   "source": [
    "callable([1, 2])\n"
   ]
  },
  {
   "cell_type": "code",
   "execution_count": null,
   "id": "2529d34f",
   "metadata": {},
   "outputs": [],
   "source": [
    "exec, eval"
   ]
  },
  {
   "cell_type": "code",
   "execution_count": null,
   "id": "030158a4",
   "metadata": {},
   "outputs": [],
   "source": [
    "exec(\"x=1;print(x)\")"
   ]
  },
  {
   "cell_type": "code",
   "execution_count": null,
   "id": "17f18776",
   "metadata": {},
   "outputs": [],
   "source": [
    "x=1;print(x)"
   ]
  },
  {
   "cell_type": "code",
   "execution_count": null,
   "id": "ef0ee84e",
   "metadata": {},
   "outputs": [],
   "source": [
    "eval(\"1+2\")\n",
    "\n"
   ]
  },
  {
   "cell_type": "code",
   "execution_count": null,
   "id": "4d9f3d8a",
   "metadata": {},
   "outputs": [],
   "source": [
    "# first-class citizens\n",
    "\n",
    "x = print\n",
    "\n",
    "x(\"ala ma kota\")"
   ]
  },
  {
   "cell_type": "code",
   "execution_count": null,
   "id": "7188837d",
   "metadata": {},
   "outputs": [],
   "source": [
    "print = 1\n",
    "\n"
   ]
  },
  {
   "cell_type": "code",
   "execution_count": null,
   "id": "2bb49c53",
   "metadata": {},
   "outputs": [],
   "source": [
    "print = x"
   ]
  },
  {
   "cell_type": "code",
   "execution_count": null,
   "id": "c5867a0f",
   "metadata": {},
   "outputs": [],
   "source": [
    "# funkcja jako argument innej funkcji\n",
    "\n",
    "def caller(func):\n",
    "    print(f\"Wywołuję funkcję {func.__name__}\")\n",
    "    func()\n",
    "    \n",
    "\n",
    "def foo():\n",
    "    print(\"xxx\")\n",
    "    \n",
    "caller(foo)"
   ]
  },
  {
   "cell_type": "code",
   "execution_count": null,
   "id": "8e2d5361",
   "metadata": {},
   "outputs": [],
   "source": [
    "apply_function_twice(square, 5) == (5 ** 2) ** 2"
   ]
  },
  {
   "cell_type": "code",
   "execution_count": 7,
   "id": "62e135f9",
   "metadata": {},
   "outputs": [
    {
     "data": {
      "text/plain": [
       "[6]"
      ]
     },
     "execution_count": 7,
     "metadata": {},
     "output_type": "execute_result"
    }
   ],
   "source": [
    "lista = [1, 2, 3, 4, 5, 6, 7, 8]\n",
    "\n",
    "\n",
    "def parzyste(el): return el % 2 == 0\n",
    "\n",
    "def apply_filter(collection, filter_function):\n",
    "    return [el for el in collection if filter_function(el)]\n",
    "\n",
    "\n",
    "assert apply_filter(lista, parzyste) == [2, 4, 6, 8]\n",
    "\n",
    "assert apply_filter(lista, lambda x: x > 5) == [6, 7, 8]\n",
    "\n",
    "assert apply_filter(lista, lambda x: x % 3 == 0) == [3, 6]\n",
    "\n",
    "\n",
    "\n",
    "def apply_filters(collection, filter_functions):\n",
    "    \n",
    "    result = []\n",
    "    \n",
    "    for el in collection:\n",
    "        if all([filter_func(el) for filter_func in filter_functions]):\n",
    "            result.append(el)\n",
    "    return result\n",
    "\n",
    "\n",
    "apply_filters(lista, [lambda x: x % 2 == 0, lambda x: x % 3 == 0])"
   ]
  },
  {
   "cell_type": "code",
   "execution_count": 3,
   "id": "266418f2",
   "metadata": {},
   "outputs": [
    {
     "data": {
      "text/plain": [
       "(100, 27)"
      ]
     },
     "execution_count": 3,
     "metadata": {},
     "output_type": "execute_result"
    }
   ],
   "source": [
    "# funkcja może zwracac inna funkcję\n",
    "\n",
    "def power_factory(exponent):\n",
    "    \n",
    "    def power(base):\n",
    "        return base ** exponent\n",
    "    \n",
    "    return power\n",
    "\n",
    "\n",
    "square = power_factory(2)\n",
    "cube = power_factory(3)\n",
    "square(10), cube(3)\n",
    "        "
   ]
  },
  {
   "cell_type": "code",
   "execution_count": 11,
   "id": "cab3de28",
   "metadata": {},
   "outputs": [
    {
     "name": "stdout",
     "output_type": "stream",
     "text": [
      "a przed foo 1\n",
      "2\n",
      "a po foo 2\n"
     ]
    }
   ],
   "source": [
    "a = 1\n",
    "\n",
    "def foo():\n",
    "    global a\n",
    "    a = 2\n",
    "    print(a)\n",
    "\n",
    "print(\"a przed foo\", a)\n",
    "foo()\n",
    "print(\"a po foo\", a)"
   ]
  },
  {
   "cell_type": "code",
   "execution_count": 14,
   "id": "5153f6f7",
   "metadata": {},
   "outputs": [
    {
     "data": {
      "text/plain": [
       "2"
      ]
     },
     "execution_count": 14,
     "metadata": {},
     "output_type": "execute_result"
    }
   ],
   "source": [
    "def bar():\n",
    "    global x\n",
    "    x = 2\n",
    "\n",
    "bar()\n",
    "x"
   ]
  },
  {
   "cell_type": "code",
   "execution_count": 19,
   "id": "4ebeee1c",
   "metadata": {},
   "outputs": [
    {
     "name": "stdout",
     "output_type": "stream",
     "text": [
      "w bar 6\n",
      "w baz 10\n",
      "global 10\n"
     ]
    }
   ],
   "source": [
    "x = 10\n",
    "def bar():\n",
    "    x = 6\n",
    "    def baz():\n",
    "        global x\n",
    "        print(\"w baz\", x)\n",
    "    print(\"w bar\", x)\n",
    "    baz()\n",
    "\n",
    "bar()\n",
    "print(\"global\", x)"
   ]
  },
  {
   "cell_type": "code",
   "execution_count": 24,
   "id": "26666fe6",
   "metadata": {},
   "outputs": [
    {
     "name": "stdout",
     "output_type": "stream",
     "text": [
      "w bar 6\n",
      "w baz 11 16\n",
      "global 11\n"
     ]
    }
   ],
   "source": [
    "x = 10\n",
    "def bar():\n",
    "    x = 6\n",
    "    y = 16\n",
    "    def baz():\n",
    "        global x\n",
    "        nonlocal y\n",
    "        x = 11\n",
    "        print(\"w baz\", x, y)\n",
    "        \n",
    "    print(\"w bar\", x)\n",
    "    baz()\n",
    "\n",
    "bar()\n",
    "print(\"global\", x)"
   ]
  },
  {
   "cell_type": "code",
   "execution_count": 30,
   "id": "fc4df915",
   "metadata": {},
   "outputs": [
    {
     "name": "stdout",
     "output_type": "stream",
     "text": [
      "[]\n",
      "[10, 12]\n",
      "[]\n"
     ]
    }
   ],
   "source": [
    "def funkcja_domykajaca():\n",
    "    dane = []\n",
    "    \n",
    "    def funkcja_domykana(x):\n",
    "        if x not in dane:\n",
    "            dane.append(x)\n",
    "            \n",
    "    def print_dane():\n",
    "        print(dane)\n",
    "        \n",
    "        \n",
    "    return funkcja_domykana, print_dane\n",
    "\n",
    "\n",
    "func, pfunc = funkcja_domykajaca()\n",
    "func1, pfunc1 = funkcja_domykajaca()\n",
    "\n",
    "pfunc()\n",
    "func(10)\n",
    "func(10)\n",
    "func(12)\n",
    "pfunc()\n",
    "\n",
    "pfunc1()"
   ]
  },
  {
   "cell_type": "markdown",
   "id": "ce4991aa",
   "metadata": {},
   "source": [
    "### Zadanie 01 -  **Dynamiczny System Przetwarzania Zamówień**\n",
    "\n",
    "Stwórz aplikację, która realizuje system przetwarzania zamówień. System wykorzystuje funkcje jako obywateli pierwszej kategorii, aby dynamicznie dobierać logikę przetwarzania dla różnych typów zamówień i produktów.\n",
    "\n",
    "#### **Opis problemu**\n",
    "\n",
    "Masz listę zamówień, gdzie każde zamówienie to słownik zawierający informacje o:\n",
    "- Produkcie (`product`),\n",
    "- Typie zamówienia (`type`),\n",
    "- Kwocie (`amount`).\n",
    "\n",
    "Chcesz napisać system, który:\n",
    "1. Dynamicznie wybiera odpowiednią logikę przetwarzania w zależności od **typu zamówienia** (np. `online`, `store`, `vip`). \n",
    "   Dla zamówienia typu `online` należy dodać opłatę za przesyłkę (10 PLN), dla `store` dodać 5% rabatu, a dla `vip` dodać 10% rabatu, ale o ile wartość zamówienia to 100 PLN lub więcej.\n",
    "\n",
    "2. Dla każdego produktu, w zależności od **kategorii produktu** (np. `electronics`, `books`, `furniture`), stosuje odpowiednie reguły podatkowe.\n",
    "3. Zwraca podsumowanie przetworzonych zamówień, w tym:\n",
    "   - Całkowitą wartość zamówień (po podatkach),\n",
    "   - Liczbę zamówień przetworzonych dla każdego typu.\n",
    "\n",
    "\n",
    "#### **Przykład danych wejściowych**\n",
    "```python\n",
    "orders = [\n",
    "    {\"product\": \"Laptop\", \"type\": \"online\", \"category\": \"electronics\", \"amount\": 1200},\n",
    "    {\"product\": \"Chair\", \"type\": \"store\", \"category\": \"furniture\", \"amount\": 300},\n",
    "    {\"product\": \"Book\", \"type\": \"vip\", \"category\": \"books\", \"amount\": 50},\n",
    "    {\"product\": \"Phone\", \"type\": \"online\", \"category\": \"electronics\", \"amount\": 800},\n",
    "    {\"product\": \"Table\", \"type\": \"store\", \"category\": \"furniture\", \"amount\": 500},\n",
    "]\n",
    "```\n",
    "\n",
    "\n",
    "#### **Wymagania**\n",
    "\n",
    "1. **Funkcje jako obiekty**: \n",
    "   - Zaimplementuj funkcje przetwarzające zamówienia dla różnych typów (`online`, `store`, `vip`) i przechowuj je w słowniku.\n",
    "\n",
    "2. **Funkcje jako argumenty**: \n",
    "   - Stwórz funkcję `process_order`, która przyjmuje zamówienie i logikę przetwarzania jako argument.\n",
    "   - stwórz funkcję `process_orders`, która przyjmie listę zamówień i zwróci podsumowanie. \n",
    "     Wynik działania podsumowania powinien wyglądać następująco\n",
    "      ```shell\n",
    "      Podsumowanie zamówień:\n",
    "      {'total_value': 2880.0, 'total_tax': 384.0, 'order_count_by_type': {'online': 2, 'store': 2, 'vip': 1}}\n",
    "      ```   \n",
    "\n",
    "3. **Funkcje jako zwracane wartości**: \n",
    "   - Stwórz fabrykę funkcji podatkowych. Dla każdej kategorii produktów powinna być zwrócona funkcja obliczająca podatek (np. `electronics: 15%`, `books: 5%`, `furniture: 10%`).\n",
    "\n",
    "4. **Funkcje w strukturach danych**:\n",
    "   - Wykorzystaj słownik do przechowywania reguł podatkowych.\n",
    "\n",
    "\n",
    "5. **Wyświetl podsumowanie szczegółowe**: \n",
    "   - Wyświetl podsumowanie szczegółówe w formie tabeli.\n",
    "\n",
    "   **Przykładowy wynik**\n",
    "   ```\n",
    "   +-----------+--------+-------------+----------+--------------+----------------+\n",
    "   | Product   | Type   | Category    |   Amount |   Tax Amount |   Tax Rate (%) |\n",
    "   +===========+========+=============+==========+==============+================+\n",
    "   | Laptop    | online | electronics |     1210 |        181.5 |             15 |\n",
    "   +-----------+--------+-------------+----------+--------------+----------------+\n",
    "   | Chair     | store  | furniture   |      285 |         28.5 |             10 |\n",
    "   +-----------+--------+-------------+----------+--------------+----------------+\n",
    "   | Book      | vip    | books       |       50 |          2.5 |              5 |\n",
    "   +-----------+--------+-------------+----------+--------------+----------------+\n",
    "   | Phone     | online | electronics |      810 |        121.5 |             15 |\n",
    "   +-----------+--------+-------------+----------+--------------+----------------+\n",
    "   | Table     | store  | furniture   |      475 |         47.5 |             10 |\n",
    "   +-----------+--------+-------------+----------+--------------+----------------+\n",
    "   ```\n",
    "\n",
    "\n",
    "---"
   ]
  },
  {
   "cell_type": "code",
   "execution_count": 31,
   "id": "5784c677",
   "metadata": {},
   "outputs": [
    {
     "name": "stdout",
     "output_type": "stream",
     "text": [
      "Collecting pandas\n",
      "  Downloading pandas-2.2.3-cp313-cp313-macosx_10_13_x86_64.whl.metadata (89 kB)\n",
      "Collecting numpy>=1.26.0 (from pandas)\n",
      "  Downloading numpy-2.1.3-cp313-cp313-macosx_14_0_x86_64.whl.metadata (62 kB)\n",
      "Requirement already satisfied: python-dateutil>=2.8.2 in ./.venv/lib/python3.13/site-packages (from pandas) (2.9.0.post0)\n",
      "Collecting pytz>=2020.1 (from pandas)\n",
      "  Downloading pytz-2024.2-py2.py3-none-any.whl.metadata (22 kB)\n",
      "Collecting tzdata>=2022.7 (from pandas)\n",
      "  Downloading tzdata-2024.2-py2.py3-none-any.whl.metadata (1.4 kB)\n",
      "Requirement already satisfied: six>=1.5 in ./.venv/lib/python3.13/site-packages (from python-dateutil>=2.8.2->pandas) (1.16.0)\n",
      "Downloading pandas-2.2.3-cp313-cp313-macosx_10_13_x86_64.whl (12.5 MB)\n",
      "\u001b[2K   \u001b[38;2;114;156;31m━━━━━━━━━━━━━━━━━━━━━━━━━━━━━━━━━━━━━━━━\u001b[0m \u001b[32m12.5/12.5 MB\u001b[0m \u001b[31m13.6 MB/s\u001b[0m eta \u001b[36m0:00:00\u001b[0m MB/s\u001b[0m eta \u001b[36m0:00:01\u001b[0m01\u001b[0m\n",
      "\u001b[?25hDownloading numpy-2.1.3-cp313-cp313-macosx_14_0_x86_64.whl (6.6 MB)\n",
      "\u001b[2K   \u001b[38;2;114;156;31m━━━━━━━━━━━━━━━━━━━━━━━━━━━━━━━━━━━━━━━━\u001b[0m \u001b[32m6.6/6.6 MB\u001b[0m \u001b[31m16.5 MB/s\u001b[0m eta \u001b[36m0:00:00\u001b[0m31m19.0 MB/s\u001b[0m eta \u001b[36m0:00:01\u001b[0m\n",
      "\u001b[?25hDownloading pytz-2024.2-py2.py3-none-any.whl (508 kB)\n",
      "Downloading tzdata-2024.2-py2.py3-none-any.whl (346 kB)\n",
      "Installing collected packages: pytz, tzdata, numpy, pandas\n",
      "Successfully installed numpy-2.1.3 pandas-2.2.3 pytz-2024.2 tzdata-2024.2\n",
      "\n",
      "\u001b[1m[\u001b[0m\u001b[34;49mnotice\u001b[0m\u001b[1;39;49m]\u001b[0m\u001b[39;49m A new release of pip is available: \u001b[0m\u001b[31;49m24.2\u001b[0m\u001b[39;49m -> \u001b[0m\u001b[32;49m24.3.1\u001b[0m\n",
      "\u001b[1m[\u001b[0m\u001b[34;49mnotice\u001b[0m\u001b[1;39;49m]\u001b[0m\u001b[39;49m To update, run: \u001b[0m\u001b[32;49mpip install --upgrade pip\u001b[0m\n"
     ]
    }
   ],
   "source": [
    "!pip install pandas"
   ]
  },
  {
   "cell_type": "code",
   "execution_count": 32,
   "id": "821d6270",
   "metadata": {},
   "outputs": [],
   "source": [
    "orders = [\n",
    "    {\"product\": \"Laptop\", \"type\": \"online\", \"category\": \"electronics\", \"amount\": 1200},\n",
    "    {\"product\": \"Chair\", \"type\": \"store\", \"category\": \"furniture\", \"amount\": 300},\n",
    "    {\"product\": \"Book\", \"type\": \"vip\", \"category\": \"books\", \"amount\": 50},\n",
    "    {\"product\": \"Phone\", \"type\": \"online\", \"category\": \"electronics\", \"amount\": 800},\n",
    "    {\"product\": \"Table\", \"type\": \"store\", \"category\": \"furniture\", \"amount\": 500},\n",
    "]"
   ]
  },
  {
   "cell_type": "code",
   "execution_count": 33,
   "id": "d0429c36",
   "metadata": {},
   "outputs": [],
   "source": [
    "import pandas as pd\n",
    "\n"
   ]
  },
  {
   "cell_type": "code",
   "execution_count": 36,
   "id": "ee1ed79d",
   "metadata": {},
   "outputs": [],
   "source": [
    "df = pd.DataFrame(orders)"
   ]
  },
  {
   "cell_type": "code",
   "execution_count": 39,
   "id": "a8db7fbb",
   "metadata": {},
   "outputs": [
    {
     "data": {
      "text/plain": [
       "<AxesSubplot: >"
      ]
     },
     "execution_count": 39,
     "metadata": {},
     "output_type": "execute_result"
    },
    {
     "data": {
      "image/png": "[encoded data removed]",
      "text/plain": [
       "<Figure size 640x480 with 1 Axes>"
      ]
     },
     "metadata": {},
     "output_type": "display_data"
    }
   ],
   "source": [
    "df.amount.plot(kind=\"bar\")"
   ]
  },
  {
   "cell_type": "markdown",
   "id": "32a6060a",
   "metadata": {},
   "source": [
    "# Domknięcia"
   ]
  },
  {
   "cell_type": "code",
   "execution_count": 40,
   "id": "3d369042",
   "metadata": {},
   "outputs": [
    {
     "data": {
      "text/plain": [
       "20"
      ]
     },
     "execution_count": 40,
     "metadata": {},
     "output_type": "execute_result"
    }
   ],
   "source": [
    "def multiplier_factory(factor):\n",
    "    \n",
    "    def multiply_by_factor(number):\n",
    "        return number * factor\n",
    "    \n",
    "    return multiply_by_factor\n",
    "\n",
    "times_two = multiplier_factory(2)\n",
    "times_three = multiplier_factory(3)\n",
    "\n",
    "\n",
    "times_two(10)"
   ]
  },
  {
   "cell_type": "code",
   "execution_count": 41,
   "id": "7f7ff915",
   "metadata": {},
   "outputs": [
    {
     "data": {
      "text/plain": [
       "5"
      ]
     },
     "execution_count": 41,
     "metadata": {},
     "output_type": "execute_result"
    }
   ],
   "source": [
    "def counter():\n",
    "    \n",
    "    count = 0\n",
    "    \n",
    "    def increment():\n",
    "        nonlocal count\n",
    "        count += 1 # count = counte + 1\n",
    "        return count\n",
    "    \n",
    "    return increment\n",
    "\n",
    "counter_instance = counter()\n",
    "\n",
    "counter_instance()\n",
    "counter_instance()\n",
    "counter_instance()\n",
    "counter_instance()\n",
    "counter_instance()\n",
    "    \n",
    "    "
   ]
  },
  {
   "cell_type": "code",
   "execution_count": 44,
   "id": "6ef85e22",
   "metadata": {},
   "outputs": [
    {
     "name": "stdout",
     "output_type": "stream",
     "text": [
      "Witaj Wojtek\n"
     ]
    },
    {
     "data": {
      "text/plain": [
       "'Bonjour Wojtek'"
      ]
     },
     "execution_count": 44,
     "metadata": {},
     "output_type": "execute_result"
    }
   ],
   "source": [
    "def greeting_factory(language):\n",
    "    \n",
    "    prefixes = {\"pl\": \"Witaj\", \"fr\": \"Bonjour\", \"en\": \"Hello\"}\n",
    "    \n",
    "    def greeting(name):\n",
    "        return f\"{prefixes[language]} {name}\"\n",
    "    \n",
    "    return greeting\n",
    "\n",
    "\n",
    "en_greetings = greeting_factory(\"en\")\n",
    "fr_greetings = greeting_factory(\"fr\")\n",
    "pl_greetings = greeting_factory(\"pl\")\n",
    "\n",
    "\n",
    "print(pl_greetings(\"Wojtek\"))\n",
    "fr_greetings(\"Wojtek\")\n",
    "        "
   ]
  },
  {
   "cell_type": "code",
   "execution_count": 56,
   "id": "95bf3dcc",
   "metadata": {},
   "outputs": [],
   "source": [
    "# Dekorator\n",
    "\n",
    "\n",
    "def foo(n):\n",
    "    return sum([x for x in range(n)])\n",
    "\n",
    "\n",
    "def bar(n):\n",
    "    return sum([x**2 for x in range(n)])\n"
   ]
  },
  {
   "cell_type": "code",
   "execution_count": 57,
   "id": "62d85b73",
   "metadata": {},
   "outputs": [
    {
     "name": "stdout",
     "output_type": "stream",
     "text": [
      "Wykonanie funkcji foo, zajeło 0.08755731582641602\n",
      "Wykonanie funkcji bar, zajeło 4.639399766921997\n"
     ]
    }
   ],
   "source": [
    "import time\n",
    "\n",
    "t = time.time()\n",
    "foo(1000000)\n",
    "print(f\"Wykonanie funkcji foo, zajeło {time.time() - t}\")\n",
    "\n",
    "\n",
    "t = time.time()\n",
    "bar(10000000)\n",
    "print(f\"Wykonanie funkcji bar, zajeło {time.time() - t}\")"
   ]
  },
  {
   "cell_type": "code",
   "execution_count": 63,
   "id": "0776b543",
   "metadata": {},
   "outputs": [
    {
     "name": "stdout",
     "output_type": "stream",
     "text": [
      "Wykonanie funkcji foo, zajeło 0.0006887912750244141\n",
      "Wykonanie funkcji bar, zajeło 4.506111145019531e-05\n",
      "Wykonanie funkcji baz, zajeło 0.00020575523376464844\n",
      "49995000 328350\n"
     ]
    }
   ],
   "source": [
    "\n",
    "def foo(n):\n",
    "    return sum([x for x in range(n)])\n",
    "\n",
    "\n",
    "def bar(n):\n",
    "    return sum([x**2 for x in range(n)])\n",
    "\n",
    "\n",
    "def baz(n, step=10):\n",
    "    return sum([x**2 for x in range(0, n, step)])\n",
    "\n",
    "\n",
    "def zmierz_czas(func):\n",
    "    \n",
    "    def wrapper(*args, **kwargs):\n",
    "        t = time.time()\n",
    "        r = func(*args, **kwargs)\n",
    "        print(f\"Wykonanie funkcji {func.__name__}, zajeło {time.time() - t}\")\n",
    "        return r\n",
    "    \n",
    "    return wrapper\n",
    "\n",
    "    \n",
    "foo = zmierz_czas(foo)\n",
    "bar = zmierz_czas(bar)\n",
    "baz = zmierz_czas(baz)\n",
    "\n",
    "\n",
    "r1 = foo(10000)\n",
    "r2 = bar(100)\n",
    "r3 = baz(10000, 20)\n",
    "\n",
    "print(r1, r2)"
   ]
  },
  {
   "cell_type": "code",
   "execution_count": 74,
   "id": "b46f472b",
   "metadata": {},
   "outputs": [
    {
     "name": "stdout",
     "output_type": "stream",
     "text": [
      "Wykonanie funkcji foo, zajeło 0.0011620521545410156\n",
      "Wykonanie funkcji bar, zajeło 4.482269287109375e-05\n",
      "Wykonanie funkcji baz, zajeło 0.000209808349609375\n",
      "49995000 328350\n"
     ]
    }
   ],
   "source": [
    "from functools import wraps\n",
    "\n",
    "\n",
    "def zmierz_czas(func):\n",
    "    \n",
    "    @wraps(func)\n",
    "    def wrapper(*args, **kwargs):\n",
    "        t = time.time()\n",
    "        r = func(*args, **kwargs)\n",
    "        print(f\"Wykonanie funkcji {func.__name__}, zajeło {time.time() - t}\")\n",
    "        return r\n",
    "    \n",
    "    #     wrapper.__doc__ = func.__doc__\n",
    "    #     wrapper.__name__ = func.__name__\n",
    "    #     ...\n",
    "    \n",
    "    return wrapper\n",
    "\n",
    "\n",
    "@zmierz_czas\n",
    "def foo(n):\n",
    "    \"\"\"Sumuje n kolejnych liczb\"\"\"\n",
    "    return sum([x for x in range(n)])\n",
    "\n",
    "\n",
    "@zmierz_czas\n",
    "def bar(n):\n",
    "    return sum([x**2 for x in range(n)])\n",
    "\n",
    "@zmierz_czas\n",
    "def baz(n, step=10):\n",
    "    return sum([x**2 for x in range(0, n, step)])\n",
    "\n",
    "\n",
    "\n",
    "\n",
    "r1 = foo(10000)\n",
    "r2 = bar(100)\n",
    "r3 = baz(10000, 20)\n",
    "\n",
    "print(r1, r2)"
   ]
  },
  {
   "cell_type": "code",
   "execution_count": 75,
   "id": "601628e3",
   "metadata": {},
   "outputs": [
    {
     "data": {
      "text/plain": [
       "'Sumuje n kolejnych liczb'"
      ]
     },
     "execution_count": 75,
     "metadata": {},
     "output_type": "execute_result"
    }
   ],
   "source": [
    "foo.__doc__"
   ]
  },
  {
   "cell_type": "code",
   "execution_count": 76,
   "id": "c1ce6b5e",
   "metadata": {},
   "outputs": [
    {
     "name": "stdout",
     "output_type": "stream",
     "text": [
      "Help on function foo in module __main__:\n",
      "\n",
      "foo(n)\n",
      "    Sumuje n kolejnych liczb\n",
      "\n"
     ]
    }
   ],
   "source": [
    "help(foo)"
   ]
  },
  {
   "cell_type": "code",
   "execution_count": 77,
   "id": "713df3c4",
   "metadata": {},
   "outputs": [
    {
     "data": {
      "text/plain": [
       "['__annotations__',\n",
       " '__builtins__',\n",
       " '__call__',\n",
       " '__class__',\n",
       " '__closure__',\n",
       " '__code__',\n",
       " '__defaults__',\n",
       " '__delattr__',\n",
       " '__dict__',\n",
       " '__dir__',\n",
       " '__doc__',\n",
       " '__eq__',\n",
       " '__format__',\n",
       " '__ge__',\n",
       " '__get__',\n",
       " '__getattribute__',\n",
       " '__globals__',\n",
       " '__gt__',\n",
       " '__hash__',\n",
       " '__init__',\n",
       " '__init_subclass__',\n",
       " '__kwdefaults__',\n",
       " '__le__',\n",
       " '__lt__',\n",
       " '__module__',\n",
       " '__name__',\n",
       " '__ne__',\n",
       " '__new__',\n",
       " '__qualname__',\n",
       " '__reduce__',\n",
       " '__reduce_ex__',\n",
       " '__repr__',\n",
       " '__setattr__',\n",
       " '__sizeof__',\n",
       " '__str__',\n",
       " '__subclasshook__',\n",
       " '__wrapped__']"
      ]
     },
     "execution_count": 77,
     "metadata": {},
     "output_type": "execute_result"
    }
   ],
   "source": [
    "dir(foo)"
   ]
  },
  {
   "cell_type": "code",
   "execution_count": 79,
   "id": "d7aad83b",
   "metadata": {},
   "outputs": [],
   "source": [
    "from functools import wraps\n",
    "\n",
    "def bold(func):\n",
    "    \n",
    "    @wraps(func)\n",
    "    def wrapper(*args, **kwargs):\n",
    "        return f\"<b>{func(*args, **kwargs)}</b>\"\n",
    "    \n",
    "    return wrapper\n",
    "\n",
    "\n",
    "@bold\n",
    "def foo() -> str:\n",
    "    \"\"\"Hello my friend\"\"\"\n",
    "    return \"Hello World\"\n",
    "\n",
    "\n",
    "assert foo() == \"<b>Hello World</b>\"\n",
    "assert foo.__doc__ == \"Hello my friend\""
   ]
  },
  {
   "cell_type": "markdown",
   "id": "e1a43980",
   "metadata": {},
   "source": [
    "### **Zadanie 02: Budowa dynamicznego routera URL**\n",
    "\n",
    "W tym ćwiczeniu stworzysz dynamiczny router URL, który pozwala przypisywać ścieżki URL do różnych funkcji obsługi. Domknięcia będą używane do przechowywania mapowania URL i pozwolą obsługiwać różne żądania.\n",
    "\n",
    "---\n",
    "\n",
    "### **Opis zadania**\n",
    "\n",
    "1. Funkcja `create_router` powinna zwrócić funkcję `route_handler`, która:\n",
    "   - Przypisuje funkcje obsługi do określonych ścieżek URL.\n",
    "   - Obsługuje żądania, wywołując odpowiednią funkcję na podstawie podanego URL.\n",
    "\n",
    "2. Funkcja `route_handler` musi pamiętać mapowanie URL → funkcja obsługi.\n",
    "\n",
    "3. Obsługa żądań:\n",
    "   - Jeśli ścieżka URL nie ma przypisanej funkcji, zwracany jest komunikat \"404: Not Found\".\n"
   ]
  },
  {
   "cell_type": "markdown",
   "id": "2f66d61b",
   "metadata": {},
   "source": [
    "---\n",
    "\n",
    "### **Przykład użycia**\n",
    "\n",
    "```python\n",
    "# Tworzymy router\n",
    "router = create_router()\n",
    "\n",
    "# Dodajemy ścieżki\n",
    "router(\"add\", \"/home\", lambda: \"Welcome to the homepage!\")\n",
    "router(\"add\", \"/about\", lambda: \"This is the about page.\")\n",
    "router(\"add\", \"/contact\", lambda: \"Contact us here.\")\n",
    "\n",
    "# Obsługujemy żądania\n",
    "print(router(\"get\", \"/home\"))      # Welcome to the homepage!\n",
    "print(router(\"get\", \"/about\"))     # This is the about page.\n",
    "print(router(\"get\", \"/nonexistent\"))  # 404: Not Found\n",
    "```\n",
    "\n",
    "\n",
    "---\n",
    "\n",
    "### **Szczegółowe wytyczne**\n",
    "\n",
    "1. **Funkcja `create_router`**:\n",
    "   - Tworzy pusty słownik do przechowywania mapowania URL.\n",
    "   - Zwraca funkcję `route_handler`.\n",
    "\n",
    "2. **Funkcja `route_handler`**:\n",
    "   - Przyjmuje dwa tryby działania:\n",
    "     - `add`: Dodaje nową funkcję obsługi dla podanego URL.\n",
    "     - `get`: Wywołuje funkcję obsługi przypisaną do podanego URL, jeśli istnieje.\n",
    "\n",
    "3. **Domknięcie**:\n",
    "   - Mapowanie URL przechowywane jest w funkcji zewnętrznej i dostępne dla funkcji `route_handler`.\n"
   ]
  },
  {
   "cell_type": "code",
   "execution_count": null,
   "id": "fd3f7fcb",
   "metadata": {},
   "outputs": [],
   "source": []
  },
  {
   "cell_type": "code",
   "execution_count": null,
   "id": "8112e2ac",
   "metadata": {},
   "outputs": [],
   "source": []
  }
 ],
 "metadata": {
  "kernelspec": {
   "display_name": "Python 3 (ipykernel)",
   "language": "python",
   "name": "python3"
  },
  "language_info": {
   "codemirror_mode": {
    "name": "ipython",
    "version": 3
   },
   "file_extension": ".py",
   "mimetype": "text/x-python",
   "name": "python",
   "nbconvert_exporter": "python",
   "pygments_lexer": "ipython3",
   "version": "3.10.7"
  },
  "toc": {
   "base_numbering": 1,
   "nav_menu": {},
   "number_sections": true,
   "sideBar": true,
   "skip_h1_title": false,
   "title_cell": "Table of Contents",
   "title_sidebar": "Contents",
   "toc_cell": false,
   "toc_position": {},
   "toc_section_display": true,
   "toc_window_display": false
  }
 },
 "nbformat": 4,
 "nbformat_minor": 5
}
