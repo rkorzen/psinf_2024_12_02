{
 "cells": [
  {
   "cell_type": "code",
   "execution_count": null,
   "id": "1c15acdf",
   "metadata": {},
   "outputs": [],
   "source": []
  },
  {
   "cell_type": "markdown",
   "id": "bebee7a2",
   "metadata": {},
   "source": [
    "# funkcje w Pythonie\n",
    "\n",
    "## Funkcje wbudowane\n",
    "\n",
    "Znajduja sie one w `__builtin__`"
   ]
  },
  {
   "cell_type": "code",
   "execution_count": 1,
   "id": "149d2e2b",
   "metadata": {},
   "outputs": [
    {
     "data": {
      "text/plain": [
       "['In',\n",
       " 'Out',\n",
       " '_',\n",
       " '__',\n",
       " '___',\n",
       " '__builtin__',\n",
       " '__builtins__',\n",
       " '__doc__',\n",
       " '__loader__',\n",
       " '__name__',\n",
       " '__package__',\n",
       " '__spec__',\n",
       " '_dh',\n",
       " '_i',\n",
       " '_i1',\n",
       " '_ih',\n",
       " '_ii',\n",
       " '_iii',\n",
       " '_oh',\n",
       " 'autopep8',\n",
       " 'exit',\n",
       " 'get_ipython',\n",
       " 'json',\n",
       " 'open',\n",
       " 'quit',\n",
       " 'yapf_reformat']"
      ]
     },
     "execution_count": 1,
     "metadata": {},
     "output_type": "execute_result"
    }
   ],
   "source": [
    "dir()"
   ]
  },
  {
   "cell_type": "code",
   "execution_count": 2,
   "id": "d097fd94",
   "metadata": {},
   "outputs": [],
   "source": [
    "dir?"
   ]
  },
  {
   "cell_type": "code",
   "execution_count": 3,
   "id": "e96ba6dc",
   "metadata": {},
   "outputs": [
    {
     "name": "stdout",
     "output_type": "stream",
     "text": [
      "Writing zawartosc_lokalnej_przestrzeni.py\n"
     ]
    }
   ],
   "source": [
    "%%writefile zawartosc_lokalnej_przestrzeni.py\n",
    "\n",
    "print(dir())"
   ]
  },
  {
   "cell_type": "code",
   "execution_count": 4,
   "id": "ffe5f3a9",
   "metadata": {},
   "outputs": [
    {
     "name": "stdout",
     "output_type": "stream",
     "text": [
      "['__annotations__', '__builtins__', '__cached__', '__doc__', '__file__', '__loader__', '__name__', '__package__', '__spec__']\r\n"
     ]
    }
   ],
   "source": [
    "!python zawartosc_lokalnej_przestrzeni.py"
   ]
  },
  {
   "cell_type": "code",
   "execution_count": 6,
   "id": "384cfcea",
   "metadata": {},
   "outputs": [
    {
     "data": {
      "text/plain": [
       "['ArithmeticError',\n",
       " 'AssertionError',\n",
       " 'AttributeError',\n",
       " 'BaseException',\n",
       " 'BlockingIOError',\n",
       " 'BrokenPipeError',\n",
       " 'BufferError',\n",
       " 'BytesWarning',\n",
       " 'ChildProcessError',\n",
       " 'ConnectionAbortedError',\n",
       " 'ConnectionError',\n",
       " 'ConnectionRefusedError',\n",
       " 'ConnectionResetError',\n",
       " 'DeprecationWarning',\n",
       " 'EOFError',\n",
       " 'Ellipsis',\n",
       " 'EncodingWarning',\n",
       " 'EnvironmentError',\n",
       " 'Exception',\n",
       " 'False',\n",
       " 'FileExistsError',\n",
       " 'FileNotFoundError',\n",
       " 'FloatingPointError',\n",
       " 'FutureWarning',\n",
       " 'GeneratorExit',\n",
       " 'IOError',\n",
       " 'ImportError',\n",
       " 'ImportWarning',\n",
       " 'IndentationError',\n",
       " 'IndexError',\n",
       " 'InterruptedError',\n",
       " 'IsADirectoryError',\n",
       " 'KeyError',\n",
       " 'KeyboardInterrupt',\n",
       " 'LookupError',\n",
       " 'MemoryError',\n",
       " 'ModuleNotFoundError',\n",
       " 'NameError',\n",
       " 'None',\n",
       " 'NotADirectoryError',\n",
       " 'NotImplemented',\n",
       " 'NotImplementedError',\n",
       " 'OSError',\n",
       " 'OverflowError',\n",
       " 'PendingDeprecationWarning',\n",
       " 'PermissionError',\n",
       " 'ProcessLookupError',\n",
       " 'RecursionError',\n",
       " 'ReferenceError',\n",
       " 'ResourceWarning',\n",
       " 'RuntimeError',\n",
       " 'RuntimeWarning',\n",
       " 'StopAsyncIteration',\n",
       " 'StopIteration',\n",
       " 'SyntaxError',\n",
       " 'SyntaxWarning',\n",
       " 'SystemError',\n",
       " 'SystemExit',\n",
       " 'TabError',\n",
       " 'TimeoutError',\n",
       " 'True',\n",
       " 'TypeError',\n",
       " 'UnboundLocalError',\n",
       " 'UnicodeDecodeError',\n",
       " 'UnicodeEncodeError',\n",
       " 'UnicodeError',\n",
       " 'UnicodeTranslateError',\n",
       " 'UnicodeWarning',\n",
       " 'UserWarning',\n",
       " 'ValueError',\n",
       " 'Warning',\n",
       " 'ZeroDivisionError',\n",
       " '__IPYTHON__',\n",
       " '__build_class__',\n",
       " '__debug__',\n",
       " '__doc__',\n",
       " '__import__',\n",
       " '__loader__',\n",
       " '__name__',\n",
       " '__package__',\n",
       " '__spec__',\n",
       " 'abs',\n",
       " 'aiter',\n",
       " 'all',\n",
       " 'anext',\n",
       " 'any',\n",
       " 'ascii',\n",
       " 'bin',\n",
       " 'bool',\n",
       " 'breakpoint',\n",
       " 'bytearray',\n",
       " 'bytes',\n",
       " 'callable',\n",
       " 'chr',\n",
       " 'classmethod',\n",
       " 'compile',\n",
       " 'complex',\n",
       " 'copyright',\n",
       " 'credits',\n",
       " 'delattr',\n",
       " 'dict',\n",
       " 'dir',\n",
       " 'display',\n",
       " 'divmod',\n",
       " 'enumerate',\n",
       " 'eval',\n",
       " 'exec',\n",
       " 'execfile',\n",
       " 'filter',\n",
       " 'float',\n",
       " 'format',\n",
       " 'frozenset',\n",
       " 'get_ipython',\n",
       " 'getattr',\n",
       " 'globals',\n",
       " 'hasattr',\n",
       " 'hash',\n",
       " 'help',\n",
       " 'hex',\n",
       " 'id',\n",
       " 'input',\n",
       " 'int',\n",
       " 'isinstance',\n",
       " 'issubclass',\n",
       " 'iter',\n",
       " 'len',\n",
       " 'license',\n",
       " 'list',\n",
       " 'locals',\n",
       " 'map',\n",
       " 'max',\n",
       " 'memoryview',\n",
       " 'min',\n",
       " 'next',\n",
       " 'object',\n",
       " 'oct',\n",
       " 'open',\n",
       " 'ord',\n",
       " 'pow',\n",
       " 'print',\n",
       " 'property',\n",
       " 'range',\n",
       " 'repr',\n",
       " 'reversed',\n",
       " 'round',\n",
       " 'runfile',\n",
       " 'set',\n",
       " 'setattr',\n",
       " 'slice',\n",
       " 'sorted',\n",
       " 'staticmethod',\n",
       " 'str',\n",
       " 'sum',\n",
       " 'super',\n",
       " 'tuple',\n",
       " 'type',\n",
       " 'vars',\n",
       " 'zip']"
      ]
     },
     "execution_count": 6,
     "metadata": {},
     "output_type": "execute_result"
    }
   ],
   "source": [
    "dir(__builtin__)"
   ]
  },
  {
   "cell_type": "code",
   "execution_count": 7,
   "id": "592588bc",
   "metadata": {},
   "outputs": [
    {
     "data": {
      "text/plain": [
       "0"
      ]
     },
     "execution_count": 7,
     "metadata": {},
     "output_type": "execute_result"
    }
   ],
   "source": [
    "# operacje na typach danych\n",
    "\n",
    "int()"
   ]
  },
  {
   "cell_type": "code",
   "execution_count": 10,
   "id": "58567456",
   "metadata": {},
   "outputs": [
    {
     "data": {
      "text/plain": [
       "12648430"
      ]
     },
     "execution_count": 10,
     "metadata": {},
     "output_type": "execute_result"
    }
   ],
   "source": [
    "int(\"c0ffee\", 16)"
   ]
  },
  {
   "cell_type": "code",
   "execution_count": 11,
   "id": "7f777e24",
   "metadata": {},
   "outputs": [],
   "source": [
    "# help(int)"
   ]
  },
  {
   "cell_type": "code",
   "execution_count": null,
   "id": "5c489fb7",
   "metadata": {},
   "outputs": [],
   "source": [
    "float, str, bool, complex, list, tuple, set, dict, frozenset, bytes, bytearray\n",
    "\n"
   ]
  },
  {
   "cell_type": "code",
   "execution_count": 13,
   "id": "e356ed8b",
   "metadata": {},
   "outputs": [
    {
     "data": {
      "text/plain": [
       "('0b1111011', '0o173', '0x7b')"
      ]
     },
     "execution_count": 13,
     "metadata": {},
     "output_type": "execute_result"
    }
   ],
   "source": [
    "bin(123), oct(123), hex(123)"
   ]
  },
  {
   "cell_type": "code",
   "execution_count": 14,
   "id": "888f6257",
   "metadata": {},
   "outputs": [
    {
     "data": {
      "text/plain": [
       "(123, 123, 123, 123)"
      ]
     },
     "execution_count": 14,
     "metadata": {},
     "output_type": "execute_result"
    }
   ],
   "source": [
    "123, 0b1111011, 0o173, 0x7b"
   ]
  },
  {
   "cell_type": "code",
   "execution_count": 15,
   "id": "9bd45a91",
   "metadata": {},
   "outputs": [
    {
     "data": {
      "text/plain": [
       "97"
      ]
     },
     "execution_count": 15,
     "metadata": {},
     "output_type": "execute_result"
    }
   ],
   "source": [
    "\"a\"\n",
    "\n",
    "ord(\"a\")"
   ]
  },
  {
   "cell_type": "code",
   "execution_count": 16,
   "id": "07318e4a",
   "metadata": {},
   "outputs": [
    {
     "data": {
      "text/plain": [
       "65"
      ]
     },
     "execution_count": 16,
     "metadata": {},
     "output_type": "execute_result"
    }
   ],
   "source": [
    "ord(\"A\")"
   ]
  },
  {
   "cell_type": "code",
   "execution_count": 17,
   "id": "39a00908",
   "metadata": {},
   "outputs": [
    {
     "data": {
      "text/plain": [
       "'A'"
      ]
     },
     "execution_count": 17,
     "metadata": {},
     "output_type": "execute_result"
    }
   ],
   "source": [
    "chr(65)"
   ]
  },
  {
   "cell_type": "code",
   "execution_count": 18,
   "id": "e2bfe116",
   "metadata": {},
   "outputs": [
    {
     "data": {
      "text/plain": [
       "int"
      ]
     },
     "execution_count": 18,
     "metadata": {},
     "output_type": "execute_result"
    }
   ],
   "source": [
    "# typowanie, tworzenie, sprawdzanie\n",
    "\n",
    "type, isinstance\n",
    "\n",
    "type(1)"
   ]
  },
  {
   "cell_type": "code",
   "execution_count": 21,
   "id": "718c476c",
   "metadata": {},
   "outputs": [
    {
     "data": {
      "text/plain": [
       "False"
      ]
     },
     "execution_count": 21,
     "metadata": {},
     "output_type": "execute_result"
    }
   ],
   "source": [
    "isinstance(1, bool)"
   ]
  },
  {
   "cell_type": "code",
   "execution_count": 25,
   "id": "8200328b",
   "metadata": {},
   "outputs": [
    {
     "data": {
      "text/plain": [
       "True"
      ]
     },
     "execution_count": 25,
     "metadata": {},
     "output_type": "execute_result"
    }
   ],
   "source": [
    "isinstance(False, int)"
   ]
  },
  {
   "cell_type": "code",
   "execution_count": 28,
   "id": "a755a5a3",
   "metadata": {},
   "outputs": [
    {
     "data": {
      "text/plain": [
       "2"
      ]
     },
     "execution_count": 28,
     "metadata": {},
     "output_type": "execute_result"
    }
   ],
   "source": [
    "1 + True"
   ]
  },
  {
   "cell_type": "code",
   "execution_count": 30,
   "id": "685bd2cd",
   "metadata": {},
   "outputs": [
    {
     "name": "stdout",
     "output_type": "stream",
     "text": [
      "to jest liczba\n"
     ]
    }
   ],
   "source": [
    "if type(1) is int:\n",
    "    print(\"to jest liczba\")\n",
    "    "
   ]
  },
  {
   "cell_type": "code",
   "execution_count": 35,
   "id": "5061886f",
   "metadata": {},
   "outputs": [
    {
     "data": {
      "text/plain": [
       "__main__.Series"
      ]
     },
     "execution_count": 35,
     "metadata": {},
     "output_type": "execute_result"
    }
   ],
   "source": [
    "class Movie:\n",
    "    ...\n",
    "    \n",
    "    \n",
    "class Series(Movie):\n",
    "    ...\n",
    "    \n",
    "\n",
    "s = Series()\n",
    "m = Movie()\n",
    "type(s)\n",
    "    "
   ]
  },
  {
   "cell_type": "code",
   "execution_count": 36,
   "id": "f841c1f5",
   "metadata": {},
   "outputs": [
    {
     "data": {
      "text/plain": [
       "True"
      ]
     },
     "execution_count": 36,
     "metadata": {},
     "output_type": "execute_result"
    }
   ],
   "source": [
    "isinstance(s, Series)"
   ]
  },
  {
   "cell_type": "code",
   "execution_count": 37,
   "id": "72f16722",
   "metadata": {},
   "outputs": [
    {
     "data": {
      "text/plain": [
       "True"
      ]
     },
     "execution_count": 37,
     "metadata": {},
     "output_type": "execute_result"
    }
   ],
   "source": [
    "isinstance(s, Movie)"
   ]
  },
  {
   "cell_type": "code",
   "execution_count": 38,
   "id": "6ea3e205",
   "metadata": {},
   "outputs": [],
   "source": [
    "library = [m, s]"
   ]
  },
  {
   "cell_type": "code",
   "execution_count": 41,
   "id": "63d8a83b",
   "metadata": {},
   "outputs": [
    {
     "data": {
      "text/plain": [
       "[<__main__.Movie at 0x10b150340>]"
      ]
     },
     "execution_count": 41,
     "metadata": {},
     "output_type": "execute_result"
    }
   ],
   "source": [
    "def get_movies(library):\n",
    "    output = []\n",
    "    \n",
    "    for el in library:\n",
    "        if type(el) is Movie:\n",
    "            output.append(el)\n",
    "        \n",
    "    return output\n",
    "\n",
    "\n",
    "get_movies(library)"
   ]
  },
  {
   "cell_type": "code",
   "execution_count": 42,
   "id": "86128caa",
   "metadata": {},
   "outputs": [
    {
     "data": {
      "text/plain": [
       "0"
      ]
     },
     "execution_count": 42,
     "metadata": {},
     "output_type": "execute_result"
    }
   ],
   "source": [
    "Point = type(\"Point\", (), {\"x\": 0, \"y\": 0})\n",
    "\n",
    "p = Point()\n",
    "p.x"
   ]
  },
  {
   "cell_type": "code",
   "execution_count": 44,
   "id": "03705750",
   "metadata": {},
   "outputs": [
    {
     "data": {
      "text/plain": [
       "(10, 10000000000, 0.33, (2, 1))"
      ]
     },
     "execution_count": 44,
     "metadata": {},
     "output_type": "execute_result"
    }
   ],
   "source": [
    "# funkcje matematyczne, numeryczne\n",
    "\n",
    "abs(-10), pow(10, 10), round(1/3, 2), divmod(5, 2)"
   ]
  },
  {
   "cell_type": "code",
   "execution_count": 46,
   "id": "cbde9853",
   "metadata": {},
   "outputs": [
    {
     "data": {
      "text/plain": [
       "(6, 1, 3)"
      ]
     },
     "execution_count": 46,
     "metadata": {},
     "output_type": "execute_result"
    }
   ],
   "source": [
    "sum([1, 2, 3]), min([1, 2, 3]), max([1, 2, 3])"
   ]
  },
  {
   "cell_type": "code",
   "execution_count": 48,
   "id": "eee6a847",
   "metadata": {},
   "outputs": [
    {
     "data": {
      "text/plain": [
       "'a'"
      ]
     },
     "execution_count": 48,
     "metadata": {},
     "output_type": "execute_result"
    }
   ],
   "source": [
    "min([\"a\", \"c\"])"
   ]
  },
  {
   "cell_type": "code",
   "execution_count": 49,
   "id": "497cbd24",
   "metadata": {},
   "outputs": [
    {
     "data": {
      "text/plain": [
       "3"
      ]
     },
     "execution_count": 49,
     "metadata": {},
     "output_type": "execute_result"
    }
   ],
   "source": [
    "# funkcje iteracyjne, funkconalne\n",
    "\n",
    "len([1, 2, 3])"
   ]
  },
  {
   "cell_type": "code",
   "execution_count": 52,
   "id": "8c9d8346",
   "metadata": {},
   "outputs": [
    {
     "data": {
      "text/plain": [
       "[(10, 'a'),\n",
       " (11, 'l'),\n",
       " (12, 'a'),\n",
       " (13, ' '),\n",
       " (14, 'm'),\n",
       " (15, 'a'),\n",
       " (16, ' '),\n",
       " (17, 'k'),\n",
       " (18, 'o'),\n",
       " (19, 't'),\n",
       " (20, 'a')]"
      ]
     },
     "execution_count": 52,
     "metadata": {},
     "output_type": "execute_result"
    }
   ],
   "source": [
    "list(enumerate(\"ala ma kota\", 10))"
   ]
  },
  {
   "cell_type": "code",
   "execution_count": 53,
   "id": "78187760",
   "metadata": {},
   "outputs": [
    {
     "data": {
      "text/plain": [
       "<zip at 0x10ae4c800>"
      ]
     },
     "execution_count": 53,
     "metadata": {},
     "output_type": "execute_result"
    }
   ],
   "source": [
    "zip(\"123\", \"abc\")"
   ]
  },
  {
   "cell_type": "code",
   "execution_count": 56,
   "id": "065791fc",
   "metadata": {},
   "outputs": [
    {
     "data": {
      "text/plain": [
       "[('1', 'a', 'k'), ('2', 'b', 'l')]"
      ]
     },
     "execution_count": 56,
     "metadata": {},
     "output_type": "execute_result"
    }
   ],
   "source": [
    "list(zip(\"123\", \"abc\", \"kl\"))"
   ]
  },
  {
   "cell_type": "code",
   "execution_count": 59,
   "id": "682a2d99",
   "metadata": {},
   "outputs": [
    {
     "name": "stdout",
     "output_type": "stream",
     "text": [
      "[2, 3, 4]\n",
      "2 3 4\n"
     ]
    }
   ],
   "source": [
    "a, *b, c = 1, 2, 3, 4, 5\n",
    "print(b)\n",
    "print(*b) # print(2, 3, 4)"
   ]
  },
  {
   "cell_type": "code",
   "execution_count": 61,
   "id": "edaf13b9",
   "metadata": {},
   "outputs": [
    {
     "data": {
      "text/plain": [
       "[3, 2, 1]"
      ]
     },
     "execution_count": 61,
     "metadata": {},
     "output_type": "execute_result"
    }
   ],
   "source": [
    "list(reversed([1,2 , 3]))"
   ]
  },
  {
   "cell_type": "code",
   "execution_count": 63,
   "id": "6e0e8a91",
   "metadata": {},
   "outputs": [
    {
     "data": {
      "text/plain": [
       "['e', 'l', 'a', ' ', 'a', 'm', ' ', 't', 'o', 'k']"
      ]
     },
     "execution_count": 63,
     "metadata": {},
     "output_type": "execute_result"
    }
   ],
   "source": [
    "list(reversed(\"kot ma ale\"))"
   ]
  },
  {
   "cell_type": "code",
   "execution_count": 68,
   "id": "7b4de29a",
   "metadata": {},
   "outputs": [],
   "source": [
    "x = [1, 2, 3]\n"
   ]
  },
  {
   "cell_type": "code",
   "execution_count": 69,
   "id": "53109778",
   "metadata": {},
   "outputs": [
    {
     "data": {
      "text/plain": [
       "[3, 2, 1]"
      ]
     },
     "execution_count": 69,
     "metadata": {},
     "output_type": "execute_result"
    }
   ],
   "source": [
    "x.reverse()\n",
    "x"
   ]
  },
  {
   "cell_type": "code",
   "execution_count": 74,
   "id": "ab3b0db2",
   "metadata": {},
   "outputs": [
    {
     "data": {
      "text/plain": [
       "[('a', 1), ('b', 0)]"
      ]
     },
     "execution_count": 74,
     "metadata": {},
     "output_type": "execute_result"
    }
   ],
   "source": [
    "sorted({\"a\": 1, \"b\": 0}.items(), reverse=True, key=lambda x: x[1])"
   ]
  },
  {
   "cell_type": "code",
   "execution_count": 75,
   "id": "5e261cf8",
   "metadata": {},
   "outputs": [
    {
     "ename": "TypeError",
     "evalue": "sequence item 0: expected str instance, int found",
     "output_type": "error",
     "traceback": [
      "\u001b[0;31m---------------------------------------------------------------------------\u001b[0m",
      "\u001b[0;31mTypeError\u001b[0m                                 Traceback (most recent call last)",
      "Cell \u001b[0;32mIn[75], line 3\u001b[0m\n\u001b[1;32m      1\u001b[0m liczby \u001b[38;5;241m=\u001b[39m [\u001b[38;5;241m1\u001b[39m, \u001b[38;5;241m2\u001b[39m, \u001b[38;5;241m3\u001b[39m]\n\u001b[0;32m----> 3\u001b[0m \u001b[38;5;124;43m\"\u001b[39;49m\u001b[38;5;124;43m-\u001b[39;49m\u001b[38;5;124;43m\"\u001b[39;49m\u001b[38;5;241;43m.\u001b[39;49m\u001b[43mjoin\u001b[49m\u001b[43m(\u001b[49m\u001b[43mliczby\u001b[49m\u001b[43m)\u001b[49m\n",
      "\u001b[0;31mTypeError\u001b[0m: sequence item 0: expected str instance, int found"
     ]
    }
   ],
   "source": [
    "liczby = [1, 2, 3]\n",
    "\n",
    "\"-\".join(liczby)"
   ]
  },
  {
   "cell_type": "code",
   "execution_count": 76,
   "id": "b3dd52dd",
   "metadata": {},
   "outputs": [
    {
     "data": {
      "text/plain": [
       "'1-2-3'"
      ]
     },
     "execution_count": 76,
     "metadata": {},
     "output_type": "execute_result"
    }
   ],
   "source": [
    "\"-\".join(map(str, liczby))"
   ]
  },
  {
   "cell_type": "code",
   "execution_count": 77,
   "id": "26f9e117",
   "metadata": {},
   "outputs": [
    {
     "data": {
      "text/plain": [
       "[1, 8, 27]"
      ]
     },
     "execution_count": 77,
     "metadata": {},
     "output_type": "execute_result"
    }
   ],
   "source": [
    "list(map(lambda x: x**3, liczby))"
   ]
  },
  {
   "cell_type": "code",
   "execution_count": 78,
   "id": "ff20d39e",
   "metadata": {},
   "outputs": [
    {
     "data": {
      "text/plain": [
       "[1, 8, 27]"
      ]
     },
     "execution_count": 78,
     "metadata": {},
     "output_type": "execute_result"
    }
   ],
   "source": [
    "[x**3 for x in liczby]"
   ]
  },
  {
   "cell_type": "code",
   "execution_count": 80,
   "id": "cf29eb7f",
   "metadata": {},
   "outputs": [
    {
     "data": {
      "text/plain": [
       "[2, 3]"
      ]
     },
     "execution_count": 80,
     "metadata": {},
     "output_type": "execute_result"
    }
   ],
   "source": [
    "list(filter(lambda x: x>=2, liczby))"
   ]
  },
  {
   "cell_type": "code",
   "execution_count": 81,
   "id": "fccb00fd",
   "metadata": {},
   "outputs": [],
   "source": [
    "from functools import reduce"
   ]
  },
  {
   "cell_type": "code",
   "execution_count": 82,
   "id": "6d07bae1",
   "metadata": {},
   "outputs": [
    {
     "name": "stdout",
     "output_type": "stream",
     "text": [
      "6\n"
     ]
    }
   ],
   "source": [
    "print(reduce(lambda x, y: x + y, liczby))"
   ]
  },
  {
   "cell_type": "code",
   "execution_count": 84,
   "id": "54d3d2a9",
   "metadata": {},
   "outputs": [
    {
     "data": {
      "text/plain": [
       "False"
      ]
     },
     "execution_count": 84,
     "metadata": {},
     "output_type": "execute_result"
    }
   ],
   "source": [
    "# funkcje logiczne, porownawcze\n",
    "\n",
    "all([1, 2, 0])  # 1 and 2 and 0"
   ]
  },
  {
   "cell_type": "code",
   "execution_count": 89,
   "id": "627fd878",
   "metadata": {},
   "outputs": [
    {
     "ename": "ZeroDivisionError",
     "evalue": "division by zero",
     "output_type": "error",
     "traceback": [
      "\u001b[0;31m---------------------------------------------------------------------------\u001b[0m",
      "\u001b[0;31mZeroDivisionError\u001b[0m                         Traceback (most recent call last)",
      "Cell \u001b[0;32mIn[89], line 1\u001b[0m\n\u001b[0;32m----> 1\u001b[0m \u001b[38;5;28many\u001b[39m([\u001b[38;5;28;01mTrue\u001b[39;00m, \u001b[38;5;241m0\u001b[39m, \u001b[38;5;241;43m1\u001b[39;49m\u001b[38;5;241;43m/\u001b[39;49m\u001b[38;5;241;43m0\u001b[39;49m]) \u001b[38;5;66;03m# False or 0 or 1\u001b[39;00m\n",
      "\u001b[0;31mZeroDivisionError\u001b[0m: division by zero"
     ]
    }
   ],
   "source": [
    "any([False, 0, 1]) # Fals"
   ]
  },
  {
   "cell_type": "code",
   "execution_count": null,
   "id": "1c51e398",
   "metadata": {},
   "outputs": [],
   "source": [
    "id()"
   ]
  },
  {
   "cell_type": "code",
   "execution_count": 86,
   "id": "4edd2c4e",
   "metadata": {},
   "outputs": [],
   "source": [
    "x = 1"
   ]
  },
  {
   "cell_type": "code",
   "execution_count": 88,
   "id": "aab7e630",
   "metadata": {},
   "outputs": [
    {
     "name": "stdout",
     "output_type": "stream",
     "text": [
      "x\n"
     ]
    }
   ],
   "source": [
    "if x == 1 or x == 1/0 or x == 2:\n",
    "    print(\"x\")"
   ]
  },
  {
   "cell_type": "code",
   "execution_count": 90,
   "id": "9481ad76",
   "metadata": {},
   "outputs": [
    {
     "data": {
      "text/plain": [
       "3"
      ]
     },
     "execution_count": 90,
     "metadata": {},
     "output_type": "execute_result"
    }
   ],
   "source": [
    "len(liczby)"
   ]
  },
  {
   "cell_type": "code",
   "execution_count": 91,
   "id": "bed8629f",
   "metadata": {},
   "outputs": [
    {
     "data": {
      "text/plain": [
       "[1, 2, 3]"
      ]
     },
     "execution_count": 91,
     "metadata": {},
     "output_type": "execute_result"
    }
   ],
   "source": [
    "liczby"
   ]
  },
  {
   "cell_type": "code",
   "execution_count": 92,
   "id": "9148f050",
   "metadata": {},
   "outputs": [],
   "source": [
    "liczby.remove(2)"
   ]
  },
  {
   "cell_type": "code",
   "execution_count": 93,
   "id": "82ae686c",
   "metadata": {},
   "outputs": [
    {
     "data": {
      "text/plain": [
       "[1, 3]"
      ]
     },
     "execution_count": 93,
     "metadata": {},
     "output_type": "execute_result"
    }
   ],
   "source": [
    "liczby"
   ]
  },
  {
   "cell_type": "code",
   "execution_count": 94,
   "id": "65027614",
   "metadata": {},
   "outputs": [],
   "source": [
    "# operacje we/wy"
   ]
  },
  {
   "cell_type": "code",
   "execution_count": 96,
   "id": "df05dc25",
   "metadata": {},
   "outputs": [
    {
     "data": {
      "text/plain": [
       "(<function print>,\n",
       " <bound method Kernel.raw_input of <ipykernel.ipkernel.IPythonKernel object at 0x10986ff10>>,\n",
       " <function io.open(file, mode='r', buffering=-1, encoding=None, errors=None, newline=None, closefd=True, opener=None)>)"
      ]
     },
     "execution_count": 96,
     "metadata": {},
     "output_type": "execute_result"
    }
   ],
   "source": [
    "print, input, open"
   ]
  },
  {
   "cell_type": "code",
   "execution_count": 97,
   "id": "735be3df",
   "metadata": {},
   "outputs": [
    {
     "data": {
      "text/plain": [
       "(Type help() for interactive help, or help(object) for help about object.,\n",
       " <function dir>,\n",
       " <function locals()>,\n",
       " <function globals()>,\n",
       " <function vars>,\n",
       " <function callable(obj, /)>)"
      ]
     },
     "execution_count": 97,
     "metadata": {},
     "output_type": "execute_result"
    }
   ],
   "source": [
    "# funkcje pomocnicze\n",
    "\n",
    "help, dir, locals, globals, vars, callable, "
   ]
  },
  {
   "cell_type": "code",
   "execution_count": 100,
   "id": "86216d48",
   "metadata": {},
   "outputs": [
    {
     "data": {
      "text/plain": [
       "{'x': 1, 'y': 2}"
      ]
     },
     "execution_count": 100,
     "metadata": {},
     "output_type": "execute_result"
    }
   ],
   "source": [
    "class Foo:\n",
    "    def __init__(self):\n",
    "        self.x = 1\n",
    "        self.y = 2\n",
    "    \n",
    "f = Foo()\n",
    "vars(f)"
   ]
  },
  {
   "cell_type": "code",
   "execution_count": 102,
   "id": "6b717ce2",
   "metadata": {},
   "outputs": [
    {
     "data": {
      "text/plain": [
       "False"
      ]
     },
     "execution_count": 102,
     "metadata": {},
     "output_type": "execute_result"
    }
   ],
   "source": [
    "callable([1, 2])\n"
   ]
  },
  {
   "cell_type": "code",
   "execution_count": null,
   "id": "bc623709",
   "metadata": {},
   "outputs": [],
   "source": [
    "exec, eval"
   ]
  },
  {
   "cell_type": "code",
   "execution_count": 103,
   "id": "57b57562",
   "metadata": {},
   "outputs": [
    {
     "name": "stdout",
     "output_type": "stream",
     "text": [
      "1\n"
     ]
    }
   ],
   "source": [
    "exec(\"x=1;print(x)\")"
   ]
  },
  {
   "cell_type": "code",
   "execution_count": 104,
   "id": "abb5af62",
   "metadata": {},
   "outputs": [
    {
     "name": "stdout",
     "output_type": "stream",
     "text": [
      "1\n"
     ]
    }
   ],
   "source": [
    "x=1;print(x)"
   ]
  },
  {
   "cell_type": "code",
   "execution_count": 105,
   "id": "37872c6d",
   "metadata": {},
   "outputs": [
    {
     "data": {
      "text/plain": [
       "3"
      ]
     },
     "execution_count": 105,
     "metadata": {},
     "output_type": "execute_result"
    }
   ],
   "source": [
    "eval(\"1+2\")\n",
    "\n"
   ]
  },
  {
   "cell_type": "code",
   "execution_count": 106,
   "id": "e7a1b21a",
   "metadata": {},
   "outputs": [
    {
     "name": "stdout",
     "output_type": "stream",
     "text": [
      "ala ma kota\n"
     ]
    }
   ],
   "source": [
    "# first-class citizens\n",
    "\n",
    "x = print\n",
    "\n",
    "x(\"ala ma kota\")"
   ]
  },
  {
   "cell_type": "code",
   "execution_count": 107,
   "id": "2e02dea1",
   "metadata": {},
   "outputs": [],
   "source": [
    "print = 1\n",
    "\n"
   ]
  },
  {
   "cell_type": "code",
   "execution_count": 109,
   "id": "a0558466",
   "metadata": {},
   "outputs": [],
   "source": [
    "print = x"
   ]
  },
  {
   "cell_type": "code",
   "execution_count": 111,
   "id": "2016cf5d",
   "metadata": {},
   "outputs": [
    {
     "name": "stdout",
     "output_type": "stream",
     "text": [
      "Wywołuję funkcję foo\n",
      "xxx\n"
     ]
    }
   ],
   "source": [
    "# funkcja jako argument innej funkcji\n",
    "\n",
    "def caller(func):\n",
    "    print(f\"Wywołuję funkcję {func.__name__}\")\n",
    "    func()\n",
    "    \n",
    "\n",
    "def foo():\n",
    "    print(\"xxx\")\n",
    "    \n",
    "caller(foo)"
   ]
  },
  {
   "cell_type": "code",
   "execution_count": 112,
   "id": "5b5c3a8b",
   "metadata": {},
   "outputs": [
    {
     "ename": "NameError",
     "evalue": "name 'apply_function_twice' is not defined",
     "output_type": "error",
     "traceback": [
      "\u001b[0;31m---------------------------------------------------------------------------\u001b[0m",
      "\u001b[0;31mNameError\u001b[0m                                 Traceback (most recent call last)",
      "Cell \u001b[0;32mIn[112], line 1\u001b[0m\n\u001b[0;32m----> 1\u001b[0m \u001b[43mapply_function_twice\u001b[49m(square, \u001b[38;5;241m5\u001b[39m) \u001b[38;5;241m==\u001b[39m (\u001b[38;5;241m5\u001b[39m \u001b[38;5;241m*\u001b[39m\u001b[38;5;241m*\u001b[39m \u001b[38;5;241m2\u001b[39m) \u001b[38;5;241m*\u001b[39m\u001b[38;5;241m*\u001b[39m \u001b[38;5;241m2\u001b[39m\n",
      "\u001b[0;31mNameError\u001b[0m: name 'apply_function_twice' is not defined"
     ]
    }
   ],
   "source": [
    "apply_function_twice(square, 5) == (5 ** 2) ** 2"
   ]
  },
  {
   "cell_type": "code",
   "execution_count": null,
   "id": "81bfa14b",
   "metadata": {},
   "outputs": [],
   "source": [
    "lista = [1, 2, 3, 4, 5, 6, 7, 8]\n",
    "\n",
    "assert apply_filter(lista, parzyste) == [2, 4, 6, 8]\n",
    "\n",
    "apply_filter(lista, lambda x: x > 5) == [6, 7, 8]"
   ]
  }
 ],
 "metadata": {
  "kernelspec": {
   "display_name": "Python 3 (ipykernel)",
   "language": "python",
   "name": "python3"
  },
  "language_info": {
   "codemirror_mode": {
    "name": "ipython",
    "version": 3
   },
   "file_extension": ".py",
   "mimetype": "text/x-python",
   "name": "python",
   "nbconvert_exporter": "python",
   "pygments_lexer": "ipython3",
   "version": "3.10.7"
  },
  "toc": {
   "base_numbering": 1,
   "nav_menu": {},
   "number_sections": true,
   "sideBar": true,
   "skip_h1_title": false,
   "title_cell": "Table of Contents",
   "title_sidebar": "Contents",
   "toc_cell": false,
   "toc_position": {},
   "toc_section_display": true,
   "toc_window_display": false
  }
 },
 "nbformat": 4,
 "nbformat_minor": 5
}
