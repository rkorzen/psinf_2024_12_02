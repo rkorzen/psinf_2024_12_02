{
 "cells": [
  {
   "cell_type": "markdown",
   "id": "8eedb3b9-a1f7-4289-bbb6-3f18d489897d",
   "metadata": {},
   "source": [
    "## Singleton"
   ]
  },
  {
   "cell_type": "code",
   "execution_count": 6,
   "id": "371f76b5-cb17-4939-ba10-bbafbd4755af",
   "metadata": {},
   "outputs": [
    {
     "name": "stdout",
     "output_type": "stream",
     "text": [
      "metoda instancji\n",
      "metoda instancji\n",
      "metoda klasowa\n",
      "Metoda statyczna\n"
     ]
    }
   ],
   "source": [
    "class Foo:\n",
    "    x = 1\n",
    "    \n",
    "    def bar1(self):\n",
    "        \n",
    "        print(\"metoda instancji\")\n",
    "\n",
    "    @classmethod\n",
    "    def bar2(cls, lista):\n",
    "        output = [cls() for el in lista]\n",
    "        return output\n",
    "        \n",
    "    \n",
    "    @staticmethod\n",
    "    def baz():\n",
    "        Foo.x\n",
    "        print(\"Metoda statyczna\")\n",
    "\n",
    "inst = Foo()\n",
    "Foo.bar1(x)\n",
    "\n",
    "inst.bar1()\n",
    "inst.x\n",
    "Foo.bar2()\n",
    "\n",
    "Foo.baz()"
   ]
  },
  {
   "cell_type": "code",
   "execution_count": null,
   "id": "ceddf2d2-208b-4cee-8402-77404e59ad04",
   "metadata": {},
   "outputs": [],
   "source": []
  },
  {
   "cell_type": "code",
   "execution_count": null,
   "id": "f1e3edaf-fe01-45c1-9d5d-8df79b1bfd11",
   "metadata": {},
   "outputs": [],
   "source": []
  },
  {
   "cell_type": "code",
   "execution_count": 7,
   "id": "21ebf704-5fdc-4da2-b689-87d85fb012e6",
   "metadata": {},
   "outputs": [
    {
     "data": {
      "text/plain": [
       "True"
      ]
     },
     "execution_count": 7,
     "metadata": {},
     "output_type": "execute_result"
    }
   ],
   "source": [
    "class Logger:\n",
    "    _instance = None\n",
    "\n",
    "    def __new__(cls, *args, **kwargs):\n",
    "        if not cls._instance:\n",
    "            cls._instance = super().__new__(cls, *args, **kwargs)\n",
    "        return cls._instance\n",
    "\n",
    "    def log(self, message):\n",
    "        print(f\"[LOG] {message}\")\n",
    "\n",
    "\n",
    "logger1 = Logger()\n",
    "logger2 = Logger()\n",
    "\n",
    "logger1 is logger2\n"
   ]
  },
  {
   "cell_type": "code",
   "execution_count": 9,
   "id": "bd1ff6e5-f068-4117-ab15-289217f85607",
   "metadata": {},
   "outputs": [],
   "source": [
    "## Factory Method\n",
    "import enum\n",
    "from abc import ABC, abstractmethod\n",
    "\n",
    "\n",
    "class DocType(enum.Enum):\n",
    "    PDF = \"pdf\"\n",
    "    DOCX = \"docx\""
   ]
  },
  {
   "cell_type": "code",
   "execution_count": 18,
   "id": "11fa36c4-cc22-432c-b0af-330ee85c927a",
   "metadata": {},
   "outputs": [
    {
     "data": {
      "text/plain": [
       "<DocType.PDF: 'pdf'>"
      ]
     },
     "execution_count": 18,
     "metadata": {},
     "output_type": "execute_result"
    }
   ],
   "source": [
    "DocType(\"pdf\")\n",
    "\n",
    "\n",
    "\n"
   ]
  },
  {
   "cell_type": "code",
   "execution_count": 20,
   "id": "013694a3-89d4-44aa-83cb-6e2d6c52452c",
   "metadata": {},
   "outputs": [
    {
     "name": "stdout",
     "output_type": "stream",
     "text": [
      "Rendering PDF...\n",
      "None\n"
     ]
    }
   ],
   "source": [
    "class Document(ABC):\n",
    "    @abstractmethod\n",
    "    def render(self): pass\n",
    "\n",
    "class PDFDocument(Document):\n",
    "    def render(self): print(\"Rendering PDF...\")\n",
    "\n",
    "class WordDocument(Document):\n",
    "    def render(self): print(\"Rendering Docx...\")\n",
    "\n",
    "\n",
    "class DocumentFactory:\n",
    "\n",
    "    @staticmethod\n",
    "    def create_document(doc_type: DocType):\n",
    "        \n",
    "        if doc_type == DocType.PDF:\n",
    "            return PDFDocument()\n",
    "        elif doc_type == DocType.DOCX:\n",
    "            return WordDocument()\n",
    "        raise ValueError(\"Unknown document type\")\n",
    "\n",
    "\n",
    "document = DocumentFactory.create_document(DocType.PDF)\n",
    "print(document.render())\n",
    "\n",
    "    "
   ]
  },
  {
   "cell_type": "code",
   "execution_count": 22,
   "id": "443a160d-9f00-4d84-869a-5c17629540e0",
   "metadata": {},
   "outputs": [
    {
     "name": "stdout",
     "output_type": "stream",
     "text": [
      "User Alice received message: Your order has been shipped!\n",
      "User Wojtek received message: Your order has been shipped!\n"
     ]
    }
   ],
   "source": [
    "## Observer\n",
    "\n",
    "class Observable:\n",
    "    def __init__(self):\n",
    "        self._observers: list[User] = []\n",
    "\n",
    "    def add_observer(self, observer):\n",
    "        self._observers.append(observer)\n",
    "\n",
    "    def notify(self, message):\n",
    "        for observer in self._observers:\n",
    "            observer.update(message)\n",
    "\n",
    "\n",
    "class User:\n",
    "    def __init__(self, name):\n",
    "        self.name = name\n",
    "\n",
    "    def update(self, message):\n",
    "        print(f\"User {self.name} received message: {message}\")\n",
    "\n",
    "\n",
    "obs = Observable()\n",
    "user1 = User(\"Alice\")\n",
    "user2 = User(\"Wojtek\")\n",
    "\n",
    "obs.add_observer(user1)\n",
    "obs.add_observer(user2)\n",
    "\n",
    "obs.notify(\"Your order has been shipped!\")\n",
    "\n"
   ]
  },
  {
   "cell_type": "code",
   "execution_count": null,
   "id": "be1070ec-5659-4558-890b-ddfc540b5d8f",
   "metadata": {},
   "outputs": [],
   "source": [
    "## Facade\n",
    "\n",
    "class DVDPlayer:\n",
    "    def on(self): print(\"DVD is On\")\n",
    "\n",
    "    def play(self, movie): print(f\"Playing movie: {movie}\")\n",
    "\n",
    "\n",
    "class SoundSystem:\n",
    "    def on(self): print(\"Sound System is On\")\n",
    "\n",
    "    def set_volume(self, level): print(f\"Sound volume set to {level}\")\n",
    " \n",
    "...\n",
    "\n",
    "\n",
    "class HTFacade:\n",
    "\n",
    "    def __init__(self, dvd: DVPPlayer, audio: SoundSystem):\n",
    "        self.dvd = dvd\n",
    "        self.audio = audio\n",
    "\n",
    "    def wath_movie(self, movie):\n",
    "        self.dvd.on()\n",
    "        self.audio.on()\n",
    "        self.audio.set_volume(20)\n",
    "        self.dvd.play(movie)\n",
    "\n",
    "\n",
    "dvd = DVDPlayer()\n",
    "audio = SoundSystem()\n",
    "\n",
    "ht = HTFacade(dvd, audio)\n",
    "ht.watch_movie(\"The Matrix\")\n",
    "\n",
    "    \n"
   ]
  },
  {
   "cell_type": "code",
   "execution_count": null,
   "id": "20bad5b9-0960-4385-87b7-6e41a82729ea",
   "metadata": {},
   "outputs": [],
   "source": []
  },
  {
   "cell_type": "code",
   "execution_count": null,
   "id": "e5b2d909-6bee-4fc8-aeaa-e409e23b270b",
   "metadata": {},
   "outputs": [],
   "source": [
    "## Adapter\n",
    "\n",
    "class PGDB\n",
    "\n",
    "    def x()\n",
    "\n",
    "    def y()\n",
    "\n",
    "class MSQLDB:\n",
    "    def x1()\n",
    "\n",
    "    def y1()\n",
    "\n",
    "\n",
    "class Adapter:\n",
    "\n",
    "    @abstractmethod\n",
    "    def connect(self):\n",
    "        ...\n",
    "        \n",
    "\n",
    "class AdapterPGDB:\n",
    "    def __init__(self, db: PGDB)\n",
    "        self.db = db\n",
    "    def connect():\n",
    "        seld.db.x()\n",
    "\n",
    "\n",
    "class AdapterMSQLDB:\n",
    "    def __init__(self, db: MSQLDB)\n",
    "        self.db = db\n",
    "    def connect():\n",
    "        seld.db.x1()\n",
    "        \n",
    "\n",
    "\n"
   ]
  },
  {
   "cell_type": "code",
   "execution_count": 24,
   "id": "09dca797-3c16-4ef4-b375-c455bb26ab94",
   "metadata": {},
   "outputs": [
    {
     "name": "stdout",
     "output_type": "stream",
     "text": [
      "cos przed\n",
      "Jestem foo\n",
      "cos po\n"
     ]
    }
   ],
   "source": [
    "def decorator(func):\n",
    "    def wrapper(*args, **kwargs):\n",
    "        print(\"cos przed\")\n",
    "        r = func(*args, **kwargs)\n",
    "        print(\"cos po\")\n",
    "        return r\n",
    "\n",
    "    return wrapper\n",
    "\n",
    "\n",
    "@decorator\n",
    "def foo():\n",
    "    print(\"Jestem foo\")\n",
    "\n",
    "\n",
    "foo()"
   ]
  },
  {
   "cell_type": "code",
   "execution_count": 27,
   "id": "80ed5625-60bc-4098-af1d-1785036c84f2",
   "metadata": {},
   "outputs": [
    {
     "name": "stdout",
     "output_type": "stream",
     "text": [
      "cos przed\n",
      "Jestem foo\n",
      "Jestem foo\n",
      "cos po\n"
     ]
    }
   ],
   "source": [
    "def my_dec(n):\n",
    "    def decorator(func):\n",
    "        def wrapper(*args, **kwargs):\n",
    "            print(\"cos przed\")\n",
    "            for i in range(n):\n",
    "                func(*args, **kwargs)\n",
    "            print(\"cos po\")\n",
    "\n",
    "    \n",
    "        return wrapper\n",
    "    return decorator\n",
    "\n",
    "\n",
    "@my_dec(2)\n",
    "def foo():\n",
    "    print(\"Jestem foo\")\n",
    "\n",
    "\n",
    "foo()"
   ]
  },
  {
   "cell_type": "code",
   "execution_count": 29,
   "id": "9fbd0a4a-422d-42c1-99f9-7d6fb0f03f63",
   "metadata": {},
   "outputs": [
    {
     "ename": "TypeError",
     "evalue": "'NoneType' object is not callable",
     "output_type": "error",
     "traceback": [
      "\u001b[0;31m---------------------------------------------------------------------------\u001b[0m",
      "\u001b[0;31mTypeError\u001b[0m                                 Traceback (most recent call last)",
      "Cell \u001b[0;32mIn[29], line 8\u001b[0m\n\u001b[1;32m      4\u001b[0m \u001b[38;5;129m@class_decorator\u001b[39m\n\u001b[1;32m      5\u001b[0m \u001b[38;5;28;01mclass\u001b[39;00m \u001b[38;5;21;01mMyClass\u001b[39;00m:\n\u001b[1;32m      6\u001b[0m     \u001b[38;5;28;01mpass\u001b[39;00m\n\u001b[0;32m----> 8\u001b[0m obj \u001b[38;5;241m=\u001b[39m \u001b[43mMyClass\u001b[49m\u001b[43m(\u001b[49m\u001b[43m)\u001b[49m\n\u001b[1;32m      9\u001b[0m obj\u001b[38;5;241m.\u001b[39mnew_method()\n",
      "\u001b[0;31mTypeError\u001b[0m: 'NoneType' object is not callable"
     ]
    }
   ],
   "source": [
    "def class_decorator(cls):\n",
    "    cls.new_method = lambda self: print(\"self\")\n",
    "    return cls\n",
    "\n",
    "\n",
    "@class_decorator\n",
    "class MyClass:\n",
    "    pass\n",
    "\n",
    "obj = MyClass()\n",
    "obj.new_method()"
   ]
  },
  {
   "cell_type": "code",
   "execution_count": null,
   "id": "fa3c6798-be11-423a-a75d-88395279c1ef",
   "metadata": {},
   "outputs": [],
   "source": [
    "10:37"
   ]
  },
  {
   "cell_type": "code",
   "execution_count": null,
   "id": "d32fa64e-5d2f-425e-825f-c5ffd3f6f639",
   "metadata": {},
   "outputs": [],
   "source": []
  },
  {
   "cell_type": "code",
   "execution_count": null,
   "id": "38bbb04b-ecb7-4037-b1b6-4bd12d312216",
   "metadata": {},
   "outputs": [],
   "source": []
  },
  {
   "cell_type": "code",
   "execution_count": null,
   "id": "bbe19ced-a065-44e3-a7bb-2d3c1b684f4b",
   "metadata": {},
   "outputs": [],
   "source": []
  },
  {
   "cell_type": "code",
   "execution_count": null,
   "id": "c3744186-9676-478d-b87b-191f40f2b78e",
   "metadata": {},
   "outputs": [],
   "source": []
  },
  {
   "cell_type": "code",
   "execution_count": null,
   "id": "27473c70-d7f1-48c7-a456-3f6e4d498681",
   "metadata": {},
   "outputs": [],
   "source": []
  }
 ],
 "metadata": {
  "kernelspec": {
   "display_name": "Python 3 (ipykernel)",
   "language": "python",
   "name": "python3"
  },
  "language_info": {
   "codemirror_mode": {
    "name": "ipython",
    "version": 3
   },
   "file_extension": ".py",
   "mimetype": "text/x-python",
   "name": "python",
   "nbconvert_exporter": "python",
   "pygments_lexer": "ipython3",
   "version": "3.13.0"
  }
 },
 "nbformat": 4,
 "nbformat_minor": 5
}
