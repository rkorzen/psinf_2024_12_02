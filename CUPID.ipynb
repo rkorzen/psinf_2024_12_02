{
 "cells": [
  {
   "cell_type": "code",
   "execution_count": 2,
   "id": "821bfe04-5c10-48c3-8ba1-1709b9170f1d",
   "metadata": {},
   "outputs": [
    {
     "data": {
      "text/plain": [
       "'Electric waves'"
      ]
     },
     "execution_count": 2,
     "metadata": {},
     "output_type": "execute_result"
    }
   ],
   "source": [
    "# C - Composition over inheritance\n",
    "\n",
    "class Animal:\n",
    "    def speak(self):\n",
    "        pass\n",
    "\n",
    "class Dog(Animal):\n",
    "    def speak(self): return \"hau\"\n",
    "\n",
    "class RobotDog(Dog):\n",
    "    def speak(self): return \"Electric waves\"\n",
    "\n",
    "###\n",
    "\n",
    "class Speaker:\n",
    "    def speak(self): pass\n",
    "\n",
    "class DogSpeaker(Speaker):\n",
    "    def speak(self): return \"hau\"\n",
    "\n",
    "class ElectronicSpeaker(Speaker):\n",
    "    def speak(self): return \"Electric waves\"\n",
    "\n",
    "class RobotDog:\n",
    "    def __init__(self, speaker: Speaker):\n",
    "        self.speaker = speaker\n",
    "\n",
    "    def speak(self):\n",
    "        return self.speaker.speak()\n",
    "\n",
    "robot_dog = RobotDog(ElectronicSpeaker())\n",
    "robot_dog.speak()"
   ]
  },
  {
   "cell_type": "code",
   "execution_count": null,
   "id": "775de94a-5204-47a7-8312-ad5d12bc5c24",
   "metadata": {},
   "outputs": [],
   "source": [
    "# Unix Philosophy\n",
    "\n",
    "class UserManager:\n",
    "    def create_user(self, username):\n",
    "        print(f\"User {username} creation...\")\n",
    "        \n",
    "\n",
    "    def log_actions(self, username, action):\n",
    "        print(f\"log: action {action}, username: {username}\")\n",
    "    \n",
    "###\n",
    "\n",
    "class UserManager:\n",
    "    def create_user(self, username):\n",
    "        print(f\"User {username} creation...\")\n",
    "\n",
    "class ActionLogger:\n",
    "    def log_actions(self, username, action):\n",
    "        print(f\"log: action {action}, username: {username}\")\n",
    "\n"
   ]
  },
  {
   "cell_type": "code",
   "execution_count": 8,
   "id": "307a4868-9d94-4412-85e1-d0c2015bdb14",
   "metadata": {},
   "outputs": [
    {
     "data": {
      "text/plain": [
       "3"
      ]
     },
     "execution_count": 8,
     "metadata": {},
     "output_type": "execute_result"
    }
   ],
   "source": [
    "# P = Predictability\n",
    "\n",
    "class Calculator:\n",
    "\n",
    "    def calculate(self, a, b, operation):\n",
    "        if operation == \"add\":\n",
    "            return a + b\n",
    "        elif operation == \"sub\":\n",
    "            ...\n",
    "\n",
    "\n",
    "###\n",
    "\n",
    "class Adder:\n",
    "    def calculate(self, a, b):\n",
    "        return a + b\n",
    "\n",
    "class Substractor:\n",
    "    def calculate(self, a, b):\n",
    "        return a - b\n",
    "\n",
    "\n",
    "adder = Adder()\n",
    "adder.calculate(1, 2)\n",
    "\n",
    "\n",
    "substractor = Substractor()\n",
    "\n",
    "\n",
    "oprations = {\n",
    "    \"add\": adder,\n",
    "    \"sub\": substractor\n",
    "}\n",
    "\n",
    "oprations[\"add\"].calculate(1, 2)\n",
    "\n",
    "\n"
   ]
  },
  {
   "cell_type": "code",
   "execution_count": 12,
   "id": "690aa1bc-8e58-4b10-bcb5-3650dd208caa",
   "metadata": {},
   "outputs": [],
   "source": [
    "## I - interfaces\n",
    "class FileProcessor:\n",
    "    def read_file(self, filepath):\n",
    "        with open(filepath) as file:\n",
    "            return file.read()\n",
    "\n",
    "## \n",
    "\n",
    "from abc import ABC, abstractmethod\n",
    "\n",
    "class FileReader(ABC):\n",
    "    @abstractmethod\n",
    "    def read(self, filepath):\n",
    "        pass\n",
    "\n",
    "class LocalFileReader(FileReader):\n",
    "    def read(self, filepath):\n",
    "        with open(filepath) as file:\n",
    "            return file.read()\n",
    "\n",
    "\n",
    "reader: FileReader = LocalFileReader()"
   ]
  },
  {
   "cell_type": "code",
   "execution_count": 13,
   "id": "9dcdc6bd-a7be-4d7a-ae21-637736fab758",
   "metadata": {},
   "outputs": [],
   "source": [
    "## D- Domain driven desing\n",
    "\n",
    "class Processor:\n",
    "    def process(self, data):\n",
    "        print(\"Processing...\")\n",
    "\n",
    "### \n",
    "\n",
    "class InvoiceProcessor:\n",
    "    ...\n"
   ]
  },
  {
   "cell_type": "code",
   "execution_count": null,
   "id": "b79b6111-8ec0-4126-a415-e1683a3ad808",
   "metadata": {},
   "outputs": [],
   "source": []
  }
 ],
 "metadata": {
  "kernelspec": {
   "display_name": "Python 3 (ipykernel)",
   "language": "python",
   "name": "python3"
  },
  "language_info": {
   "codemirror_mode": {
    "name": "ipython",
    "version": 3
   },
   "file_extension": ".py",
   "mimetype": "text/x-python",
   "name": "python",
   "nbconvert_exporter": "python",
   "pygments_lexer": "ipython3",
   "version": "3.13.0"
  }
 },
 "nbformat": 4,
 "nbformat_minor": 5
}
