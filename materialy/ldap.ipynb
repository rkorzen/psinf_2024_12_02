{
 "cells": [
  {
   "cell_type": "markdown",
   "metadata": {},
   "source": [
    "# **Kompletny Tutorial: Docker LDAP + Python**\n",
    "\n",
    "Ten tutorial krok po kroku pokaże, jak skonfigurować serwer LDAP za pomocą Dockera oraz jak pracować z nim w Pythonie.\n",
    "\n",
    "---\n",
    "\n",
    "## **Część 1: Uruchomienie LDAP za pomocą Dockera**\n",
    "\n",
    "### **1.1 Pobranie i uruchomienie kontenera OpenLDAP**\n",
    "Uruchom OpenLDAP w kontenerze Docker:\n"
   ]
  },
  {
   "cell_type": "code",
   "execution_count": 1,
   "metadata": {},
   "outputs": [
    {
     "name": "stdout",
     "output_type": "stream",
     "text": [
      "9ef308f05f746c3083e45d2d87a511ebb1f4f488c0d245faebaf3e32ac69bb51\n"
     ]
    }
   ],
   "source": [
    "\n",
    "!docker run --name openldap -p 389:389 -p 636:636 -e LDAP_ORGANISATION=\"Example Inc.\" -e LDAP_DOMAIN=\"example.org\" -e LDAP_ADMIN_PASSWORD=\"admin\" -d osixia/openldap:latest\n"
   ]
  },
  {
   "cell_type": "markdown",
   "metadata": {},
   "source": [
    "\n",
    "- **LDAP_ORGANISATION**: Nazwa organizacji.\n",
    "- **LDAP_DOMAIN**: Nazwa domeny.\n",
    "- **LDAP_ADMIN_PASSWORD**: Hasło administratora LDAP.\n",
    "\n",
    "### **1.2 Weryfikacja uruchomionego serwera**\n",
    "Sprawdź, czy kontener działa:\n",
    "\n"
   ]
  },
  {
   "cell_type": "code",
   "execution_count": 2,
   "metadata": {},
   "outputs": [
    {
     "name": "stdout",
     "output_type": "stream",
     "text": [
      "CONTAINER ID   IMAGE                    COMMAND                 CREATED          STATUS          PORTS                                        NAMES\n",
      "9ef308f05f74   osixia/openldap:latest   \"/container/tool/run\"   28 seconds ago   Up 27 seconds   0.0.0.0:389->389/tcp, 0.0.0.0:636->636/tcp   openldap\n"
     ]
    }
   ],
   "source": [
    "!docker ps\n"
   ]
  },
  {
   "cell_type": "markdown",
   "metadata": {},
   "source": [
    "\n",
    "\n",
    "### **1.3 Test połączenia do serwera LDAP**\n",
    "Użyj `ldapsearch`, aby sprawdzić konfigurację serwera:\n"
   ]
  },
  {
   "cell_type": "code",
   "execution_count": 3,
   "metadata": {},
   "outputs": [
    {
     "name": "stdout",
     "output_type": "stream",
     "text": [
      "# extended LDIF\n",
      "#\n",
      "# LDAPv3\n",
      "# base <dc=example,dc=org> with scope subtree\n",
      "# filter: (objectClass=*)\n",
      "# requesting: ALL\n",
      "#\n",
      "\n",
      "# example.org\n",
      "dn: dc=example,dc=org\n",
      "objectClass: top\n",
      "objectClass: dcObject\n",
      "objectClass: organization\n",
      "o: Example Inc.\n",
      "dc: example\n",
      "\n",
      "# search result\n",
      "search: 2\n",
      "result: 0 Success\n",
      "\n",
      "# numResponses: 2\n",
      "# numEntries: 1\n"
     ]
    }
   ],
   "source": [
    "\n",
    "!ldapsearch -x -H ldap://localhost -b \"dc=example,dc=org\" -D \"cn=admin,dc=example,dc=org\" -w admin \"(objectClass=*)\"\n"
   ]
  },
  {
   "cell_type": "markdown",
   "metadata": {},
   "source": [
    "\n",
    "\n",
    "Jeśli wszystko działa poprawnie, zobaczysz wynik zawierający wpis `dc=example,dc=org`.\n",
    "\n",
    "---\n",
    "\n",
    "## **Część 2: Dodanie danych do LDAP**\n",
    "\n",
    "### **2.1 Stwórz plik `users.ldif`**\n",
    "Ten plik zawiera wpisy użytkowników i jednostek organizacyjnych:\n",
    "\n"
   ]
  },
  {
   "cell_type": "code",
   "execution_count": 5,
   "metadata": {},
   "outputs": [
    {
     "name": "stdout",
     "output_type": "stream",
     "text": [
      "Writing users.ldif\n"
     ]
    }
   ],
   "source": [
    "%%writefile users.ldif\n",
    "dn: ou=users,dc=example,dc=org\n",
    "objectClass: organizationalUnit\n",
    "ou: users\n",
    "\n",
    "dn: uid=jdoe,ou=users,dc=example,dc=org\n",
    "objectClass: inetOrgPerson\n",
    "cn: John Doe\n",
    "sn: Doe\n",
    "uid: jdoe\n",
    "mail: jdoe@example.org\n",
    "userPassword: password\n"
   ]
  },
  {
   "cell_type": "markdown",
   "metadata": {},
   "source": [
    "\n",
    "\n",
    "### **2.2 Dodaj dane do LDAP**\n",
    "Załaduj plik `users.ldif` do serwera LDAP:\n"
   ]
  },
  {
   "cell_type": "code",
   "execution_count": 6,
   "metadata": {},
   "outputs": [
    {
     "name": "stdout",
     "output_type": "stream",
     "text": [
      "adding new entry \"ou=users,dc=example,dc=org\"\n",
      "\n",
      "adding new entry \"uid=jdoe,ou=users,dc=example,dc=org\"\n",
      "\n"
     ]
    }
   ],
   "source": [
    "!ldapadd -x -H ldap://localhost -D \"cn=admin,dc=example,dc=org\" -w admin -f users.ldif"
   ]
  },
  {
   "cell_type": "markdown",
   "metadata": {},
   "source": [
    "\n",
    "\n",
    "---\n",
    "\n",
    "## **Część 3: Praca z LDAP w Pythonie**\n",
    "\n",
    "### **3.1 Instalacja python-ldap**\n",
    "Zainstaluj bibliotekę:\n",
    "```bash\n",
    "pip install python-ldap\n",
    "```\n"
   ]
  },
  {
   "cell_type": "markdown",
   "metadata": {},
   "source": [
    "\n",
    "### **3.2 Tworzenie skryptu w Pythonie**\n",
    "Stwórz plik `ldap_example.py` z poniższym kodem:\n"
   ]
  },
  {
   "cell_type": "code",
   "execution_count": 11,
   "metadata": {},
   "outputs": [
    {
     "name": "stdout",
     "output_type": "stream",
     "text": [
      "Overwriting ldap_example.py\n"
     ]
    }
   ],
   "source": [
    "%%writefile ldap_example.py\n",
    "\n",
    "import ldap\n",
    "\n",
    "LDAP_SERVER = \"ldap://localhost\"\n",
    "BASE_DN = \"dc=example,dc=org\"\n",
    "ADMIN_DN = \"cn=admin,dc=example,dc=org\"\n",
    "PASSWORD = \"admin\"\n",
    "\n",
    "try:\n",
    "    # Połączenie z serwerem LDAP\n",
    "    conn = ldap.initialize(LDAP_SERVER)\n",
    "    conn.simple_bind_s(ADMIN_DN, PASSWORD)\n",
    "    print(\"Połączono z serwerem LDAP!\")\n",
    "\n",
    "    # Wyszukaj użytkowników\n",
    "    search_filter = \"(objectClass=inetOrgPerson)\"\n",
    "    search_attributes = [\"cn\", \"sn\", \"mail\"]\n",
    "    results = conn.search_s(BASE_DN, ldap.SCOPE_SUBTREE, search_filter, search_attributes)\n",
    "\n",
    "    # Wyświetl wyniki\n",
    "    for dn, entry in results:\n",
    "        print(f\"DN: {dn}\")\n",
    "        for attr, values in entry.items():\n",
    "            print(f\"  {attr}: {values}\")\n",
    "except ldap.LDAPError as e:\n",
    "    print(f\"Błąd LDAP: {e}\")\n",
    "finally:\n",
    "    conn.unbind()\n"
   ]
  },
  {
   "cell_type": "markdown",
   "metadata": {},
   "source": [
    "\n",
    "\n",
    "### **3.3 Uruchomienie skryptu**\n",
    "Uruchom skrypt:\n"
   ]
  },
  {
   "cell_type": "code",
   "execution_count": 12,
   "metadata": {},
   "outputs": [
    {
     "name": "stdout",
     "output_type": "stream",
     "text": [
      "Requirement already satisfied: python-ldap in /Users/rkorzen/PycharmProjects/szkolenia/PSInf/2024_12_02/.venv/lib/python3.13/site-packages (3.4.4)\n",
      "Requirement already satisfied: pyasn1>=0.3.7 in /Users/rkorzen/PycharmProjects/szkolenia/PSInf/2024_12_02/.venv/lib/python3.13/site-packages (from python-ldap) (0.6.1)\n",
      "Requirement already satisfied: pyasn1_modules>=0.1.5 in /Users/rkorzen/PycharmProjects/szkolenia/PSInf/2024_12_02/.venv/lib/python3.13/site-packages (from python-ldap) (0.4.1)\n"
     ]
    }
   ],
   "source": [
    "!pip install python-ldap"
   ]
  },
  {
   "cell_type": "code",
   "execution_count": 13,
   "metadata": {},
   "outputs": [
    {
     "name": "stdout",
     "output_type": "stream",
     "text": [
      "Połączono z serwerem LDAP!\n",
      "DN: uid=jdoe,ou=users,dc=example,dc=org\n",
      "  cn: [b'John Doe']\n",
      "  sn: [b'Doe']\n",
      "  mail: [b'jdoe@example.org']\n"
     ]
    }
   ],
   "source": [
    "!python ldap_example.py"
   ]
  },
  {
   "cell_type": "markdown",
   "metadata": {},
   "source": [
    "\n",
    "\n",
    "Oczekiwany wynik:\n",
    "```plaintext\n",
    "Połączono z serwerem LDAP!\n",
    "DN: uid=jdoe,ou=users,dc=example,dc=org\n",
    "  cn: [b'John Doe']\n",
    "  sn: [b'Doe']\n",
    "  mail: [b'jdoe@example.org']\n",
    "```\n",
    "\n",
    "---\n"
   ]
  },
  {
   "cell_type": "markdown",
   "metadata": {},
   "source": [
    "\n",
    "## **Część 4: Rozszerzone operacje LDAP w Pythonie**\n",
    "\n",
    "### **4.1 Dodawanie nowych użytkowników**\n",
    "Dodaj użytkownika za pomocą Pythona:\n",
    "\n",
    "```python\n",
    "new_user_dn = \"uid=jane,ou=users,dc=example,dc=org\"\n",
    "attributes = {\n",
    "    \"objectClass\": [b\"inetOrgPerson\"],\n",
    "    \"cn\": [b\"Jane Smith\"],\n",
    "    \"sn\": [b\"Smith\"],\n",
    "    \"uid\": [b\"jane\"],\n",
    "    \"mail\": [b\"jane.smith@example.org\"],\n",
    "    \"userPassword\": [b\"password\"]\n",
    "}\n",
    "\n",
    "ldif = [(key, values) for key, values in attributes.items()]\n",
    "\n",
    "try:\n",
    "    conn.add_s(new_user_dn, ldif)\n",
    "    print(\"Dodano nowego użytkownika!\")\n",
    "except ldap.LDAPError as e:\n",
    "    print(f\"Błąd dodawania: {e}\")\n",
    "```\n",
    "\n",
    "### **4.2 Modyfikacja danych użytkownika**\n",
    "Zmień adres e-mail użytkownika:\n",
    "```python\n",
    "user_dn = \"uid=jdoe,ou=users,dc=example,dc=org\"\n",
    "modifications = [\n",
    "    (ldap.MOD_REPLACE, \"mail\", [b\"john.doe@newdomain.org\"]),\n",
    "]\n",
    "\n",
    "try:\n",
    "    conn.modify_s(user_dn, modifications)\n",
    "    print(\"Zaktualizowano dane użytkownika!\")\n",
    "except ldap.LDAPError as e:\n",
    "    print(f\"Błąd modyfikacji: {e}\")\n",
    "```\n",
    "\n",
    "### **4.3 Usuwanie użytkowników**\n",
    "Usuń użytkownika:\n",
    "```python\n",
    "user_dn = \"uid=jane,ou=users,dc=example,dc=org\"\n",
    "\n",
    "try:\n",
    "    conn.delete_s(user_dn)\n",
    "    print(\"Usunięto użytkownika!\")\n",
    "except ldap.LDAPError as e:\n",
    "    print(f\"Błąd usuwania: {e}\")\n",
    "```\n",
    "\n",
    "---\n",
    "\n",
    "## **Podsumowanie**\n",
    "1. Uruchomiłeś serwer LDAP za pomocą Dockera.\n",
    "2. Dodałeś dane do LDAP za pomocą pliku LDIF.\n",
    "3. Odpytujesz LDAP i wykonujesz operacje CRUD w Pythonie.\n"
   ]
  },
  {
   "cell_type": "markdown",
   "metadata": {},
   "source": []
  },
  {
   "cell_type": "markdown",
   "metadata": {},
   "source": []
  },
  {
   "cell_type": "markdown",
   "metadata": {},
   "source": []
  }
 ],
 "metadata": {
  "kernelspec": {
   "display_name": ".venv",
   "language": "python",
   "name": "python3"
  },
  "language_info": {
   "codemirror_mode": {
    "name": "ipython",
    "version": 3
   },
   "file_extension": ".py",
   "mimetype": "text/x-python",
   "name": "python",
   "nbconvert_exporter": "python",
   "pygments_lexer": "ipython3",
   "version": "3.13.0"
  }
 },
 "nbformat": 4,
 "nbformat_minor": 2
}
