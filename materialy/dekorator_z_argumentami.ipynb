{
 "cells": [
  {
   "cell_type": "markdown",
   "metadata": {},
   "source": [
    "Dekoratory w Pythonie, które przyjmują argumenty, to funkcje wyższego rzędu. Składają się one z trzech poziomów zagnieżdżenia:\n",
    "\n",
    "1. Funkcja zewnętrzna, która przyjmuje argumenty dla dekoratora.\n",
    "2. Funkcja środkowa, która przyjmuje funkcję, którą chcemy udekorować.\n",
    "3. Funkcja wewnętrzna, która opakowuje wywołanie udekorowanej funkcji.\n",
    "\n",
    "Oto przykład dekoratora z argumentami:\n",
    "\n"
   ]
  },
  {
   "cell_type": "code",
   "execution_count": 2,
   "metadata": {},
   "outputs": [
    {
     "name": "stdout",
     "output_type": "stream",
     "text": [
      "Przed wywołaniem: my_function, argumenty dekoratora: Hello, World\n",
      "Funkcja my_function: 3 + 4 = 7\n",
      "Po wywołaniu: my_function\n"
     ]
    }
   ],
   "source": [
    "\n",
    "def my_decorator(arg1, arg2):\n",
    "    def decorator(func):\n",
    "        def wrapper(*args, **kwargs):\n",
    "            # Kod wykonywany przed wywołaniem funkcji\n",
    "            print(f\"Przed wywołaniem: {func.__name__}, argumenty dekoratora: {arg1}, {arg2}\")\n",
    "            \n",
    "            # Wywołanie oryginalnej funkcji\n",
    "            result = func(*args, **kwargs)\n",
    "            \n",
    "            # Kod wykonywany po wywołaniu funkcji\n",
    "            print(f\"Po wywołaniu: {func.__name__}\")\n",
    "            return result\n",
    "        return wrapper\n",
    "    return decorator\n",
    "\n",
    "# Użycie dekoratora\n",
    "@my_decorator(\"Hello\", \"World\")\n",
    "def my_function(x, y):\n",
    "    print(f\"Funkcja my_function: {x} + {y} = {x + y}\")\n",
    "\n",
    "# Wywołanie udekorowanej funkcji\n",
    "my_function(3, 4)\n"
   ]
  },
  {
   "cell_type": "markdown",
   "metadata": {},
   "source": [
    "\n",
    "\n",
    "### Wyjaśnienie działania\n",
    "1. **`my_decorator(\"Hello\", \"World\")`**:\n",
    "   - Wywołuje funkcję `my_decorator` z argumentami `\"Hello\"` i `\"World\"`.\n",
    "   - Zwraca funkcję `decorator`.\n",
    "\n",
    "2. **`@decorator`**:\n",
    "   - Ozdabia funkcję `my_function`, czyli przekazuje ją jako argument do funkcji `decorator`.\n",
    "\n",
    "3. **`wrapper(*args, **kwargs)`**:\n",
    "   - Zastępuje oryginalną funkcję `my_function`, wykonując dodatkowe czynności przed i po jej wywołaniu.\n",
    "\n",
    "### Wynik wykonania:\n",
    "```plaintext\n",
    "Przed wywołaniem: my_function, argumenty dekoratora: Hello, World\n",
    "Funkcja my_function: 3 + 4 = 7\n",
    "Po wywołaniu: my_function\n",
    "```\n",
    "\n",
    "W ten sposób można tworzyć dekoratory przyjmujące dowolne argumenty. 🎉"
   ]
  },
  {
   "cell_type": "markdown",
   "metadata": {},
   "source": [
    "Dekoratory mogą być stosowane również do klas, nie tylko funkcji. Taki dekorator przyjmuje klasę jako argument, a następnie zwraca albo zmodyfikowaną wersję tej klasy, albo zupełnie nową klasę.\n",
    "\n",
    "Oto przykład dekoratora dekorującego klasę:\n",
    "\n",
    "### Przykład 1: Prosty dekorator modyfikujący metodę klasy\n"
   ]
  },
  {
   "cell_type": "code",
   "execution_count": 3,
   "metadata": {},
   "outputs": [
    {
     "name": "stdout",
     "output_type": "stream",
     "text": [
      "Cześć, jestem Rafał!\n",
      "Nowa metoda w klasie MyClass\n"
     ]
    }
   ],
   "source": [
    "\n",
    "def class_decorator(cls):\n",
    "    # Dodanie nowej metody do klasy\n",
    "    cls.new_method = lambda self: f\"Nowa metoda w klasie {cls.__name__}\"\n",
    "    return cls\n",
    "\n",
    "@class_decorator\n",
    "class MyClass:\n",
    "    def __init__(self, name):\n",
    "        self.name = name\n",
    "\n",
    "    def greet(self):\n",
    "        return f\"Cześć, jestem {self.name}!\"\n",
    "\n",
    "# Użycie udekorowanej klasy\n",
    "obj = MyClass(\"Rafał\")\n",
    "print(obj.greet())        # Cześć, jestem Rafał!\n",
    "print(obj.new_method())   # Nowa metoda w klasie MyClass\n"
   ]
  },
  {
   "cell_type": "markdown",
   "metadata": {},
   "source": [
    "\n",
    "\n",
    "---\n",
    "\n",
    "### Przykład 2: Dekorator z argumentami dla klasy\n",
    "Jeśli chcesz, aby dekorator przyjmował argumenty, możesz użyć podobnej struktury jak w przypadku dekoratora funkcji z argumentami:\n",
    "\n"
   ]
  },
  {
   "cell_type": "code",
   "execution_count": 4,
   "metadata": {},
   "outputs": [
    {
     "name": "stdout",
     "output_type": "stream",
     "text": [
      "Cześć, jestem Rafał!\n",
      "Hello\n",
      "World\n"
     ]
    }
   ],
   "source": [
    "\n",
    "def class_decorator_with_args(arg1, arg2):\n",
    "    def decorator(cls):\n",
    "        # Dodanie nowych atrybutów do klasy\n",
    "        cls.decorator_arg1 = arg1\n",
    "        cls.decorator_arg2 = arg2\n",
    "        return cls\n",
    "    return decorator\n",
    "\n",
    "@class_decorator_with_args(\"Hello\", \"World\")\n",
    "class MyClass:\n",
    "    def __init__(self, name):\n",
    "        self.name = name\n",
    "\n",
    "    def greet(self):\n",
    "        return f\"Cześć, jestem {self.name}!\"\n",
    "\n",
    "# Użycie udekorowanej klasy\n",
    "obj = MyClass(\"Rafał\")\n",
    "print(obj.greet())            # Cześć, jestem Rafał!\n",
    "print(obj.decorator_arg1)     # Hello\n",
    "print(obj.decorator_arg2)     # World\n"
   ]
  },
  {
   "cell_type": "markdown",
   "metadata": {},
   "source": [
    "\n",
    "\n",
    "---\n",
    "\n",
    "### Przykład 3: Tworzenie klasy opakowującej (wrapującej)\n",
    "Dekorator klasy może także całkowicie zmieniać zachowanie oryginalnej klasy, zwracając zupełnie nową klasę:\n",
    "\n"
   ]
  },
  {
   "cell_type": "code",
   "execution_count": 5,
   "metadata": {},
   "outputs": [
    {
     "name": "stdout",
     "output_type": "stream",
     "text": [
      "Metoda greet została zmodyfikowana w dekoratorze. Oryginalne: Cześć, jestem Rafał!\n"
     ]
    }
   ],
   "source": [
    "\n",
    "def class_wrapper(cls):\n",
    "    class WrappedClass(cls):\n",
    "        def greet(self):\n",
    "            return f\"Metoda greet została zmodyfikowana w dekoratorze. Oryginalne: {super().greet()}\"\n",
    "    return WrappedClass\n",
    "\n",
    "@class_wrapper\n",
    "class MyClass:\n",
    "    def __init__(self, name):\n",
    "        self.name = name\n",
    "\n",
    "    def greet(self):\n",
    "        return f\"Cześć, jestem {self.name}!\"\n",
    "\n",
    "# Użycie udekorowanej klasy\n",
    "obj = MyClass(\"Rafał\")\n",
    "print(obj.greet())  # Metoda greet została zmodyfikowana w dekoratorze. Oryginalne: Cześć, jestem Rafał!\n",
    "\n"
   ]
  },
  {
   "cell_type": "markdown",
   "metadata": {},
   "source": [
    "\n",
    "---\n",
    "\n",
    "### Jak to działa?\n",
    "1. **Dla klasy**: Dekorator klasy przyjmuje klasę jako argument (`cls`), zamiast funkcji.\n",
    "2. **Zwracanie klasy**:\n",
    "   - Można zmodyfikować klasę „na miejscu”, np. dodając atrybuty lub metody.\n",
    "   - Można zwrócić nową klasę (np. dziedziczącą z oryginalnej klasy), aby zmienić jej zachowanie.\n",
    "\n",
    "Takie podejście pozwala elastycznie manipulować klasami, np. do logowania, walidacji, dodawania nowych metod lub modyfikowania istniejących. 🚀"
   ]
  },
  {
   "cell_type": "markdown",
   "metadata": {},
   "source": []
  },
  {
   "cell_type": "markdown",
   "metadata": {},
   "source": []
  }
 ],
 "metadata": {
  "kernelspec": {
   "display_name": ".venv",
   "language": "python",
   "name": "python3"
  },
  "language_info": {
   "codemirror_mode": {
    "name": "ipython",
    "version": 3
   },
   "file_extension": ".py",
   "mimetype": "text/x-python",
   "name": "python",
   "nbconvert_exporter": "python",
   "pygments_lexer": "ipython3",
   "version": "3.13.0"
  }
 },
 "nbformat": 4,
 "nbformat_minor": 2
}
