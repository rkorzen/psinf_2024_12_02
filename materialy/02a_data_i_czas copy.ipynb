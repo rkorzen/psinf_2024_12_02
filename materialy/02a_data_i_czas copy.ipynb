{
 "cells": [
  {
   "cell_type": "markdown",
   "metadata": {},
   "source": [
    "Data i czas\n",
    "===========\n",
    "\n",
    "<img src=\"https://upload.wikimedia.org/wikipedia/commons/8/88/Sundial_Taganrog.jpg\">\n",
    "\n",
    "\n",
    "Czas, choć wydaje się prostym konceptem, jest w rzeczywistości wynikiem skomplikowanego połączenia astronomii, technologii i polityki. \n",
    "Współczesny świat zarządza czasem za pomocą dwóch głównych standardów: GMT (Greenwich Mean Time) i UTC (Coordinated Universal Time). \n",
    "Choć często stosowane zamiennie, różnią się w fundamentalnych aspektach. Jednym z kluczowych wyzwań zarządzania czasem jest kwestia **przeskoków sekundowych** (ang. leap seconds), które zapewniają synchronizację z nieregularnym ruchem obrotowym Ziemi.\n"
   ]
  },
  {
   "cell_type": "markdown",
   "metadata": {},
   "source": [
    "## Rys historyczny\n",
    "\n",
    "---\n",
    "\n",
    "### Starożytne początki\n",
    "\n",
    "Pomiar czasu w starożytności bazował na naturalnych cyklach – ruchu słońca, księżyca i gwiazd. Pierwsze systemy odliczały się następująco:\n",
    "\n",
    "- Około 3500 roku p.n.e. Egipcjanie używali gnomonów (pionowych słupów) do określania godziny dziennego. Gnomony były jednym z najstarszych urządzeń służących do mierzenia czasu.\n",
    "\n",
    "- W Babilonii, Chinach i Indiach pojawiły się pierwsze gnomony około 2000 roku p.n.e. Ich przesuwający się cień w ciągu dnia odgrywał rolę dzisiejszych wskazówek zegara.\n",
    "\n",
    "- Egipcjanie wprowadzili podział dnia na 24 godziny, co jest źródłem współczesnego podziału na strefy czasowe.\n",
    "\n",
    "- Babilończycy wprowadzili podział godziny na 60 minut, który jest nadal stosowany.\n",
    "\n",
    "W starożytności istniały również inne systemy pomiaru czasu:\n",
    "\n",
    "- Klepsydry (około 1500 lat p.n.e.) - naczynia składające się z dwóch baniek połączonych rurką, która przepuszczała określoną ilość wody. Powszechne w Egipcie i Mezopotamii.\n",
    "\n",
    "- Zegary wodne - popularne w starożytnej Grecji, np. podczas ćwiczeń retorycznych.\n",
    "\n",
    "- Zegary słoneczne - w Rzymie pierwszy publiczny zegar słoneczny pojawił się w 263 roku p.n.e., jako łup wojenny ze splądrowanej Katanii.\n",
    "\n",
    "- Pierwsze mechaniczne zegary pojawiły się w Europie pod koniec XIII wieku i pozwalały na bardziej precyzyjne odmierzanie czasu.\n",
    "\n",
    "- W XVII wieku wprowadzono wahadło do kontrolowania odmierzania czasu, znacznie poprawiając dokładność zegarów.\n",
    "\n",
    "- W XX wieku powstały zegary kwarcowe, które wykorzystujące wibrujące kryształy kwarcu osiągają jeszcze większą dokładność.\n",
    "\n",
    "- Ostatnim przełomem była konstrukcja pierwszego zegara atomowego w 1955 roku w brytyjskim Narodowym Laboratorium Fizycznym, który jako podstawę pomiaru czasu wykorzystał niezmienne właściwości atomów."
   ]
  },
  {
   "cell_type": "markdown",
   "metadata": {},
   "source": [
    "\n",
    "### Standaryzacja czasu\n",
    "\n",
    "Do XIX wieku czas był mierzony lokalnie, na podstawie pozycji słońca. Każde miasto miało swój lokalny czas, co prowadziło do chaosu w komunikacji i transporcie.\n",
    "\n",
    "Rozwój kolei w XIX wieku wymusił standaryzację czasu:\n",
    "\n",
    "- W 1884 roku, podczas międzynarodowej konferencji w Waszyngtonie, wprowadzono system 24 stref czasowych opartych na południkach.\n",
    "\n",
    "Sytuację jak zwykle komplikuje geopolityka, wojny, pewne historyczne zaszłości, lub po prostu praktyczne względy. Efekt tego można zauważyć na mapie poniżej:\n",
    "\n",
    "<img src=\"https://upload.wikimedia.org/wikipedia/commons/8/88/World_Time_Zones_Map.png\">\n",
    "\n",
    "- W 1960 roku wprowadzono Uniwersalny Czas Koordynowany (UTC), który zastąpił wcześniejszy czas średni Greenwich (GMT). UTC jest teraz globalnym standardem.\n"
   ]
  },
  {
   "cell_type": "markdown",
   "metadata": {},
   "source": [
    "\n",
    "---\n",
    "\n",
    "## Różnice między UTC a GMT\n",
    "\n",
    "\n",
    "### GMT – czas astronomiczny\n",
    "- **Greenwich Mean Time (GMT)**, wprowadzony w XIX wieku, jest oparty na obserwacjach astronomicznych, a dokładniej na ruchu Słońca względem południka zerowego w Greenwich w Anglii. GMT był przez dekady standardem globalnym, stosowanym w nawigacji i komunikacji. Obecnie jest używany jako czas lokalny w niektórych regionach.\n",
    "\n",
    "### **UTC – czas atomowy**\n",
    "- W XX wieku wprowadzenie zegarów atomowych umożliwiło stworzenie bardziej precyzyjnego standardu czasu – **UTC (Coordinated Universal Time)**. UTC zastąpił GMT jako międzynarodowy standard w 1960 roku.\n",
    "- W przeciwieństwie do GMT, UTC jest mierzony na podstawie drgań atomów cezu, co gwarantuje niezwykłą stabilność i dokładność.\n",
    "\n"
   ]
  },
  {
   "cell_type": "markdown",
   "metadata": {},
   "source": [
    "---\n",
    "\n",
    "### Przeskoki sekundowe (leap seconds)\n",
    "\n",
    "Przeskoki sekundowe to korekta wprowadzana do UTC w celu utrzymania zgodności z astronomicznym czasem obrotu Ziemi (UT1), który jest nieregularny z powodu zmian w dynamice planety.\n",
    "\n",
    "#### Cel przeskoków sekundowych\n",
    "- Ziemia nie obraca się z równą prędkością. Aby zachować różnicę między **UTC** a **UT1** w granicach ±0,9 sekundy, do UTC dodawane są przeskoki sekundowe.\n",
    "- Gdyby ich nie wprowadzano, różnica między czasem atomowym a czasem astronomicznym stopniowo by się zwiększała.\n",
    "\n",
    "#### Historia przeskoków sekundowych\n",
    "- Pierwszy przeskok sekundowy został wprowadzony w 1972 roku.\n",
    "- Od tego czasu dodano ich 27, przy czym ostatni przeskok miał miejsce 31 grudnia 2016 roku.\n",
    "- Przeskoki są zawsze wprowadzane na koniec dnia (np. 30 czerwca lub 31 grudnia).\n",
    "\n",
    "#### Jak dodawane są przeskoki?\n",
    "- Decyzję o dodaniu przeskoku sekundowego podejmuje **IERS (International Earth Rotation and Reference Systems Service)**.\n",
    "- Informacja jest ogłaszana około 6 miesięcy przed planowaną korektą.\n",
    "\n",
    "#### Skutki i problemy\n",
    "- **Dla systemów technologicznych**:\n",
    "  - Przeskoki sekundowe mogą powodować błędy w systemach czasu rzeczywistego, takich jak GPS czy aplikacje bazujące na precyzyjnym czasie.\n",
    "  - Niektóre systemy ignorują przeskoki, co prowadzi do niespójności.\n",
    "- **Przykłady problemów**:\n",
    "  - W 2012 roku przeskok sekundowy spowodował awarie systemów serwerowych, w tym serwerów Amazon Web Services (AWS) i systemów lotniczych. Zobacz [tutaj](https://www.wired.com/2012/07/leap-second-glitch-explained/)\n",
    "  \n",
    "  \n",
    "#### Przyszłość przeskoków sekundowych\n",
    "- W 2022 roku Międzynarodowa Unia Telekomunikacyjna (ITU) zdecydowała o zniesieniu przeskoków sekundowych przed końcem 2035 roku.\n",
    "- Decyzja ta ma na celu uproszczenie zarządzania czasem w systemach komputerowych i globalnych sieciach.\n"
   ]
  },
  {
   "cell_type": "markdown",
   "metadata": {},
   "source": [
    "---\n",
    "\n",
    "## Praktyczne aspekty zarządzania czasem\n",
    "\n",
    "### Jak systemy radzą sobie z przeskokami?\n",
    "- **UTC jako podstawa**: Większość systemów operacyjnych, takich jak Linux i Windows, używa UTC jako wewnętrznego standardu.\n",
    "- **Różne podejścia**:\n",
    "  - **Dodanie dodatkowej sekundy**: Systemy zatrzymują zegar na 1 sekundę podczas przeskoku.\n",
    "  - **Rozciąganie czasu**: Niektóre systemy (np. Google) \"rozciągają\" czas w ciągu kilku godzin, aby uniknąć nagłego przeskoku.\n",
    "\n",
    "### Narzędzia do pracy z czasem\n",
    "- **IANA Time Zone Database**: Globalna baza danych stref czasowych, używana w systemach takich jak Python, Linux czy macOS. [link](https://www.iana.org/time-zones)\n",
    "- **Moduły w Pythonie**:\n",
    "  - **`zoneinfo`** (od Python 3.9): Nowoczesne rozwiązanie do pracy ze strefami czasowymi.\n",
    "  - **`pytz`**: Starsza, ale wciąż popularna biblioteka do zarządzania czasem.\n"
   ]
  },
  {
   "cell_type": "markdown",
   "metadata": {},
   "source": [
    "## **Pochodzenie datetime w komputerach, epoch time i timestamp**\n",
    "\n",
    "1. **Pochodzenie datetime w komputerach**:\n",
    "   - Typ danych `datetime` został wprowadzony w latach 70. XX wieku wraz z rozwojem systemów operacyjnych Unix.\n",
    "   - Wcześniejsze systemy komputerowe bazowały na prostych mechanizmach odliczania czasu lub na cyklach naturalnych, takich jak ruch Słońca.\n",
    "\n",
    "2. **Epoch time**:\n",
    "   - **Epoch time** to punkt odniesienia, od którego systemy komputerowe odliczają czas.\n",
    "   - Najbardziej znanym punktem odniesienia jest **Unix epoch** – 1 stycznia 1970 roku o godzinie 00:00:00 UTC.\n",
    "   - Inne systemy stosują różne epoch, np. Windows NT zaczyna od 1 stycznia 1601 roku. \n",
    "\n",
    "3. **Timestamp**:\n",
    "   - **Timestamp** to liczba całkowita reprezentująca czas od epoch.\n",
    "   - Często jest to liczba sekund od epoch, ale w zależności od systemu może mieć inną precyzję, np. milisekundy.\n",
    "   - Timestamp jest bardziej kompaktowy niż `datetime` i często używany w systemach o ograniczonej pamięci.\n",
    "\n",
    "4. **Rozwój**:\n",
    "   - `Datetime` stał się standardowym typem danych w językach programowania i systemach operacyjnych.\n",
    "   - Obecnie implementowany jest jako klasa lub struktura danych z funkcjami do konwersji między różnymi formatami czasu, manipulacji datami oraz obliczeń.\n",
    "\n",
    "5. **Problemy**:\n",
    "   - Problemy związane z czasem wynikają głównie z ograniczeń reprezentacji liczb przed epoch oraz ograniczeń systemów numerycznych.\n",
    "   - Przykłady:\n",
    "     - **Problem roku 2000**: Niewystarczająca liczba cyfr do reprezentacji lat w niektórych systemach.\n",
    "     - **Problem roku 2038**: W systemach 32-bitowych Unix czas przestanie być poprawnie reprezentowany po 19 stycznia 2038 roku o 03:14:07 UTC.\n"
   ]
  },
  {
   "cell_type": "markdown",
   "metadata": {},
   "source": [
    "\n",
    "---\n",
    "\n",
    "### **Podsumowanie**\n",
    "\n",
    "Czas jest zarówno prostym, jak i niezwykle złożonym zjawiskiem. Wprowadzenie **UTC** jako standardu czasu było przełomem, który umożliwił globalną synchronizację systemów. Jednak jego dokładność wymaga stosowania przeskoków sekundowych, które, choć konieczne dla zgodności z ruchem Ziemi, wprowadzają wyzwania technologiczne. Nadchodzące zniesienie przeskoków sekundowych może zrewolucjonizować zarządzanie czasem, ale również wymagać dostosowania wielu systemów i procesów. \n",
    "\n",
    "**Czas, choć stały w swojej istocie, nadal pozostaje zmiennym wyzwaniem w dynamicznym świecie technologii.**\n",
    "\n",
    "`Datetime`, `epoch time` i `timestamp` są kluczowymi elementami zarządzania czasem w systemach komputerowych. Wprowadzenie epoch time jako punktu odniesienia pozwoliło na ujednolicenie reprezentacji czasu, z Unix epoch jako najpopularniejszym standardem. Mimo rozwoju tych typów danych, wciąż istnieją wyzwania związane z reprezentacją dat poza zakresem liczbowym i problemami zgodności w starszych systemach.\n"
   ]
  },
  {
   "cell_type": "markdown",
   "metadata": {},
   "source": [
    "\n",
    "---\n",
    "\n",
    "### Troche dodatkowej lektury:\n",
    "\n",
    "    https://24timezones.com/gmt-vs-utc\n",
    "    https://bdoadvisory.pl/blogosfera/dlaczego-czas-jest-tak-wazny-kilka-uwag-na-temat-sensu-mierzenia-czasu-w-pracy\n",
    "    https://botland.com.pl/blog/zegar-czasu-rzeczywistego-co-to-jest-i-do-czego-sluzy/\n",
    "    https://ciekawostkihistoryczne.pl/2023/09/20/krotka-historia-zegarow/\n",
    "    https://ciekawostkihistoryczne.pl/2024/08/31/jak-mierzono-czas-w-sredniowieczu/\n",
    "    https://coachingexpatriates.com/difference-between-utc-vs-gmt/\n",
    "    https://en.wikipedia.org/wiki/Leap_second\n",
    "    https://engineering.fb.com/2022/07/25/production-engineering/its-time-to-leave-the-leap-second-in-the-past/\n",
    "    https://foton.if.uj.edu.pl/documents/12579485/0fadf2cb-ad07-4e6f-bf1b-88301daf8e4d\n",
    "    https://geeksforgeeks.org/difference-between-gmt-and-utc/\n",
    "    https://levelup.gitconnected.com/epoch-the-starting-point-of-time-computer-science-part-1-d2300f45d1c7\n",
    "    https://math.ucr.edu/home/baez/physics/General/LeapSecond/leapSecond.html\n",
    "    https://minuta.pl/blog/o-dawnych-czasomierzach\n",
    "    https://nationalgeographic.com/premium/article/leap-second-year-utc-atomic-clock-nist\n",
    "    https://nhc.noaa.gov/aboututc.shtml\n",
    "    https://pl.galsys.co.uk/news/a-brief-history-of-computer-time/\n",
    "    https://pl.wikipedia.org/wiki/Czas_systemowy\n",
    "    https://pl.wikipedia.org/wiki/Historia_automatyki\n",
    "    https://polskiekalendarze.pl/blog/historia-kalendarza-jak-zmienialy-sie-sposoby-mierzenia-czasu-przez-wieki/\n",
    "    https://reddit.com/r/explainlikeimfive/comments/9oshxp/eli5_what_is_utc_and_how_does_it_differ_from_gmt/\n",
    "    https://ruj.uj.edu.pl/server/api/core/bitstreams/c17bb347-94cc-465f-a653-7b2458a8895a/content\n",
    "    https://stackoverflow.com/questions/48942916/what-is-the-difference-between-utc-and-gmt\n",
    "    https://swistak.codes/post/jak-komputer-przechowuje-date-i-skad-zna-aktualna/\n",
    "    https://swiss.com.pl/blog/post/historia-czasu-jak-starozytni-odmierzali-godziny\n",
    "    https://theinformationlab.nl/2022/02/21/unix-epoch-times/\n",
    "    https://tikowybelfer.blogspot.com/2016/10/krotka-historia-maszyny-liczacej.html\n",
    "    https://timeanddate.com/time/gmt-utc-time.html\n",
    "    https://timeanddate.com/time/leapseconds.html\n",
    "    https://wielkahistoria.pl/mierzenie-czasu-w-starozytnosci-takich-urzadzen-uzywano-tysiace-lat-temu-do-kontrolowania-jego-uplywu/\n",
    "    https://worldtimeserver.com/learn/utc-vs-gmt/\n",
    "    https://youtube.com/watch?v=NP9CsStmwJE\n",
    "\n",
    "\n"
   ]
  },
  {
   "cell_type": "markdown",
   "metadata": {},
   "source": [
    "## **Praca z czasem i strefami czasowymi w Pythonie: `zoneinfo` i `pytz`**\n",
    "\n",
    "Python od wersji 3.9 wprowadza moduł [**`zoneinfo`**](https://docs.python.org/3/library/zoneinfo.html), który integruje obsługę stref czasowych z oficjalną bazą danych IANA Time Zone Database (znaną jako `tzdata` lub Olson database). To rozwiązanie eliminuje potrzebę korzystania z zewnętrznej biblioteki, takiej jak `pytz`, do obsługi stref czasowych.\n",
    "\n",
    "Poniżej przedstawiam kompletne omówienie:\n",
    "1. **Podstawy modułu `zoneinfo`.**\n",
    "2. **Praca z datami `aware` i `naive`.**\n",
    "3. **Konwersje między strefami czasowymi.**\n",
    "4. **Obsługa czasu letniego (DST).**\n",
    "5. **Różnice między `zoneinfo` i `pytz`.**\n",
    "6. **Instalacja `tzdata` w systemach bez wbudowanej bazy IANA.**\n",
    "\n",
    "---\n",
    "\n",
    "### **1. Podstawy modułu `zoneinfo`**\n",
    "\n",
    "Moduł `zoneinfo` pozwala tworzyć obiekty `datetime` ze strefą czasową. Baza danych stref czasowych (IANA) jest domyślnie dostępna w większości systemów uniksowych (np. Linux, macOS). Na systemach Windows może wymagać instalacji pakietu `tzdata`.\n",
    "\n",
    "#### **Tworzenie daty ze strefą czasową**\n"
   ]
  },
  {
   "cell_type": "code",
   "execution_count": 7,
   "metadata": {},
   "outputs": [
    {
     "name": "stdout",
     "output_type": "stream",
     "text": [
      "Data w UTC: 2024-11-28 15:30:00+00:00\n",
      "Data w strefie Warsaw: 2024-11-28 16:30:00+01:00\n"
     ]
    }
   ],
   "source": [
    "\n",
    "from datetime import datetime, timedelta\n",
    "from zoneinfo import ZoneInfo\n",
    "\n",
    "# Tworzenie daty w UTC\n",
    "utc_date = datetime(2024, 11, 28, 15, 30, tzinfo=ZoneInfo(\"UTC\"))\n",
    "print(\"Data w UTC:\", utc_date)\n",
    "\n",
    "# Tworzenie daty w strefie Europe/Warsaw\n",
    "warsaw_date = datetime(2024, 11, 28, 16, 30, tzinfo=ZoneInfo(\"Europe/Warsaw\"))\n",
    "print(\"Data w strefie Warsaw:\", warsaw_date)\n",
    "\n"
   ]
  },
  {
   "cell_type": "markdown",
   "metadata": {},
   "source": [
    "\n",
    "#### **Daty `naive` i `aware`**\n",
    "\n",
    "1. **Naive**: Nie zawierają informacji o strefie czasowej.\n"
   ]
  },
  {
   "cell_type": "code",
   "execution_count": 8,
   "metadata": {},
   "outputs": [
    {
     "name": "stdout",
     "output_type": "stream",
     "text": [
      "Naive date: 2024-11-28 15:30:00\n"
     ]
    }
   ],
   "source": [
    "\n",
    "naive_date = datetime(2024, 11, 28, 15, 30)\n",
    "print(\"Naive date:\", naive_date)\n"
   ]
  },
  {
   "cell_type": "markdown",
   "metadata": {},
   "source": [
    "2. **Aware**: Zawierają informację o strefie czasowej dzięki `ZoneInfo`.\n"
   ]
  },
  {
   "cell_type": "code",
   "execution_count": 9,
   "metadata": {},
   "outputs": [
    {
     "name": "stdout",
     "output_type": "stream",
     "text": [
      "Aware date: 2024-11-28 15:30:00+00:00\n"
     ]
    }
   ],
   "source": [
    "\n",
    "aware_date = datetime(2024, 11, 28, 15, 30, tzinfo=ZoneInfo(\"UTC\"))\n",
    "print(\"Aware date:\", aware_date)\n",
    "\n"
   ]
  },
  {
   "cell_type": "markdown",
   "metadata": {},
   "source": [
    "\n",
    "---\n",
    "\n",
    "### **2. Konwersje między strefami czasowymi**\n",
    "\n",
    "Metoda `astimezone` pozwala na zmianę strefy czasowej obiektu `datetime`.\n",
    "\n",
    "```python\n",
    "# Tworzenie daty w UTC\n",
    "from zoneinfo import ZoneInfo\n",
    "\n",
    "utc_date = datetime(2024, 11, 28, 15, 30, tzinfo=ZoneInfo(\"UTC\"))\n",
    "\n",
    "# Konwersja na strefę Europe/Warsaw\n",
    "warsaw_date = utc_date.astimezone(ZoneInfo(\"Europe/Warsaw\"))\n",
    "print(\"UTC -> Warsaw:\", warsaw_date)\n",
    "\n",
    "# Konwersja na strefę America/New_York\n",
    "new_york_date = utc_date.astimezone(ZoneInfo(\"America/New_York\"))\n",
    "print(\"UTC -> New York:\", new_york_date)\n",
    "```\n"
   ]
  },
  {
   "cell_type": "markdown",
   "metadata": {},
   "source": [
    "\n",
    "---\n",
    "\n",
    "### **3. Obsługa czasu letniego (DST)**\n",
    "\n",
    "Czas letni (DST, Daylight Saving Time) to zmiana czasu w niektórych strefach. `zoneinfo` automatycznie obsługuje te zmiany dzięki bazie IANA.\n",
    "\n"
   ]
  },
  {
   "cell_type": "code",
   "execution_count": 12,
   "metadata": {},
   "outputs": [
    {
     "name": "stdout",
     "output_type": "stream",
     "text": [
      "2020-10-24 12:00:00+02:00\n",
      "CEST\n",
      "2020-11-01 12:00:00+01:00\n",
      "CET\n"
     ]
    }
   ],
   "source": [
    "\n",
    "from zoneinfo import ZoneInfo\n",
    "from datetime import datetime, timedelta\n",
    "\n",
    "# A datetime during Daylight Saving Time\n",
    "dt = datetime(2020, 10, 24, 12, tzinfo=ZoneInfo(\"Europe/Warsaw\"))\n",
    "print(dt)             # 2020-10-24 12:00:00+02:00\n",
    "print(dt.tzname())    # 'CEST' - Central European Summer Time (DST active)\n",
    "\n",
    "# Adding 8 days crosses the DST boundary (2020-10-25 at 3:00 AM)\n",
    "dt_add = dt + timedelta(days=8)\n",
    "print(dt_add)         # 2020-11-01 12:00:00+01:00\n",
    "print(dt_add.tzname())  # 'CET' - Central European Time (DST inactive)\n"
   ]
  },
  {
   "cell_type": "markdown",
   "metadata": {},
   "source": [
    "\n",
    "---\n",
    "\n",
    "### **4. Różnice między `zoneinfo` a `pytz`**\n",
    "\n",
    "#### **Podstawowe różnice**\n",
    "\n",
    "| **Cecha**                  | **`zoneinfo`**            | **`pytz`**             |\n",
    "|----------------------------|--------------------------|------------------------|\n",
    "| **Wbudowana w bibliotekę** | Tak (od Python 3.9)      | Nie, wymaga instalacji |\n",
    "| **Obsługa DST**            | Automatyczna            | Wymaga jawnych konwersji |\n",
    "| **Zgodność z IANA**        | Tak                      | Tak                    |\n",
    "| **Łatwość użycia**         | Intuicyjna              | Mniej intuicyjna       |\n",
    "| **Wsparcie**               | Standardowa biblioteka   | Zewnętrzna biblioteka  |\n",
    "\n",
    "#### **Przykład problemu z `pytz`**\n",
    "`pytz` wymaga jawnego wywołania metody `localize`, aby poprawnie ustawić strefę czasową na obiekcie `datetime`.\n",
    "\n"
   ]
  },
  {
   "cell_type": "code",
   "execution_count": 15,
   "metadata": {},
   "outputs": [],
   "source": [
    "# !pip install pytz"
   ]
  },
  {
   "cell_type": "code",
   "execution_count": 16,
   "metadata": {},
   "outputs": [
    {
     "name": "stdout",
     "output_type": "stream",
     "text": [
      "2020-10-24 12:00:00+02:00\n",
      "CEST\n",
      "2020-11-01 12:00:00+02:00\n",
      "2020-11-01 11:00:00+01:00\n",
      "CET\n"
     ]
    }
   ],
   "source": [
    "from datetime import datetime, timedelta\n",
    "import pytz\n",
    "\n",
    "# Strefa czasowa Europe/Warsaw\n",
    "warsaw_tz = pytz.timezone(\"Europe/Warsaw\")\n",
    "\n",
    "# Data przed zakończeniem czasu letniego (DST active)\n",
    "dt_summer = warsaw_tz.localize(datetime(2020, 10, 24, 12, 0))\n",
    "print(dt_summer)       # 2020-10-24 12:00:00+02:00\n",
    "print(dt_summer.tzname())  # 'CEST' - Central European Summer Time\n",
    "\n",
    "# Dodanie 8 dni (przekroczenie granicy zmiany czasu)\n",
    "dt_winter = dt_summer + timedelta(days=8)\n",
    "print(dt_winter)  # 2020-11-01 12:00:00+02:00 (NIEPOPRAWNY OFFSET!)\n",
    "\n",
    "# Poprawne przeliczenie czasu po zmianie czasu\n",
    "dt_winter_corrected = dt_winter.astimezone(warsaw_tz)\n",
    "print(dt_winter_corrected)  # 2020-11-01 12:00:00+01:00\n",
    "print(dt_winter_corrected.tzname())  # 'CET' - Central European Time\n"
   ]
  },
  {
   "cell_type": "markdown",
   "metadata": {},
   "source": [
    "\n",
    "\n",
    "W `zoneinfo` problem ten nie występuje, ponieważ obiekt `ZoneInfo` jest bezpośrednio przypisywany.\n",
    "\n",
    "---\n",
    "\n",
    "### **5. Instalacja `tzdata`**\n",
    "\n",
    "Na niektórych systemach, takich jak Windows, może brakować wbudowanej bazy danych IANA. W takim przypadku możesz zainstalować pakiet **`tzdata`**.\n",
    "\n",
    "#### **Instalacja**\n",
    "```bash\n",
    "pip install tzdata\n",
    "```\n",
    "\n",
    "#### **Użycie z `zoneinfo`**\n",
    "Po instalacji `tzdata`, moduł `zoneinfo` będzie działał bez dodatkowych zmian.\n",
    "\n",
    "---\n",
    "\n",
    "### **6. Operacje matematyczne na datach**\n",
    "\n",
    "`zoneinfo` pozwala na wykonywanie operacji matematycznych na datach z uwzględnieniem stref czasowych.\n",
    "\n",
    "```python\n",
    "from datetime import timedelta\n",
    "\n",
    "# Dodawanie czasu\n",
    "future_date = utc_date + timedelta(days=1)\n",
    "print(\"Data za 1 dzień:\", future_date)\n",
    "\n",
    "# Różnica między datami\n",
    "delta = future_date - utc_date\n",
    "print(\"Różnica w godzinach:\", delta.total_seconds() / 3600)\n",
    "```\n"
   ]
  },
  {
   "cell_type": "markdown",
   "metadata": {},
   "source": [
    "\n",
    "---\n",
    "\n",
    "### **7. Ćwiczenia**\n",
    "\n",
    "#### **Ćwiczenie 1: Konwersja dat**\n",
    "Napisz funkcję, która przyjmuje datę w UTC i listę stref czasowych. Funkcja powinna zwrócić tę datę w każdej z podanych stref czasowych.\n",
    "\n"
   ]
  },
  {
   "cell_type": "code",
   "execution_count": 4,
   "metadata": {},
   "outputs": [
    {
     "name": "stdout",
     "output_type": "stream",
     "text": [
      "{'Europe/Warsaw': datetime.datetime(2024, 11, 28, 16, 30, tzinfo=zoneinfo.ZoneInfo(key='Europe/Warsaw')), 'America/New_York': datetime.datetime(2024, 11, 28, 10, 30, tzinfo=zoneinfo.ZoneInfo(key='America/New_York')), 'Asia/Tokyo': datetime.datetime(2024, 11, 29, 0, 30, tzinfo=zoneinfo.ZoneInfo(key='Asia/Tokyo'))}\n"
     ]
    }
   ],
   "source": [
    "from datetime import datetime\n",
    "from zoneinfo import ZoneInfo\n",
    "\n",
    "def convert_to_timezones(utc_date, timezones):\n",
    "    return {tz: utc_date.astimezone(ZoneInfo(tz)) for tz in timezones}\n",
    "\n",
    "\n",
    "utc_date = datetime(2024, 11, 28, 15, 30, tzinfo=ZoneInfo(\"UTC\"))\n",
    "timezones = [\"Europe/Warsaw\", \"America/New_York\", \"Asia/Tokyo\"]\n",
    "converted_dates = convert_to_timezones(utc_date, timezones)\n",
    "print(converted_dates)\n",
    "\n"
   ]
  },
  {
   "cell_type": "markdown",
   "metadata": {},
   "source": [
    "\n",
    "\n",
    "#### **Ćwiczenie 2: Obsługa czasu letniego**\n",
    "Napisz funkcję, która sprawdza, czy podana data w określonej strefie czasowej przypada na czas letni (DST).\n"
   ]
  },
  {
   "cell_type": "code",
   "execution_count": 8,
   "metadata": {},
   "outputs": [
    {
     "name": "stdout",
     "output_type": "stream",
     "text": [
      "True\n",
      "True\n",
      "True\n",
      "False\n"
     ]
    }
   ],
   "source": [
    "from datetime import datetime, timedelta\n",
    "from zoneinfo import ZoneInfo\n",
    "\n",
    "def is_dst(date: datetime, timezone: str) -> bool:\n",
    "    \"\"\"\n",
    "    Sprawdza, czy podana data przypada na czas letni (DST) w określonej strefie czasowej.\n",
    "    \n",
    "    1. Jeśli data jest naive, przypisuje podaną strefę czasową.\n",
    "    2. Jeśli data jest aware, sprawdza, czy jej strefa czasowa zgadza się z podaną i w razie potrzeby dokonuje transformacji.\n",
    "    3. Sprawdza, czy data przypada na czas letni (DST).\n",
    "    \n",
    "    :param date: Obiekt datetime, który ma być sprawdzony.\n",
    "    :param timezone: Nazwa strefy czasowej (np. 'Europe/Warsaw').\n",
    "    :return: True, jeśli data przypada na czas letni, False w przeciwnym razie.\n",
    "    \"\"\"\n",
    "    tz = ZoneInfo(timezone)\n",
    "    \n",
    "    if date.tzinfo is None:  # Data naive\n",
    "        date = date.replace(tzinfo=tz)\n",
    "    elif date.tzinfo != tz:  # Data aware, ale w innej strefie czasowej\n",
    "        date = date.astimezone(tz)\n",
    "    \n",
    "    # Sprawdzenie DST\n",
    "    return date.tzinfo.dst(date) != timedelta(0)\n",
    "\n",
    "# Przykłady użycia\n",
    "\n",
    "# Przypadek 1: Data naive\n",
    "naive_date = datetime(2024, 6, 15, 12, 0)\n",
    "print(is_dst(naive_date, 'Europe/Warsaw'))  # True\n",
    "\n",
    "# Przypadek 2: Data aware w tej samej strefie czasowej\n",
    "aware_date_same_tz = datetime(2024, 6, 15, 12, 0, tzinfo=ZoneInfo(\"Europe/Warsaw\"))\n",
    "print(is_dst(aware_date_same_tz, 'Europe/Warsaw'))  # True\n",
    "\n",
    "# Przypadek 3: Data aware w innej strefie czasowej\n",
    "aware_date_other_tz = datetime(2024, 6, 15, 12, 0, tzinfo=ZoneInfo(\"UTC\"))\n",
    "print(is_dst(aware_date_other_tz, 'Europe/Warsaw'))  # True\n",
    "\n",
    "\n",
    "# Przypadek 4: Data w styczniu\n",
    "aware_date_other_tz = datetime(2024, 1, 1, 12, 0, tzinfo=ZoneInfo(\"UTC\"))\n",
    "print(is_dst(aware_date_other_tz, 'Europe/Warsaw'))  # True"
   ]
  },
  {
   "cell_type": "markdown",
   "metadata": {},
   "source": [
    "## Zadanie"
   ]
  },
  {
   "cell_type": "markdown",
   "metadata": {},
   "source": [
    "### Treść zadania\n",
    "\n",
    "#### System raportowania czasu pracy z obsługą DST\n",
    "\n",
    "Twoim zadaniem jest stworzenie systemu raportowania czasu pracy, który:\n",
    "\n",
    "1. Odczytuje dane z pliku CSV zawierającego informacje o sesjach pracy pracowników. Plik CSV ma strukturę:\n",
    "   - `ID`: unikalny identyfikator pracownika,\n",
    "   - `start_time`: czas rozpoczęcia pracy w formacie ISO 8601 (np. `2024-06-15T08:30:00+02:00`),\n",
    "   - `end_time`: czas zakończenia pracy w formacie ISO 8601.\n",
    "\n",
    "2. Implementuje następujące funkcje:\n",
    "   - **`is_dst(date: datetime, timezone: str = \"Europe/Warsaw\") -> bool`**:\n",
    "     Funkcja sprawdzająca, czy podana data przypada na czas letni (DST) w danej strefie czasowej.\n",
    "   - **`read_csv(file_path: str) -> dict`**:\n",
    "     Funkcja odczytująca dane z pliku CSV i zapisująca je w strukturze danych jako słownik, gdzie kluczem jest `ID` pracownika, a wartością lista sesji pracy (`start_time`, `end_time`).\n",
    "   - **`get_duration(session: dict) -> tuple[datetime, datetime, timedelta]`**:\n",
    "     Funkcja obliczająca czas trwania sesji pracy na podstawie jej początku i końca.\n",
    "   - **`partial_report(session: dict) -> None`**:\n",
    "     Funkcja generująca szczegóły dla jednej sesji pracy, zawierająca informacje o czasie trwania i o tym, czy sesja przypadła na czas letni (DST).\n",
    "   - **`generate_detailed_report(employee_id: str, data: dict) -> None`**:\n",
    "     Funkcja generująca szczegółowy raport dla wybranego pracownika, obejmujący wszystkie jego sesje pracy.\n",
    "   - **`generate_summary_report(data: dict) -> None`**:\n",
    "     Funkcja generująca zbiorczy raport dla wszystkich pracowników, zawierający:\n",
    "       - całkowity czas pracy,\n",
    "       - czas pracy przypadający na czas letni (DST),\n",
    "       - czas pracy poza czasem letnim.\n",
    "\n",
    "3. Dla przykładowego pliku CSV:\n",
    "   ```csv\n",
    "   ID,start_time,end_time\n",
    "   001,2024-06-15T08:30:00+02:00,2024-06-15T16:30:00+02:00\n",
    "   001,2024-12-15T08:30:00+01:00,2024-12-15T16:30:00+01:00\n",
    "   002,2024-07-01T09:00:00+02:00,2024-07-01T17:00:00+02:00\n",
    "   ```\n",
    "\n",
    "   System powinien generować następujące raporty:\n",
    "   - **Raport szczegółowy dla ID 001**:\n",
    "     ```\n",
    "     Raport szczegółowy dla pracownika ID 001:\n",
    "       - 2024-06-15 08:30:00 CEST -> 2024-06-15 16:30:00 CEST (Czas trwania: 8:00:00, DST: Tak)\n",
    "       - 2024-12-15 08:30:00 CET -> 2024-12-15 16:30:00 CET (Czas trwania: 8:00:00, DST: Nie)\n",
    "     Łączny czas pracy: 16 godzin i 0 minut.\n",
    "     ```\n",
    "\n",
    "   - **Zbiorczy raport**:\n",
    "     ```\n",
    "     Zbiorczy raport dla wszystkich pracowników:\n",
    "     Pracownik ID 001:\n",
    "       - Łączny czas pracy: 16 godzin i 0 minut.\n",
    "       - Czas pracy w DST: 8 godzin i 0 minut.\n",
    "       - Czas pracy poza DST: 8 godzin i 0 minut.\n",
    "\n",
    "     Pracownik ID 002:\n",
    "       - Łączny czas pracy: 8 godzin i 0 minut.\n",
    "       - Czas pracy w DST: 8 godzin i 0 minut.\n",
    "       - Czas pracy poza DST: 0 godzin i 0 minut.\n",
    "     ```\n",
    "\n",
    "4. Napisz testy automatyczne w pytest, które:\n",
    "   - Sprawdzają funkcjonalność każdej z funkcji, np. poprawność identyfikacji DST, obliczania czasu pracy, czytania pliku CSV.\n",
    "   - Weryfikują generowanie raportów szczegółowych i zbiorczych.\n",
    "\n",
    "### Wskazówki:\n",
    "- Użyj modułu `zoneinfo` do obsługi stref czasowych i DST.\n",
    "- Przetestuj poprawność identyfikacji czasu letniego w różnych datach.\n",
    "- Dla testów użyj `capsys`, aby przechwycić wyjście funkcji generujących raporty."
   ]
  },
  {
   "cell_type": "markdown",
   "metadata": {},
   "source": []
  },
  {
   "cell_type": "markdown",
   "metadata": {},
   "source": []
  }
 ],
 "metadata": {
  "kernelspec": {
   "display_name": ".venv",
   "language": "python",
   "name": "python3"
  },
  "language_info": {
   "codemirror_mode": {
    "name": "ipython",
    "version": 3
   },
   "file_extension": ".py",
   "mimetype": "text/x-python",
   "name": "python",
   "nbconvert_exporter": "python",
   "pygments_lexer": "ipython3",
   "version": "3.13.0"
  }
 },
 "nbformat": 4,
 "nbformat_minor": 2
}
