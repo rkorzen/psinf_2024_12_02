{
 "cells": [
  {
   "cell_type": "markdown",
   "metadata": {},
   "source": [
    "Poniżej znajduje się pełny zestaw materiałów dotyczących `multiprocessing` w Pythonie, obejmujący wstęp teoretyczny, porównania sekwencyjne i równoległe z użyciem przykładów z pomiarem czasu, gotowy do użycia w Jupyter Notebook.\n",
    "\n",
    "---\n",
    "\n",
    "### **Materiał o `multiprocessing`**\n",
    "\n",
    "#### **1. Wprowadzenie**\n",
    "`multiprocessing` to moduł w Pythonie, który pozwala na tworzenie procesów działających równolegle, wykorzystując wiele rdzeni procesora. Jest używany głównie w aplikacjach CPU-bound, czyli takich, które wymagają intensywnych obliczeń.\n",
    "\n",
    "---\n",
    "\n",
    "#### **2. Kluczowe pojęcia**\n",
    "\n",
    "1. **Proces**:\n",
    "   - Oddzielna jednostka wykonania, niezależna od innych procesów.\n",
    "   - Ma własną przestrzeń adresową.\n",
    "\n",
    "2. **Pool**:\n",
    "   - Zarządza grupą procesów, umożliwiając efektywne mapowanie funkcji do danych.\n",
    "\n",
    "3. **Queue**:\n",
    "   - Kolejka do komunikacji między procesami.\n",
    "\n",
    "4. **Pipe**:\n",
    "   - Kanał komunikacyjny między procesami.\n",
    "\n",
    "5. **Lock**:\n",
    "   - Narzędzie do synchronizacji procesów.\n",
    "\n",
    "---\n",
    "\n",
    "#### **3. Przykłady z kodem**\n",
    "\n",
    "##### **3.1. Podstawowy przykład: Sekwencyjnie vs równolegle**\n",
    "\n",
    "###### Sekwencyjne przetwarzanie dużego zakresu danych\n"
   ]
  },
  {
   "cell_type": "code",
   "execution_count": 26,
   "metadata": {},
   "outputs": [
    {
     "name": "stdout",
     "output_type": "stream",
     "text": [
      "Writing sequential_primes.py\n"
     ]
    }
   ],
   "source": [
    "\n",
    "%%writefile sequential_primes.py\n",
    "import time\n",
    "\n",
    "def is_prime(n):\n",
    "    \"\"\"Sprawdza, czy liczba jest pierwsza.\"\"\"\n",
    "    if n < 2:\n",
    "        return False\n",
    "    for i in range(2, int(n**0.5) + 1):\n",
    "        if n % i == 0:\n",
    "            return False\n",
    "    return True\n",
    "\n",
    "def count_primes_in_range(start, end):\n",
    "    \"\"\"Liczy liczby pierwsze w danym zakresie.\"\"\"\n",
    "    return sum(1 for i in range(start, end) if is_prime(i))\n",
    "\n",
    "if __name__ == \"__main__\":\n",
    "    start_time = time.time()\n",
    "    result = count_primes_in_range(2, 10_000_000)  # Zakres do sprawdzenia\n",
    "    end_time = time.time()\n",
    "    print(f\"Sequential: Found {result} primes in {end_time - start_time:.2f} seconds\")\n",
    "\n"
   ]
  },
  {
   "cell_type": "markdown",
   "metadata": {},
   "source": [
    "\n",
    "#### Kod równoległy\n"
   ]
  },
  {
   "cell_type": "code",
   "execution_count": 29,
   "metadata": {},
   "outputs": [
    {
     "name": "stdout",
     "output_type": "stream",
     "text": [
      "Overwriting parallel_primes.py\n"
     ]
    }
   ],
   "source": [
    "\n",
    "%%writefile parallel_primes.py\n",
    "from multiprocessing import Pool\n",
    "import time\n",
    "\n",
    "def is_prime(n):\n",
    "    \"\"\"Sprawdza, czy liczba jest pierwsza.\"\"\"\n",
    "    if n < 2:\n",
    "        return False\n",
    "    for i in range(2, int(n**0.5) + 1):\n",
    "        if n % i == 0:\n",
    "            return False\n",
    "    return True\n",
    "\n",
    "def count_primes_in_chunk(chunk):\n",
    "    \"\"\"Liczy liczby pierwsze w danym kawałku zakresu.\"\"\"\n",
    "    start, end = chunk\n",
    "    return sum(1 for i in range(start, end) if is_prime(i))\n",
    "\n",
    "if __name__ == \"__main__\":\n",
    "    start_time = time.time()\n",
    "\n",
    "    # Definiujemy zakres i dzielimy go na kawałki\n",
    "    RANGE = (2, 10_000_000)\n",
    "    NUM_PROCESSES = 8\n",
    "    chunk_size = (RANGE[1] - RANGE[0]) // NUM_PROCESSES\n",
    "    chunks = [(RANGE[0] + i * chunk_size, RANGE[0] + (i + 1) * chunk_size) for i in range(NUM_PROCESSES)]\n",
    "\n",
    "    # Tworzymy pulę procesów i przetwarzamy równolegle\n",
    "    with Pool(NUM_PROCESSES) as pool:\n",
    "        results = pool.map(count_primes_in_chunk, chunks)\n",
    "\n",
    "    total_primes = sum(results)  # Sumujemy wyniki z wszystkich procesów\n",
    "    end_time = time.time()\n",
    "\n",
    "    print(f\"Parallel: Found {total_primes} primes in {end_time - start_time:.2f} seconds\")\n"
   ]
  },
  {
   "cell_type": "code",
   "execution_count": 28,
   "metadata": {},
   "outputs": [
    {
     "name": "stdout",
     "output_type": "stream",
     "text": [
      "Sequential: Found 664579 primes in 157.74 seconds\n"
     ]
    }
   ],
   "source": [
    "!python sequential_primes.py"
   ]
  },
  {
   "cell_type": "code",
   "execution_count": 30,
   "metadata": {},
   "outputs": [
    {
     "name": "stdout",
     "output_type": "stream",
     "text": [
      "Parallel: Found 664579 primes in 32.52 seconds\n"
     ]
    }
   ],
   "source": [
    "!python parallel_primes.py"
   ]
  },
  {
   "cell_type": "markdown",
   "metadata": {},
   "source": [
    "\n",
    "\n",
    "---\n",
    "\n",
    "### **Porównanie wyników**\n",
    "1. **Sekwencyjny kod**:\n",
    "   - Przetwarza cały zakres liczb w jednym procesie.\n",
    "   - Narzut jest minimalny, ale czas wykonania jest długi, ponieważ jedno zadanie wykonuje wszystkie obliczenia.\n",
    "\n",
    "2. **Równoległy kod**:\n",
    "   - Dzieli zakres na mniejsze kawałki, które są przetwarzane równolegle przez 4 procesy.\n",
    "   - Dzięki temu praca jest rozdzielona, co skraca czas wykonania.\n",
    "\n",
    "---\n",
    "\n",
    "### **Uruchamianie**\n",
    "1. Uruchom kod sekwencyjny:\n",
    "   ```bash\n",
    "   !python sequential_primes.py\n",
    "   ```\n",
    "\n",
    "2. Uruchom kod równoległy:\n",
    "   ```bash\n",
    "   !python parallel_primes.py\n",
    "   ```\n",
    "\n",
    "---\n",
    "\n",
    "### **Co pokazuje ten przykład?**\n",
    "- Równoległość działa najlepiej, gdy:\n",
    "  - Zadania są intensywne obliczeniowo (np. obliczenia matematyczne).\n",
    "  - Każde zadanie może być niezależnie przetwarzane (brak współdzielenia danych między procesami).\n",
    "- W przypadku przetwarzania liczb pierwszych, `multiprocessing` pokazuje znaczące przyspieszenie dzięki równoległemu podziałowi zakresu liczb.\n",
    "\n",
    "Ten przykład pozwala zobaczyć realne korzyści z równoległego przetwarzania. Przy dużych zakresach różnica czasowa będzie szczególnie widoczna."
   ]
  },
  {
   "cell_type": "markdown",
   "metadata": {},
   "source": [
    "\n",
    "---\n",
    "\n",
    "##### **3.2. Przetwarzanie zadań: Sekwencyjnie vs równolegle**\n",
    "\n",
    "###### Sekwencyjne generowanie i suma liczb\n"
   ]
  },
  {
   "cell_type": "code",
   "execution_count": 12,
   "metadata": {},
   "outputs": [
    {
     "name": "stdout",
     "output_type": "stream",
     "text": [
      "Writing sequential_sum_example.py\n"
     ]
    }
   ],
   "source": [
    "%%writefile sequential_sum_example.py\n",
    "import time\n",
    "\n",
    "def compute_sum(n):\n",
    "    return sum(range(n))\n",
    "\n",
    "if __name__ == \"__main__\":\n",
    "    start_time = time.time()\n",
    "    results = [compute_sum(10_000_000) for _ in range(4)]\n",
    "    print(f\"Results: {results}\")\n",
    "    end_time = time.time()\n",
    "    print(f\"Sequential processing time: {end_time - start_time:.2f} seconds\")\n",
    "\n"
   ]
  },
  {
   "cell_type": "code",
   "execution_count": 13,
   "metadata": {},
   "outputs": [
    {
     "name": "stdout",
     "output_type": "stream",
     "text": [
      "Results: [49999995000000, 49999995000000, 49999995000000, 49999995000000]\n",
      "Sequential processing time: 1.33 seconds\n"
     ]
    }
   ],
   "source": [
    "!python sequential_sum_example.py"
   ]
  },
  {
   "cell_type": "markdown",
   "metadata": {},
   "source": [
    "###### Równoległe generowanie i suma liczb z użyciem `Process`\n"
   ]
  },
  {
   "cell_type": "code",
   "execution_count": 9,
   "metadata": {},
   "outputs": [
    {
     "name": "stdout",
     "output_type": "stream",
     "text": [
      "Writing parallel_sum_example.py\n"
     ]
    }
   ],
   "source": [
    "%%writefile parallel_sum_example.py\n",
    "from multiprocessing import Process, Queue  # Importujemy moduł do tworzenia procesów i kolejek do komunikacji między nimi\n",
    "import time  # Moduł do pomiaru czasu wykonania\n",
    "\n",
    "def compute_sum(n, queue):\n",
    "    \"\"\"\n",
    "    Funkcja obliczająca sumę liczb od 0 do n-1 i umieszczająca wynik w kolejce.\n",
    "    \n",
    "    Args:\n",
    "        n (int): Liczba, do której obliczana jest suma.\n",
    "        queue (Queue): Kolejka do komunikacji między procesami.\n",
    "    \"\"\"\n",
    "    queue.put(sum(range(n)))  # Obliczamy sumę i dodajemy ją do kolejki\n",
    "\n",
    "if __name__ == \"__main__\":\n",
    "    start_time = time.time()  # Rozpoczynamy pomiar czasu\n",
    "\n",
    "    queue = Queue()  # Tworzymy kolejkę do komunikacji między procesami\n",
    "\n",
    "    # Tworzymy listę procesów, każdy proces wykonuje funkcję compute_sum\n",
    "    # Funkcji przekazujemy argument n oraz kolejkę, do której zapisuje wynik\n",
    "    processes = [Process(target=compute_sum, args=(10_000_000, queue)) for _ in range(4)]\n",
    "\n",
    "    # Uruchamiamy każdy proces\n",
    "    for p in processes:\n",
    "        p.start()\n",
    "\n",
    "    # Czekamy na zakończenie każdego procesu\n",
    "    for p in processes:\n",
    "        p.join()\n",
    "\n",
    "    # Pobieramy wyniki z kolejki\n",
    "    results = [queue.get() for _ in range(4)]\n",
    "    print(f\"Results: {results}\")  # Wyświetlamy wyniki\n",
    "\n",
    "    end_time = time.time()  # Kończymy pomiar czasu\n",
    "    print(f\"Parallel processing time: {end_time - start_time:.2f} seconds\")  # Wyświetlamy czas wykonania\n"
   ]
  },
  {
   "cell_type": "code",
   "execution_count": 10,
   "metadata": {},
   "outputs": [
    {
     "name": "stdout",
     "output_type": "stream",
     "text": [
      "Results: [49999995000000, 49999995000000, 49999995000000, 49999995000000]\n",
      "Parallel processing time: 0.48 seconds\n"
     ]
    }
   ],
   "source": [
    "!python parallel_sum_example.py"
   ]
  },
  {
   "cell_type": "markdown",
   "metadata": {},
   "source": [
    "Kolejka (`Queue`) jest używana tutaj jako mechanizm komunikacji między procesami, ponieważ każdy proces w Pythonie działa w swojej własnej przestrzeni pamięci. Oznacza to, że dane obliczone w jednym procesie nie są automatycznie dostępne dla innych procesów ani dla procesu głównego.\n",
    "\n",
    "### **Dlaczego potrzebujemy `Queue` w tym przykładzie?**\n",
    "\n",
    "1. **Oddzielenie przestrzeni pamięci**:\n",
    "   - Każdy proces w Pythonie tworzony za pomocą `multiprocessing.Process` ma swoją niezależną przestrzeń pamięci.\n",
    "   - Bez mechanizmu komunikacji, wyniki obliczeń wykonane w procesach potomnych nie mogą być przekazane do procesu głównego.\n",
    "\n",
    "2. **Przechowywanie wyników**:\n",
    "   - Kolejka umożliwia procesom potomnym przekazanie swoich wyników do procesu głównego.\n",
    "   - W tym przypadku każdy proces oblicza sumę liczb od `0` do `n` i zapisuje wynik w kolejce.\n",
    "\n",
    "3. **Bezpieczeństwo i kolejność**:\n",
    "   - `Queue` zapewnia bezpieczeństwo wieloprocesowe. Dane umieszczane w kolejce są chronione przed konfliktami między procesami.\n",
    "   - Dane są pobierane z kolejki w takiej samej kolejności, w jakiej zostały do niej dodane (FIFO – First In, First Out).\n",
    "\n",
    "---\n",
    "\n",
    "### **Jak moglibyśmy to zrobić bez `Queue`?**\n",
    "\n",
    "Alternatywnie, można by wykorzystać inne mechanizmy:\n",
    "- **`Manager().list`**:\n",
    "  - Współdzielona lista zarządzana przez `multiprocessing.Manager`.\n",
    "  - Można by przechowywać wyniki w jednej współdzielonej liście zamiast używać kolejki.\n",
    "  \n",
    "- **Zapis wyników do plików**:\n",
    "  - Procesy mogłyby zapisywać swoje wyniki do plików, które proces główny odczytałby później.\n",
    "  \n",
    "- **Wartości zwracane przez `Pool`**:\n",
    "  - Jeśli używalibyśmy `multiprocessing.Pool`, wyniki obliczeń mogłyby być zwracane bezpośrednio jako lista.\n",
    "\n",
    "---\n",
    "\n",
    "Użycie `Queue` w tym przykładzie jest prostym i intuicyjnym sposobem na zbieranie wyników z procesów potomnych w jednym miejscu. Dzięki temu możemy łatwo zrozumieć, jak procesy komunikują się i współpracują ze sobą."
   ]
  },
  {
   "cell_type": "markdown",
   "metadata": {},
   "source": [
    "\n",
    "---\n",
    "\n",
    "#### **4. Alternatywne biblioteki do `multiprocessing`**\n",
    "\n",
    "1. **`concurrent.futures`**:\n",
    "   - Moduł wysokopoziomowy, pozwalający na łatwe wykorzystanie wątków i procesów.\n",
    "\n",
    "2. **`joblib`**:\n",
    "   - Optymalizowany do przetwarzania dużych danych, szczególnie w analizie danych.\n",
    "\n",
    "3. **`ray`**:\n",
    "   - Narzędzie do budowy skalowalnych aplikacji rozproszonych, wspierające obliczenia równoległe.\n",
    "\n",
    "4. **`dask`**:\n",
    "   - Framework do przetwarzania równoległego dużych zbiorów danych, doskonały w analizie danych.\n",
    "\n",
    "5. **`celery`**:\n",
    "   - Framework do zarządzania zadaniami asynchronicznymi, używany w aplikacjach webowych i przetwarzaniu w tle.\n",
    "\n"
   ]
  }
 ],
 "metadata": {
  "kernelspec": {
   "display_name": ".venv",
   "language": "python",
   "name": "python3"
  },
  "language_info": {
   "codemirror_mode": {
    "name": "ipython",
    "version": 3
   },
   "file_extension": ".py",
   "mimetype": "text/x-python",
   "name": "python",
   "nbconvert_exporter": "python",
   "pygments_lexer": "ipython3",
   "version": "3.13.0"
  }
 },
 "nbformat": 4,
 "nbformat_minor": 2
}
