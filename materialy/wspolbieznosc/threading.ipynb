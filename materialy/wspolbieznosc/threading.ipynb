{
 "cells": [
  {
   "cell_type": "markdown",
   "metadata": {},
   "source": [
    "### **Wprowadzenie do `threading`**\n",
    "\n",
    "Moduł `threading` pozwala na tworzenie wątków, które mogą być używane do wykonywania zadań równolegle. \n",
    "\n",
    "Wątki działają w tej samej przestrzeni pamięci, co pozwala na szybkie dzielenie się danymi, ale są ograniczone przez Global Interpreter Lock (GIL). \n",
    "\n",
    "Wątki są szczególnie przydatne w zadaniach I/O-bound.\n",
    "\n",
    "---\n",
    "\n",
    "## **Przykład 1: Prosty przykład z wątkami**\n",
    "\n",
    "Poniższy kod uruchamia kilka wątków równocześnie, które symulują długie zadania za pomocą `time.sleep`.\n",
    "\n",
    "### Kod\n"
   ]
  },
  {
   "cell_type": "code",
   "execution_count": 3,
   "metadata": {},
   "outputs": [
    {
     "name": "stdout",
     "output_type": "stream",
     "text": [
      "Overwriting threading_example_1.py\n"
     ]
    }
   ],
   "source": [
    "%%writefile threading_example_1.py\n",
    "import threading\n",
    "import time\n",
    "\n",
    "def worker(name, delay):\n",
    "    print(f\"Wątek {name} rozpoczął działanie.\")\n",
    "    time.sleep(delay)\n",
    "    print(f\"Wątek {name} zakończył działanie.\")\n",
    "\n",
    "if __name__ == \"__main__\":\n",
    "    t1 = time.time()\n",
    "    threads = []\n",
    "    for i in range(5):\n",
    "        t = threading.Thread(target=worker, args=(f\"W{i+1}\", 1))\n",
    "        threads.append(t)\n",
    "        t.start()\n",
    "\n",
    "    for t in threads:\n",
    "        t.join()\n",
    "\n",
    "    print(f\"Wszystkie wątki zakończyły działanie w {time.time() - t1:.2f} sekund.\")\n"
   ]
  },
  {
   "cell_type": "code",
   "execution_count": 4,
   "metadata": {},
   "outputs": [
    {
     "name": "stdout",
     "output_type": "stream",
     "text": [
      "Wątek W1 rozpoczął działanie.\n",
      "Wątek W2 rozpoczął działanie.Wątek W3 rozpoczął działanie.\n",
      "\n",
      "Wątek W4 rozpoczął działanie.\n",
      "Wątek W5 rozpoczął działanie.\n",
      "Wątek W1 zakończył działanie.\n",
      "Wątek W4 zakończył działanie.Wątek W2 zakończył działanie.\n",
      "Wątek W5 zakończył działanie.\n",
      "Wątek W3 zakończył działanie.\n",
      "\n",
      "Wszystkie wątki zakończyły działanie w 1.00 sekund.\n"
     ]
    }
   ],
   "source": [
    "!python threading_example_1.py"
   ]
  },
  {
   "cell_type": "markdown",
   "metadata": {},
   "source": [
    "\n",
    "\n",
    "### Wyjaśnienie:\n",
    "1. **Funkcja `worker`**:\n",
    "   - Symuluje długie zadanie (np. pobieranie danych) z opóźnieniem zależnym od `delay`.\n",
    "2. **Tworzenie wątków**:\n",
    "   - Tworzymy 5 wątków i uruchamiamy je równolegle za pomocą `t.start()`.\n",
    "3. **Oczekiwanie na zakończenie**:\n",
    "   - `t.join()` zapewnia, że główny wątek poczeka na zakończenie wszystkich wątków.\n",
    "\n",
    "---\n",
    "\n",
    "## **Przykład 2: Pobieranie danych z wielu URL-i**\n",
    "\n",
    "Ten przykład wykorzystuje wątki do równoległego pobierania danych z kilku URL-i.\n",
    "\n",
    "### Kod\n"
   ]
  },
  {
   "cell_type": "code",
   "execution_count": 5,
   "metadata": {},
   "outputs": [
    {
     "name": "stdout",
     "output_type": "stream",
     "text": [
      "Writing threading_example_2.py\n"
     ]
    }
   ],
   "source": [
    "%%writefile threading_example_2.py\n",
    "\n",
    "import threading\n",
    "import requests\n",
    "import time\n",
    "\n",
    "def fetch_url(url):\n",
    "    print(f\"Rozpoczęto pobieranie: {url}\")\n",
    "    response = requests.get(url)\n",
    "    print(f\"Pobrano dane z: {url} ({len(response.content)} bajtów)\")\n",
    "\n",
    "if __name__ == \"__main__\":\n",
    "    urls = [\n",
    "        \"https://www.python.org\",\n",
    "        \"https://www.wikipedia.org\",\n",
    "        \"https://www.github.com\",\n",
    "        \"https://www.stackoverflow.com\",\n",
    "        \"https://www.google.com\"\n",
    "    ]\n",
    "\n",
    "    start_time = time.time()\n",
    "\n",
    "    threads = [threading.Thread(target=fetch_url, args=(url,)) for url in urls]\n",
    "    for t in threads:\n",
    "        t.start()\n",
    "\n",
    "    for t in threads:\n",
    "        t.join()\n",
    "\n",
    "    print(f\"Wszystkie żądania zakończone w {time.time() - start_time:.2f} sekund.\")\n"
   ]
  },
  {
   "cell_type": "code",
   "execution_count": 6,
   "metadata": {},
   "outputs": [
    {
     "name": "stdout",
     "output_type": "stream",
     "text": [
      "Rozpoczęto pobieranie: https://www.python.org\n",
      "Rozpoczęto pobieranie: https://www.wikipedia.orgRozpoczęto pobieranie: https://www.github.com\n",
      "Rozpoczęto pobieranie: https://www.stackoverflow.comRozpoczęto pobieranie: https://www.google.com\n",
      "\n",
      "\n",
      "Pobrano dane z: https://www.python.org (51224 bajtów)\n",
      "Pobrano dane z: https://www.wikipedia.org (100591 bajtów)\n",
      "Pobrano dane z: https://www.github.com (264979 bajtów)\n",
      "Pobrano dane z: https://www.google.com (19356 bajtów)\n",
      "Pobrano dane z: https://www.stackoverflow.com (132720 bajtów)\n",
      "Wszystkie żądania zakończone w 0.51 sekund.\n"
     ]
    }
   ],
   "source": [
    "\n",
    "!python threading_example_2.py"
   ]
  },
  {
   "cell_type": "markdown",
   "metadata": {},
   "source": [
    "\n",
    "\n",
    "### Wyjaśnienie:\n",
    "1. **Funkcja `fetch_url`**:\n",
    "   - Pobiera dane z podanego URL za pomocą `requests.get`.\n",
    "2. **Tworzenie wątków**:\n",
    "   - Dla każdej strony w `urls` tworzony jest oddzielny wątek.\n",
    "3. **Pomiar czasu**:\n",
    "   - Wątki działają równolegle, co przyspiesza wykonanie w porównaniu z sekwencyjnym pobieraniem.\n",
    "\n",
    "---\n",
    "\n",
    "## **Porównanie z sekwencyjnym wykonywaniem**\n",
    "Dla przykładu z URL-ami, sekwencyjne wykonywanie zajmie więcej czasu:\n"
   ]
  },
  {
   "cell_type": "code",
   "execution_count": 8,
   "metadata": {},
   "outputs": [
    {
     "name": "stdout",
     "output_type": "stream",
     "text": [
      "Rozpoczęto pobieranie: https://www.python.org\n",
      "Pobrano dane z: https://www.python.org (51224 bajtów)\n",
      "Rozpoczęto pobieranie: https://www.wikipedia.org\n",
      "Pobrano dane z: https://www.wikipedia.org (100591 bajtów)\n",
      "Rozpoczęto pobieranie: https://www.github.com\n",
      "Pobrano dane z: https://www.github.com (263493 bajtów)\n",
      "Rozpoczęto pobieranie: https://www.stackoverflow.com\n",
      "Pobrano dane z: https://www.stackoverflow.com (132720 bajtów)\n",
      "Rozpoczęto pobieranie: https://www.google.com\n",
      "Pobrano dane z: https://www.google.com (19405 bajtów)\n",
      "Żądania sekwencyjne zakończone w 5.17 sekund.\n"
     ]
    }
   ],
   "source": [
    "import time\n",
    "import requests\n",
    "\n",
    "\n",
    "urls = [\n",
    "    \"https://www.python.org\",\n",
    "    \"https://www.wikipedia.org\",\n",
    "    \"https://www.github.com\",\n",
    "    \"https://www.stackoverflow.com\",\n",
    "    \"https://www.google.com\"\n",
    "]\n",
    "\n",
    "def fetch_url(url):\n",
    "    print(f\"Rozpoczęto pobieranie: {url}\")\n",
    "    response = requests.get(url)\n",
    "    print(f\"Pobrano dane z: {url} ({len(response.content)} bajtów)\")\n",
    "\n",
    "start_time = time.time()\n",
    "for url in urls:\n",
    "    fetch_url(url)\n",
    "\n",
    "print(f\"Żądania sekwencyjne zakończone w {time.time() - start_time:.2f} sekund.\")\n"
   ]
  },
  {
   "cell_type": "markdown",
   "metadata": {},
   "source": [
    "\n",
    "\n",
    "---\n",
    "\n",
    "## **Kiedy używać `threading`?**\n",
    "- Zastosowanie: Zadania I/O-bound (np. pobieranie danych z sieci, odczyt/zapis plików).\n",
    "- Ograniczenia: Wątki są ograniczone przez GIL, co sprawia, że nie są odpowiednie dla zadań CPU-bound (np. przetwarzanie liczb pierwszych).\n",
    "\n",
    "Czy takie przykłady wystarczą? 😊"
   ]
  }
 ],
 "metadata": {
  "kernelspec": {
   "display_name": ".venv",
   "language": "python",
   "name": "python3"
  },
  "language_info": {
   "codemirror_mode": {
    "name": "ipython",
    "version": 3
   },
   "file_extension": ".py",
   "mimetype": "text/x-python",
   "name": "python",
   "nbconvert_exporter": "python",
   "pygments_lexer": "ipython3",
   "version": "3.13.0"
  }
 },
 "nbformat": 4,
 "nbformat_minor": 2
}
