{
 "cells": [
  {
   "cell_type": "markdown",
   "metadata": {},
   "source": [
    "### Asynchroniczność w Pythonie\n",
    "\n",
    "Asynchroniczność umożliwia wykonywanie wielu operacji jednocześnie bez blokowania głównego wątku programu. Jest to szczególnie przydatne w zadaniach I/O-bound, takich jak komunikacja z serwerem, pobieranie danych z sieci, czy operacje na plikach.\n",
    "\n",
    "#### Kluczowe terminy:\n",
    "\n",
    "1. **Coroutines (korutyny)**:\n",
    "   Funkcje asynchroniczne zdefiniowane za pomocą `async def`. Są podstawą asynchronicznego programowania w Pythonie.\n",
    "\n",
    "2. **Event Loop (pętla zdarzeń)**:\n",
    "   Centralny mechanizm zarządzający wykonaniem korutyn i innych asynchronicznych zadań.\n",
    "\n",
    "3. **await**:\n",
    "   Używane wewnątrz `async def` do wstrzymania wykonania korutyny do momentu zakończenia operacji asynchronicznej.\n",
    "\n",
    "4. **Tasks (zadania)**:\n",
    "   Reprezentują wykonywanie korutyny w pętli zdarzeń. Tworzone za pomocą `asyncio.create_task`.\n",
    "\n",
    "5. **Futures**:\n",
    "   Obiekty reprezentujące wynik operacji, który będzie dostępny w przyszłości.\n",
    "\n"
   ]
  },
  {
   "cell_type": "markdown",
   "metadata": {},
   "source": [
    "\n",
    "\n",
    "---\n",
    "\n",
    "## **Przykład 1: Symulacja zadań asynchronicznych**\n"
   ]
  },
  {
   "cell_type": "code",
   "execution_count": 2,
   "metadata": {},
   "outputs": [
    {
     "name": "stdout",
     "output_type": "stream",
     "text": [
      "Overwriting asyncio_example_1.py\n"
     ]
    }
   ],
   "source": [
    "\n",
    "%%writefile asyncio_example_1.py\n",
    "import asyncio\n",
    "\n",
    "async def async_task(name, delay):\n",
    "    print(f\"Zadanie {name} rozpoczęte.\")\n",
    "    await asyncio.sleep(delay)\n",
    "    print(f\"Zadanie {name} zakończone po {delay} sekundach.\")\n",
    "\n",
    "async def main():\n",
    "    tasks = [\n",
    "        async_task(\"A\", 2),\n",
    "        async_task(\"B\", 3),\n",
    "        async_task(\"C\", 1)\n",
    "    ]\n",
    "    await asyncio.gather(*tasks)\n",
    "\n",
    "if __name__ == \"__main__\":\n",
    "    import time\n",
    "    t1 = time.time()\n",
    "    asyncio.run(main())\n",
    "    print(f\"Wszystkie zadania zakończone w {time.time() - t1:.2f} sekund.\")\n"
   ]
  },
  {
   "cell_type": "code",
   "execution_count": 3,
   "metadata": {},
   "outputs": [
    {
     "name": "stdout",
     "output_type": "stream",
     "text": [
      "Zadanie A rozpoczęte.\n",
      "Zadanie B rozpoczęte.\n",
      "Zadanie C rozpoczęte.\n",
      "Zadanie C zakończone po 1 sekundach.\n",
      "Zadanie A zakończone po 2 sekundach.\n",
      "Zadanie B zakończone po 3 sekundach.\n",
      "Wszystkie zadania zakończone w 3.00 sekund.\n"
     ]
    }
   ],
   "source": [
    "!python asyncio_example_1.py"
   ]
  },
  {
   "cell_type": "markdown",
   "metadata": {},
   "source": [
    "\n",
    "## **Przykład 2: Pobieranie danych z URL-i za pomocą `aiohttp`**\n",
    "\n"
   ]
  },
  {
   "cell_type": "code",
   "execution_count": 6,
   "metadata": {},
   "outputs": [
    {
     "name": "stdout",
     "output_type": "stream",
     "text": [
      "Collecting aiohttp\n",
      "  Downloading aiohttp-3.11.9-cp313-cp313-macosx_10_13_x86_64.whl.metadata (7.7 kB)\n",
      "Collecting aiohappyeyeballs>=2.3.0 (from aiohttp)\n",
      "  Downloading aiohappyeyeballs-2.4.4-py3-none-any.whl.metadata (6.1 kB)\n",
      "Collecting aiosignal>=1.1.2 (from aiohttp)\n",
      "  Downloading aiosignal-1.3.1-py3-none-any.whl.metadata (4.0 kB)\n",
      "Requirement already satisfied: attrs>=17.3.0 in /Users/rkorzen/PycharmProjects/szkolenia/PSInf/2024_12_02/.venv/lib/python3.13/site-packages (from aiohttp) (24.2.0)\n",
      "Collecting frozenlist>=1.1.1 (from aiohttp)\n",
      "  Downloading frozenlist-1.5.0-cp313-cp313-macosx_10_13_x86_64.whl.metadata (13 kB)\n",
      "Collecting multidict<7.0,>=4.5 (from aiohttp)\n",
      "  Downloading multidict-6.1.0-cp313-cp313-macosx_10_13_x86_64.whl.metadata (5.0 kB)\n",
      "Collecting propcache>=0.2.0 (from aiohttp)\n",
      "  Downloading propcache-0.2.1-cp313-cp313-macosx_10_13_x86_64.whl.metadata (9.2 kB)\n",
      "Collecting yarl<2.0,>=1.17.0 (from aiohttp)\n",
      "  Downloading yarl-1.18.3-cp313-cp313-macosx_10_13_x86_64.whl.metadata (69 kB)\n",
      "Requirement already satisfied: idna>=2.0 in /Users/rkorzen/PycharmProjects/szkolenia/PSInf/2024_12_02/.venv/lib/python3.13/site-packages (from yarl<2.0,>=1.17.0->aiohttp) (3.10)\n",
      "Downloading aiohttp-3.11.9-cp313-cp313-macosx_10_13_x86_64.whl (459 kB)\n",
      "Downloading aiohappyeyeballs-2.4.4-py3-none-any.whl (14 kB)\n",
      "Downloading aiosignal-1.3.1-py3-none-any.whl (7.6 kB)\n",
      "Downloading frozenlist-1.5.0-cp313-cp313-macosx_10_13_x86_64.whl (52 kB)\n",
      "Downloading multidict-6.1.0-cp313-cp313-macosx_10_13_x86_64.whl (29 kB)\n",
      "Downloading propcache-0.2.1-cp313-cp313-macosx_10_13_x86_64.whl (44 kB)\n",
      "Downloading yarl-1.18.3-cp313-cp313-macosx_10_13_x86_64.whl (94 kB)\n",
      "Installing collected packages: propcache, multidict, frozenlist, aiohappyeyeballs, yarl, aiosignal, aiohttp\n",
      "Successfully installed aiohappyeyeballs-2.4.4 aiohttp-3.11.9 aiosignal-1.3.1 frozenlist-1.5.0 multidict-6.1.0 propcache-0.2.1 yarl-1.18.3\n"
     ]
    }
   ],
   "source": [
    "!pip install aiohttp"
   ]
  },
  {
   "cell_type": "code",
   "execution_count": 7,
   "metadata": {},
   "outputs": [
    {
     "name": "stdout",
     "output_type": "stream",
     "text": [
      "Overwriting asyncio_example_2.py\n"
     ]
    }
   ],
   "source": [
    "%%writefile asyncio_example_2.py\n",
    "import asyncio\n",
    "import aiohttp\n",
    "\n",
    "async def fetch_url(session, url):\n",
    "    async with session.get(url) as response:\n",
    "        content = await response.text()\n",
    "        print(f\"Pobrano dane z {url} ({len(content)} znaków)\")\n",
    "        return content\n",
    "\n",
    "async def main():\n",
    "    urls = [\n",
    "        \"https://www.python.org\",\n",
    "        \"https://www.wikipedia.org\",\n",
    "        \"https://www.github.com\",\n",
    "        \"https://www.stackoverflow.com\",\n",
    "        \"https://www.google.com\"\n",
    "    ]\n",
    "    async with aiohttp.ClientSession() as session:\n",
    "        tasks = [fetch_url(session, url) for url in urls]\n",
    "        await asyncio.gather(*tasks)\n",
    "\n",
    "if __name__ == \"__main__\":\n",
    "    import time\n",
    "    t1 = time.time()\n",
    "    asyncio.run(main())\n",
    "    print(f\"Wszystkie zadania zakończone w {time.time() - t1:.2f} sekund.\")\n"
   ]
  },
  {
   "cell_type": "code",
   "execution_count": 8,
   "metadata": {},
   "outputs": [
    {
     "name": "stdout",
     "output_type": "stream",
     "text": [
      "Pobrano dane z https://www.python.org (51212 znaków)\n",
      "Pobrano dane z https://www.wikipedia.org (98473 znaków)\n",
      "Pobrano dane z https://www.github.com (263408 znaków)\n",
      "Pobrano dane z https://www.google.com (19378 znaków)\n",
      "Pobrano dane z https://www.stackoverflow.com (132758 znaków)\n",
      "Wszystkie zadania zakończone w 0.56 sekund.\n"
     ]
    }
   ],
   "source": [
    "\n",
    "!python asyncio_example_2.py\n"
   ]
  },
  {
   "cell_type": "code",
   "execution_count": 1,
   "metadata": {},
   "outputs": [
    {
     "name": "stdout",
     "output_type": "stream",
     "text": [
      "Writing asyncio_example_2_2.py\n"
     ]
    }
   ],
   "source": [
    "%%writefile asyncio_example_2_2.py\n",
    "import asyncio\n",
    "\n",
    "async def fetch_url(session, url):\n",
    "    async with session.get(url) as response:\n",
    "        content = await response.text()\n",
    "        print(f\"Pobrano dane z {url} ({len(content)} znaków)\")\n",
    "        return content\n",
    "\n",
    "async def main():\n",
    "    urls = [\n",
    "        \"https://www.python.org\",\n",
    "        \"https://www.wikipedia.org\",\n",
    "        \"https://www.github.com\",\n",
    "        \"https://www.stackoverflow.com\",\n",
    "        \"https://www.google.com\"\n",
    "    ]\n",
    "    async with aiohttp.ClientSession() as session:\n",
    "        tasks = [fetch_url(session, url) for url in urls]\n",
    "        results = await asyncio.gather(*tasks)\n",
    "        # Przechowywanie wyników\n",
    "        for url, content in zip(urls, results):\n",
    "            print(f\"Zawartość z {url}: {content[:100]}...\")  # Wyświetl pierwsze 100 znaków\n",
    "\n",
    "if __name__ == \"__main__\":\n",
    "    import time\n",
    "    t1 = time.time()\n",
    "    asyncio.run(main())\n",
    "    print(f\"Wszystkie zadania zakończone w {time.time() - t1:.2f} sekund.\")"
   ]
  },
  {
   "cell_type": "code",
   "execution_count": 2,
   "metadata": {},
   "outputs": [
    {
     "name": "stdout",
     "output_type": "stream",
     "text": [
      "Traceback (most recent call last):\n",
      "  File \u001b[35m\"/Users/rkorzen/PycharmProjects/szkolenia/PSInf/2024_12_02/materialy/wspolbieznosc/asyncio_example_2_2.py\"\u001b[0m, line \u001b[35m25\u001b[0m, in \u001b[35m<module>\u001b[0m\n",
      "    \u001b[1;31masyncio\u001b[0m.run(main())\n",
      "    \u001b[1;31m^^^^^^^\u001b[0m\n",
      "\u001b[1;35mNameError\u001b[0m: \u001b[35mname 'asyncio' is not defined. Did you forget to import 'asyncio'?\u001b[0m\n"
     ]
    }
   ],
   "source": [
    "!python asyncio_example_2_2.py"
   ]
  },
  {
   "cell_type": "code",
   "execution_count": null,
   "metadata": {},
   "outputs": [],
   "source": []
  }
 ],
 "metadata": {
  "kernelspec": {
   "display_name": ".venv",
   "language": "python",
   "name": "python3"
  },
  "language_info": {
   "codemirror_mode": {
    "name": "ipython",
    "version": 3
   },
   "file_extension": ".py",
   "mimetype": "text/x-python",
   "name": "python",
   "nbconvert_exporter": "python",
   "pygments_lexer": "ipython3",
   "version": "3.13.0"
  }
 },
 "nbformat": 4,
 "nbformat_minor": 2
}
