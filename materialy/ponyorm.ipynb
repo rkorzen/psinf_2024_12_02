{
 "cells": [
  {
   "cell_type": "markdown",
   "metadata": {},
   "source": [
    "# **PonyORM**\n",
    "\n",
    "### **1. Wprowadzenie do PonyORM**\n",
    "PonyORM to ORM w Pythonie, który umożliwia:\n",
    "- Łatwe definiowanie modeli danych.\n",
    "- Wykonywanie zapytań SQL za pomocą Pythonowych generatorów wyrażeń.\n",
    "- Automatyczne mapowanie modeli na tabele w bazie danych.\n",
    "\n",
    "---\n",
    "\n",
    "### **2. Instalacja**\n",
    "Aby zainstalować PonyORM:\n",
    "```bash\n",
    "pip install pony\n",
    "```\n",
    "\n",
    "---\n",
    "\n",
    "### **3. Podstawowe pojęcia**\n",
    "1. **Database**: Obiekt zarządzający połączeniami z bazą danych.\n",
    "2. **Entity**: Klasa reprezentująca tabelę w bazie danych.\n",
    "3. **Set**: Relacja między tabelami, np. `One-to-Many` lub `Many-to-Many`.\n",
    "4. **db_session**: Dekorator lub kontekst zarządzający transakcjami.\n",
    "\n",
    "---\n",
    "\n",
    "### **4. Przykład pełnego skryptu**\n",
    "\n",
    "Poniżej znajduje się kompletny przykład, który można zapisać do pliku i uruchomić.\n",
    "\n",
    "#### Kod: `ponyorm_demo.py`\n",
    "\n"
   ]
  },
  {
   "cell_type": "code",
   "execution_count": 1,
   "metadata": {},
   "outputs": [
    {
     "name": "stdout",
     "output_type": "stream",
     "text": [
      "Collecting pony\n",
      "  Downloading pony-0.7.19-py3-none-any.whl.metadata (2.8 kB)\n",
      "Downloading pony-0.7.19-py3-none-any.whl (317 kB)\n",
      "Installing collected packages: pony\n",
      "Successfully installed pony-0.7.19\n"
     ]
    }
   ],
   "source": [
    "!pip install pony"
   ]
  },
  {
   "cell_type": "code",
   "execution_count": 2,
   "metadata": {},
   "outputs": [
    {
     "name": "stdout",
     "output_type": "stream",
     "text": [
      "Writing ponyorm_demo.py\n"
     ]
    }
   ],
   "source": [
    "%%writefile ponyorm_demo.py\n",
    "from pony.orm import Database, Required, Set, db_session, select\n",
    "\n",
    "# Tworzenie połączenia z bazą danych SQLite\n",
    "db = Database()\n",
    "db.bind(provider='sqlite', filename='pony_example.db', create_db=True)\n",
    "\n",
    "# Definiowanie tabeli User\n",
    "class User(db.Entity):\n",
    "    name = Required(str)\n",
    "    email = Required(str, unique=True)\n",
    "    posts = Set('Post')\n",
    "\n",
    "# Definiowanie tabeli Post\n",
    "class Post(db.Entity):\n",
    "    title = Required(str)\n",
    "    user = Required(User)\n",
    "\n",
    "# Generowanie tabel w bazie danych\n",
    "db.generate_mapping(create_tables=True)\n",
    "\n",
    "# Funkcja pokazująca operacje CRUD\n",
    "@db_session\n",
    "def run_demo():\n",
    "    # Tworzenie użytkownika\n",
    "    user = User(name=\"Rafał Korzeniewski\", email=\"rafal@example.com\")\n",
    "    print(f\"Added user: {user}\")\n",
    "\n",
    "    # Dodawanie postów\n",
    "    post1 = Post(title=\"My First Post\", user=user)\n",
    "    post2 = Post(title=\"My Second Post\", user=user)\n",
    "    print(f\"Added posts: {[post1, post2]}\")\n",
    "\n",
    "    # Pobieranie użytkownika i jego postów\n",
    "    retrieved_user = User.get(name=\"Rafał Korzeniewski\")\n",
    "    print(f\"Retrieved user: {retrieved_user.name}, email: {retrieved_user.email}\")\n",
    "    for post in retrieved_user.posts:\n",
    "        print(f\"Post title: {post.title}\")\n",
    "\n",
    "    # Aktualizacja emaila użytkownika\n",
    "    retrieved_user.email = \"new_email@example.com\"\n",
    "    print(f\"Updated user email: {retrieved_user.email}\")\n",
    "\n",
    "    # Usuwanie postu\n",
    "    post1.delete()\n",
    "    print(f\"Deleted post: {post1.title}\")\n",
    "\n",
    "    # Usuwanie użytkownika\n",
    "    retrieved_user.delete()\n",
    "    print(f\"Deleted user: {retrieved_user.name}\")\n",
    "\n",
    "# Uruchomienie przykładu\n",
    "if __name__ == \"__main__\":\n",
    "    run_demo()\n"
   ]
  },
  {
   "cell_type": "code",
   "execution_count": 3,
   "metadata": {},
   "outputs": [
    {
     "name": "stdout",
     "output_type": "stream",
     "text": [
      "Added user: User[new:1]\n",
      "Added posts: [Post[new:2], Post[new:3]]\n",
      "Retrieved user: Rafał Korzeniewski, email: rafal@example.com\n",
      "Post title: My Second Post\n",
      "Post title: My First Post\n",
      "Updated user email: new_email@example.com\n",
      "Deleted post: My First Post\n",
      "Deleted user: Rafał Korzeniewski\n"
     ]
    }
   ],
   "source": [
    "!python ponyorm_demo.py"
   ]
  },
  {
   "cell_type": "markdown",
   "metadata": {},
   "source": [
    "### **6. Wyjaśnienie kroków**\n",
    "\n",
    "1. **Tworzenie połączenia:**\n",
    "   ```python\n",
    "   db = Database()\n",
    "   db.bind(provider='sqlite', filename='pony_example.db', create_db=True)\n",
    "   ```\n",
    "   Używa SQLite jako bazy danych.\n",
    "\n",
    "2. **Definiowanie modeli:**\n",
    "   ```python\n",
    "   class User(db.Entity):\n",
    "       name = Required(str)\n",
    "       email = Required(str, unique=True)\n",
    "       posts = Set('Post')\n",
    "   ```\n",
    "   - **`Required`**: Oznacza pole wymagane.\n",
    "   - **`Set`**: Tworzy relację `One-to-Many`.\n",
    "\n",
    "3. **Transakcje z `@db_session`:**\n",
    "   Dekorator **`@db_session`** automatycznie zarządza transakcjami, otwierając i zamykając sesję.\n",
    "\n",
    "4. **Dodawanie rekordów:**\n",
    "   ```python\n",
    "   user = User(name=\"Rafał Korzeniewski\", email=\"rafal@example.com\")\n",
    "   ```\n",
    "   Tworzy nowego użytkownika i zapisuje go w bazie danych.\n",
    "\n",
    "5. **Pobieranie danych:**\n",
    "   ```python\n",
    "   retrieved_user = User.get(name=\"Rafał Korzeniewski\")\n",
    "   ```\n",
    "   Pobiera użytkownika na podstawie atrybutu `name`.\n",
    "\n",
    "6. **Aktualizacja danych:**\n",
    "   ```python\n",
    "   retrieved_user.email = \"new_email@example.com\"\n",
    "   ```\n",
    "   Zmienia email użytkownika w bazie danych.\n",
    "\n",
    "7. **Usuwanie danych:**\n",
    "   ```python\n",
    "   retrieved_user.delete()\n",
    "   ```\n",
    "   Usuwa użytkownika z bazy danych.\n",
    "\n",
    "---\n",
    "\n",
    "### **7. Zalety PonyORM**\n",
    "\n",
    "- **Czytelność kodu:** Użycie generatorów wyrażeń sprawia, że zapytania są intuicyjne.\n",
    "- **Prostota:** Automatyczne mapowanie i zarządzanie transakcjami.\n",
    "- **Elastyczność:** Obsługuje różne bazy danych (SQLite, PostgreSQL, MySQL, Oracle).\n",
    "\n",
    "---\n",
    "\n",
    "### **Przykładowe zadania do ćwiczeń**\n",
    "1. Dodaj model `Comment`, który będzie powiązany z modelem `Post` relacją `One-to-Many`.\n",
    "2. Pobierz wszystkich użytkowników, którzy mają więcej niż jeden post.\n",
    "3. Dodaj funkcję eksportującą dane do formatu JSON.\n",
    "\n"
   ]
  },
  {
   "cell_type": "markdown",
   "metadata": {},
   "source": []
  }
 ],
 "metadata": {
  "kernelspec": {
   "display_name": ".venv",
   "language": "python",
   "name": "python3"
  },
  "language_info": {
   "codemirror_mode": {
    "name": "ipython",
    "version": 3
   },
   "file_extension": ".py",
   "mimetype": "text/x-python",
   "name": "python",
   "nbconvert_exporter": "python",
   "pygments_lexer": "ipython3",
   "version": "3.13.0"
  }
 },
 "nbformat": 4,
 "nbformat_minor": 2
}
