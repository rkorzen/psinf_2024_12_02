{
 "cells": [
  {
   "cell_type": "markdown",
   "metadata": {},
   "source": [
    "# **Praca z czasem i strefami czasowymi w Pythonie: `datetime`, `zoneinfo` i `pytz`**\n",
    "\n",
    "Python oferuje potężne narzędzia do pracy z czasem i datami, w tym moduły `datetime`, `zoneinfo` i opcjonalnie `pytz`. Zrozumienie tych narzędzi jest kluczowe przy zarządzaniu czasem w aplikacjach, szczególnie w kontekście stref czasowych i przeliczeń między różnymi formatami czasu.\n",
    "\n",
    "---\n",
    "\n",
    "## Tworzenie obiektów `datetime`\n",
    "\n",
    "### Tworzenie daty i czasu z wykorzystaniem `ZoneInfo`\n",
    "Obiekty `datetime` można tworzyć ręcznie, podając rok, miesiąc, dzień oraz opcjonalnie godzinę, minutę, sekundę, mikrosekundę i informację o strefie czasowej (`tzinfo`).\n"
   ]
  },
  {
   "cell_type": "code",
   "execution_count": 1,
   "metadata": {},
   "outputs": [
    {
     "name": "stdout",
     "output_type": "stream",
     "text": [
      "Naive date: 2024-11-28 15:30:00\n",
      "Aware date: 2024-11-28 15:30:00+00:00\n",
      "Data aware - Warszawa - przesilenie wiosenne: 2024-03-31 02:30:00+01:00\n",
      "tzname: CET\n"
     ]
    }
   ],
   "source": [
    "from datetime import datetime\n",
    "from zoneinfo import ZoneInfo\n",
    "\n",
    "# Data naive (bez strefy czasowej)\n",
    "naive_date = datetime(2024, 11, 28, 15, 30)\n",
    "print(\"Naive date:\", naive_date)\n",
    "\n",
    "# Data aware (ze strefą czasową)\n",
    "aware_date = datetime(2024, 11, 28, 15, 30, tzinfo=ZoneInfo(\"UTC\"))\n",
    "print(\"Aware date:\", aware_date)\n",
    "\n",
    "# Data aware - Warszawa - przesilenie wiosenne\n",
    "\n",
    "dt1 = datetime(2024, 3, 31, 2, 30, tzinfo=ZoneInfo(\"Europe/Warsaw\"))\n",
    "print(\"Data aware - Warszawa - przesilenie wiosenne:\", dt1)\n",
    "print(\"tzname:\", dt1.tzname())"
   ]
  },
  {
   "cell_type": "markdown",
   "metadata": {},
   "source": [
    "### Tworzenie daty i czasu z wykorzystaniem `pytz`\n",
    "\n",
    "Po pierwsze trzeba zainstalować `pytz`:\n",
    "\n",
    "```bash\n",
    "pip install pytz\n",
    "```\n",
    "\n",
    "Daty można tworzyć z wykorzystaniem `pytz` w następujący sposób:"
   ]
  },
  {
   "cell_type": "code",
   "execution_count": 2,
   "metadata": {},
   "outputs": [
    {
     "name": "stdout",
     "output_type": "stream",
     "text": [
      "Sposób 1 (nieprawidłowy): 2024-03-31 02:30:00+01:24\n",
      "Sposób 2 (prawidłowy): 2024-03-31 02:30:00+01:00\n",
      "\n",
      "Różnica w strefach czasowych:\n",
      "Sposób 1 tzname: LMT\n",
      "Sposób 2 tzname: CET\n"
     ]
    }
   ],
   "source": [
    "from datetime import datetime\n",
    "from pytz import timezone\n",
    "\n",
    "warsaw_tz = timezone('Europe/Warsaw')\n",
    "\n",
    "# Sposób 1 - bezpośrednie użycie tzinfo (potencjalnie problematyczne)\n",
    "dt1 = datetime(2024, 3, 31, 2, 30, tzinfo=warsaw_tz)\n",
    "print(\"Sposób 1 (nieprawidłowy):\", dt1)  # To może nie uwzględnić poprawnie zmiany czasu\n",
    "\n",
    "# Sposób 2 - użycie localize (prawidłowy sposób)\n",
    "dt2 = warsaw_tz.localize(datetime(2024, 3, 31, 2, 30))\n",
    "print(\"Sposób 2 (prawidłowy):\", dt2)\n",
    "\n",
    "# Sprawdźmy różnicę\n",
    "print(\"\\nRóżnica w strefach czasowych:\")\n",
    "print(\"Sposób 1 tzname:\", dt1.tzname())\n",
    "print(\"Sposób 2 tzname:\", dt2.tzname())\n",
    "\n",
    "# Ta data jest szczególna, bo wypada podczas zmiany czasu z zimowego na letni\n",
    "# W Polsce 31 marca 2024 o 2:00 następuje zmiana na 3:00\n"
   ]
  },
  {
   "cell_type": "markdown",
   "metadata": {},
   "source": [
    "Dokumentacja zaleca użycie `localize` do tworzenia dat aware. Ale kluczowe też jest to, by wewnętrznie pracować z datami w UTC, a localize używać wtedy gdy chcemy wyświetlić datę w jakiejś konkretnej strefie czasowej.\n",
    "\n",
    "Bazując na przykładzie z [dokumentacji](https://pythonhosted.org/pytz/) `pytz` można zauważyć, że `ZoneInfo` lepiej obsługuj nie tylko zmiany czasu letniego, ale też zmiany historyczne, takie jak zmiana czasu w Warszawie w 1915 roku.\n",
    "\n",
    "\n",
    "<blockquote>\n",
    "A special case is where countries change their timezone definitions with no daylight savings time switch. For example, in 1915 Warsaw switched from Warsaw time to Central European time with no daylight savings transition. So at the stroke of midnight on August 5th 1915 the clocks were wound back 24 minutes creating an ambiguous time period that cannot be specified without referring to the timezone abbreviation or the actual UTC offset. In this case midnight happened twice, neither time during a daylight saving time period. pytz handles this transition by treating the ambiguous period before the switch as daylight savings time, and the ambiguous period after as standard time.\n",
    "</blockquote>\n"
   ]
  },
  {
   "cell_type": "code",
   "execution_count": 18,
   "metadata": {},
   "outputs": [
    {
     "name": "stdout",
     "output_type": "stream",
     "text": [
      "1915-08-04 23:59:59 WMT+0124\n",
      "1915-08-04 23:59:59 CET+0100\n",
      "0:24:01\n",
      "0:00:01\n"
     ]
    }
   ],
   "source": [
    "fmt = '%Y-%m-%d %H:%M:%S %Z%z'\n",
    "warsaw = timezone('Europe/Warsaw')\n",
    "amb_dt1 = warsaw.localize(datetime(1915, 8, 4, 23, 59, 59), is_dst=True)\n",
    "print(amb_dt1.strftime(fmt)) # '1915-08-04 23:59:59 WMT+0124'\n",
    "\n",
    "amb_dt2 = warsaw.localize(datetime(1915, 8, 4, 23, 59, 59), is_dst=False)\n",
    "print(amb_dt2.strftime(fmt)) # '1915-08-04 23:59:59 CET+0100'\n",
    "\n",
    "switch_dt = warsaw.localize(datetime(1915, 8, 5, 00, 00, 00), is_dst=False)\n",
    "switch_dt.strftime(fmt) # '1915-08-05 00:00:00 CET+0100'\n",
    "\n",
    "print(switch_dt - amb_dt1) # '0:24:01'\n",
    "print(switch_dt - amb_dt2) #'0:00:01'\n",
    "\n"
   ]
  },
  {
   "cell_type": "code",
   "execution_count": 19,
   "metadata": {},
   "outputs": [
    {
     "name": "stdout",
     "output_type": "stream",
     "text": [
      "1915-08-04 23:59:59 WMT+0124\n",
      "1915-08-05 00:00:00 CET+0100\n",
      "0:00:01\n",
      "0:00:01\n"
     ]
    }
   ],
   "source": [
    "from datetime import datetime\n",
    "from zoneinfo import ZoneInfo\n",
    "\n",
    "fmt = \"%Y-%m-%d %H:%M:%S %Z%z\"\n",
    "\n",
    "# Czas w Warszawie przed zmianą\n",
    "warsaw = ZoneInfo(\"Europe/Warsaw\")\n",
    "amb_dt1 = datetime(1915, 8, 4, 23, 59, 59, tzinfo=warsaw)\n",
    "print(amb_dt1.strftime(fmt))  # '1915-08-04 23:59:59 LMT+0124' (WMT: Warsaw Mean Time)\n",
    "\n",
    "# Czas po zmianie\n",
    "switch_dt = datetime(1915, 8, 5, 0, 0, 0, tzinfo=warsaw)\n",
    "print(switch_dt.strftime(fmt))  # '1915-08-05 00:00:00 CET+0100'\n",
    "\n",
    "print(switch_dt - amb_dt1) # '0:00:01'\n",
    "print(switch_dt - amb_dt2) #'0:00:01'"
   ]
  },
  {
   "cell_type": "markdown",
   "metadata": {},
   "source": [
    "### Podsumowanie róznic między `pytz` i `zoneinfo`\n",
    "\n",
    "\n",
    "#### **1. Pochodzenie i integracja z Pythonem**\n",
    "- **`pytz`**: Zewnętrzna biblioteka, która korzysta z bazy danych IANA Time Zone Database. Była standardem przed wprowadzeniem `zoneinfo`.\n",
    "- **`zoneinfo`**: Wbudowana w Python od wersji 3.9, również korzysta z bazy IANA i jest obecnie rekomendowana dla nowych projektów.\n",
    "\n",
    "---\n",
    "\n",
    "#### **2. Obsługa czasu letniego (DST) i niejednoznaczności**\n",
    "- **`pytz`**: \n",
    "  - Wymaga jawnego określenia, czy czas dotyczy DST, za pomocą argumentu `is_dst` w metodzie `localize`. \n",
    "  - Daje pełną kontrolę nad obsługą niejednoznacznych dat, np. podczas zmiany czasu letniego.\n",
    "  - **Przykład:**\n",
    "    ```python\n",
    "    from pytz import timezone\n",
    "    from datetime import datetime\n",
    "\n",
    "    warsaw = timezone(\"Europe/Warsaw\")\n",
    "    ambiguous_dt = datetime(2023, 10, 29, 2, 30)  # Niejednoznaczny czas\n",
    "    dt_dst = warsaw.localize(ambiguous_dt, is_dst=True)  # DST\n",
    "    dt_standard = warsaw.localize(ambiguous_dt, is_dst=False)  # Czas standardowy\n",
    "    print(dt_dst)       # 2023-10-29 02:30:00+02:00\n",
    "    print(dt_standard)  # 2023-10-29 02:30:00+01:00\n",
    "    ```\n",
    "\n",
    "- **`zoneinfo`**:\n",
    "  - Automatycznie obsługuje niejednoznaczności, ale nie daje możliwości ręcznego ustawienia DST.\n",
    "  - Może zgłaszać wyjątki w przypadku niejednoznacznych dat.\n",
    "  - **Przykład:**\n",
    "    ```python\n",
    "    from zoneinfo import ZoneInfo\n",
    "    from datetime import datetime\n",
    "\n",
    "    ambiguous_dt = datetime(2023, 10, 29, 2, 30, tzinfo=ZoneInfo(\"Europe/Warsaw\"))\n",
    "    print(ambiguous_dt)  # Automatycznie przypisuje offset (np. +01:00 lub +02:00)\n",
    "    ```\n",
    "\n",
    "---\n",
    "\n",
    "#### **3. Wygoda użycia**\n",
    "- **`pytz`**:\n",
    "  - Wymaga użycia metody `localize` dla dat bez stref czasowych i `normalize` do konwersji między strefami.\n",
    "  - Jest bardziej skomplikowane w obsłudze, szczególnie dla początkujących.\n",
    "  - **Przykład konwersji stref:**\n",
    "    ```python\n",
    "    warsaw = timezone(\"Europe/Warsaw\")\n",
    "    ny = timezone(\"America/New_York\")\n",
    "    dt = warsaw.localize(datetime(2023, 11, 29, 15, 0))\n",
    "    converted = dt.astimezone(ny)\n",
    "    print(converted)  # Czas w strefie Nowego Jorku\n",
    "    ```\n",
    "\n",
    "- **`zoneinfo`**:\n",
    "  - Automatyczne przypisywanie stref czasowych bez dodatkowych metod.\n",
    "  - Bardziej intuicyjne i prostsze w użyciu.\n",
    "  - **Przykład konwersji stref:**\n",
    "    ```python\n",
    "    dt = datetime(2023, 11, 29, 15, 0, tzinfo=ZoneInfo(\"Europe/Warsaw\"))\n",
    "    converted = dt.astimezone(ZoneInfo(\"America/New_York\"))\n",
    "    print(converted)\n",
    "    ```\n",
    "\n",
    "---\n",
    "\n",
    "#### **4. Obsługa historycznych danych**\n",
    "- Obie biblioteki korzystają z bazy danych IANA, więc mają podobną dokładność w obsłudze historycznych zmian stref czasowych.\n",
    "\n",
    "---\n",
    "\n",
    "#### **5. Zgodność z Pythonem**\n",
    "- **`pytz`**: Wymaga instalacji zewnętrznej (`pip install pytz`).\n",
    "- **`zoneinfo`**: Wbudowana w Python od wersji 3.9, nie wymaga instalacji.\n",
    "\n",
    "---\n",
    "\n",
    "#### **6. Rekomendacja**\n",
    "- **`pytz`**: Dobra dla starszych projektów, które już ją wykorzystują, lub w przypadkach, gdy potrzebna jest pełna kontrola nad DST.\n",
    "- **`zoneinfo`**: Rekomendowana dla nowych projektów dzięki prostocie, intuicyjności i integracji z Pythonem.\n",
    "\n",
    "---\n",
    "\n",
    "#### **Podsumowanie różnic w tabeli**\n",
    "\n",
    "| **Cecha**                | **pytz**                                     | **zoneinfo**                                |\n",
    "|---------------------------|----------------------------------------------|--------------------------------------------|\n",
    "| **Instalacja**            | Zewnętrzna biblioteka (`pip install pytz`)   | Wbudowana w Python 3.9+                    |\n",
    "| **Obsługa DST**           | Ręczna kontrola za pomocą `is_dst`          | Automatyczna                                |\n",
    "| **Przypisywanie stref**   | `localize` i `normalize` wymagane            | Wystarczy `ZoneInfo`                       |\n",
    "| **Obsługa niejednoznaczności** | Pełna kontrola                          | Automatyczne przypisanie (bez `is_dst`)     |\n",
    "| **Wygoda użycia**         | Bardziej skomplikowane                      | Prostsze i bardziej intuicyjne             |\n",
    "| **Obsługa historyczna**   | Pełna                                       | Pełna                                       |\n",
    "\n",
    "Jeśli zaczynasz nowy projekt, wybierz **`zoneinfo`**. Jeśli pracujesz nad starszym kodem lub potrzebujesz kontroli nad DST, pozostanie przy **`pytz`** może być uzasadnione."
   ]
  },
  {
   "cell_type": "markdown",
   "metadata": {},
   "source": [
    "## Offset\n",
    "\n",
    "Offset czasu to różnica w czasie między daną strefą czasową a czasem uniwersalnym (UTC). Offset jest podawany w formacie `±HH:MM`, gdzie:\n",
    "\n",
    "- **`+01:00`**: Lokalny czas jest godzinę do przodu względem UTC.\n",
    "- **`-05:00`**: Lokalny czas jest 5 godzin za UTC.\n",
    "\n",
    "Offset jest ważny, gdy pracujemy z datami i godzinami uwzględniającymi strefy czasowe, np. `2024-11-29 15:00:00+01:00`.\n"
   ]
  },
  {
   "cell_type": "markdown",
   "metadata": {},
   "source": [
    "\n",
    "---\n",
    "\n",
    "### **Tworzenie obiektów `datetime` z offsetem**\n",
    "\n",
    "W Pythonie można ustawić offset dla obiektu `datetime` przy użyciu klasy `timezone` z modułu `datetime`.\n",
    "\n",
    "\n"
   ]
  },
  {
   "cell_type": "code",
   "execution_count": 30,
   "metadata": {},
   "outputs": [
    {
     "name": "stdout",
     "output_type": "stream",
     "text": [
      "2024-11-29 15:00:00+01:00\n"
     ]
    }
   ],
   "source": [
    "\n",
    "from datetime import datetime, timezone, timedelta\n",
    "\n",
    "# Tworzenie offsetu\n",
    "offset = timezone(timedelta(hours=1))  # +01:00\n",
    "\n",
    "# Tworzenie obiektu datetime z offsetem\n",
    "dt = datetime(2024, 11, 29, 15, 0, 0, tzinfo=offset)\n",
    "print(dt)  # 2024-11-29 15:00:00+01:00\n"
   ]
  },
  {
   "cell_type": "markdown",
   "metadata": {},
   "source": [
    "Offsety mogą być dodatnie lub ujemne."
   ]
  },
  {
   "cell_type": "code",
   "execution_count": 31,
   "metadata": {},
   "outputs": [
    {
     "name": "stdout",
     "output_type": "stream",
     "text": [
      "2024-11-29 12:00:00+02:30\n",
      "2024-11-29 04:00:00-08:00\n"
     ]
    }
   ],
   "source": [
    "\n",
    "# Offset dodatni (+02:30)\n",
    "offset_positive = timezone(timedelta(hours=2, minutes=30))\n",
    "dt_positive = datetime(2024, 11, 29, 12, 0, 0, tzinfo=offset_positive)\n",
    "print(dt_positive)  # 2024-11-29 12:00:00+02:30\n",
    "\n",
    "# Offset ujemny (-08:00)\n",
    "offset_negative = timezone(timedelta(hours=-8))\n",
    "dt_negative = datetime(2024, 11, 29, 4, 0, 0, tzinfo=offset_negative)\n",
    "print(dt_negative)  # 2024-11-29 04:00:00-08:00\n",
    "\n"
   ]
  },
  {
   "cell_type": "markdown",
   "metadata": {},
   "source": [
    "Jeśli mamy obiekt `datetime` w jednej strefie czasowej i chcemy go przekonwertować na inną, możemy użyć metody `.astimezone()`."
   ]
  },
  {
   "cell_type": "code",
   "execution_count": 32,
   "metadata": {},
   "outputs": [
    {
     "name": "stdout",
     "output_type": "stream",
     "text": [
      "2024-11-29 14:00:00+00:00\n",
      "2024-11-29 09:00:00-05:00\n"
     ]
    }
   ],
   "source": [
    "# Tworzenie daty w strefie +01:00\n",
    "dt = datetime(2024, 11, 29, 15, 0, 0, tzinfo=timezone(timedelta(hours=1)))\n",
    "\n",
    "# Konwersja na UTC\n",
    "utc = timezone.utc\n",
    "dt_utc = dt.astimezone(utc)\n",
    "print(dt_utc)  # 2024-11-29 14:00:00+00:00\n",
    "\n",
    "# Konwersja na inną strefę (np. -05:00)\n",
    "offset_minus_5 = timezone(timedelta(hours=-5))\n",
    "dt_minus_5 = dt.astimezone(offset_minus_5)\n",
    "print(dt_minus_5)  # 2024-11-29 09:00:00-05:00\n"
   ]
  },
  {
   "cell_type": "markdown",
   "metadata": {},
   "source": [
    "`zoneinfo` pozwala na automatyczne przypisywanie offsetu w zależności od strefy czasowej i daty."
   ]
  },
  {
   "cell_type": "code",
   "execution_count": 34,
   "metadata": {},
   "outputs": [
    {
     "name": "stdout",
     "output_type": "stream",
     "text": [
      "2024-11-29 15:00:00+01:00\n",
      "2024-11-29 09:00:00-05:00\n"
     ]
    }
   ],
   "source": [
    "\n",
    "from datetime import datetime\n",
    "from zoneinfo import ZoneInfo\n",
    "\n",
    "# Tworzenie daty w strefie Europe/Warsaw\n",
    "dt_warsaw = datetime(2024, 11, 29, 15, 0, 0, tzinfo=ZoneInfo(\"Europe/Warsaw\"))\n",
    "print(dt_warsaw)  # 2024-11-29 15:00:00+01:00\n",
    "\n",
    "# Tworzenie daty w strefie America/New_York\n",
    "dt_new_york = datetime(2024, 11, 29, 9, 0, 0, tzinfo=ZoneInfo(\"America/New_York\"))\n",
    "print(dt_new_york)  # 2024-11-29 09:00:00-05:00\n"
   ]
  },
  {
   "cell_type": "markdown",
   "metadata": {},
   "source": [
    "## **Przedstawianie `datetime` w postaci napisu w Pythonie**\n",
    "\n",
    "Obsługa dat i czasu to jeden z kluczowych aspektów w programowaniu, a Python oferuje wiele narzędzi do pracy z obiektami daty i czasu. Jednym z najczęstszych zadań jest konwersja obiektu `datetime` na ciąg znaków (`string`). Proces ten umożliwia łatwe wyświetlanie lub zapis daty i czasu w czytelnym formacie.\n",
    "\n",
    "---\n",
    "\n",
    "### **Metoda `strftime`**\n",
    "\n",
    "Funkcja `strftime` (ang. *string format time*) z modułu `datetime` umożliwia sformatowanie daty i czasu na różne sposoby. Używa się jej z określonymi symbolami formatu, które definiują wygląd wyniku.\n",
    "\n",
    "#### **Podstawowe symbole formatowania:**\n",
    "- `%Y` – Rok (pełny, np. 2024).\n",
    "- `%m` – Miesiąc (01–12).\n",
    "- `%d` – Dzień miesiąca (01–31).\n",
    "- `%H` – Godzina (00–23).\n",
    "- `%M` – Minuty (00–59).\n",
    "- `%S` – Sekundy (00–59).\n",
    "- `%z` – Offset UTC, np. `+0100`.\n",
    "- `%Z` – Nazwa strefy czasowej, np. `CET`.\n",
    "\n",
    "#### **Przykład użycia:**\n",
    "\n",
    "```python\n",
    "from datetime import datetime\n",
    "\n",
    "now = datetime.now()  # Aktualna data i czas\n",
    "formatted = now.strftime(\"%Y-%m-%d %H:%M:%S\")\n",
    "print(formatted)  # Przykład: 2024-11-29 15:45:30\n",
    "```\n",
    "\n",
    "---\n",
    "\n",
    "### **Obsługa stref czasowych**\n",
    "\n",
    "Jeśli obiekt `datetime` zawiera informacje o strefie czasowej, można uwzględnić je w wyniku:\n",
    "\n",
    "```python\n",
    "from datetime import datetime, timezone, timedelta\n",
    "\n",
    "# Tworzenie daty z offsetem UTC\n",
    "dt = datetime(2024, 11, 29, 15, 0, tzinfo=timezone(timedelta(hours=1)))\n",
    "\n",
    "# Formatowanie z offsetem\n",
    "formatted = dt.strftime(\"%Y-%m-%d %H:%M:%S %z\")\n",
    "print(formatted)  # 2024-11-29 15:00:00 +0100\n",
    "```\n",
    "\n",
    "---\n",
    "\n",
    "### **Rzutowanie `datetime` na napis**\n",
    "\n",
    "Python pozwala na szybkie rzutowanie obiektu `datetime` na ciąg znaków przy użyciu funkcji `str()`:\n",
    "\n",
    "```python\n",
    "from datetime import datetime\n",
    "\n",
    "now = datetime.now()\n",
    "print(str(now))  # Przykład: 2024-11-29 15:45:30.123456\n",
    "```\n",
    "\n",
    "Domyślny format zawiera sekundy z mikrosekundami, ale nie uwzględnia strefy czasowej, jeśli obiekt jej nie posiada.\n",
    "\n",
    "---\n",
    "\n",
    "### **Konwersja do ISO 8601**\n",
    "\n",
    "Standard **ISO 8601** to popularny format do przechowywania i wymiany dat w systemach informatycznych. W Pythonie można łatwo uzyskać taki format za pomocą metody `.isoformat()`:\n",
    "\n",
    "```python\n",
    "from datetime import datetime, timezone\n",
    "\n",
    "now = datetime.now(timezone.utc)\n",
    "print(now.isoformat())  # Przykład: 2024-11-29T15:45:30+00:00\n",
    "```\n",
    "\n",
    "---\n",
    "\n",
    "### **Podsumowanie**\n",
    "\n",
    "Przedstawianie obiektów `datetime` jako napisu w Pythonie jest elastyczne i dostosowane do różnych potrzeb. Najczęściej wykorzystywane metody to:\n",
    "\n",
    "1. **`strftime`** – pełna kontrola nad formatowaniem.\n",
    "2. **`str()`** – szybkie rzutowanie na czytelny ciąg znaków.\n",
    "3. **`.isoformat()`** – formatowanie zgodne z ISO 8601.\n",
    "\n",
    "Wybór odpowiedniej metody zależy od wymagań projektu – czy potrzebujemy standardowego formatu, czy niestandardowego układu dla użytkownika. Dzięki wbudowanym narzędziom Python sprawia, że proces ten jest intuicyjny i wszechstronny."
   ]
  },
  {
   "cell_type": "markdown",
   "metadata": {},
   "source": [
    "\n",
    "\n",
    "---\n",
    "\n",
    "## **1.2. Tworzenie z napisów**\n",
    "Daty można tworzyć z tekstu za pomocą `strptime`.\n"
   ]
  },
  {
   "cell_type": "code",
   "execution_count": 29,
   "metadata": {},
   "outputs": [
    {
     "name": "stdout",
     "output_type": "stream",
     "text": [
      "Z napisu: 2024-11-28 15:30:00\n",
      "Aware date (UTC): 2024-11-28 15:30:00+00:00\n",
      "UTC UTC\n",
      "Aware date (UTC+1): 2024-11-28 15:30:00+01:00\n",
      "UTC+01:00 UTC+01:00\n",
      "Z napisu - aware: 2024-11-28 15:30:00+01:00\n",
      "CET Europe/Warsaw\n"
     ]
    }
   ],
   "source": [
    "\n",
    "# Tworzenie z napisu - data bez strefy czasowej\n",
    "date_from_string = datetime.strptime(\"2024-11-28 15:30:00\", \"%Y-%m-%d %H:%M:%S\")\n",
    "print(\"Z napisu:\", date_from_string)\n",
    "\n",
    "# tworzenie z napisu - data z strefą czasową jako offset\n",
    "utc_date = datetime.strptime(\"2024-11-28 15:30:00 +0000\", \"%Y-%m-%d %H:%M:%S %z\")\n",
    "print(\"Aware date (UTC):\", utc_date)\n",
    "print(utc_date.tzname(), utc_date.tzinfo)\n",
    "\n",
    "# tworzenie z napisu - data z strefą czasową jako offset\n",
    "utc_plus_1_date = datetime.strptime(\"2024-11-28 15:30:00 +0100\", \"%Y-%m-%d %H:%M:%S %z\")\n",
    "print(\"Aware date (UTC+1):\", utc_plus_1_date)\n",
    "print(utc_plus_1_date.tzname(), utc_plus_1_date.tzinfo)\n",
    "\n",
    "date_from_string_aware = datetime.strptime(\"2024-11-28 15:30:00\", \"%Y-%m-%d %H:%M:%S\").astimezone(ZoneInfo(\"Europe/Warsaw\"))\n",
    "print(\"Z napisu - aware:\", date_from_string_aware)\n",
    "print(date_from_string_aware.tzname(), date_from_string_aware.tzinfo)\n"
   ]
  },
  {
   "cell_type": "markdown",
   "metadata": {},
   "source": [
    "\n",
    "\n",
    "\n",
    "### **1.3. Tworzenie z timestamp**\n",
    "**Timestamp** to liczba sekund od **epoch** (1 stycznia 1970, 00:00:00 UTC w systemach Unix).\n",
    "\n",
    "```python\n",
    "# Z timestamp\n",
    "timestamp = 1701171000  # Przykład timestamp\n",
    "date_from_timestamp = datetime.fromtimestamp(timestamp, tz=ZoneInfo(\"UTC\"))\n",
    "print(\"Z timestamp:\", date_from_timestamp)\n",
    "```\n",
    "\n",
    "---\n",
    "\n",
    "## **2. Obsługa stref czasowych**\n",
    "\n",
    "Python od wersji 3.9 oferuje moduł `zoneinfo`, który automatycznie obsługuje strefy czasowe i zmiany czasu letniego (DST). Można również korzystać z `pytz` w starszych wersjach Pythona.\n",
    "\n",
    "### **2.1. Tworzenie obiektów aware**\n",
    "Obiekty `aware` zawierają informację o strefie czasowej.\n",
    "\n",
    "```python\n",
    "from zoneinfo import ZoneInfo\n",
    "\n",
    "utc_date = datetime(2024, 11, 28, 15, 30, tzinfo=ZoneInfo(\"UTC\"))\n",
    "warsaw_date = utc_date.astimezone(ZoneInfo(\"Europe/Warsaw\"))\n",
    "print(\"Data UTC:\", utc_date)\n",
    "print(\"Data Warsaw:\", warsaw_date)\n",
    "```\n",
    "\n",
    "### **2.2. Przeliczanie między strefami**\n",
    "Metoda `astimezone` pozwala na konwersję czasu między strefami czasowymi.\n",
    "\n",
    "```python\n",
    "# Konwersja do innej strefy czasowej\n",
    "new_york_date = warsaw_date.astimezone(ZoneInfo(\"America/New_York\"))\n",
    "print(\"Data New York:\", new_york_date)\n",
    "```\n",
    "\n",
    "---\n",
    "\n",
    "## **3. Czas letni (DST)**\n",
    "\n",
    "Zmiany czasu letniego są automatycznie obsługiwane przez `zoneinfo`.\n",
    "\n",
    "```python\n",
    "from datetime import timedelta\n",
    "\n",
    "# Data podczas czasu letniego\n",
    "summer_date = datetime(2024, 7, 1, 12, tzinfo=ZoneInfo(\"Europe/Warsaw\"))\n",
    "print(\"Summer date:\", summer_date)\n",
    "\n",
    "# Data po przejściu na czas zimowy\n",
    "winter_date = summer_date + timedelta(days=150)\n",
    "print(\"Winter date:\", winter_date)\n",
    "```\n",
    "\n",
    "---\n",
    "\n",
    "## **4. Timestamp i różne epoki**\n",
    "\n",
    "### **4.1. Różne epoch**\n",
    "Różne systemy mogą używać różnych punktów odniesienia (epoch):\n",
    "- **Unix epoch**: 1 stycznia 1970, 00:00:00 UTC.\n",
    "- **Windows epoch**: 1 stycznia 1601, 00:00:00 UTC.\n",
    "\n",
    "### **4.2. Operacje z timestamp**\n",
    "```python\n",
    "# Tworzenie timestamp\n",
    "current_timestamp = datetime.now(tz=ZoneInfo(\"UTC\")).timestamp()\n",
    "print(\"Aktualny timestamp:\", current_timestamp)\n",
    "\n",
    "# Tworzenie daty z Unix epoch\n",
    "date_from_unix_epoch = datetime.fromtimestamp(0, tz=ZoneInfo(\"UTC\"))\n",
    "print(\"Data z Unix epoch:\", date_from_unix_epoch)\n",
    "```\n",
    "\n",
    "---\n",
    "\n",
    "## **5. `zoneinfo` vs. `pytz`**\n",
    "\n",
    "| **Cecha**                  | **`zoneinfo`**            | **`pytz`**             |\n",
    "|----------------------------|--------------------------|------------------------|\n",
    "| **Wbudowana w bibliotekę** | Tak (od Python 3.9)      | Nie, wymaga instalacji |\n",
    "| **Obsługa DST**            | Automatyczna            | Wymaga jawnych konwersji |\n",
    "| **Intuicyjność**           | Wyższa                  | Niższa                 |\n",
    "\n",
    "Przykład z `pytz`:\n",
    "\n",
    "```python\n",
    "import pytz\n",
    "\n",
    "# Ustawianie strefy czasowej\n",
    "warsaw_tz = pytz.timezone(\"Europe/Warsaw\")\n",
    "date_pytz = warsaw_tz.localize(datetime(2024, 11, 28, 15, 30))\n",
    "print(\"pytz date:\", date_pytz)\n",
    "```\n",
    "\n",
    "---\n",
    "\n",
    "## **6. Ćwiczenia**\n",
    "\n",
    "1. **Z timestamp do stref czasowych**  \n",
    "   Napisz funkcję, która przyjmuje timestamp i listę stref czasowych, a następnie zwraca czas w każdej z tych stref.\n",
    "\n",
    "2. **Rozpoznanie czasu letniego**  \n",
    "   Napisz funkcję, która sprawdza, czy podana data w określonej strefie czasowej przypada na czas letni.\n",
    "\n",
    "---\n",
    "\n",
    "## **Podsumowanie**\n",
    "\n",
    "Moduł `datetime` w Pythonie, wraz z `zoneinfo`, pozwala na efektywne zarządzanie czasem w aplikacjach globalnych. Obsługa timestamp, konwersje między strefami czasowymi oraz automatyczna obsługa czasu letniego czynią go idealnym narzędziem do pracy z datami. `zoneinfo` jest intuicyjny i nowoczesny, ale dla starszych projektów można używać `pytz`. Wybór zależy od wersji Pythona i wymagań projektu."
   ]
  },
  {
   "cell_type": "code",
   "execution_count": null,
   "metadata": {},
   "outputs": [],
   "source": []
  },
  {
   "cell_type": "markdown",
   "metadata": {},
   "source": []
  }
 ],
 "metadata": {
  "kernelspec": {
   "display_name": "Python 3 (ipykernel)",
   "language": "python",
   "name": "python3"
  },
  "language_info": {
   "codemirror_mode": {
    "name": "ipython",
    "version": 3
   },
   "file_extension": ".py",
   "mimetype": "text/x-python",
   "name": "python",
   "nbconvert_exporter": "python",
   "pygments_lexer": "ipython3",
   "version": "3.13.0"
  }
 },
 "nbformat": 4,
 "nbformat_minor": 4
}
