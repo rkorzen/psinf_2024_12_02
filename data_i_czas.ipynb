{
 "cells": [
  {
   "cell_type": "code",
   "execution_count": 11,
   "id": "0fb671c1",
   "metadata": {},
   "outputs": [],
   "source": [
    "from datetime import datetime\n",
    "from zoneinfo import ZoneInfo"
   ]
  },
  {
   "cell_type": "code",
   "execution_count": 37,
   "id": "02618e61",
   "metadata": {},
   "outputs": [],
   "source": [
    "t = datetime.now() # naive\n",
    "t2 = datetime.now(tz=ZoneInfo(\"UTC\")) # aware"
   ]
  },
  {
   "cell_type": "code",
   "execution_count": 38,
   "id": "a3c08b50",
   "metadata": {},
   "outputs": [
    {
     "ename": "TypeError",
     "evalue": "can't compare offset-naive and offset-aware datetimes",
     "output_type": "error",
     "traceback": [
      "\u001b[0;31m---------------------------------------------------------------------------\u001b[0m",
      "\u001b[0;31mTypeError\u001b[0m                                 Traceback (most recent call last)",
      "Cell \u001b[0;32mIn[38], line 1\u001b[0m\n\u001b[0;32m----> 1\u001b[0m \u001b[43mt2\u001b[49m\u001b[43m \u001b[49m\u001b[38;5;241;43m>\u001b[39;49m\u001b[43m \u001b[49m\u001b[43mt\u001b[49m\n",
      "\u001b[0;31mTypeError\u001b[0m: can't compare offset-naive and offset-aware datetimes"
     ]
    }
   ],
   "source": [
    "t2 > t"
   ]
  },
  {
   "cell_type": "code",
   "execution_count": 6,
   "id": "142f180e",
   "metadata": {},
   "outputs": [],
   "source": [
    "t.tzname()"
   ]
  },
  {
   "cell_type": "code",
   "execution_count": 9,
   "id": "f5399235",
   "metadata": {},
   "outputs": [],
   "source": [
    "t2 = datetime.utcnow()"
   ]
  },
  {
   "cell_type": "code",
   "execution_count": 10,
   "id": "c41244a4",
   "metadata": {},
   "outputs": [],
   "source": [
    "t2.tzname()"
   ]
  },
  {
   "cell_type": "code",
   "execution_count": 12,
   "id": "bee57f1b",
   "metadata": {},
   "outputs": [],
   "source": [
    "utc_date = datetime.now(tz=ZoneInfo(\"UTC\"))"
   ]
  },
  {
   "cell_type": "code",
   "execution_count": 13,
   "id": "00618244",
   "metadata": {},
   "outputs": [
    {
     "data": {
      "text/plain": [
       "datetime.datetime(2024, 12, 3, 10, 18, 42, 880294, tzinfo=zoneinfo.ZoneInfo(key='UTC'))"
      ]
     },
     "execution_count": 13,
     "metadata": {},
     "output_type": "execute_result"
    }
   ],
   "source": [
    "utc_date"
   ]
  },
  {
   "cell_type": "code",
   "execution_count": 14,
   "id": "96a5ea44",
   "metadata": {},
   "outputs": [],
   "source": [
    "warsaw_data = datetime.now(tz=ZoneInfo(\"Europe/Warsaw\"))"
   ]
  },
  {
   "cell_type": "code",
   "execution_count": 16,
   "id": "35a956a7",
   "metadata": {},
   "outputs": [
    {
     "data": {
      "text/plain": [
       "datetime.datetime(2024, 12, 3, 10, 19, 21, 437943, tzinfo=zoneinfo.ZoneInfo(key='UTC'))"
      ]
     },
     "execution_count": 16,
     "metadata": {},
     "output_type": "execute_result"
    }
   ],
   "source": [
    "warsaw_data.astimezone(ZoneInfo(\"UTC\"))\n"
   ]
  },
  {
   "cell_type": "code",
   "execution_count": 17,
   "id": "26fcbf6b",
   "metadata": {},
   "outputs": [
    {
     "name": "stdout",
     "output_type": "stream",
     "text": [
      "Requirement already satisfied: pytz in ./.venv/lib/python3.13/site-packages (2024.2)\n",
      "\n",
      "\u001b[1m[\u001b[0m\u001b[34;49mnotice\u001b[0m\u001b[1;39;49m]\u001b[0m\u001b[39;49m A new release of pip is available: \u001b[0m\u001b[31;49m24.2\u001b[0m\u001b[39;49m -> \u001b[0m\u001b[32;49m24.3.1\u001b[0m\n",
      "\u001b[1m[\u001b[0m\u001b[34;49mnotice\u001b[0m\u001b[1;39;49m]\u001b[0m\u001b[39;49m To update, run: \u001b[0m\u001b[32;49mpip install --upgrade pip\u001b[0m\n"
     ]
    }
   ],
   "source": [
    "!pip install pytz"
   ]
  },
  {
   "cell_type": "code",
   "execution_count": 24,
   "id": "ecdb8968",
   "metadata": {},
   "outputs": [],
   "source": [
    "from datetime import timedelta\n",
    "import pytz"
   ]
  },
  {
   "cell_type": "code",
   "execution_count": 20,
   "id": "7f3604e6",
   "metadata": {},
   "outputs": [
    {
     "name": "stdout",
     "output_type": "stream",
     "text": [
      "2020-10-24 12:00:00+02:00\n"
     ]
    },
    {
     "data": {
      "text/plain": [
       "'CEST'"
      ]
     },
     "execution_count": 20,
     "metadata": {},
     "output_type": "execute_result"
    }
   ],
   "source": [
    "warsaw_tz = pytz.timezone(\"Europe/Warsaw\")\n",
    "\n",
    "dt_summer = warsaw_tz.localize(datetime(2020, 10, 24, 12, 0))\n",
    "print(dt_summer)\n",
    "dt_summer.tzname()"
   ]
  },
  {
   "cell_type": "code",
   "execution_count": 21,
   "id": "8cd15579",
   "metadata": {},
   "outputs": [],
   "source": [
    "dt_winter = warsaw_tz.localize(datetime(2020, 12, 24, 12, 0))"
   ]
  },
  {
   "cell_type": "code",
   "execution_count": 22,
   "id": "3275cb67",
   "metadata": {},
   "outputs": [
    {
     "data": {
      "text/plain": [
       "datetime.datetime(2020, 12, 24, 12, 0, tzinfo=<DstTzInfo 'Europe/Warsaw' CET+1:00:00 STD>)"
      ]
     },
     "execution_count": 22,
     "metadata": {},
     "output_type": "execute_result"
    }
   ],
   "source": [
    "dt_winter"
   ]
  },
  {
   "cell_type": "code",
   "execution_count": 23,
   "id": "e63e0592",
   "metadata": {},
   "outputs": [
    {
     "data": {
      "text/plain": [
       "'CET'"
      ]
     },
     "execution_count": 23,
     "metadata": {},
     "output_type": "execute_result"
    }
   ],
   "source": [
    "dt_winter.tzname()"
   ]
  },
  {
   "cell_type": "code",
   "execution_count": 25,
   "id": "4c3d8621",
   "metadata": {},
   "outputs": [
    {
     "data": {
      "text/plain": [
       "datetime.datetime(2020, 11, 1, 12, 0, tzinfo=<DstTzInfo 'Europe/Warsaw' CEST+2:00:00 DST>)"
      ]
     },
     "execution_count": 25,
     "metadata": {},
     "output_type": "execute_result"
    }
   ],
   "source": [
    "t = dt_summer + timedelta(days=8)\n",
    "t"
   ]
  },
  {
   "cell_type": "code",
   "execution_count": 26,
   "id": "9e7f93ec",
   "metadata": {},
   "outputs": [
    {
     "data": {
      "text/plain": [
       "datetime.datetime(2020, 11, 1, 11, 0, tzinfo=<DstTzInfo 'Europe/Warsaw' CET+1:00:00 STD>)"
      ]
     },
     "execution_count": 26,
     "metadata": {},
     "output_type": "execute_result"
    }
   ],
   "source": [
    "t.astimezone(warsaw_tz)"
   ]
  },
  {
   "cell_type": "code",
   "execution_count": 28,
   "id": "dfa5afec",
   "metadata": {},
   "outputs": [],
   "source": [
    "# to samo z ZoneInfo\n",
    "\n",
    "dt_summer = datetime(2020, 10, 24, 12, 0, tzinfo=ZoneInfo(\"Europe/Warsaw\"))"
   ]
  },
  {
   "cell_type": "code",
   "execution_count": 30,
   "id": "c4de21f2",
   "metadata": {},
   "outputs": [
    {
     "data": {
      "text/plain": [
       "datetime.datetime(2020, 10, 24, 12, 0, tzinfo=zoneinfo.ZoneInfo(key='Europe/Warsaw'))"
      ]
     },
     "execution_count": 30,
     "metadata": {},
     "output_type": "execute_result"
    }
   ],
   "source": [
    "dt_summer"
   ]
  },
  {
   "cell_type": "code",
   "execution_count": 31,
   "id": "26d8d9e9",
   "metadata": {},
   "outputs": [
    {
     "data": {
      "text/plain": [
       "datetime.datetime(2020, 11, 1, 12, 0, tzinfo=zoneinfo.ZoneInfo(key='Europe/Warsaw'))"
      ]
     },
     "execution_count": 31,
     "metadata": {},
     "output_type": "execute_result"
    }
   ],
   "source": [
    "t = dt_summer + timedelta(days=8)\n",
    "t"
   ]
  },
  {
   "cell_type": "code",
   "execution_count": 32,
   "id": "ec91fba9",
   "metadata": {},
   "outputs": [
    {
     "data": {
      "text/plain": [
       "'CET'"
      ]
     },
     "execution_count": 32,
     "metadata": {},
     "output_type": "execute_result"
    }
   ],
   "source": [
    "t.tzname()"
   ]
  },
  {
   "cell_type": "code",
   "execution_count": 33,
   "id": "cb098af8",
   "metadata": {},
   "outputs": [
    {
     "data": {
      "text/plain": [
       "datetime.timedelta(0)"
      ]
     },
     "execution_count": 33,
     "metadata": {},
     "output_type": "execute_result"
    }
   ],
   "source": [
    "t.tzinfo.dst(t)"
   ]
  },
  {
   "cell_type": "code",
   "execution_count": 34,
   "id": "af1490de",
   "metadata": {},
   "outputs": [
    {
     "data": {
      "text/plain": [
       "datetime.timedelta(seconds=3600)"
      ]
     },
     "execution_count": 34,
     "metadata": {},
     "output_type": "execute_result"
    }
   ],
   "source": [
    "dt_summer.tzinfo.dst(dt_summer)"
   ]
  },
  {
   "cell_type": "code",
   "execution_count": 35,
   "id": "ea07b00a",
   "metadata": {},
   "outputs": [
    {
     "data": {
      "text/plain": [
       "datetime.timedelta(days=-62, seconds=82800)"
      ]
     },
     "execution_count": 35,
     "metadata": {},
     "output_type": "execute_result"
    }
   ],
   "source": [
    "dt_summer - dt_winter\n"
   ]
  },
  {
   "cell_type": "markdown",
   "id": "1f297ba5",
   "metadata": {},
   "source": [
    "# Cwiczenie:\n",
    "\n",
    "napisz funkcję, która przyjmie daty w UTC oraz listę stref czasowych. funkcja ma zwrocic slownik zawierajaca te date w kazdej z tych stref {\"Europe/Warsaw\": ..., }\n",
    "\n",
    "\"America/New_York, \"Asia/Tokyo\"\n",
    "\n",
    "\n",
    "def convert_date_to_timezones(date_utc: datetime, timezones: list[str]) -> dict[str, datetime]\n",
    "\n",
    "\n",
    "{\"Europe/Warsaw\": datetime(2024, 12,3, 11, 53)}"
   ]
  },
  {
   "cell_type": "code",
   "execution_count": 45,
   "id": "9d40d9eb",
   "metadata": {},
   "outputs": [],
   "source": [
    "from datetime import datetime"
   ]
  },
  {
   "cell_type": "code",
   "execution_count": 47,
   "id": "be319549",
   "metadata": {},
   "outputs": [],
   "source": [
    "napis = \"2024-06-15 08:30:00+02:00\""
   ]
  },
  {
   "cell_type": "code",
   "execution_count": 50,
   "id": "60acb2cd",
   "metadata": {},
   "outputs": [
    {
     "data": {
      "text/plain": [
       "datetime.datetime(2024, 6, 15, 8, 30, tzinfo=zoneinfo.ZoneInfo(key='Europe/Warsaw'))"
      ]
     },
     "execution_count": 50,
     "metadata": {},
     "output_type": "execute_result"
    }
   ],
   "source": [
    "datetime.fromisoformat(napis).astimezone(ZoneInfo(\"Europe/Warsaw\"))"
   ]
  },
  {
   "cell_type": "markdown",
   "id": "ded31e85",
   "metadata": {},
   "source": [
    "## 2 Cwiczenie\n",
    "\n",
    "\n",
    "Napisz funkcję, która sprawdza, czy podana data w określonej strefie czasowej przypada na czas letni (DST).\n",
    "Jesli data bylaby typu naive to trzeba ustawić dla niej podana strefe\n",
    "\n",
    "is_dst(date, timezone) -> bool"
   ]
  },
  {
   "cell_type": "code",
   "execution_count": 39,
   "id": "e4a2a8c0",
   "metadata": {},
   "outputs": [],
   "source": [
    "t = datetime.now()"
   ]
  },
  {
   "cell_type": "code",
   "execution_count": 51,
   "id": "1bdc4a57",
   "metadata": {},
   "outputs": [],
   "source": [
    "t2 = t.astimezone(ZoneInfo(\"Europe/Warsaw\"))"
   ]
  },
  {
   "cell_type": "code",
   "execution_count": 53,
   "id": "70bfb753",
   "metadata": {},
   "outputs": [
    {
     "data": {
      "text/plain": [
       "'2024-12-03 11:42:33 CET'"
      ]
     },
     "execution_count": 53,
     "metadata": {},
     "output_type": "execute_result"
    }
   ],
   "source": [
    "t2.strftime(\"%Y-%m-%d %H:%M:%S %Z\")"
   ]
  },
  {
   "cell_type": "code",
   "execution_count": 52,
   "id": "270705c8",
   "metadata": {},
   "outputs": [
    {
     "data": {
      "text/plain": [
       "'2024-12-03T11:42:33.855268+01:00'"
      ]
     },
     "execution_count": 52,
     "metadata": {},
     "output_type": "execute_result"
    }
   ],
   "source": [
    "t2.isoformat()"
   ]
  },
  {
   "cell_type": "code",
   "execution_count": 43,
   "id": "a7993bc2",
   "metadata": {},
   "outputs": [
    {
     "name": "stdout",
     "output_type": "stream",
     "text": [
      "ID,start_time,end_time\r\n",
      "001,2024-06-15 08:30:00+02:00,2024-06-15 16:30:00+02:00\r\n",
      "001,2024-12-15 08:30:00+01:00,2024-12-15 16:30:00+01:00\r\n",
      "002,2024-06-15 09:00:00+02:00,2024-06-15 17:00:00+02:00"
     ]
    }
   ],
   "source": [
    "!cat dane/work_sessions.csv"
   ]
  },
  {
   "cell_type": "markdown",
   "id": "e30b602b",
   "metadata": {},
   "source": [
    "### Treść zadania\n",
    "\n",
    "\n",
    "#### Notatki:\n",
    "\n",
    "    datetime.fromisoformat(napis).astimezone(ZoneInfo(\"Europe/Warsaw\"))\n",
    "\n",
    "#### System raportowania czasu pracy z obsługą DST\n",
    "\n",
    "Twoim zadaniem jest stworzenie systemu raportowania czasu pracy, który:\n",
    "\n",
    "1. Odczytuje dane z pliku CSV zawierającego informacje o sesjach pracy pracowników. Plik CSV ma strukturę:\n",
    "   - `ID`: unikalny identyfikator pracownika,\n",
    "   - `start_time`: czas rozpoczęcia pracy w formacie ISO 8601 (np. `2024-06-15T08:30:00+02:00`),\n",
    "   - `end_time`: czas zakończenia pracy w formacie ISO 8601.\n",
    "\n",
    "2. Implementuje następujące funkcje:\n",
    "   - **`is_dst(date: datetime, timezone: str = \"Europe/Warsaw\") -> bool`**:\n",
    "     Funkcja sprawdzająca, czy podana data przypada na czas letni (DST) w danej strefie czasowej.\n",
    "   - **`read_csv(file_path: str) -> dict`**:\n",
    "     Funkcja odczytująca dane z pliku CSV i zapisująca je w strukturze danych jako słownik, gdzie kluczem jest `ID` pracownika, a wartością lista sesji pracy (`start_time`, `end_time`).\n",
    "   - **`get_duration(session: dict) -> tuple[datetime, datetime, timedelta]`**:\n",
    "     Funkcja obliczająca czas trwania sesji pracy na podstawie jej początku i końca.\n",
    "   - **`partial_report(session: dict) -> None`**:\n",
    "     Funkcja generująca szczegóły dla jednej sesji pracy, zawierająca informacje o czasie trwania i o tym, czy sesja przypadła na czas letni (DST).\n",
    "   - **`generate_detailed_report(employee_id: str, data: dict) -> None`**:\n",
    "     Funkcja generująca szczegółowy raport dla wybranego pracownika, obejmujący wszystkie jego sesje pracy.\n",
    "   - **`generate_summary_report(data: dict) -> None`**:\n",
    "     Funkcja generująca zbiorczy raport dla wszystkich pracowników, zawierający:\n",
    "       - całkowity czas pracy,\n",
    "       - czas pracy przypadający na czas letni (DST),\n",
    "       - czas pracy poza czasem letnim.\n",
    "\n",
    "3. Dla przykładowego pliku CSV:\n",
    "   ```csv\n",
    "   ID,start_time,end_time\n",
    "   001,2024-06-15T08:30:00+02:00,2024-06-15T16:30:00+02:00\n",
    "   001,2024-12-15T08:30:00+01:00,2024-12-15T16:30:00+01:00\n",
    "   002,2024-07-01T09:00:00+02:00,2024-07-01T17:00:00+02:00\n",
    "   ```\n",
    "\n",
    "   System powinien generować następujące raporty:\n",
    "   - **Raport szczegółowy dla ID 001**:\n",
    "     ```\n",
    "     Raport szczegółowy dla pracownika ID 001:\n",
    "       - 2024-06-15 08:30:00 CEST -> 2024-06-15 16:30:00 CEST (Czas trwania: 8:00:00, DST: Tak)\n",
    "       - 2024-12-15 08:30:00 CET -> 2024-12-15 16:30:00 CET (Czas trwania: 8:00:00, DST: Nie)\n",
    "     Łączny czas pracy: 16 godzin i 0 minut.\n",
    "     ```\n",
    "\n",
    "   - **Zbiorczy raport**:\n",
    "     ```\n",
    "     Zbiorczy raport dla wszystkich pracowników:\n",
    "     Pracownik ID 001:\n",
    "       - Łączny czas pracy: 16 godzin i 0 minut.\n",
    "       - Czas pracy w DST: 8 godzin i 0 minut.\n",
    "       - Czas pracy poza DST: 8 godzin i 0 minut.\n",
    "\n",
    "     Pracownik ID 002:\n",
    "       - Łączny czas pracy: 8 godzin i 0 minut.\n",
    "       - Czas pracy w DST: 8 godzin i 0 minut.\n",
    "       - Czas pracy poza DST: 0 godzin i 0 minut.\n",
    "     ```\n",
    "\n",
    "4. Napisz testy automatyczne w pytest, które:\n",
    "   - Sprawdzają funkcjonalność każdej z funkcji, np. poprawność identyfikacji DST, obliczania czasu pracy, czytania pliku CSV.\n",
    "   - Weryfikują generowanie raportów szczegółowych i zbiorczych.\n",
    "\n",
    "### Wskazówki:\n",
    "- Użyj modułu `zoneinfo` do obsługi stref czasowych i DST.\n",
    "- Przetestuj poprawność identyfikacji czasu letniego w różnych datach.\n",
    "- Dla testów użyj `capsys`, aby przechwycić wyjście funkcji generujących raporty."
   ]
  },
  {
   "cell_type": "code",
   "execution_count": null,
   "id": "2089cb33",
   "metadata": {},
   "outputs": [],
   "source": []
  }
 ],
 "metadata": {
  "kernelspec": {
   "display_name": "Python 3 (ipykernel)",
   "language": "python",
   "name": "python3"
  },
  "language_info": {
   "codemirror_mode": {
    "name": "ipython",
    "version": 3
   },
   "file_extension": ".py",
   "mimetype": "text/x-python",
   "name": "python",
   "nbconvert_exporter": "python",
   "pygments_lexer": "ipython3",
   "version": "3.10.7"
  },
  "toc": {
   "base_numbering": 1,
   "nav_menu": {},
   "number_sections": true,
   "sideBar": true,
   "skip_h1_title": false,
   "title_cell": "Table of Contents",
   "title_sidebar": "Contents",
   "toc_cell": false,
   "toc_position": {},
   "toc_section_display": true,
   "toc_window_display": false
  }
 },
 "nbformat": 4,
 "nbformat_minor": 5
}
