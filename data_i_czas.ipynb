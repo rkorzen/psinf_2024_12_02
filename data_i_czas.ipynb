{
 "cells": [
  {
   "cell_type": "code",
   "execution_count": 11,
   "id": "4f48c115",
   "metadata": {},
   "outputs": [],
   "source": [
    "from datetime import datetime\n",
    "from zoneinfo import ZoneInfo"
   ]
  },
  {
   "cell_type": "code",
   "execution_count": 37,
   "id": "8005df23",
   "metadata": {},
   "outputs": [],
   "source": [
    "t = datetime.now() # naive\n",
    "t2 = datetime.now(tz=ZoneInfo(\"UTC\")) # aware"
   ]
  },
  {
   "cell_type": "code",
   "execution_count": 38,
   "id": "002250c0",
   "metadata": {},
   "outputs": [
    {
     "ename": "TypeError",
     "evalue": "can't compare offset-naive and offset-aware datetimes",
     "output_type": "error",
     "traceback": [
      "\u001b[0;31m---------------------------------------------------------------------------\u001b[0m",
      "\u001b[0;31mTypeError\u001b[0m                                 Traceback (most recent call last)",
      "Cell \u001b[0;32mIn[38], line 1\u001b[0m\n\u001b[0;32m----> 1\u001b[0m \u001b[43mt2\u001b[49m\u001b[43m \u001b[49m\u001b[38;5;241;43m>\u001b[39;49m\u001b[43m \u001b[49m\u001b[43mt\u001b[49m\n",
      "\u001b[0;31mTypeError\u001b[0m: can't compare offset-naive and offset-aware datetimes"
     ]
    }
   ],
   "source": [
    "t2 > t"
   ]
  },
  {
   "cell_type": "code",
   "execution_count": 6,
   "id": "3fc73632",
   "metadata": {},
   "outputs": [],
   "source": [
    "t.tzname()"
   ]
  },
  {
   "cell_type": "code",
   "execution_count": 9,
   "id": "7b865f4c",
   "metadata": {},
   "outputs": [],
   "source": [
    "t2 = datetime.utcnow()"
   ]
  },
  {
   "cell_type": "code",
   "execution_count": 10,
   "id": "ef63d258",
   "metadata": {},
   "outputs": [],
   "source": [
    "t2.tzname()"
   ]
  },
  {
   "cell_type": "code",
   "execution_count": 12,
   "id": "03d7e361",
   "metadata": {},
   "outputs": [],
   "source": [
    "utc_date = datetime.now(tz=ZoneInfo(\"UTC\"))"
   ]
  },
  {
   "cell_type": "code",
   "execution_count": 13,
   "id": "8943a35e",
   "metadata": {},
   "outputs": [
    {
     "data": {
      "text/plain": [
       "datetime.datetime(2024, 12, 3, 10, 18, 42, 880294, tzinfo=zoneinfo.ZoneInfo(key='UTC'))"
      ]
     },
     "execution_count": 13,
     "metadata": {},
     "output_type": "execute_result"
    }
   ],
   "source": [
    "utc_date"
   ]
  },
  {
   "cell_type": "code",
   "execution_count": 14,
   "id": "946ff7f1",
   "metadata": {},
   "outputs": [],
   "source": [
    "warsaw_data = datetime.now(tz=ZoneInfo(\"Europe/Warsaw\"))"
   ]
  },
  {
   "cell_type": "code",
   "execution_count": 16,
   "id": "dc74b85d",
   "metadata": {},
   "outputs": [
    {
     "data": {
      "text/plain": [
       "datetime.datetime(2024, 12, 3, 10, 19, 21, 437943, tzinfo=zoneinfo.ZoneInfo(key='UTC'))"
      ]
     },
     "execution_count": 16,
     "metadata": {},
     "output_type": "execute_result"
    }
   ],
   "source": [
    "warsaw_data.astimezone(ZoneInfo(\"UTC\"))\n"
   ]
  },
  {
   "cell_type": "code",
   "execution_count": 17,
   "id": "705848ba",
   "metadata": {},
   "outputs": [
    {
     "name": "stdout",
     "output_type": "stream",
     "text": [
      "Requirement already satisfied: pytz in ./.venv/lib/python3.13/site-packages (2024.2)\n",
      "\n",
      "\u001b[1m[\u001b[0m\u001b[34;49mnotice\u001b[0m\u001b[1;39;49m]\u001b[0m\u001b[39;49m A new release of pip is available: \u001b[0m\u001b[31;49m24.2\u001b[0m\u001b[39;49m -> \u001b[0m\u001b[32;49m24.3.1\u001b[0m\n",
      "\u001b[1m[\u001b[0m\u001b[34;49mnotice\u001b[0m\u001b[1;39;49m]\u001b[0m\u001b[39;49m To update, run: \u001b[0m\u001b[32;49mpip install --upgrade pip\u001b[0m\n"
     ]
    }
   ],
   "source": [
    "!pip install pytz"
   ]
  },
  {
   "cell_type": "code",
   "execution_count": 24,
   "id": "f89ba54c",
   "metadata": {},
   "outputs": [],
   "source": [
    "from datetime import timedelta\n",
    "import pytz"
   ]
  },
  {
   "cell_type": "code",
   "execution_count": 20,
   "id": "3637159a",
   "metadata": {},
   "outputs": [
    {
     "name": "stdout",
     "output_type": "stream",
     "text": [
      "2020-10-24 12:00:00+02:00\n"
     ]
    },
    {
     "data": {
      "text/plain": [
       "'CEST'"
      ]
     },
     "execution_count": 20,
     "metadata": {},
     "output_type": "execute_result"
    }
   ],
   "source": [
    "warsaw_tz = pytz.timezone(\"Europe/Warsaw\")\n",
    "\n",
    "dt_summer = warsaw_tz.localize(datetime(2020, 10, 24, 12, 0))\n",
    "print(dt_summer)\n",
    "dt_summer.tzname()"
   ]
  },
  {
   "cell_type": "code",
   "execution_count": 21,
   "id": "d214355b",
   "metadata": {},
   "outputs": [],
   "source": [
    "dt_winter = warsaw_tz.localize(datetime(2020, 12, 24, 12, 0))"
   ]
  },
  {
   "cell_type": "code",
   "execution_count": 22,
   "id": "233850d2",
   "metadata": {},
   "outputs": [
    {
     "data": {
      "text/plain": [
       "datetime.datetime(2020, 12, 24, 12, 0, tzinfo=<DstTzInfo 'Europe/Warsaw' CET+1:00:00 STD>)"
      ]
     },
     "execution_count": 22,
     "metadata": {},
     "output_type": "execute_result"
    }
   ],
   "source": [
    "dt_winter"
   ]
  },
  {
   "cell_type": "code",
   "execution_count": 23,
   "id": "2ade9334",
   "metadata": {},
   "outputs": [
    {
     "data": {
      "text/plain": [
       "'CET'"
      ]
     },
     "execution_count": 23,
     "metadata": {},
     "output_type": "execute_result"
    }
   ],
   "source": [
    "dt_winter.tzname()"
   ]
  },
  {
   "cell_type": "code",
   "execution_count": 25,
   "id": "31c7ffce",
   "metadata": {},
   "outputs": [
    {
     "data": {
      "text/plain": [
       "datetime.datetime(2020, 11, 1, 12, 0, tzinfo=<DstTzInfo 'Europe/Warsaw' CEST+2:00:00 DST>)"
      ]
     },
     "execution_count": 25,
     "metadata": {},
     "output_type": "execute_result"
    }
   ],
   "source": [
    "t = dt_summer + timedelta(days=8)\n",
    "t"
   ]
  },
  {
   "cell_type": "code",
   "execution_count": 26,
   "id": "d9ded6ef",
   "metadata": {},
   "outputs": [
    {
     "data": {
      "text/plain": [
       "datetime.datetime(2020, 11, 1, 11, 0, tzinfo=<DstTzInfo 'Europe/Warsaw' CET+1:00:00 STD>)"
      ]
     },
     "execution_count": 26,
     "metadata": {},
     "output_type": "execute_result"
    }
   ],
   "source": [
    "t.astimezone(warsaw_tz)"
   ]
  },
  {
   "cell_type": "code",
   "execution_count": 28,
   "id": "eaca6897",
   "metadata": {},
   "outputs": [],
   "source": [
    "# to samo z ZoneInfo\n",
    "\n",
    "dt_summer = datetime(2020, 10, 24, 12, 0, tzinfo=ZoneInfo(\"Europe/Warsaw\"))"
   ]
  },
  {
   "cell_type": "code",
   "execution_count": 30,
   "id": "2c8eb2cf",
   "metadata": {},
   "outputs": [
    {
     "data": {
      "text/plain": [
       "datetime.datetime(2020, 10, 24, 12, 0, tzinfo=zoneinfo.ZoneInfo(key='Europe/Warsaw'))"
      ]
     },
     "execution_count": 30,
     "metadata": {},
     "output_type": "execute_result"
    }
   ],
   "source": [
    "dt_summer"
   ]
  },
  {
   "cell_type": "code",
   "execution_count": 31,
   "id": "8791a5a7",
   "metadata": {},
   "outputs": [
    {
     "data": {
      "text/plain": [
       "datetime.datetime(2020, 11, 1, 12, 0, tzinfo=zoneinfo.ZoneInfo(key='Europe/Warsaw'))"
      ]
     },
     "execution_count": 31,
     "metadata": {},
     "output_type": "execute_result"
    }
   ],
   "source": [
    "t = dt_summer + timedelta(days=8)\n",
    "t"
   ]
  },
  {
   "cell_type": "code",
   "execution_count": 32,
   "id": "483fdb54",
   "metadata": {},
   "outputs": [
    {
     "data": {
      "text/plain": [
       "'CET'"
      ]
     },
     "execution_count": 32,
     "metadata": {},
     "output_type": "execute_result"
    }
   ],
   "source": [
    "t.tzname()"
   ]
  },
  {
   "cell_type": "code",
   "execution_count": 33,
   "id": "0dfd24fc",
   "metadata": {},
   "outputs": [
    {
     "data": {
      "text/plain": [
       "datetime.timedelta(0)"
      ]
     },
     "execution_count": 33,
     "metadata": {},
     "output_type": "execute_result"
    }
   ],
   "source": [
    "t.tzinfo.dst(t)"
   ]
  },
  {
   "cell_type": "code",
   "execution_count": 34,
   "id": "d00e255f",
   "metadata": {},
   "outputs": [
    {
     "data": {
      "text/plain": [
       "datetime.timedelta(seconds=3600)"
      ]
     },
     "execution_count": 34,
     "metadata": {},
     "output_type": "execute_result"
    }
   ],
   "source": [
    "dt_summer.tzinfo.dst(dt_summer)"
   ]
  },
  {
   "cell_type": "code",
   "execution_count": 35,
   "id": "b0e5e327",
   "metadata": {},
   "outputs": [
    {
     "data": {
      "text/plain": [
       "datetime.timedelta(days=-62, seconds=82800)"
      ]
     },
     "execution_count": 35,
     "metadata": {},
     "output_type": "execute_result"
    }
   ],
   "source": [
    "dt_summer - dt_winter\n"
   ]
  },
  {
   "cell_type": "markdown",
   "id": "a351d0e1",
   "metadata": {},
   "source": [
    "# Cwiczenie:\n",
    "\n",
    "napisz funkcję, która przyjmie daty w UTC oraz listę stref czasowych. funkcja ma zwrocic slownik zawierajaca te date w kazdej z tych stref {\"Europe/Warsaw\": ..., }\n",
    "\n",
    "\"America/New_York, \"Asia/Tokyo\"\n",
    "\n",
    "\n",
    "def convert_date_to_timezones(date_utc: datetime, timezones: list[str]) -> dict[str, datetime]\n",
    "\n",
    "\n",
    "{\"Europe/Warsaw\": datetime(2024, 12,3, 11, 53)}"
   ]
  },
  {
   "cell_type": "code",
   "execution_count": null,
   "id": "10a893b5",
   "metadata": {},
   "outputs": [],
   "source": []
  },
  {
   "cell_type": "markdown",
   "id": "e5cbdd7c",
   "metadata": {},
   "source": [
    "## 2 Cwiczenie\n",
    "\n",
    "\n",
    "Napisz funkcję, która sprawdza, czy podana data w określonej strefie czasowej przypada na czas letni (DST).\n",
    "Jesli data bylaby typu naive to trzeba ustawić dla niej podana strefe\n",
    "\n",
    "is_dst(date, timezone) -> bool"
   ]
  },
  {
   "cell_type": "code",
   "execution_count": 39,
   "id": "378aa3dd",
   "metadata": {},
   "outputs": [],
   "source": [
    "t = datetime.now()"
   ]
  },
  {
   "cell_type": "code",
   "execution_count": 41,
   "id": "8a5b2f82",
   "metadata": {},
   "outputs": [
    {
     "data": {
      "text/plain": [
       "datetime.datetime(2024, 12, 3, 11, 42, 33, 855268, tzinfo=zoneinfo.ZoneInfo(key='Europe/Warsaw'))"
      ]
     },
     "execution_count": 41,
     "metadata": {},
     "output_type": "execute_result"
    }
   ],
   "source": [
    "t.astimezone(ZoneInfo(\"Europe/Warsaw\"))"
   ]
  },
  {
   "cell_type": "code",
   "execution_count": null,
   "id": "683a5291",
   "metadata": {},
   "outputs": [],
   "source": []
  }
 ],
 "metadata": {
  "kernelspec": {
   "display_name": "Python 3 (ipykernel)",
   "language": "python",
   "name": "python3"
  },
  "language_info": {
   "codemirror_mode": {
    "name": "ipython",
    "version": 3
   },
   "file_extension": ".py",
   "mimetype": "text/x-python",
   "name": "python",
   "nbconvert_exporter": "python",
   "pygments_lexer": "ipython3",
   "version": "3.10.7"
  },
  "toc": {
   "base_numbering": 1,
   "nav_menu": {},
   "number_sections": true,
   "sideBar": true,
   "skip_h1_title": false,
   "title_cell": "Table of Contents",
   "title_sidebar": "Contents",
   "toc_cell": false,
   "toc_position": {},
   "toc_section_display": true,
   "toc_window_display": false
  }
 },
 "nbformat": 4,
 "nbformat_minor": 5
}
