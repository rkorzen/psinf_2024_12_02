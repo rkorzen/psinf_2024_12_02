{
 "cells": [
  {
   "cell_type": "markdown",
   "id": "45f78830-d674-4950-8cd7-48d1220cd43b",
   "metadata": {},
   "source": [
    "Coroutines - async def\n",
    "\n",
    "Event loop \n",
    "\n",
    "await \n",
    "\n",
    "tasks\n",
    "\n",
    "futures\n",
    "\n",
    "\n"
   ]
  },
  {
   "cell_type": "code",
   "execution_count": 2,
   "id": "f3b1ce40-c956-4d52-b61d-33edb0b477cd",
   "metadata": {},
   "outputs": [
    {
     "name": "stdout",
     "output_type": "stream",
     "text": [
      "Writing asyncio_example_1.py\n"
     ]
    }
   ],
   "source": [
    "%%writefile asyncio_example_1.py\n",
    "import asyncio\n",
    "\n",
    "async def async_task(name, delay):\n",
    "    print(f\"Watek {name} rozpoczł działanie\")\n",
    "    await asyncio.sleep(delay)  \n",
    "    print(f\"Watek {name} zakończył działanie\")\n",
    "\n",
    "\n",
    "async def main():\n",
    "\n",
    "    tasks = [\n",
    "        async_task(\"A\", 2),\n",
    "        async_task(\"B\", 2),\n",
    "        async_task(\"C\", 2),\n",
    "        \n",
    "    ]\n",
    "\n",
    "    await asyncio.gather(*tasks)\n",
    "\n",
    "\n",
    "if __name__ == \"__main__\":\n",
    "    import time\n",
    "    t1 = time.time()\n",
    "    asyncio.run(main())\n",
    "    print(f\"Czas: {time.time() - t1}\")\n",
    "    "
   ]
  },
  {
   "cell_type": "code",
   "execution_count": 3,
   "id": "1acccf06-390e-46ff-8007-f0a789748938",
   "metadata": {},
   "outputs": [
    {
     "name": "stdout",
     "output_type": "stream",
     "text": [
      "Watek A rozpoczł działanie\n",
      "Watek B rozpoczł działanie\n",
      "Watek C rozpoczł działanie\n",
      "Watek A zakończył działanie\n",
      "Watek B zakończył działanie\n",
      "Watek C zakończył działanie\n",
      "Czas: 2.0012598037719727\n"
     ]
    }
   ],
   "source": [
    "!python asyncio_example_1.py"
   ]
  },
  {
   "cell_type": "code",
   "execution_count": null,
   "id": "0fcfe56d-4a2d-4ac8-90b4-80bc5696d27c",
   "metadata": {},
   "outputs": [],
   "source": []
  }
 ],
 "metadata": {
  "kernelspec": {
   "display_name": "Python 3 (ipykernel)",
   "language": "python",
   "name": "python3"
  },
  "language_info": {
   "codemirror_mode": {
    "name": "ipython",
    "version": 3
   },
   "file_extension": ".py",
   "mimetype": "text/x-python",
   "name": "python",
   "nbconvert_exporter": "python",
   "pygments_lexer": "ipython3",
   "version": "3.13.0"
  }
 },
 "nbformat": 4,
 "nbformat_minor": 5
}
