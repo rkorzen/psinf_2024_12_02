{
 "cells": [
  {
   "cell_type": "markdown",
   "id": "ruled-belief",
   "metadata": {},
   "source": [
    "## Ogólna charakterystyka Pythona\n",
    "\n",
    "Czy mógłbyś opisać najważniejsze cechy języka, obszary jego zastosowań?\n",
    "\n"
   ]
  },
  {
   "cell_type": "markdown",
   "id": "corrected-participant",
   "metadata": {},
   "source": [
    "## Co to oznacza, że typowanie jest silne i dynamiczne?"
   ]
  },
  {
   "cell_type": "code",
   "execution_count": null,
   "id": "209c4f87",
   "metadata": {},
   "outputs": [],
   "source": [
    "a = 1\n",
    "a = \"a\""
   ]
  },
  {
   "cell_type": "code",
   "execution_count": 1,
   "id": "ec0738f9",
   "metadata": {},
   "outputs": [
    {
     "ename": "TypeError",
     "evalue": "unsupported operand type(s) for +: 'int' and 'str'",
     "output_type": "error",
     "traceback": [
      "\u001b[0;31m---------------------------------------------------------------------------\u001b[0m",
      "\u001b[0;31mTypeError\u001b[0m                                 Traceback (most recent call last)",
      "Cell \u001b[0;32mIn[1], line 1\u001b[0m\n\u001b[0;32m----> 1\u001b[0m \u001b[38;5;241;43m1\u001b[39;49m\u001b[43m \u001b[49m\u001b[38;5;241;43m+\u001b[39;49m\u001b[43m \u001b[49m\u001b[38;5;124;43m\"\u001b[39;49m\u001b[38;5;124;43m1\u001b[39;49m\u001b[38;5;124;43m\"\u001b[39;49m\n",
      "\u001b[0;31mTypeError\u001b[0m: unsupported operand type(s) for +: 'int' and 'str'"
     ]
    }
   ],
   "source": [
    "1 + \"1\""
   ]
  },
  {
   "cell_type": "code",
   "execution_count": null,
   "id": "d20b6b43",
   "metadata": {},
   "outputs": [],
   "source": []
  },
  {
   "cell_type": "code",
   "execution_count": null,
   "id": "42282489",
   "metadata": {},
   "outputs": [],
   "source": []
  },
  {
   "cell_type": "code",
   "execution_count": null,
   "id": "c57605db",
   "metadata": {},
   "outputs": [],
   "source": []
  },
  {
   "cell_type": "code",
   "execution_count": null,
   "id": "b4c9ea1c",
   "metadata": {},
   "outputs": [],
   "source": []
  },
  {
   "cell_type": "code",
   "execution_count": null,
   "id": "52061e5a",
   "metadata": {},
   "outputs": [],
   "source": []
  },
  {
   "cell_type": "code",
   "execution_count": null,
   "id": "5ebe8df4",
   "metadata": {},
   "outputs": [],
   "source": []
  },
  {
   "cell_type": "code",
   "execution_count": null,
   "id": "f4379dd9",
   "metadata": {},
   "outputs": [],
   "source": []
  },
  {
   "cell_type": "markdown",
   "id": "described-canberra",
   "metadata": {},
   "source": [
    "## Czym jest interpreter Python i w jaki sposób Python jest interpretowany?"
   ]
  },
  {
   "cell_type": "code",
   "execution_count": null,
   "id": "89b4d85e",
   "metadata": {},
   "outputs": [],
   "source": []
  },
  {
   "cell_type": "code",
   "execution_count": null,
   "id": "162773cb",
   "metadata": {},
   "outputs": [],
   "source": []
  },
  {
   "cell_type": "code",
   "execution_count": null,
   "id": "676adbfa",
   "metadata": {},
   "outputs": [],
   "source": []
  },
  {
   "cell_type": "code",
   "execution_count": null,
   "id": "8fc0b8c0",
   "metadata": {},
   "outputs": [],
   "source": []
  },
  {
   "cell_type": "code",
   "execution_count": null,
   "id": "b6a7eb51",
   "metadata": {},
   "outputs": [],
   "source": []
  },
  {
   "cell_type": "code",
   "execution_count": null,
   "id": "b45cabd0",
   "metadata": {},
   "outputs": [],
   "source": []
  },
  {
   "cell_type": "code",
   "execution_count": null,
   "id": "3b739039",
   "metadata": {},
   "outputs": [],
   "source": []
  },
  {
   "cell_type": "code",
   "execution_count": null,
   "id": "788a11cd",
   "metadata": {},
   "outputs": [],
   "source": []
  },
  {
   "cell_type": "code",
   "execution_count": null,
   "id": "42162cea",
   "metadata": {},
   "outputs": [],
   "source": []
  },
  {
   "cell_type": "code",
   "execution_count": null,
   "id": "314340fd",
   "metadata": {},
   "outputs": [],
   "source": []
  },
  {
   "cell_type": "markdown",
   "id": "unnecessary-literature",
   "metadata": {},
   "source": [
    "## Scharakteryzuj pokrótce podstawowe, wbudowane typy Pythona"
   ]
  },
  {
   "cell_type": "code",
   "execution_count": null,
   "id": "e390fb3d",
   "metadata": {},
   "outputs": [],
   "source": [
    "int, float, bool, complex\n",
    "\n",
    "str\n",
    "\n",
    "list, dict, set, frozenset, tuple\n",
    "\n",
    "bytes, bytearray\n",
    "\n",
    "Ellipsis, None, NotImplemented\n"
   ]
  },
  {
   "cell_type": "code",
   "execution_count": null,
   "id": "bad13272",
   "metadata": {},
   "outputs": [],
   "source": []
  },
  {
   "cell_type": "code",
   "execution_count": null,
   "id": "69a67917",
   "metadata": {},
   "outputs": [],
   "source": []
  },
  {
   "cell_type": "code",
   "execution_count": null,
   "id": "629a881b",
   "metadata": {},
   "outputs": [],
   "source": []
  },
  {
   "cell_type": "code",
   "execution_count": null,
   "id": "314a1b93",
   "metadata": {},
   "outputs": [],
   "source": []
  },
  {
   "cell_type": "code",
   "execution_count": null,
   "id": "ba4396f3",
   "metadata": {},
   "outputs": [],
   "source": []
  },
  {
   "cell_type": "code",
   "execution_count": null,
   "id": "4b832fd5",
   "metadata": {},
   "outputs": [],
   "source": []
  },
  {
   "cell_type": "code",
   "execution_count": null,
   "id": "8773d105",
   "metadata": {},
   "outputs": [],
   "source": []
  },
  {
   "cell_type": "code",
   "execution_count": null,
   "id": "33579a27",
   "metadata": {},
   "outputs": [],
   "source": []
  },
  {
   "cell_type": "code",
   "execution_count": null,
   "id": "fa7ce213",
   "metadata": {},
   "outputs": [],
   "source": []
  },
  {
   "cell_type": "markdown",
   "id": "attractive-forth",
   "metadata": {},
   "source": [
    "## Czy dowolny obiekt może być kluczem i wartością w słowniku"
   ]
  },
  {
   "cell_type": "code",
   "execution_count": null,
   "id": "ce079c9d",
   "metadata": {},
   "outputs": [],
   "source": []
  },
  {
   "cell_type": "code",
   "execution_count": null,
   "id": "5a10654b",
   "metadata": {},
   "outputs": [],
   "source": []
  },
  {
   "cell_type": "code",
   "execution_count": null,
   "id": "8618f468",
   "metadata": {},
   "outputs": [],
   "source": []
  },
  {
   "cell_type": "code",
   "execution_count": null,
   "id": "6e63c42f",
   "metadata": {},
   "outputs": [],
   "source": []
  },
  {
   "cell_type": "code",
   "execution_count": null,
   "id": "6a9d9cb4",
   "metadata": {},
   "outputs": [],
   "source": []
  },
  {
   "cell_type": "markdown",
   "id": "annoying-thread",
   "metadata": {},
   "source": [
    "## Gdzie w pythonie można użyć słowa kluczowego `finally`?"
   ]
  },
  {
   "cell_type": "code",
   "execution_count": null,
   "id": "2f3a9cb9",
   "metadata": {},
   "outputs": [],
   "source": [
    "try:\n",
    "except:\n",
    "\n",
    "finally:"
   ]
  },
  {
   "cell_type": "code",
   "execution_count": 2,
   "id": "3381b363",
   "metadata": {},
   "outputs": [
    {
     "name": "stdout",
     "output_type": "stream",
     "text": [
      "Hello\n"
     ]
    },
    {
     "data": {
      "text/plain": [
       "1"
      ]
     },
     "execution_count": 2,
     "metadata": {},
     "output_type": "execute_result"
    }
   ],
   "source": [
    "def foo():\n",
    "    try:\n",
    "        return 1\n",
    "    finally:\n",
    "        print(\"Hello\")\n",
    "\n",
    "foo()\n",
    "    \n",
    "        "
   ]
  },
  {
   "cell_type": "code",
   "execution_count": null,
   "id": "ac0d22c5",
   "metadata": {},
   "outputs": [],
   "source": []
  },
  {
   "cell_type": "code",
   "execution_count": null,
   "id": "05e82bc2",
   "metadata": {},
   "outputs": [],
   "source": []
  },
  {
   "cell_type": "code",
   "execution_count": null,
   "id": "2c21299c",
   "metadata": {},
   "outputs": [],
   "source": []
  },
  {
   "cell_type": "markdown",
   "id": "8d33f4a6",
   "metadata": {},
   "source": [
    "## Gdzie w pythonie można użyć słowa kluczowego `else`?"
   ]
  },
  {
   "cell_type": "code",
   "execution_count": null,
   "id": "2bd8117e",
   "metadata": {},
   "outputs": [],
   "source": [
    "if:\n",
    "    ...\n",
    "else:\n",
    "    ..."
   ]
  },
  {
   "cell_type": "code",
   "execution_count": 4,
   "id": "de6dd17d",
   "metadata": {},
   "outputs": [],
   "source": [
    "for i in range(10):\n",
    "    ...\n",
    "    break\n",
    "else:\n",
    "    print(\"Petla sie skonczyla\")"
   ]
  },
  {
   "cell_type": "code",
   "execution_count": null,
   "id": "92367f44",
   "metadata": {},
   "outputs": [],
   "source": []
  },
  {
   "cell_type": "code",
   "execution_count": null,
   "id": "f4d0f9f5",
   "metadata": {},
   "outputs": [],
   "source": []
  },
  {
   "cell_type": "code",
   "execution_count": null,
   "id": "98c7e4d5",
   "metadata": {},
   "outputs": [],
   "source": []
  },
  {
   "cell_type": "code",
   "execution_count": null,
   "id": "62a78ce3",
   "metadata": {},
   "outputs": [],
   "source": []
  },
  {
   "cell_type": "markdown",
   "id": "religious-conservative",
   "metadata": {},
   "source": [
    "## Dlaczego i kiedy korzystamy w Pythonie z operatora is"
   ]
  },
  {
   "cell_type": "code",
   "execution_count": 6,
   "id": "151141d5",
   "metadata": {},
   "outputs": [
    {
     "data": {
      "text/plain": [
       "True"
      ]
     },
     "execution_count": 6,
     "metadata": {},
     "output_type": "execute_result"
    }
   ],
   "source": [
    "w = 1 > 2\n",
    "\n",
    "w is False"
   ]
  },
  {
   "cell_type": "code",
   "execution_count": 8,
   "id": "3fb75465",
   "metadata": {},
   "outputs": [
    {
     "data": {
      "text/plain": [
       "False"
      ]
     },
     "execution_count": 8,
     "metadata": {},
     "output_type": "execute_result"
    }
   ],
   "source": [
    "a = 257\n",
    "b = 257\n",
    "\n",
    "a is b"
   ]
  },
  {
   "cell_type": "code",
   "execution_count": 10,
   "id": "8bd76884",
   "metadata": {},
   "outputs": [
    {
     "data": {
      "text/plain": [
       "False"
      ]
     },
     "execution_count": 10,
     "metadata": {},
     "output_type": "execute_result"
    }
   ],
   "source": [
    "a = \"a a\"\n",
    "b = \"a a\"\n",
    "\n",
    "a is b"
   ]
  },
  {
   "cell_type": "code",
   "execution_count": null,
   "id": "83ea3aca",
   "metadata": {},
   "outputs": [],
   "source": []
  },
  {
   "cell_type": "code",
   "execution_count": null,
   "id": "8bfc4f90",
   "metadata": {},
   "outputs": [],
   "source": []
  },
  {
   "cell_type": "code",
   "execution_count": null,
   "id": "0c123ccb",
   "metadata": {},
   "outputs": [],
   "source": []
  },
  {
   "cell_type": "code",
   "execution_count": null,
   "id": "377d42f9",
   "metadata": {},
   "outputs": [],
   "source": []
  },
  {
   "cell_type": "code",
   "execution_count": null,
   "id": "19bda778",
   "metadata": {},
   "outputs": [],
   "source": []
  },
  {
   "cell_type": "code",
   "execution_count": null,
   "id": "ceee25a8",
   "metadata": {},
   "outputs": [],
   "source": []
  },
  {
   "cell_type": "markdown",
   "id": "identified-darwin",
   "metadata": {},
   "source": [
    "## Co jest w x?\n",
    "\n"
   ]
  },
  {
   "cell_type": "code",
   "execution_count": 11,
   "id": "iraqi-sandwich",
   "metadata": {},
   "outputs": [],
   "source": [
    "def foo(a, b=[]):\n",
    "    b.append(a)\n",
    "    return b\n",
    "\n",
    "foo(10) \n",
    "foo(24)\n",
    "x = foo(20) \n",
    "\n",
    "# A [20]\n",
    "# B [24, 20]\n",
    "# C [10, 24, 20]"
   ]
  },
  {
   "cell_type": "code",
   "execution_count": 13,
   "id": "004eda74",
   "metadata": {},
   "outputs": [
    {
     "data": {
      "text/plain": [
       "([10, 24, 20],)"
      ]
     },
     "execution_count": 13,
     "metadata": {},
     "output_type": "execute_result"
    }
   ],
   "source": [
    "foo.__defaults__"
   ]
  },
  {
   "cell_type": "code",
   "execution_count": 15,
   "id": "df50e350",
   "metadata": {},
   "outputs": [
    {
     "data": {
      "text/plain": [
       "[20]"
      ]
     },
     "execution_count": 15,
     "metadata": {},
     "output_type": "execute_result"
    }
   ],
   "source": [
    "def foo(a, b=None):\n",
    "    if not b:\n",
    "        b = []\n",
    "    b.append(a)\n",
    "    return b\n",
    "foo(10) \n",
    "foo(24)\n",
    "x = foo(20) \n",
    "x"
   ]
  },
  {
   "cell_type": "code",
   "execution_count": null,
   "id": "24b18130",
   "metadata": {},
   "outputs": [],
   "source": []
  },
  {
   "cell_type": "code",
   "execution_count": null,
   "id": "1841ab8a",
   "metadata": {},
   "outputs": [],
   "source": []
  },
  {
   "cell_type": "code",
   "execution_count": null,
   "id": "570140c9",
   "metadata": {},
   "outputs": [],
   "source": []
  },
  {
   "cell_type": "markdown",
   "id": "classical-nashville",
   "metadata": {},
   "source": [
    "### Jaki będzie wynik działania poniższego kodu:\n",
    "\n",
    "```python\n",
    "def display_person(*args):\n",
    "    for i in args:\n",
    "        print(i)\n",
    "\n",
    "display_person(name=\"Emma\", age=\"25\")\n",
    "```\n",
    "\n",
    "A) TypeError\n",
    "\n",
    "B)\n",
    "\n",
    "    name\n",
    "    age\n",
    "\n",
    "C)\n",
    "\n",
    "    Emma\n",
    "    25"
   ]
  },
  {
   "cell_type": "code",
   "execution_count": 16,
   "id": "de7ba406",
   "metadata": {},
   "outputs": [
    {
     "ename": "TypeError",
     "evalue": "display_person() got an unexpected keyword argument 'name'",
     "output_type": "error",
     "traceback": [
      "\u001b[0;31m---------------------------------------------------------------------------\u001b[0m",
      "\u001b[0;31mTypeError\u001b[0m                                 Traceback (most recent call last)",
      "Cell \u001b[0;32mIn[16], line 5\u001b[0m\n\u001b[1;32m      2\u001b[0m     \u001b[38;5;28;01mfor\u001b[39;00m i \u001b[38;5;129;01min\u001b[39;00m args:\n\u001b[1;32m      3\u001b[0m         \u001b[38;5;28mprint\u001b[39m(i)\n\u001b[0;32m----> 5\u001b[0m \u001b[43mdisplay_person\u001b[49m\u001b[43m(\u001b[49m\u001b[43mname\u001b[49m\u001b[38;5;241;43m=\u001b[39;49m\u001b[38;5;124;43m\"\u001b[39;49m\u001b[38;5;124;43mEmma\u001b[39;49m\u001b[38;5;124;43m\"\u001b[39;49m\u001b[43m,\u001b[49m\u001b[43m \u001b[49m\u001b[43mage\u001b[49m\u001b[38;5;241;43m=\u001b[39;49m\u001b[38;5;124;43m\"\u001b[39;49m\u001b[38;5;124;43m25\u001b[39;49m\u001b[38;5;124;43m\"\u001b[39;49m\u001b[43m)\u001b[49m\n",
      "\u001b[0;31mTypeError\u001b[0m: display_person() got an unexpected keyword argument 'name'"
     ]
    }
   ],
   "source": [
    "def display_person(*args):\n",
    "    for i in args:\n",
    "        print(i)\n",
    "\n",
    "display_person(name=\"Emma\", age=\"25\")"
   ]
  },
  {
   "cell_type": "code",
   "execution_count": null,
   "id": "24475a12",
   "metadata": {},
   "outputs": [],
   "source": []
  },
  {
   "cell_type": "code",
   "execution_count": null,
   "id": "f2329d44",
   "metadata": {},
   "outputs": [],
   "source": []
  },
  {
   "cell_type": "markdown",
   "id": "liked-nickel",
   "metadata": {},
   "source": [
    "## Jaka wartość jest w zmiennej `expr` wyrażenie jest prawdziwe w Pythonie?\n"
   ]
  },
  {
   "cell_type": "code",
   "execution_count": 18,
   "id": "55fe9d25",
   "metadata": {},
   "outputs": [],
   "source": [
    "a, b, c = 0.1, 0.1, 0.1\n",
    "expr = a + b + c == 0.3\n",
    "# A False\n",
    "# B True\n",
    "x = 0.1 + 0.1 +0.1"
   ]
  },
  {
   "cell_type": "code",
   "execution_count": 21,
   "id": "18f05edf",
   "metadata": {},
   "outputs": [
    {
     "name": "stdout",
     "output_type": "stream",
     "text": [
      "0.30\n"
     ]
    }
   ],
   "source": [
    "print(f\"{x:.2f}\")"
   ]
  },
  {
   "cell_type": "code",
   "execution_count": 24,
   "id": "95b5e1bf",
   "metadata": {},
   "outputs": [
    {
     "name": "stdout",
     "output_type": "stream",
     "text": [
      "0.30\n"
     ]
    }
   ],
   "source": [
    "print(\"{x:.2f}\".format(x=x))"
   ]
  },
  {
   "cell_type": "code",
   "execution_count": 23,
   "id": "7cf5462c",
   "metadata": {},
   "outputs": [
    {
     "data": {
      "text/plain": [
       "'0.30'"
      ]
     },
     "execution_count": 23,
     "metadata": {},
     "output_type": "execute_result"
    }
   ],
   "source": [
    "\"%.2f\" % (x, )"
   ]
  },
  {
   "cell_type": "code",
   "execution_count": 25,
   "id": "fd63cf84",
   "metadata": {},
   "outputs": [],
   "source": [
    "dane = [1, 2, 3]"
   ]
  },
  {
   "cell_type": "code",
   "execution_count": 26,
   "id": "83e0f531",
   "metadata": {},
   "outputs": [
    {
     "name": "stdout",
     "output_type": "stream",
     "text": [
      "1\n",
      "2\n",
      "3\n"
     ]
    }
   ],
   "source": [
    "for el in dane:\n",
    "    print(f\"{el}\")"
   ]
  },
  {
   "cell_type": "code",
   "execution_count": null,
   "id": "b343256e",
   "metadata": {},
   "outputs": [],
   "source": []
  },
  {
   "cell_type": "markdown",
   "id": "impressive-vehicle",
   "metadata": {},
   "source": [
    "## Jakie byś wyróżnił przestrzenie nazw w Pythonie. \n",
    "\n",
    "\n"
   ]
  },
  {
   "cell_type": "code",
   "execution_count": null,
   "id": "c5af6e8a",
   "metadata": {},
   "outputs": [],
   "source": [
    "builtin, global, nonlocal, local, "
   ]
  },
  {
   "cell_type": "code",
   "execution_count": null,
   "id": "864eb123",
   "metadata": {},
   "outputs": [],
   "source": [
    "str"
   ]
  },
  {
   "cell_type": "code",
   "execution_count": null,
   "id": "11edb578",
   "metadata": {},
   "outputs": [],
   "source": []
  },
  {
   "cell_type": "code",
   "execution_count": null,
   "id": "2cd24f38",
   "metadata": {},
   "outputs": [],
   "source": []
  },
  {
   "cell_type": "code",
   "execution_count": null,
   "id": "ad78e612",
   "metadata": {},
   "outputs": [],
   "source": []
  },
  {
   "cell_type": "code",
   "execution_count": null,
   "id": "0c8142f1",
   "metadata": {},
   "outputs": [],
   "source": []
  },
  {
   "cell_type": "code",
   "execution_count": null,
   "id": "d021e3f0",
   "metadata": {},
   "outputs": [],
   "source": []
  },
  {
   "cell_type": "code",
   "execution_count": null,
   "id": "6e38e498",
   "metadata": {},
   "outputs": [],
   "source": []
  },
  {
   "cell_type": "markdown",
   "id": "neither-transparency",
   "metadata": {},
   "source": [
    "##  Czym jest domknięcie? clojure"
   ]
  },
  {
   "cell_type": "code",
   "execution_count": null,
   "id": "e085a662",
   "metadata": {},
   "outputs": [],
   "source": []
  },
  {
   "cell_type": "code",
   "execution_count": null,
   "id": "62166064",
   "metadata": {},
   "outputs": [],
   "source": []
  },
  {
   "cell_type": "code",
   "execution_count": null,
   "id": "d7954c3e",
   "metadata": {},
   "outputs": [],
   "source": []
  },
  {
   "cell_type": "code",
   "execution_count": null,
   "id": "39f4a748",
   "metadata": {},
   "outputs": [],
   "source": []
  },
  {
   "cell_type": "code",
   "execution_count": null,
   "id": "dbc39c28",
   "metadata": {},
   "outputs": [],
   "source": []
  },
  {
   "cell_type": "code",
   "execution_count": null,
   "id": "5debdc14",
   "metadata": {},
   "outputs": [],
   "source": []
  },
  {
   "cell_type": "code",
   "execution_count": null,
   "id": "d42fc844",
   "metadata": {},
   "outputs": [],
   "source": []
  },
  {
   "cell_type": "markdown",
   "id": "everyday-blues",
   "metadata": {},
   "source": [
    "##  Czym w Pythonie mamy enkapsulację?"
   ]
  },
  {
   "cell_type": "code",
   "execution_count": 33,
   "id": "c98529b8",
   "metadata": {},
   "outputs": [],
   "source": [
    "class Foo:\n",
    "    __x = 1\n",
    "    _y = 2\n",
    "    \n",
    "    \n",
    "    def get_x(self):\n",
    "        return self.__x"
   ]
  },
  {
   "cell_type": "code",
   "execution_count": 34,
   "id": "ce2ad680",
   "metadata": {},
   "outputs": [
    {
     "data": {
      "text/plain": [
       "1"
      ]
     },
     "execution_count": 34,
     "metadata": {},
     "output_type": "execute_result"
    }
   ],
   "source": [
    "f = Foo()\n",
    "f.get_x()"
   ]
  },
  {
   "cell_type": "code",
   "execution_count": 32,
   "id": "e8f33965",
   "metadata": {},
   "outputs": [
    {
     "data": {
      "text/plain": [
       "1"
      ]
     },
     "execution_count": 32,
     "metadata": {},
     "output_type": "execute_result"
    }
   ],
   "source": [
    "f._Foo__x"
   ]
  },
  {
   "cell_type": "code",
   "execution_count": null,
   "id": "cb9a0f7a",
   "metadata": {},
   "outputs": [],
   "source": []
  },
  {
   "cell_type": "code",
   "execution_count": null,
   "id": "88cb8094",
   "metadata": {},
   "outputs": [],
   "source": []
  },
  {
   "cell_type": "code",
   "execution_count": null,
   "id": "c5f2dfe9",
   "metadata": {},
   "outputs": [],
   "source": []
  },
  {
   "cell_type": "code",
   "execution_count": null,
   "id": "e0cf556b",
   "metadata": {},
   "outputs": [],
   "source": []
  },
  {
   "cell_type": "code",
   "execution_count": null,
   "id": "179dc948",
   "metadata": {},
   "outputs": [],
   "source": []
  },
  {
   "cell_type": "code",
   "execution_count": null,
   "id": "a00e181b",
   "metadata": {},
   "outputs": [],
   "source": []
  },
  {
   "cell_type": "markdown",
   "id": "composed-timothy",
   "metadata": {},
   "source": [
    "## Czym są generatory w Pythonie? Jak się je definiuje?"
   ]
  },
  {
   "cell_type": "code",
   "execution_count": 38,
   "id": "fa905595",
   "metadata": {},
   "outputs": [
    {
     "data": {
      "text/plain": [
       "<generator object <genexpr> at 0x110c79d90>"
      ]
     },
     "execution_count": 38,
     "metadata": {},
     "output_type": "execute_result"
    }
   ],
   "source": [
    "(x for x in range(10))"
   ]
  },
  {
   "cell_type": "code",
   "execution_count": null,
   "id": "ba646225",
   "metadata": {},
   "outputs": [],
   "source": []
  },
  {
   "cell_type": "code",
   "execution_count": null,
   "id": "dec874af",
   "metadata": {},
   "outputs": [],
   "source": []
  },
  {
   "cell_type": "code",
   "execution_count": null,
   "id": "1baf8578",
   "metadata": {},
   "outputs": [],
   "source": []
  },
  {
   "cell_type": "code",
   "execution_count": null,
   "id": "866d3a98",
   "metadata": {},
   "outputs": [],
   "source": []
  },
  {
   "cell_type": "code",
   "execution_count": null,
   "id": "331aac8a",
   "metadata": {},
   "outputs": [],
   "source": []
  },
  {
   "cell_type": "code",
   "execution_count": null,
   "id": "3d54b199",
   "metadata": {},
   "outputs": [],
   "source": []
  },
  {
   "cell_type": "code",
   "execution_count": null,
   "id": "2e2922d3",
   "metadata": {},
   "outputs": [],
   "source": []
  },
  {
   "cell_type": "code",
   "execution_count": null,
   "id": "b7b80c73",
   "metadata": {},
   "outputs": [],
   "source": []
  },
  {
   "cell_type": "markdown",
   "id": "opposite-oxford",
   "metadata": {},
   "source": [
    "## Czym są iteratory w Pythonie? Jak się je definiuje?"
   ]
  },
  {
   "cell_type": "code",
   "execution_count": null,
   "id": "aeaf87b1",
   "metadata": {},
   "outputs": [],
   "source": []
  },
  {
   "cell_type": "code",
   "execution_count": null,
   "id": "1fb4f65e",
   "metadata": {},
   "outputs": [],
   "source": []
  },
  {
   "cell_type": "code",
   "execution_count": null,
   "id": "cfddda70",
   "metadata": {},
   "outputs": [],
   "source": []
  },
  {
   "cell_type": "code",
   "execution_count": null,
   "id": "7d64d2a6",
   "metadata": {},
   "outputs": [],
   "source": []
  },
  {
   "cell_type": "code",
   "execution_count": null,
   "id": "490ee3bc",
   "metadata": {},
   "outputs": [],
   "source": []
  },
  {
   "cell_type": "code",
   "execution_count": null,
   "id": "cdc0feef",
   "metadata": {},
   "outputs": [],
   "source": []
  },
  {
   "cell_type": "markdown",
   "id": "bridal-shark",
   "metadata": {},
   "source": [
    "## Czym są managery kontekstu i jak się je definiuje?"
   ]
  },
  {
   "cell_type": "code",
   "execution_count": null,
   "id": "1da6d1e9",
   "metadata": {},
   "outputs": [],
   "source": [
    "with open() as f:\n",
    "    ...\n",
    "."
   ]
  },
  {
   "cell_type": "code",
   "execution_count": null,
   "id": "e48c0cd6",
   "metadata": {},
   "outputs": [],
   "source": []
  },
  {
   "cell_type": "code",
   "execution_count": null,
   "id": "8b60034a",
   "metadata": {},
   "outputs": [],
   "source": []
  },
  {
   "cell_type": "code",
   "execution_count": null,
   "id": "dc156225",
   "metadata": {},
   "outputs": [],
   "source": []
  },
  {
   "cell_type": "code",
   "execution_count": null,
   "id": "505862d4",
   "metadata": {},
   "outputs": [],
   "source": []
  },
  {
   "cell_type": "code",
   "execution_count": null,
   "id": "7bd31df6",
   "metadata": {},
   "outputs": [],
   "source": []
  },
  {
   "cell_type": "code",
   "execution_count": null,
   "id": "dd789632",
   "metadata": {},
   "outputs": [],
   "source": []
  },
  {
   "cell_type": "code",
   "execution_count": null,
   "id": "3c1dc108",
   "metadata": {},
   "outputs": [],
   "source": []
  },
  {
   "cell_type": "code",
   "execution_count": null,
   "id": "99706d06",
   "metadata": {},
   "outputs": [],
   "source": []
  },
  {
   "cell_type": "code",
   "execution_count": null,
   "id": "8a2a6c15",
   "metadata": {},
   "outputs": [],
   "source": []
  },
  {
   "cell_type": "markdown",
   "id": "retired-miniature",
   "metadata": {},
   "source": [
    "## Zastosowanie operatorów * i **"
   ]
  },
  {
   "cell_type": "code",
   "execution_count": 53,
   "id": "65c7b67d",
   "metadata": {},
   "outputs": [],
   "source": [
    "def foo(*x, **y):\n",
    "    print(x)\n",
    "    print(y)\n",
    "    pass"
   ]
  },
  {
   "cell_type": "code",
   "execution_count": 55,
   "id": "895d6956",
   "metadata": {},
   "outputs": [
    {
     "name": "stdout",
     "output_type": "stream",
     "text": [
      "(1, 2, 3)\n",
      "{}\n"
     ]
    }
   ],
   "source": [
    "foo(1, 2, 3)"
   ]
  },
  {
   "cell_type": "code",
   "execution_count": 49,
   "id": "1a7014fd",
   "metadata": {},
   "outputs": [],
   "source": [
    "d = {\"a\": 1}"
   ]
  },
  {
   "cell_type": "code",
   "execution_count": null,
   "id": "df106498",
   "metadata": {},
   "outputs": [],
   "source": []
  },
  {
   "cell_type": "code",
   "execution_count": 51,
   "id": "0c70643b",
   "metadata": {},
   "outputs": [
    {
     "data": {
      "text/plain": [
       "{'a': 1, 'b': 2}"
      ]
     },
     "execution_count": 51,
     "metadata": {},
     "output_type": "execute_result"
    }
   ],
   "source": [
    "dict(a=1, b=2)"
   ]
  },
  {
   "cell_type": "code",
   "execution_count": null,
   "id": "da9598aa",
   "metadata": {},
   "outputs": [],
   "source": []
  },
  {
   "cell_type": "code",
   "execution_count": 50,
   "id": "1d8279b8",
   "metadata": {},
   "outputs": [],
   "source": [
    "foo(**d)  # foo(a=1)   {\"a\": 1} => a=1"
   ]
  },
  {
   "cell_type": "code",
   "execution_count": 52,
   "id": "08b41c11",
   "metadata": {},
   "outputs": [
    {
     "ename": "SyntaxError",
     "evalue": "invalid syntax (4231487288.py, line 1)",
     "output_type": "error",
     "traceback": [
      "\u001b[0;36m  Cell \u001b[0;32mIn[52], line 1\u001b[0;36m\u001b[0m\n\u001b[0;31m    **d\u001b[0m\n\u001b[0m    ^\u001b[0m\n\u001b[0;31mSyntaxError\u001b[0m\u001b[0;31m:\u001b[0m invalid syntax\n"
     ]
    }
   ],
   "source": [
    "**d"
   ]
  },
  {
   "cell_type": "code",
   "execution_count": null,
   "id": "2a8e5f95",
   "metadata": {},
   "outputs": [],
   "source": []
  },
  {
   "cell_type": "code",
   "execution_count": null,
   "id": "4d4392d4",
   "metadata": {},
   "outputs": [],
   "source": []
  },
  {
   "cell_type": "code",
   "execution_count": null,
   "id": "81637792",
   "metadata": {},
   "outputs": [],
   "source": []
  },
  {
   "cell_type": "markdown",
   "id": "relative-battlefield",
   "metadata": {},
   "source": [
    "## Jaki będzie wynik poniższego wywołania?"
   ]
  },
  {
   "cell_type": "code",
   "execution_count": 58,
   "id": "brief-romantic",
   "metadata": {},
   "outputs": [
    {
     "data": {
      "text/plain": [
       "[__main__.D, __main__.C, __main__.A, __main__.B, object]"
      ]
     },
     "execution_count": 58,
     "metadata": {},
     "output_type": "execute_result"
    }
   ],
   "source": [
    "class A:\n",
    "    def process(self):\n",
    "        print('A process()')\n",
    "\n",
    "\n",
    "class B():\n",
    "    def process(self):\n",
    "        print('B process()')\n",
    "\n",
    "\n",
    "class C(A, B):\n",
    "    def process(self):\n",
    "        print('C process()')\n",
    "\n",
    "\n",
    "class D(C, B):\n",
    "    pass\n",
    "\n",
    "\n",
    "# obj = D()\n",
    "# obj.process()\n",
    "# Jaki będzie wynik powyższego wywołania? Oczywiście jeśli to odkomentujemy?\n",
    "# A - A process()\n",
    "# B - B process()\n",
    "# C - C process()\n",
    "# D - poleci wyjątek\n",
    "\n",
    "D.mro()\n"
   ]
  },
  {
   "cell_type": "markdown",
   "id": "departmental-diversity",
   "metadata": {},
   "source": [
    " a co z takim kodem:\n",
    "\n",
    " \n",
    " "
   ]
  },
  {
   "cell_type": "code",
   "execution_count": null,
   "id": "intelligent-oakland",
   "metadata": {},
   "outputs": [],
   "source": []
  },
  {
   "cell_type": "markdown",
   "id": "clear-truth",
   "metadata": {},
   "source": [
    "## Jak dynamicznie stworzyć klasę?\n",
    "\n"
   ]
  },
  {
   "cell_type": "code",
   "execution_count": 60,
   "id": "4ed71667",
   "metadata": {},
   "outputs": [],
   "source": [
    "d = [\"Kwadrat\", \"Okrag\"]"
   ]
  },
  {
   "cell_type": "code",
   "execution_count": 61,
   "id": "4d7a66ec",
   "metadata": {},
   "outputs": [],
   "source": [
    "class Kwadrat:\n",
    "    pass"
   ]
  },
  {
   "cell_type": "code",
   "execution_count": 64,
   "id": "cd242aa4",
   "metadata": {},
   "outputs": [
    {
     "data": {
      "text/plain": [
       "<__main__.Okrag at 0x110cc9e70>"
      ]
     },
     "execution_count": 64,
     "metadata": {},
     "output_type": "execute_result"
    }
   ],
   "source": [
    "type(d[1], (), {})()"
   ]
  },
  {
   "cell_type": "code",
   "execution_count": null,
   "id": "ce333734",
   "metadata": {},
   "outputs": [],
   "source": []
  },
  {
   "cell_type": "code",
   "execution_count": null,
   "id": "6609d800",
   "metadata": {},
   "outputs": [],
   "source": []
  },
  {
   "cell_type": "code",
   "execution_count": null,
   "id": "fa4d37ab",
   "metadata": {},
   "outputs": [],
   "source": []
  },
  {
   "cell_type": "code",
   "execution_count": null,
   "id": "f295aaf0",
   "metadata": {},
   "outputs": [],
   "source": []
  },
  {
   "cell_type": "code",
   "execution_count": null,
   "id": "f3484ad5",
   "metadata": {},
   "outputs": [],
   "source": []
  },
  {
   "cell_type": "markdown",
   "id": "ready-savings",
   "metadata": {},
   "source": [
    "##  Interfejsy, ABC, metody abstrakcyjne\n",
    "\n",
    "Powiedzmy, że mamy taki kod"
   ]
  },
  {
   "cell_type": "code",
   "execution_count": 65,
   "id": "polyphonic-spokesman",
   "metadata": {},
   "outputs": [],
   "source": [
    "from abc import ABC, abstractmethod\n",
    "\n",
    "class ISystem(ABC):\n",
    "    @abstractmethod\n",
    "    def open_resource(self):\n",
    "        pass\n",
    "\n",
    "class SystemA(ISystem):\n",
    "    def open_resource(self):\n",
    "        ...\n",
    "        return \"Resource is opened ...'\"\n",
    "    def __repr__(self):\n",
    "        return self.__class__.__name__\n",
    "\n",
    "class SystemB(ISystem):\n",
    "    def __repr__(self):\n",
    "        return self.__class__.__name__\n"
   ]
  },
  {
   "cell_type": "markdown",
   "id": "hired-apollo",
   "metadata": {},
   "source": [
    "co się stanie jeśli"
   ]
  },
  {
   "cell_type": "code",
   "execution_count": 66,
   "id": "familiar-company",
   "metadata": {},
   "outputs": [
    {
     "ename": "TypeError",
     "evalue": "Can't instantiate abstract class SystemB with abstract method open_resource",
     "output_type": "error",
     "traceback": [
      "\u001b[0;31m---------------------------------------------------------------------------\u001b[0m",
      "\u001b[0;31mTypeError\u001b[0m                                 Traceback (most recent call last)",
      "Cell \u001b[0;32mIn[66], line 2\u001b[0m\n\u001b[1;32m      1\u001b[0m a \u001b[38;5;241m=\u001b[39m SystemA()\n\u001b[0;32m----> 2\u001b[0m b \u001b[38;5;241m=\u001b[39m \u001b[43mSystemB\u001b[49m\u001b[43m(\u001b[49m\u001b[43m)\u001b[49m\n",
      "\u001b[0;31mTypeError\u001b[0m: Can't instantiate abstract class SystemB with abstract method open_resource"
     ]
    }
   ],
   "source": [
    "a = SystemA()\n",
    "b = SystemB()"
   ]
  },
  {
   "cell_type": "markdown",
   "id": "southeast-stable",
   "metadata": {},
   "source": [
    "## Dobre praktyki?"
   ]
  },
  {
   "cell_type": "code",
   "execution_count": null,
   "id": "approximate-certification",
   "metadata": {},
   "outputs": [],
   "source": [
    "KISS\n",
    "DRY\n",
    "YAGNI (You aren't gonna need it)\n",
    "       \n",
    "SOLID\n",
    "CUPID"
   ]
  },
  {
   "cell_type": "markdown",
   "id": "mechanical-humor",
   "metadata": {},
   "source": [
    "## Wstrzykiwanie zależności - zasada dependency inversion\n",
    "\n",
    "Czy ta klasa spełnia założena zasady Dependency Inversion (DIP)"
   ]
  },
  {
   "cell_type": "code",
   "execution_count": null,
   "id": "structured-cross",
   "metadata": {},
   "outputs": [],
   "source": [
    "class Task:\n",
    "    def process(self) -> None:\n",
    "        # some processing things...\n",
    "        email_sender = EmailSender()\n",
    "        email_sender.send('some nice message')\n",
    " \n",
    " \n",
    "class EmailSender:\n",
    "    def send(self, message: str) -> None:\n",
    "        # send email\n",
    "        print(f'Sending email with message: {message}')"
   ]
  },
  {
   "cell_type": "markdown",
   "id": "expensive-operations",
   "metadata": {},
   "source": [
    "możemy wprowadzić klasę abstrakcyjną, która definuje jak coś ma być zrobione. Konkretną implementację funkcjonalności zostawiamy klasie niższego rzędu. \n",
    "\n",
    "W klasie Task mozemy dzieki temu uzywac roznych zaleznosc do wysylania np SMSSender"
   ]
  },
  {
   "cell_type": "code",
   "execution_count": null,
   "id": "searching-bidding",
   "metadata": {},
   "outputs": [],
   "source": [
    "class MessageSender(ABC):\n",
    "    @abstractmethod\n",
    "    def send(self, message: str) -> None: ...\n",
    " \n",
    " \n",
    "class EmailSender(MessageSender):\n",
    "    def send(self, message: str) -> None:\n",
    "        # send email\n",
    "        print(f'Sending email with message: {message}')\n",
    " \n",
    " \n",
    "class Task:\n",
    "    def __init__(self, message_sender: MessageSender):\n",
    "        self.message_sender = message_sender\n",
    " \n",
    "    def process(self) -> None:\n",
    "        # some processing things...\n",
    "        self.message_sender.send('some nice message')"
   ]
  },
  {
   "cell_type": "markdown",
   "id": "decent-shade",
   "metadata": {},
   "source": [
    "## Wzorce projektowe"
   ]
  },
  {
   "cell_type": "code",
   "execution_count": null,
   "id": "relevant-robinson",
   "metadata": {},
   "outputs": [],
   "source": []
  },
  {
   "cell_type": "markdown",
   "id": "expanded-kennedy",
   "metadata": {},
   "source": [
    "## Event Driven Development - co to jest ? czy masz jakieś doświadczenia z tym paradygmatem?"
   ]
  },
  {
   "cell_type": "markdown",
   "id": "lined-charter",
   "metadata": {},
   "source": []
  },
  {
   "cell_type": "markdown",
   "id": "cosmetic-sandwich",
   "metadata": {},
   "source": [
    "## Czy masz doświadczenia z mosquitto, protokołem MQTT"
   ]
  },
  {
   "cell_type": "code",
   "execution_count": null,
   "id": "dedicated-peter",
   "metadata": {},
   "outputs": [],
   "source": []
  },
  {
   "cell_type": "markdown",
   "id": "traditional-visibility",
   "metadata": {},
   "source": [
    "## RESTful API - czym jest, jakie są najważniejsze cechy architektury REST\n",
    "\n",
    "jednorodny interfejs, bezstanową komunikację, zasoby, reprezentacje, hipermedia, HATEOAS.\n"
   ]
  },
  {
   "cell_type": "code",
   "execution_count": null,
   "id": "responsible-arrival",
   "metadata": {},
   "outputs": [],
   "source": []
  },
  {
   "cell_type": "markdown",
   "id": "developmental-hospital",
   "metadata": {},
   "source": [
    "## Doświadczenia w pracy w AGILE / SCRUM"
   ]
  },
  {
   "cell_type": "code",
   "execution_count": null,
   "id": "executive-beverage",
   "metadata": {},
   "outputs": [],
   "source": []
  },
  {
   "cell_type": "markdown",
   "id": "wooden-silence",
   "metadata": {},
   "source": []
  },
  {
   "cell_type": "code",
   "execution_count": null,
   "id": "legitimate-drill",
   "metadata": {},
   "outputs": [],
   "source": []
  }
 ],
 "metadata": {
  "kernelspec": {
   "display_name": "Python 3 (ipykernel)",
   "language": "python",
   "name": "python3"
  },
  "language_info": {
   "codemirror_mode": {
    "name": "ipython",
    "version": 3
   },
   "file_extension": ".py",
   "mimetype": "text/x-python",
   "name": "python",
   "nbconvert_exporter": "python",
   "pygments_lexer": "ipython3",
   "version": "3.10.7"
  },
  "toc": {
   "base_numbering": 1,
   "nav_menu": {},
   "number_sections": true,
   "sideBar": true,
   "skip_h1_title": false,
   "title_cell": "Table of Contents",
   "title_sidebar": "Contents",
   "toc_cell": false,
   "toc_position": {},
   "toc_section_display": true,
   "toc_window_display": false
  }
 },
 "nbformat": 4,
 "nbformat_minor": 5
}
